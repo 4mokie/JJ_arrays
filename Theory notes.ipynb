{
 "cells": [
  {
   "cell_type": "code",
   "execution_count": 1,
   "metadata": {},
   "outputs": [
    {
     "name": "stderr",
     "output_type": "stream",
     "text": [
      "c:\\users\\tom\\documents\\github\\qcodes\\qcodes\\dataset\\database.py:13: UserWarning: The module `qcodes.dataset.database` is deprecated.\n",
      "Public features are available at the import of `qcodes`.\n",
      "Private features are available in `qcodes.dataset.sqlite.*` modules.\n",
      "  warnings.warn('The module `qcodes.dataset.database` is deprecated.\\n'\n"
     ]
    }
   ],
   "source": [
    "#%matplotlib widget\n",
    "%matplotlib notebook\n",
    "%load_ext autoreload\n",
    "%autoreload 2\n",
    "\n",
    "\n",
    "import matplotlib.pyplot as plt\n",
    "import matplotlib.gridspec as GridSpec\n",
    "import numpy as np\n",
    "import os\n",
    "\n",
    "# from tqdm import tqdm, tqdm_notebook\n",
    "import math\n",
    "\n",
    "\n",
    "from scipy.optimize import curve_fit\n",
    "\n",
    "\n",
    "# from  scipy.special import digamma as ψ\n",
    "# from mpmath import besseli as Iν\n",
    "# from scipy.constants import hbar, pi, h, e, k\n",
    "\n",
    "# kB = k\n",
    "# γ = 0.57721566\n",
    "# RQ = h/4/e**2\n",
    "# Φ0 = h/2/e\n",
    "\n",
    "from JJformulas import *\n",
    "\n",
    "import qcodes as qc\n",
    "from qcodes.dataset.database import initialise_database\n",
    "from qcodes.dataset.plotting import plot_by_id, get_data_by_id\n",
    "from qcodes.dataset.data_set import load_by_run_spec, DataSet\n",
    "\n",
    "from scipy import integrate\n",
    "from scipy.special import gamma\n",
    "\n",
    "import matplotlib.patches as patches\n",
    "from mpl_toolkits.mplot3d import Axes3D"
   ]
  },
  {
   "cell_type": "markdown",
   "metadata": {},
   "source": [
    "# Notes on theory of JJ"
   ]
  },
  {
   "cell_type": "markdown",
   "metadata": {},
   "source": [
    "The intention of this note is to summarize and organize the knowledge on the physics of single JJ, namely TA and Q phase diffusion, environment impedance influence, Bloch oscillations, etc  "
   ]
  },
  {
   "cell_type": "markdown",
   "metadata": {},
   "source": [
    "## 1. RS(C)J-model"
   ]
  },
  {
   "cell_type": "markdown",
   "metadata": {},
   "source": [
    "The simplest model considers current-biasing circuit consisted of Josephson element, Resistor and capasitor.\n",
    "\n",
    "$I_s = I_c \\sin \\phi$\n",
    "\n",
    "$\\dot{\\phi} = \\frac{2 e}{ \\hbar} V $\n",
    "\n",
    "$ I_0 = \\frac{\\hbar C}{2e} \\ddot{ \\phi }  + \\frac{\\hbar}{ 2eR} \\dot \\phi + I_c \\sin \\phi $\n"
   ]
  },
  {
   "attachments": {
    "image.png": {
     "image/png": "[encoded data removed]"
    }
   },
   "cell_type": "markdown",
   "metadata": {},
   "source": [
    "![image.png](attachment:image.png)\n",
    "[Kopnin lecture]\n",
    "\n",
    "$\\omega_p = \\sqrt{2eI_c/\\hbar C} = \\sqrt{8 E_J E_C}$ - plasma frequency\n",
    "\n",
    "$Q = \\omega_p R C$ - quality factor"
   ]
  },
  {
   "cell_type": "markdown",
   "metadata": {},
   "source": [
    "### 1a) $C \\rightarrow \\infty $\n",
    "Equvalent to underdamped regime ( $ 1/ \\omega_p C \\ll R $, $Q \\gg 1$ ). Capacitence completely shunts josephson generation "
   ]
  },
  {
   "cell_type": "markdown",
   "metadata": {},
   "source": [
    "$$I_0 < I_c \\Rightarrow I_s = I_0, I_R = 0, I_C = 0$$\n",
    "\n",
    "$$I_0 > I_c \\Rightarrow \\overline{I_s + I_C} = 0, I_R = I_0$$"
   ]
  },
  {
   "cell_type": "markdown",
   "metadata": {},
   "source": [
    "### 2a) $ C = 0$\n",
    "\n",
    "Equvalent to overdamped regime ( $ 1/ \\omega_p C \\gg R $, $Q \\ll 1$ )\n",
    "\n",
    "For $I_0 > I_c$ Josephson current flows through resistor, so instantaneous voltage changes with time "
   ]
  },
  {
   "cell_type": "code",
   "execution_count": 7,
   "metadata": {},
   "outputs": [],
   "source": [
    "# t = np.linsapce(0, 5*2*np.pi, 101)\n",
    "# Vinst = "
   ]
  },
  {
   "cell_type": "markdown",
   "metadata": {},
   "source": [
    "$ <I_s> = I_0 - <V>/R = I_0\\left(1 - \\sqrt{1 - \\left( \\frac{I_C}{I_0} \\right)^2}\\right)$"
   ]
  },
  {
   "cell_type": "code",
   "execution_count": 8,
   "metadata": {
    "scrolled": false
   },
   "outputs": [
    {
     "data": {
      "application/vnd.jupyter.widget-view+json": {
       "model_id": "24f1fcac277941749625cb6813e91d36",
       "version_major": 2,
       "version_minor": 0
      },
      "text/plain": [
       "FigureCanvasNbAgg()"
      ]
     },
     "metadata": {},
     "output_type": "display_data"
    },
    {
     "data": {
      "text/plain": [
       "Text(0, 0.5, '${<I_s>}/{I_c}$')"
      ]
     },
     "execution_count": 8,
     "metadata": {},
     "output_type": "execute_result"
    }
   ],
   "source": [
    "i = np.linspace(1, 5, 101)\n",
    "Is = 1 - np.sqrt(1 - (1/i)**2)\n",
    "\n",
    "plt.plot(i, Is)\n",
    "plt.xlabel('${I_0}/{I_c}$')\n",
    "plt.ylabel('${<I_s>}/{I_c}$')"
   ]
  },
  {
   "cell_type": "markdown",
   "metadata": {},
   "source": [
    "## IZ: Phase diffusion as Fokker-Plank process\n",
    "[Zil'berman Ivanchenko JEPhT 24 6 1969](http://www.jetp.ac.ru/cgi-bin/dn/e_028_06_1272.pdf )\n",
    "\n"
   ]
  },
  {
   "cell_type": "markdown",
   "metadata": {},
   "source": [
    "Note, that I-biased scheme with R||JJ is equvalent to V-biased with R and JJ in series\n",
    "\n",
    "$ V_B = IR + \\dot{ \\phi } $  \n",
    "\n",
    "$ \\frac{V_B - IR}{R} =  \\frac{\\hbar C}{2e} \\ddot{ \\phi }  + I_c \\sin \\phi $"
   ]
  },
  {
   "attachments": {
    "image.png": {
     "image/png": "[encoded data removed]"
    }
   },
   "cell_type": "markdown",
   "metadata": {},
   "source": [
    "![image.png](attachment:image.png)"
   ]
  },
  {
   "cell_type": "markdown",
   "metadata": {},
   "source": [
    "- underdamped limit $C \\rightarrow 0$\n",
    "- volage biasing scheme is equivalent to curernt-biasing with R as a shunt\n",
    "- note the difference between $I-V_b$ and $I-V$ curves "
   ]
  },
  {
   "cell_type": "markdown",
   "metadata": {},
   "source": [
    "$$<I_s> = I_0 \\Im \\left( \\frac{I_{1-2i\\beta e V_B/ \\hbar R_B}(\\beta E_J)}{I_{-2i\\beta e V_B/ \\hbar R_B}(\\beta E_J)} \\right)$$"
   ]
  },
  {
   "cell_type": "code",
   "execution_count": 12,
   "metadata": {},
   "outputs": [
    {
     "data": {
      "application/vnd.jupyter.widget-view+json": {
       "model_id": "",
       "version_major": 2,
       "version_minor": 0
      },
      "text/plain": [
       "FigureCanvasNbAgg()"
      ]
     },
     "metadata": {},
     "output_type": "display_data"
    },
    {
     "data": {
      "text/plain": [
       "<matplotlib.legend.Legend at 0x222bca75e10>"
      ]
     },
     "execution_count": 12,
     "metadata": {},
     "output_type": "execute_result"
    }
   ],
   "source": [
    "fig, ax = plt.subplots()\n",
    "\n",
    "Vs = np.linspace(0, 1e-3, 501)\n",
    "\n",
    "R_list = [1e3, 10e3, 50e3]\n",
    "\n",
    "for R in R_list:\n",
    "    Is = I_IZ( Vs, EJ = .5, R = R, T = .05)\n",
    "\n",
    "# ax.plot(  Vs/1e-3, Is/1e-9, '--', label = r'$I-V_b$')\n",
    "    ax.plot( (Vs - Is*R) /1e-3, Is/1e-9, label = f'{R/1e3} kOhm' )\n",
    "ax.set_xlabel(r'$V, mV$')\n",
    "ax.set_ylabel(r'$I, nA$')\n",
    "\n",
    "\n",
    "# ax.set_xlim(0, .1e-3)\n",
    "# ax.set_xscale ('log')\n",
    "ax.legend()\n"
   ]
  },
  {
   "cell_type": "code",
   "execution_count": 39,
   "metadata": {
    "scrolled": false
   },
   "outputs": [
    {
     "name": "stderr",
     "output_type": "stream",
     "text": [
      "D:\\anaconda\\lib\\site-packages\\ipykernel_launcher.py:1: RuntimeWarning: More than 20 figures have been opened. Figures created through the pyplot interface (`matplotlib.pyplot.figure`) are retained until explicitly closed and may consume too much memory. (To control this warning, see the rcParam `figure.max_open_warning`).\n",
      "  \"\"\"Entry point for launching an IPython kernel.\n"
     ]
    },
    {
     "data": {
      "application/vnd.jupyter.widget-view+json": {
       "model_id": "791a36ad2e8b418395d8ef3f2bf4f91f",
       "version_major": 2,
       "version_minor": 0
      },
      "text/plain": [
       "FigureCanvasNbAgg()"
      ]
     },
     "metadata": {},
     "output_type": "display_data"
    },
    {
     "data": {
      "text/plain": [
       "<matplotlib.legend.Legend at 0x222c35b4ef0>"
      ]
     },
     "execution_count": 39,
     "metadata": {},
     "output_type": "execute_result"
    }
   ],
   "source": [
    "fig, ax = plt.subplots()\n",
    "\n",
    "Vs = np.logspace(-5, -2, 501)\n",
    "\n",
    "# R_list = [1e3, 20e3, 12e3]\n",
    "\n",
    "R_list = [ 1e3]\n",
    "\n",
    "for R in R_list:\n",
    "    Is = I_IZ( Vs, EJ = .5, R = R, T = .05)\n",
    "    \n",
    "    ind = np.where (np.diff (Is ) / np.diff (Vs - Is*R) >0)\n",
    "\n",
    "#     print(ind)\n",
    "    Is, Vs = Is[:-1][ind], Vs[:-1][ind]\n",
    "\n",
    "# ax.plot(  Vs/1e-3, Is/1e-9, '--', label = r'$I-V_b$')\n",
    "    ax.plot( Is/1e-9,(Vs - Is*R) /1e-3,  label = f'{R/1e3} kOhm' )\n",
    "    \n",
    "    \n",
    "    \n",
    "    V_fit = lambda x, A,B  : A*np.sinh(x*B )\n",
    "    popt1 = ( 1e-3 , 1e-3)\n",
    "    popt, pcov = curve_fit(V_fit, Is/1e-12 ,(Vs - Is*R)/1e-6, p0 = popt1 )\n",
    "\n",
    "    Vf = V_fit(Is/1e-12, *popt)*1e-6\n",
    "    ax.plot(Is/1e-9, Vf/1e-3,'--' )\n",
    "    \n",
    "ax.set_ylabel(r'$V, mV$')\n",
    "ax.set_xlabel(r'$I, nA$')\n",
    "\n",
    "\n",
    "# ax.set_xlim(0, .1e-3)\n",
    "# ax.set_xscale ('log')\n",
    "ax.legend()\n"
   ]
  },
  {
   "cell_type": "code",
   "execution_count": 75,
   "metadata": {},
   "outputs": [
    {
     "name": "stderr",
     "output_type": "stream",
     "text": [
      "D:\\anaconda\\lib\\site-packages\\ipykernel_launcher.py:1: RuntimeWarning: More than 20 figures have been opened. Figures created through the pyplot interface (`matplotlib.pyplot.figure`) are retained until explicitly closed and may consume too much memory. (To control this warning, see the rcParam `figure.max_open_warning`).\n",
      "  \"\"\"Entry point for launching an IPython kernel.\n"
     ]
    },
    {
     "data": {
      "application/vnd.jupyter.widget-view+json": {
       "model_id": "42f2805571be456b84caa0b5f057d82d",
       "version_major": 2,
       "version_minor": 0
      },
      "text/plain": [
       "FigureCanvasNbAgg()"
      ]
     },
     "metadata": {},
     "output_type": "display_data"
    },
    {
     "name": "stdout",
     "output_type": "stream",
     "text": [
      "[-4.00052445e-18  1.00000000e-03]\n",
      "[1.65752614e-13 7.55186412e-04]\n",
      "[1.68236302e-11 6.79468426e-04]\n",
      "[6.47292942e-09 5.53981127e-04]\n",
      "[1.25960884e-07 4.98414403e-04]\n",
      "[1.51275530e-06 4.49594141e-04]\n",
      "[1.19719013e-05 4.07486618e-04]\n",
      "[6.70457265e-05 3.71427055e-04]\n",
      "[0.00028339 0.00034057]\n",
      "[0.00095343 0.00031413]\n",
      "[0.00266359 0.00029142]\n",
      "[0.00638713 0.0002719 ]\n",
      "[0.01349824 0.00025511]\n",
      "[0.02569004 0.00024066]\n",
      "[0.04483147 0.00022821]\n",
      "[0.07282247 0.00021745]\n",
      "[0.11148186 0.0002081 ]\n",
      "[0.16247884 0.00019994]\n",
      "[2.27293248e-01 1.92770838e-04]\n",
      "[3.07199671e-01 1.86443894e-04]\n",
      "[4.03256137e-01 1.80831324e-04]\n"
     ]
    }
   ],
   "source": [
    "fig, ax = plt.subplots()\n",
    "\n",
    "Ic = 35e-9\n",
    "\n",
    "Vs = np.logspace(-5, -2, 501)\n",
    "# Vs = np.linspace(0, 1e-2, 501)\n",
    "\n",
    "R = 1e3\n",
    "\n",
    "T_list = np.linspace(0.05, 0.5, 21)\n",
    "As = []\n",
    "Bs = []\n",
    "\n",
    "\n",
    "Ims =[]\n",
    "for T in T_list:\n",
    "\n",
    "    Is = I_IZ( Vs, EJ = 1.25, R = R, T = T)\n",
    "    \n",
    "    ind = np.where (np.diff (Is ) / np.diff (Vs - Is*R) >0)\n",
    "\n",
    "#     print(ind)\n",
    "    Is, Vs = Is[:-1][ind], Vs[:-1][ind]\n",
    "\n",
    "\n",
    "    Ims.append(Is[np.argmax(Vs)])\n",
    "    \n",
    "    ax.plot( Is/1e-9,(Vs - Is*R) /1e-3,  label = f'{R/1e3} kOhm' )\n",
    "\n",
    "    V_fit = lambda x, A,B  : A*np.sinh(x*B )\n",
    "    popt1 = ( 1e-3 , 1e-3)\n",
    "    popt, pcov = curve_fit(V_fit, Is/1e-12 ,(Vs - Is*R)/1e-6, p0 = popt1 )\n",
    "\n",
    "    Vf = V_fit(Is/1e-12, *popt)*1e-6\n",
    "    ax.plot(Is/1e-9, Vf/1e-3,'--' )\n",
    "    \n",
    "    A, B = popt[0], popt[1]\n",
    "    \n",
    "    As.append(A)\n",
    "    Bs.append(B)\n",
    "\n",
    " \n",
    "\n",
    "    # ax.plot(  Vs/1e-3, (Is - Vs/R)/1e-9, label = r'$I_s - V$')\n",
    "\n",
    "\n",
    "#     ax.set_xlabel(r'$V, mV$')\n",
    "#     ax.set_ylabel(r'$I, nA$')\n",
    "\n",
    "    print(popt)\n",
    "\n",
    "# ax.legend()\n",
    "\n",
    "# Bs = np.array(Bs)\n",
    "# ax.plot(T_list, As)\n",
    "\n",
    "# # ax.set_xscale('log')\n",
    "# # ax.set_yscale('log')\n",
    "# ax2 = ax.twinx()\n",
    "# ax2.plot(T_list, Bs/T_list, c = 'C1')\n",
    "\n",
    "# ax2.set_yscale('log')\n",
    "\n",
    "# fig, ax = plt.subplots()\n",
    "# ax.plot(T_list, Ims, 'o-')"
   ]
  },
  {
   "cell_type": "code",
   "execution_count": 76,
   "metadata": {},
   "outputs": [
    {
     "name": "stderr",
     "output_type": "stream",
     "text": [
      "D:\\anaconda\\lib\\site-packages\\ipykernel_launcher.py:1: RuntimeWarning: More than 20 figures have been opened. Figures created through the pyplot interface (`matplotlib.pyplot.figure`) are retained until explicitly closed and may consume too much memory. (To control this warning, see the rcParam `figure.max_open_warning`).\n",
      "  \"\"\"Entry point for launching an IPython kernel.\n"
     ]
    },
    {
     "data": {
      "application/vnd.jupyter.widget-view+json": {
       "model_id": "86a3f9312eb24264b487f06643e90ff9",
       "version_major": 2,
       "version_minor": 0
      },
      "text/plain": [
       "FigureCanvasNbAgg()"
      ]
     },
     "metadata": {},
     "output_type": "display_data"
    },
    {
     "data": {
      "text/plain": [
       "[<matplotlib.lines.Line2D at 0x222cd3886a0>]"
      ]
     },
     "execution_count": 76,
     "metadata": {},
     "output_type": "execute_result"
    }
   ],
   "source": [
    "fig, ax = plt.subplots()\n",
    "\n",
    "ax.plot(T_list, Ims, 'o-')"
   ]
  },
  {
   "cell_type": "code",
   "execution_count": 69,
   "metadata": {
    "scrolled": false
   },
   "outputs": [
    {
     "name": "stderr",
     "output_type": "stream",
     "text": [
      "D:\\anaconda\\lib\\site-packages\\ipykernel_launcher.py:1: RuntimeWarning: More than 20 figures have been opened. Figures created through the pyplot interface (`matplotlib.pyplot.figure`) are retained until explicitly closed and may consume too much memory. (To control this warning, see the rcParam `figure.max_open_warning`).\n",
      "  \"\"\"Entry point for launching an IPython kernel.\n"
     ]
    },
    {
     "data": {
      "application/vnd.jupyter.widget-view+json": {
       "model_id": "ca5ff43a077b4799a8bf7d61ac596325",
       "version_major": 2,
       "version_minor": 0
      },
      "text/plain": [
       "FigureCanvasNbAgg()"
      ]
     },
     "metadata": {},
     "output_type": "display_data"
    },
    {
     "data": {
      "text/plain": [
       "[<matplotlib.lines.Line2D at 0x222cbcc45f8>]"
      ]
     },
     "execution_count": 69,
     "metadata": {},
     "output_type": "execute_result"
    }
   ],
   "source": [
    "fig, ax = plt.subplots()\n",
    "\n",
    "Bs = np.array(Bs)\n",
    "ax.plot(T_list, As, 'o-')\n",
    "\n",
    "# ax.set_xscale('log')\n",
    "# ax.set_yscale('log')\n",
    "ax2 = ax.twinx()\n",
    "ax2.plot(T_list, Bs/T_list, 'o-', c = 'C1')\n",
    "\n",
    "# ax2.set_yscale('log')\n",
    "\n"
   ]
  },
  {
   "cell_type": "code",
   "execution_count": 3,
   "metadata": {
    "scrolled": false
   },
   "outputs": [
    {
     "data": {
      "application/vnd.jupyter.widget-view+json": {
       "model_id": "f6419f83debe45708bd57fd511222cb9",
       "version_major": 2,
       "version_minor": 0
      },
      "text/plain": [
       "FigureCanvasNbAgg()"
      ]
     },
     "metadata": {},
     "output_type": "display_data"
    }
   ],
   "source": [
    "\n",
    "R_env_list = np.logspace(2, 5, 51)\n",
    "\n",
    "\n",
    "\n",
    "EJ = 0.15\n",
    "T =  0.05\n",
    "\n",
    "fig, ax = plt.subplots()\n",
    "ax2 = ax.twinx()\n",
    "\n",
    "for EJ in [0.15, 0.25, 0.35]:\n",
    "\n",
    "    R0s  = []\n",
    "    Isws = []\n",
    "\n",
    "    for R_env in R_env_list:\n",
    "\n",
    "        R0, Isw = find_R0_Isw( EJ, R_env , T, VERBOSE = False)\n",
    "        R0s.append(R0)\n",
    "        Isws.append(Isw)\n",
    "\n",
    "\n",
    "    ax.plot(R_env_list, R0s, label = f'EJ = {EJ} K')\n",
    "\n",
    "\n",
    "\n",
    "\n",
    "    ax2.plot(R_env_list, Isws, '--')\n",
    "    \n",
    "ax.legend()    \n",
    "\n",
    "ax.set_xscale ('log')\n",
    "ax.set_yscale ('log')\n",
    "\n",
    "ax2.set_yscale ('log')\n"
   ]
  },
  {
   "cell_type": "code",
   "execution_count": 5,
   "metadata": {},
   "outputs": [
    {
     "data": {
      "application/vnd.jupyter.widget-view+json": {
       "model_id": "1fc1c86e6fea46219cfec4808561dbd4",
       "version_major": 2,
       "version_minor": 0
      },
      "text/plain": [
       "FigureCanvasNbAgg()"
      ]
     },
     "metadata": {},
     "output_type": "display_data"
    }
   ],
   "source": [
    "\n",
    "EJ_list = np.logspace(-2, 1, 51)\n",
    "\n",
    "\n",
    "\n",
    "# R_env = 0.15\n",
    "T =  0.05\n",
    "\n",
    "fig, ax = plt.subplots()\n",
    "ax2 = ax.twinx()\n",
    "\n",
    "for R_env in [1e3, 1e5]:\n",
    "\n",
    "    R0s  = []\n",
    "    Isws = []\n",
    "\n",
    "    for EJ in EJ_list:\n",
    "\n",
    "        R0, Isw = find_R0_Isw( EJ, R_env , T, VERBOSE = False)\n",
    "        R0s.append(R0)\n",
    "        Isws.append(Isw)\n",
    "\n",
    "\n",
    "    ax.plot(EJ_list, R0s, label = f'Renv = {R_env/1e3} kOhm')\n",
    "    \n",
    "    Ics = EJ_list/(Φ0/2/pi/kB)\n",
    "    ax2.plot(EJ_list, Ics, '--')\n",
    "\n",
    "\n",
    "#     ax2 = ax.twinx()\n",
    "    Isws = np.array(Isws)\n",
    "    ax2.plot(EJ_list, Isws/EJ_list, '--')\n",
    "    \n",
    "ax.legend()    \n",
    "\n",
    "ax.set_xscale ('log')\n",
    "ax.set_yscale ('log')\n",
    "\n",
    "ax2.set_yscale ('log')\n"
   ]
  },
  {
   "cell_type": "markdown",
   "metadata": {},
   "source": [
    "## 3. Phase diffusion as Fokker-Plank process -2\n",
    "[Ambegaokar-Halperin PRL 22 25 1969](https://journals.aps.org/prl/pdf/10.1103/PhysRevLett.22.1364 )\n",
    "\n"
   ]
  },
  {
   "cell_type": "markdown",
   "metadata": {},
   "source": [
    "- The same Fokker-Planck eq with non-zero $C$, overdamped limit $\\eta = 1/RC \\gg 1$\n",
    "- Attempt frequency is $\\omega_J^2 / 2 \\pi \\eta =  \\omega_J / \\beta_C$\n",
    "- Derived for I-biased regime\n",
    "- Note the difference between the total current through R||JJ and pure supercurrent"
   ]
  },
  {
   "cell_type": "code",
   "execution_count": 11,
   "metadata": {
    "scrolled": false
   },
   "outputs": [
    {
     "data": {
      "application/vnd.jupyter.widget-view+json": {
       "model_id": "c1a09b828a6b46fe91fa3e303f1d8881",
       "version_major": 2,
       "version_minor": 0
      },
      "text/plain": [
       "FigureCanvasNbAgg()"
      ]
     },
     "metadata": {},
     "output_type": "display_data"
    },
    {
     "name": "stderr",
     "output_type": "stream",
     "text": [
      "e:\\OneDrive - Rutgers University\\files_GitHub\\JJ_arrays\\JJformulas.py:140: RuntimeWarning: invalid value encountered in sqrt\n",
      "  i_ = (1 - i**2)**0.5\n",
      "e:\\OneDrive - Rutgers University\\files_GitHub\\JJ_arrays\\JJformulas.py:142: RuntimeWarning: invalid value encountered in arcsin\n",
      "  return 2*Ic0*Rn* i_ * np.exp( -Γ*( i_ + i*np.arcsin(i) ))*np.sinh(np.pi/2*Γ*i)\n",
      "D:\\anaconda\\lib\\site-packages\\ipykernel_launcher.py:19: RuntimeWarning: invalid value encountered in greater\n"
     ]
    },
    {
     "name": "stdout",
     "output_type": "stream",
     "text": [
      "[6.97901002e-07 5.08093587e-04]\n",
      "[3.69897391e-05 3.30240945e-04]\n",
      "[0.00019906 0.00025733]\n",
      "[0.00056441 0.00021161]\n",
      "[0.00120295 0.00017683]\n",
      "[0.00217945 0.00014796]\n",
      "[0.00357014 0.00012286]\n",
      "[0.00551522 0.00010019]\n",
      "[8.35680367e-03 7.88027008e-05]\n",
      "[1.31787328e-02 5.71626939e-05]\n",
      "[2.67387938e-02 3.12563135e-05]\n"
     ]
    }
   ],
   "source": [
    "fig, ax = plt.subplots()\n",
    "\n",
    "Ic = 35e-9\n",
    "\n",
    "Is = np.linspace(0, 1.5*Ic, 501)\n",
    "\n",
    "R = 1\n",
    "\n",
    "T_list = np.linspace(0.05, 0.5, 11)\n",
    "As = []\n",
    "Bs = []\n",
    "\n",
    "\n",
    "Ims =[]\n",
    "for T in T_list:\n",
    "\n",
    "    Vs = V_AH_star( Is, EJ =0.51, Rn = R,  T = T)\n",
    "\n",
    "    ind = np.where (np.diff (Vs ) >0)\n",
    "\n",
    "    Is, Vs = Is[:-1][ind][:-10], Vs[:-1][ind][:-10]\n",
    "\n",
    "    Ims.append(Is[np.argmax(Vs)])\n",
    "    \n",
    "    ax.plot(   Is/1e-9, Vs/1e-3, label = r'$I_b - V$')\n",
    "\n",
    "\n",
    "    V_fit = lambda x, A,B  : A*np.sinh(x*B )\n",
    "    popt1 = ( 1e-3 , 1e-3)\n",
    "    popt, pcov = curve_fit(V_fit, Is/1e-12 ,Vs/1e-6, p0 = popt1 )\n",
    "\n",
    "    Vf = V_fit(Is/1e-12, *popt)*1e-6\n",
    "    \n",
    "    A, B = popt[0], popt[1]\n",
    "    \n",
    "    As.append(A)\n",
    "    Bs.append(B)\n",
    "\n",
    "    ax.plot(Is/1e-9, Vf/1e-3,'--' )\n",
    "\n",
    "\n",
    "    # ax.plot(  Vs/1e-3, (Is - Vs/R)/1e-9, label = r'$I_s - V$')\n",
    "\n",
    "\n",
    "#     ax.set_xlabel(r'$V, mV$')\n",
    "#     ax.set_ylabel(r'$I, nA$')\n",
    "\n",
    "    print(popt)\n",
    "\n",
    "# ax.legend()\n",
    "\n",
    "# Bs = np.array(Bs)\n",
    "# ax.plot(T_list, As)\n",
    "\n",
    "# # ax.set_xscale('log')\n",
    "# # ax.set_yscale('log')\n",
    "# ax2 = ax.twinx()\n",
    "# ax2.plot(T_list, Bs/T_list, c = 'C1')\n",
    "\n",
    "# ax2.set_yscale('log')\n",
    "\n",
    "# fig, ax = plt.subplots()\n",
    "# ax.plot(T_list, Ims, 'o-')"
   ]
  },
  {
   "cell_type": "markdown",
   "metadata": {},
   "source": [
    "## 4. Phase diffusion as activation process \n",
    "Kautz Martinis"
   ]
  },
  {
   "cell_type": "markdown",
   "metadata": {},
   "source": [
    "### 4a. Thermally activated PD"
   ]
  },
  {
   "cell_type": "markdown",
   "metadata": {},
   "source": [
    "# Coulomb at P(E)"
   ]
  },
  {
   "cell_type": "markdown",
   "metadata": {},
   "source": [
    "## $E_J$ renormalization"
   ]
  },
  {
   "cell_type": "markdown",
   "metadata": {},
   "source": [
    "In the limit $E_J \\ll E_C$ and high-resistive environment a probability of CP tunneling is quadratic in $E_J$ and effective $E_J$ can be calculated ([Mesoscopic Josephson Effect Superlatt. Microstruct. 25, 915 (1999)](https://www.physik.uni-augsburg.de/theo1/ingold/publikationen_coll/grabe99/grabe99.pdf) )\n"
   ]
  },
  {
   "cell_type": "code",
   "execution_count": 13,
   "metadata": {
    "scrolled": false
   },
   "outputs": [
    {
     "data": {
      "application/vnd.jupyter.widget-view+json": {
       "model_id": "7aa6678ae09f44c49f2a8aba3a4495db",
       "version_major": 2,
       "version_minor": 0
      },
      "text/plain": [
       "FigureCanvasNbAgg()"
      ]
     },
     "metadata": {},
     "output_type": "display_data"
    },
    {
     "data": {
      "text/plain": [
       "Text(0, 0.5, '$E_J^*, K$')"
      ]
     },
     "execution_count": 13,
     "metadata": {},
     "output_type": "execute_result"
    }
   ],
   "source": [
    "Renv_list = np.logspace(2, 6, 101)\n",
    "\n",
    "RN = 10e3\n",
    "\n",
    "\n",
    "Cj_list = [1e-15, 1.5e-15, 2e-15]\n",
    "fig, ax1 = plt.subplots()\n",
    "\n",
    "for Cj in Cj_list:\n",
    "    EJs = EJ_star (EJ = EJ_AB(RN), R = Renv_list, T = .03, C = Cj)\n",
    "\n",
    "    ax1.plot( Renv_list , EJs, label = r'C = {:1.2f} fF'.format(Cj/1e-15 ))\n",
    "\n",
    "# ax1.plot( Renv_list , EJ_AB(RN), '--k', alpha = 0.5)\n",
    "ax1.axhline(EJ_AB(RN), 0 , 1, ls = '--', color = 'k', alpha = 0.5)\n",
    "\n",
    "\n",
    "ax1.legend()\n",
    "\n",
    "ax1.set_xscale('log')\n",
    "ax1.set_yscale('log')\n",
    "\n",
    "ax1.set_xlabel(r'$R_{env}, K$')\n",
    "ax1.set_ylabel(r'$E_J^*, K$')"
   ]
  },
  {
   "cell_type": "markdown",
   "metadata": {},
   "source": [
    "### T-dependence"
   ]
  },
  {
   "cell_type": "code",
   "execution_count": 14,
   "metadata": {},
   "outputs": [
    {
     "data": {
      "application/vnd.jupyter.widget-view+json": {
       "model_id": "181f3e053541482b95db057213f659d6",
       "version_major": 2,
       "version_minor": 0
      },
      "text/plain": [
       "FigureCanvasNbAgg()"
      ]
     },
     "metadata": {},
     "output_type": "display_data"
    },
    {
     "data": {
      "text/plain": [
       "Text(0, 0.5, '$E_J^*, K$')"
      ]
     },
     "execution_count": 14,
     "metadata": {},
     "output_type": "execute_result"
    }
   ],
   "source": [
    "Renv_list = np.logspace(2, 6, 101)\n",
    "\n",
    "RN = 10e3\n",
    "\n",
    "Cj = 1.5e-15\n",
    "\n",
    "Tb_list = [0.05, 0.10, .15]\n",
    "fig, ax1 = plt.subplots()\n",
    "\n",
    "for Tb in Tb_list:\n",
    "    EJs = EJ_star (EJ = EJ_AB(RN), R = Renv_list, T = Tb, C = Cj)\n",
    "\n",
    "    ax1.plot( Renv_list , EJs, label = r'T = {:3.0f} mK'.format(Tb/1e-3 ))\n",
    "\n",
    "# ax1.plot( Renv_list , EJ_AB(RN), '--k', alpha = 0.5)\n",
    "ax1.axhline(EJ_AB(RN), 0 , 1, ls = '--', color = 'k', alpha = 0.5)\n",
    "\n",
    "\n",
    "ax1.legend()\n",
    "\n",
    "ax1.set_xscale('log')\n",
    "ax1.set_yscale('log')\n",
    "\n",
    "ax1.set_xlabel(r'$R_{env}, K$')\n",
    "ax1.set_ylabel(r'$E_J^*, K$')"
   ]
  },
  {
   "cell_type": "markdown",
   "metadata": {},
   "source": [
    "## $R_0$ as a result of thermal diffusion + $E_J$ renormalization"
   ]
  },
  {
   "cell_type": "code",
   "execution_count": 24,
   "metadata": {},
   "outputs": [
    {
     "data": {
      "application/vnd.jupyter.widget-view+json": {
       "model_id": "7d4eb154d49d4fb693e51f7721e42d1a",
       "version_major": 2,
       "version_minor": 0
      },
      "text/plain": [
       "FigureCanvasNbAgg()"
      ]
     },
     "metadata": {},
     "output_type": "display_data"
    },
    {
     "data": {
      "text/plain": [
       "Text(0, 0.5, '$R_0, k \\\\Omega$')"
      ]
     },
     "execution_count": 24,
     "metadata": {},
     "output_type": "execute_result"
    }
   ],
   "source": [
    "R_list = np.logspace(2, 5.5, 51)\n",
    "\n",
    "Cj = 1.75e-15\n",
    "Tb = 0.035\n",
    "\n",
    "\n",
    "\n",
    "fig, ax1 = plt.subplots()\n",
    "\n",
    "R0s = []\n",
    "\n",
    "for R in R_list:\n",
    "    EJs = EJ_star (EJ = EJ_AB(R), R = 1e3, T = Tb, C = Cj)\n",
    "    R0, _ = find_R0_Isw( EJs ,R_env = 1e3, T = Tb)\n",
    "    R0s.append(R0)\n",
    "\n",
    "ax1.plot( EJ_AB(R_list) , R0s, label = r'C = {:1.2f} fF'.format(Cj/1e-15))\n",
    "\n",
    "\n",
    "\n",
    "\n",
    "ax1.legend()\n",
    "\n",
    "# ax1.set_xscale('log')\n",
    "ax1.set_yscale('log')\n",
    "\n",
    "ax1.set_xlabel(r'$E_J, K$')\n",
    "ax1.set_ylabel(r'$R_0, k \\Omega$')"
   ]
  },
  {
   "cell_type": "markdown",
   "metadata": {},
   "source": [
    "### T-dependence"
   ]
  },
  {
   "cell_type": "code",
   "execution_count": null,
   "metadata": {},
   "outputs": [],
   "source": []
  },
  {
   "cell_type": "code",
   "execution_count": 16,
   "metadata": {},
   "outputs": [
    {
     "data": {
      "application/vnd.jupyter.widget-view+json": {
       "model_id": "cc4246b66a744057bf93eed20bf44f55",
       "version_major": 2,
       "version_minor": 0
      },
      "text/plain": [
       "FigureCanvasNbAgg()"
      ]
     },
     "metadata": {},
     "output_type": "display_data"
    },
    {
     "data": {
      "text/plain": [
       "Text(0, 0.5, '$R, k \\\\Omega$')"
      ]
     },
     "execution_count": 16,
     "metadata": {},
     "output_type": "execute_result"
    }
   ],
   "source": [
    "RN = 10e3\n",
    "R_env = 100e3\n",
    "\n",
    "Cj = 2e-15\n",
    "Tb_list =  np.linspace(0.05, .25, 51)\n",
    "\n",
    "# EJs = EJ_star (EJ = EJ_AB(RN), R = R_env, T = Tb, C = Cj)\n",
    "\n",
    "fig, ax1 = plt.subplots()\n",
    "\n",
    "R0s = []\n",
    "\n",
    "for Tb in Tb_list:\n",
    "    R0 = find_R0( RN, R_env = R_env , T = Tb, C = Cj)\n",
    "    R0s.append(R0)\n",
    "\n",
    "ax1.plot( Tb_list , R0s, label = r'C = {:1.2f} fF'.format(Cj/1e-15))\n",
    "\n",
    "\n",
    "\n",
    "\n",
    "ax1.legend()\n",
    "\n",
    "# ax1.set_xscale('log')\n",
    "ax1.set_yscale('log')\n",
    "\n",
    "ax1.set_xlabel(r'$T, K$')\n",
    "ax1.set_ylabel(r'$R, k \\Omega$')"
   ]
  },
  {
   "cell_type": "code",
   "execution_count": 17,
   "metadata": {},
   "outputs": [
    {
     "data": {
      "application/vnd.jupyter.widget-view+json": {
       "model_id": "30c0f28bfa414571a86fb71bbca644a4",
       "version_major": 2,
       "version_minor": 0
      },
      "text/plain": [
       "FigureCanvasNbAgg()"
      ]
     },
     "metadata": {},
     "output_type": "display_data"
    }
   ],
   "source": [
    "fig, ax = plt.subplots()\n",
    "T = np.linspace(0.05, 4.05, 101)\n",
    "\n",
    "# ax.plot( T , Rj(1e3, T))\n",
    "ax.plot( T , 1 / ( 1e-9 +  1e-6*np.exp(  -2/T )) )  \n",
    "ax.set_yscale('log')"
   ]
  },
  {
   "cell_type": "code",
   "execution_count": 18,
   "metadata": {},
   "outputs": [
    {
     "data": {
      "text/plain": [
       "3.720075976020836e-44"
      ]
     },
     "execution_count": 18,
     "metadata": {},
     "output_type": "execute_result"
    }
   ],
   "source": [
    "np.exp(-100)"
   ]
  },
  {
   "cell_type": "markdown",
   "metadata": {},
   "source": [
    "# Kautz-Martinis\n"
   ]
  },
  {
   "cell_type": "code",
   "execution_count": 6,
   "metadata": {},
   "outputs": [
    {
     "data": {
      "application/vnd.jupyter.widget-view+json": {
       "model_id": "0ed624c7c893430fae166197637ecf71",
       "version_major": 2,
       "version_minor": 0
      },
      "text/plain": [
       "FigureCanvasNbAgg()"
      ]
     },
     "metadata": {},
     "output_type": "display_data"
    },
    {
     "data": {
      "text/plain": [
       "[<matplotlib.lines.Line2D at 0x22239c05eb8>]"
      ]
     },
     "execution_count": 6,
     "metadata": {},
     "output_type": "execute_result"
    }
   ],
   "source": [
    "fig, ax = plt.subplots()\n",
    "Tb = np.linspace(0.05, 4.05, 101)\n",
    "\n",
    "Nps, Nms = Njump(i = 0.5, Q = 50, EJ = 1, T = Tb)\n",
    "\n",
    "ax.plot(Tb, Nps)\n",
    "ax.plot(Tb, Nms)"
   ]
  },
  {
   "cell_type": "code",
   "execution_count": 7,
   "metadata": {},
   "outputs": [
    {
     "data": {
      "application/vnd.jupyter.widget-view+json": {
       "model_id": "df822cfe3b5a4c05be69c67f782f0413",
       "version_major": 2,
       "version_minor": 0
      },
      "text/plain": [
       "FigureCanvasNbAgg()"
      ]
     },
     "metadata": {},
     "output_type": "display_data"
    },
    {
     "name": "stderr",
     "output_type": "stream",
     "text": [
      "e:\\OneDrive - Rutgers University\\files_GitHub\\JJ_arrays\\JJformulas.py:176: RuntimeWarning: invalid value encountered in log\n",
      "  Np = 1 + 2*Q/np.pi**2*( Ed - 1 ) + i*Q**2/2/np.pi*np.log( ( Ed - im )/(1 - im) )\n"
     ]
    },
    {
     "data": {
      "text/plain": [
       "[<matplotlib.lines.Line2D at 0x22239c05358>]"
      ]
     },
     "execution_count": 7,
     "metadata": {},
     "output_type": "execute_result"
    }
   ],
   "source": [
    "fig, ax = plt.subplots()\n",
    "i = np.linspace(0.0, 1/3, 101)\n",
    "\n",
    "Nps, Nms = Njump(i = i, Q = 5, EJ = 1, T = 0.2)\n",
    "\n",
    "ax.plot(i, Nps)\n",
    "ax.plot(i, Nms)"
   ]
  },
  {
   "cell_type": "code",
   "execution_count": 8,
   "metadata": {},
   "outputs": [
    {
     "data": {
      "application/vnd.jupyter.widget-view+json": {
       "model_id": "c790d3cf6aef4cf99d486ff4c71c9b51",
       "version_major": 2,
       "version_minor": 0
      },
      "text/plain": [
       "FigureCanvasNbAgg()"
      ]
     },
     "metadata": {},
     "output_type": "display_data"
    }
   ],
   "source": [
    "fig, ax = plt.subplots()\n",
    "Tb = np.linspace(0.05, 4.05, 101)\n",
    "\n",
    "τp, τm = τ(i = 0.1, EJ = 1, Ec = 0.5, T = Tb)\n",
    "\n",
    "ax.plot(1/Tb, τp)\n",
    "ax.plot(1/Tb, τm)\n",
    "\n",
    "ax.set_yscale('log')"
   ]
  },
  {
   "cell_type": "code",
   "execution_count": 9,
   "metadata": {},
   "outputs": [
    {
     "data": {
      "application/vnd.jupyter.widget-view+json": {
       "model_id": "ac4747bc80964ff6b9243cb726b7c3cc",
       "version_major": 2,
       "version_minor": 0
      },
      "text/plain": [
       "FigureCanvasNbAgg()"
      ]
     },
     "metadata": {},
     "output_type": "display_data"
    },
    {
     "data": {
      "text/plain": [
       "[<matplotlib.lines.Line2D at 0x2223a8affd0>]"
      ]
     },
     "execution_count": 9,
     "metadata": {},
     "output_type": "execute_result"
    }
   ],
   "source": [
    "fig, ax = plt.subplots()\n",
    "i = np.linspace(0.0, 1, 101)\n",
    "\n",
    "ΔUp, ΔUm = ΔU(i, EJ)\n",
    "\n",
    "ax.plot(i, ΔUp)\n",
    "ax.plot(i, ΔUm)"
   ]
  },
  {
   "cell_type": "code",
   "execution_count": 12,
   "metadata": {},
   "outputs": [
    {
     "data": {
      "application/vnd.jupyter.widget-view+json": {
       "model_id": "d9db711cb566444ab16c3c536cd10fcd",
       "version_major": 2,
       "version_minor": 0
      },
      "text/plain": [
       "FigureCanvasNbAgg()"
      ]
     },
     "metadata": {},
     "output_type": "display_data"
    },
    {
     "name": "stderr",
     "output_type": "stream",
     "text": [
      "e:\\OneDrive - Rutgers University\\files_GitHub\\JJ_arrays\\JJformulas.py:176: RuntimeWarning: invalid value encountered in log\n",
      "  Np = 1 + 2*Q/np.pi**2*( Ed - 1 ) + i*Q**2/2/np.pi*np.log( ( Ed - im )/(1 - im) )\n",
      "e:\\OneDrive - Rutgers University\\files_GitHub\\JJ_arrays\\JJformulas.py:177: RuntimeWarning: invalid value encountered in log\n",
      "  Nm = 1 + 2*Q/np.pi**2*( Ed - 1 ) - i*Q**2/2/np.pi*np.log( ( Ed + im )/(1 + im) )\n"
     ]
    }
   ],
   "source": [
    "Q = 10\n",
    "\n",
    "fig, ax = plt.subplots()\n",
    "\n",
    "for EJ in [1, .5 , .1]:\n",
    "    i = np.linspace(-1/Q, 1/Q, 101)\n",
    "\n",
    "    Vs = V_KM(i, EJ = EJ, Ec = 0.9, Q = 2*Q, T = 0.75)\n",
    "\n",
    "    ax.plot(i, Vs)\n"
   ]
  },
  {
   "cell_type": "code",
   "execution_count": null,
   "metadata": {},
   "outputs": [],
   "source": []
  },
  {
   "cell_type": "code",
   "execution_count": null,
   "metadata": {},
   "outputs": [],
   "source": []
  },
  {
   "cell_type": "markdown",
   "metadata": {},
   "source": [
    "# Quantum charge diffusion (Zazunov 2008)"
   ]
  },
  {
   "cell_type": "code",
   "execution_count": null,
   "metadata": {},
   "outputs": [],
   "source": []
  },
  {
   "cell_type": "code",
   "execution_count": 3,
   "metadata": {},
   "outputs": [],
   "source": [
    "kB = k\n",
    "γ = 0.57721566\n",
    "RQ = h/4/e**2\n",
    "Φ0 = h/2/e  \n",
    "Δ = 2.1*kB\n"
   ]
  },
  {
   "cell_type": "code",
   "execution_count": null,
   "metadata": {},
   "outputs": [],
   "source": []
  },
  {
   "cell_type": "code",
   "execution_count": 4,
   "metadata": {},
   "outputs": [
    {
     "data": {
      "application/javascript": [
       "/* Put everything inside the global mpl namespace */\n",
       "window.mpl = {};\n",
       "\n",
       "\n",
       "mpl.get_websocket_type = function() {\n",
       "    if (typeof(WebSocket) !== 'undefined') {\n",
       "        return WebSocket;\n",
       "    } else if (typeof(MozWebSocket) !== 'undefined') {\n",
       "        return MozWebSocket;\n",
       "    } else {\n",
       "        alert('Your browser does not have WebSocket support. ' +\n",
       "              'Please try Chrome, Safari or Firefox ≥ 6. ' +\n",
       "              'Firefox 4 and 5 are also supported but you ' +\n",
       "              'have to enable WebSockets in about:config.');\n",
       "    };\n",
       "}\n",
       "\n",
       "mpl.figure = function(figure_id, websocket, ondownload, parent_element) {\n",
       "    this.id = figure_id;\n",
       "\n",
       "    this.ws = websocket;\n",
       "\n",
       "    this.supports_binary = (this.ws.binaryType != undefined);\n",
       "\n",
       "    if (!this.supports_binary) {\n",
       "        var warnings = document.getElementById(\"mpl-warnings\");\n",
       "        if (warnings) {\n",
       "            warnings.style.display = 'block';\n",
       "            warnings.textContent = (\n",
       "                \"This browser does not support binary websocket messages. \" +\n",
       "                    \"Performance may be slow.\");\n",
       "        }\n",
       "    }\n",
       "\n",
       "    this.imageObj = new Image();\n",
       "\n",
       "    this.context = undefined;\n",
       "    this.message = undefined;\n",
       "    this.canvas = undefined;\n",
       "    this.rubberband_canvas = undefined;\n",
       "    this.rubberband_context = undefined;\n",
       "    this.format_dropdown = undefined;\n",
       "\n",
       "    this.image_mode = 'full';\n",
       "\n",
       "    this.root = $('<div/>');\n",
       "    this._root_extra_style(this.root)\n",
       "    this.root.attr('style', 'display: inline-block');\n",
       "\n",
       "    $(parent_element).append(this.root);\n",
       "\n",
       "    this._init_header(this);\n",
       "    this._init_canvas(this);\n",
       "    this._init_toolbar(this);\n",
       "\n",
       "    var fig = this;\n",
       "\n",
       "    this.waiting = false;\n",
       "\n",
       "    this.ws.onopen =  function () {\n",
       "            fig.send_message(\"supports_binary\", {value: fig.supports_binary});\n",
       "            fig.send_message(\"send_image_mode\", {});\n",
       "            if (mpl.ratio != 1) {\n",
       "                fig.send_message(\"set_dpi_ratio\", {'dpi_ratio': mpl.ratio});\n",
       "            }\n",
       "            fig.send_message(\"refresh\", {});\n",
       "        }\n",
       "\n",
       "    this.imageObj.onload = function() {\n",
       "            if (fig.image_mode == 'full') {\n",
       "                // Full images could contain transparency (where diff images\n",
       "                // almost always do), so we need to clear the canvas so that\n",
       "                // there is no ghosting.\n",
       "                fig.context.clearRect(0, 0, fig.canvas.width, fig.canvas.height);\n",
       "            }\n",
       "            fig.context.drawImage(fig.imageObj, 0, 0);\n",
       "        };\n",
       "\n",
       "    this.imageObj.onunload = function() {\n",
       "        fig.ws.close();\n",
       "    }\n",
       "\n",
       "    this.ws.onmessage = this._make_on_message_function(this);\n",
       "\n",
       "    this.ondownload = ondownload;\n",
       "}\n",
       "\n",
       "mpl.figure.prototype._init_header = function() {\n",
       "    var titlebar = $(\n",
       "        '<div class=\"ui-dialog-titlebar ui-widget-header ui-corner-all ' +\n",
       "        'ui-helper-clearfix\"/>');\n",
       "    var titletext = $(\n",
       "        '<div class=\"ui-dialog-title\" style=\"width: 100%; ' +\n",
       "        'text-align: center; padding: 3px;\"/>');\n",
       "    titlebar.append(titletext)\n",
       "    this.root.append(titlebar);\n",
       "    this.header = titletext[0];\n",
       "}\n",
       "\n",
       "\n",
       "\n",
       "mpl.figure.prototype._canvas_extra_style = function(canvas_div) {\n",
       "\n",
       "}\n",
       "\n",
       "\n",
       "mpl.figure.prototype._root_extra_style = function(canvas_div) {\n",
       "\n",
       "}\n",
       "\n",
       "mpl.figure.prototype._init_canvas = function() {\n",
       "    var fig = this;\n",
       "\n",
       "    var canvas_div = $('<div/>');\n",
       "\n",
       "    canvas_div.attr('style', 'position: relative; clear: both; outline: 0');\n",
       "\n",
       "    function canvas_keyboard_event(event) {\n",
       "        return fig.key_event(event, event['data']);\n",
       "    }\n",
       "\n",
       "    canvas_div.keydown('key_press', canvas_keyboard_event);\n",
       "    canvas_div.keyup('key_release', canvas_keyboard_event);\n",
       "    this.canvas_div = canvas_div\n",
       "    this._canvas_extra_style(canvas_div)\n",
       "    this.root.append(canvas_div);\n",
       "\n",
       "    var canvas = $('<canvas/>');\n",
       "    canvas.addClass('mpl-canvas');\n",
       "    canvas.attr('style', \"left: 0; top: 0; z-index: 0; outline: 0\")\n",
       "\n",
       "    this.canvas = canvas[0];\n",
       "    this.context = canvas[0].getContext(\"2d\");\n",
       "\n",
       "    var backingStore = this.context.backingStorePixelRatio ||\n",
       "\tthis.context.webkitBackingStorePixelRatio ||\n",
       "\tthis.context.mozBackingStorePixelRatio ||\n",
       "\tthis.context.msBackingStorePixelRatio ||\n",
       "\tthis.context.oBackingStorePixelRatio ||\n",
       "\tthis.context.backingStorePixelRatio || 1;\n",
       "\n",
       "    mpl.ratio = (window.devicePixelRatio || 1) / backingStore;\n",
       "\n",
       "    var rubberband = $('<canvas/>');\n",
       "    rubberband.attr('style', \"position: absolute; left: 0; top: 0; z-index: 1;\")\n",
       "\n",
       "    var pass_mouse_events = true;\n",
       "\n",
       "    canvas_div.resizable({\n",
       "        start: function(event, ui) {\n",
       "            pass_mouse_events = false;\n",
       "        },\n",
       "        resize: function(event, ui) {\n",
       "            fig.request_resize(ui.size.width, ui.size.height);\n",
       "        },\n",
       "        stop: function(event, ui) {\n",
       "            pass_mouse_events = true;\n",
       "            fig.request_resize(ui.size.width, ui.size.height);\n",
       "        },\n",
       "    });\n",
       "\n",
       "    function mouse_event_fn(event) {\n",
       "        if (pass_mouse_events)\n",
       "            return fig.mouse_event(event, event['data']);\n",
       "    }\n",
       "\n",
       "    rubberband.mousedown('button_press', mouse_event_fn);\n",
       "    rubberband.mouseup('button_release', mouse_event_fn);\n",
       "    // Throttle sequential mouse events to 1 every 20ms.\n",
       "    rubberband.mousemove('motion_notify', mouse_event_fn);\n",
       "\n",
       "    rubberband.mouseenter('figure_enter', mouse_event_fn);\n",
       "    rubberband.mouseleave('figure_leave', mouse_event_fn);\n",
       "\n",
       "    canvas_div.on(\"wheel\", function (event) {\n",
       "        event = event.originalEvent;\n",
       "        event['data'] = 'scroll'\n",
       "        if (event.deltaY < 0) {\n",
       "            event.step = 1;\n",
       "        } else {\n",
       "            event.step = -1;\n",
       "        }\n",
       "        mouse_event_fn(event);\n",
       "    });\n",
       "\n",
       "    canvas_div.append(canvas);\n",
       "    canvas_div.append(rubberband);\n",
       "\n",
       "    this.rubberband = rubberband;\n",
       "    this.rubberband_canvas = rubberband[0];\n",
       "    this.rubberband_context = rubberband[0].getContext(\"2d\");\n",
       "    this.rubberband_context.strokeStyle = \"#000000\";\n",
       "\n",
       "    this._resize_canvas = function(width, height) {\n",
       "        // Keep the size of the canvas, canvas container, and rubber band\n",
       "        // canvas in synch.\n",
       "        canvas_div.css('width', width)\n",
       "        canvas_div.css('height', height)\n",
       "\n",
       "        canvas.attr('width', width * mpl.ratio);\n",
       "        canvas.attr('height', height * mpl.ratio);\n",
       "        canvas.attr('style', 'width: ' + width + 'px; height: ' + height + 'px;');\n",
       "\n",
       "        rubberband.attr('width', width);\n",
       "        rubberband.attr('height', height);\n",
       "    }\n",
       "\n",
       "    // Set the figure to an initial 600x600px, this will subsequently be updated\n",
       "    // upon first draw.\n",
       "    this._resize_canvas(600, 600);\n",
       "\n",
       "    // Disable right mouse context menu.\n",
       "    $(this.rubberband_canvas).bind(\"contextmenu\",function(e){\n",
       "        return false;\n",
       "    });\n",
       "\n",
       "    function set_focus () {\n",
       "        canvas.focus();\n",
       "        canvas_div.focus();\n",
       "    }\n",
       "\n",
       "    window.setTimeout(set_focus, 100);\n",
       "}\n",
       "\n",
       "mpl.figure.prototype._init_toolbar = function() {\n",
       "    var fig = this;\n",
       "\n",
       "    var nav_element = $('<div/>');\n",
       "    nav_element.attr('style', 'width: 100%');\n",
       "    this.root.append(nav_element);\n",
       "\n",
       "    // Define a callback function for later on.\n",
       "    function toolbar_event(event) {\n",
       "        return fig.toolbar_button_onclick(event['data']);\n",
       "    }\n",
       "    function toolbar_mouse_event(event) {\n",
       "        return fig.toolbar_button_onmouseover(event['data']);\n",
       "    }\n",
       "\n",
       "    for(var toolbar_ind in mpl.toolbar_items) {\n",
       "        var name = mpl.toolbar_items[toolbar_ind][0];\n",
       "        var tooltip = mpl.toolbar_items[toolbar_ind][1];\n",
       "        var image = mpl.toolbar_items[toolbar_ind][2];\n",
       "        var method_name = mpl.toolbar_items[toolbar_ind][3];\n",
       "\n",
       "        if (!name) {\n",
       "            // put a spacer in here.\n",
       "            continue;\n",
       "        }\n",
       "        var button = $('<button/>');\n",
       "        button.addClass('ui-button ui-widget ui-state-default ui-corner-all ' +\n",
       "                        'ui-button-icon-only');\n",
       "        button.attr('role', 'button');\n",
       "        button.attr('aria-disabled', 'false');\n",
       "        button.click(method_name, toolbar_event);\n",
       "        button.mouseover(tooltip, toolbar_mouse_event);\n",
       "\n",
       "        var icon_img = $('<span/>');\n",
       "        icon_img.addClass('ui-button-icon-primary ui-icon');\n",
       "        icon_img.addClass(image);\n",
       "        icon_img.addClass('ui-corner-all');\n",
       "\n",
       "        var tooltip_span = $('<span/>');\n",
       "        tooltip_span.addClass('ui-button-text');\n",
       "        tooltip_span.html(tooltip);\n",
       "\n",
       "        button.append(icon_img);\n",
       "        button.append(tooltip_span);\n",
       "\n",
       "        nav_element.append(button);\n",
       "    }\n",
       "\n",
       "    var fmt_picker_span = $('<span/>');\n",
       "\n",
       "    var fmt_picker = $('<select/>');\n",
       "    fmt_picker.addClass('mpl-toolbar-option ui-widget ui-widget-content');\n",
       "    fmt_picker_span.append(fmt_picker);\n",
       "    nav_element.append(fmt_picker_span);\n",
       "    this.format_dropdown = fmt_picker[0];\n",
       "\n",
       "    for (var ind in mpl.extensions) {\n",
       "        var fmt = mpl.extensions[ind];\n",
       "        var option = $(\n",
       "            '<option/>', {selected: fmt === mpl.default_extension}).html(fmt);\n",
       "        fmt_picker.append(option);\n",
       "    }\n",
       "\n",
       "    // Add hover states to the ui-buttons\n",
       "    $( \".ui-button\" ).hover(\n",
       "        function() { $(this).addClass(\"ui-state-hover\");},\n",
       "        function() { $(this).removeClass(\"ui-state-hover\");}\n",
       "    );\n",
       "\n",
       "    var status_bar = $('<span class=\"mpl-message\"/>');\n",
       "    nav_element.append(status_bar);\n",
       "    this.message = status_bar[0];\n",
       "}\n",
       "\n",
       "mpl.figure.prototype.request_resize = function(x_pixels, y_pixels) {\n",
       "    // Request matplotlib to resize the figure. Matplotlib will then trigger a resize in the client,\n",
       "    // which will in turn request a refresh of the image.\n",
       "    this.send_message('resize', {'width': x_pixels, 'height': y_pixels});\n",
       "}\n",
       "\n",
       "mpl.figure.prototype.send_message = function(type, properties) {\n",
       "    properties['type'] = type;\n",
       "    properties['figure_id'] = this.id;\n",
       "    this.ws.send(JSON.stringify(properties));\n",
       "}\n",
       "\n",
       "mpl.figure.prototype.send_draw_message = function() {\n",
       "    if (!this.waiting) {\n",
       "        this.waiting = true;\n",
       "        this.ws.send(JSON.stringify({type: \"draw\", figure_id: this.id}));\n",
       "    }\n",
       "}\n",
       "\n",
       "\n",
       "mpl.figure.prototype.handle_save = function(fig, msg) {\n",
       "    var format_dropdown = fig.format_dropdown;\n",
       "    var format = format_dropdown.options[format_dropdown.selectedIndex].value;\n",
       "    fig.ondownload(fig, format);\n",
       "}\n",
       "\n",
       "\n",
       "mpl.figure.prototype.handle_resize = function(fig, msg) {\n",
       "    var size = msg['size'];\n",
       "    if (size[0] != fig.canvas.width || size[1] != fig.canvas.height) {\n",
       "        fig._resize_canvas(size[0], size[1]);\n",
       "        fig.send_message(\"refresh\", {});\n",
       "    };\n",
       "}\n",
       "\n",
       "mpl.figure.prototype.handle_rubberband = function(fig, msg) {\n",
       "    var x0 = msg['x0'] / mpl.ratio;\n",
       "    var y0 = (fig.canvas.height - msg['y0']) / mpl.ratio;\n",
       "    var x1 = msg['x1'] / mpl.ratio;\n",
       "    var y1 = (fig.canvas.height - msg['y1']) / mpl.ratio;\n",
       "    x0 = Math.floor(x0) + 0.5;\n",
       "    y0 = Math.floor(y0) + 0.5;\n",
       "    x1 = Math.floor(x1) + 0.5;\n",
       "    y1 = Math.floor(y1) + 0.5;\n",
       "    var min_x = Math.min(x0, x1);\n",
       "    var min_y = Math.min(y0, y1);\n",
       "    var width = Math.abs(x1 - x0);\n",
       "    var height = Math.abs(y1 - y0);\n",
       "\n",
       "    fig.rubberband_context.clearRect(\n",
       "        0, 0, fig.canvas.width / mpl.ratio, fig.canvas.height / mpl.ratio);\n",
       "\n",
       "    fig.rubberband_context.strokeRect(min_x, min_y, width, height);\n",
       "}\n",
       "\n",
       "mpl.figure.prototype.handle_figure_label = function(fig, msg) {\n",
       "    // Updates the figure title.\n",
       "    fig.header.textContent = msg['label'];\n",
       "}\n",
       "\n",
       "mpl.figure.prototype.handle_cursor = function(fig, msg) {\n",
       "    var cursor = msg['cursor'];\n",
       "    switch(cursor)\n",
       "    {\n",
       "    case 0:\n",
       "        cursor = 'pointer';\n",
       "        break;\n",
       "    case 1:\n",
       "        cursor = 'default';\n",
       "        break;\n",
       "    case 2:\n",
       "        cursor = 'crosshair';\n",
       "        break;\n",
       "    case 3:\n",
       "        cursor = 'move';\n",
       "        break;\n",
       "    }\n",
       "    fig.rubberband_canvas.style.cursor = cursor;\n",
       "}\n",
       "\n",
       "mpl.figure.prototype.handle_message = function(fig, msg) {\n",
       "    fig.message.textContent = msg['message'];\n",
       "}\n",
       "\n",
       "mpl.figure.prototype.handle_draw = function(fig, msg) {\n",
       "    // Request the server to send over a new figure.\n",
       "    fig.send_draw_message();\n",
       "}\n",
       "\n",
       "mpl.figure.prototype.handle_image_mode = function(fig, msg) {\n",
       "    fig.image_mode = msg['mode'];\n",
       "}\n",
       "\n",
       "mpl.figure.prototype.updated_canvas_event = function() {\n",
       "    // Called whenever the canvas gets updated.\n",
       "    this.send_message(\"ack\", {});\n",
       "}\n",
       "\n",
       "// A function to construct a web socket function for onmessage handling.\n",
       "// Called in the figure constructor.\n",
       "mpl.figure.prototype._make_on_message_function = function(fig) {\n",
       "    return function socket_on_message(evt) {\n",
       "        if (evt.data instanceof Blob) {\n",
       "            /* FIXME: We get \"Resource interpreted as Image but\n",
       "             * transferred with MIME type text/plain:\" errors on\n",
       "             * Chrome.  But how to set the MIME type?  It doesn't seem\n",
       "             * to be part of the websocket stream */\n",
       "            evt.data.type = \"image/png\";\n",
       "\n",
       "            /* Free the memory for the previous frames */\n",
       "            if (fig.imageObj.src) {\n",
       "                (window.URL || window.webkitURL).revokeObjectURL(\n",
       "                    fig.imageObj.src);\n",
       "            }\n",
       "\n",
       "            fig.imageObj.src = (window.URL || window.webkitURL).createObjectURL(\n",
       "                evt.data);\n",
       "            fig.updated_canvas_event();\n",
       "            fig.waiting = false;\n",
       "            return;\n",
       "        }\n",
       "        else if (typeof evt.data === 'string' && evt.data.slice(0, 21) == \"data:image/png;base64\") {\n",
       "            fig.imageObj.src = evt.data;\n",
       "            fig.updated_canvas_event();\n",
       "            fig.waiting = false;\n",
       "            return;\n",
       "        }\n",
       "\n",
       "        var msg = JSON.parse(evt.data);\n",
       "        var msg_type = msg['type'];\n",
       "\n",
       "        // Call the  \"handle_{type}\" callback, which takes\n",
       "        // the figure and JSON message as its only arguments.\n",
       "        try {\n",
       "            var callback = fig[\"handle_\" + msg_type];\n",
       "        } catch (e) {\n",
       "            console.log(\"No handler for the '\" + msg_type + \"' message type: \", msg);\n",
       "            return;\n",
       "        }\n",
       "\n",
       "        if (callback) {\n",
       "            try {\n",
       "                // console.log(\"Handling '\" + msg_type + \"' message: \", msg);\n",
       "                callback(fig, msg);\n",
       "            } catch (e) {\n",
       "                console.log(\"Exception inside the 'handler_\" + msg_type + \"' callback:\", e, e.stack, msg);\n",
       "            }\n",
       "        }\n",
       "    };\n",
       "}\n",
       "\n",
       "// from http://stackoverflow.com/questions/1114465/getting-mouse-location-in-canvas\n",
       "mpl.findpos = function(e) {\n",
       "    //this section is from http://www.quirksmode.org/js/events_properties.html\n",
       "    var targ;\n",
       "    if (!e)\n",
       "        e = window.event;\n",
       "    if (e.target)\n",
       "        targ = e.target;\n",
       "    else if (e.srcElement)\n",
       "        targ = e.srcElement;\n",
       "    if (targ.nodeType == 3) // defeat Safari bug\n",
       "        targ = targ.parentNode;\n",
       "\n",
       "    // jQuery normalizes the pageX and pageY\n",
       "    // pageX,Y are the mouse positions relative to the document\n",
       "    // offset() returns the position of the element relative to the document\n",
       "    var x = e.pageX - $(targ).offset().left;\n",
       "    var y = e.pageY - $(targ).offset().top;\n",
       "\n",
       "    return {\"x\": x, \"y\": y};\n",
       "};\n",
       "\n",
       "/*\n",
       " * return a copy of an object with only non-object keys\n",
       " * we need this to avoid circular references\n",
       " * http://stackoverflow.com/a/24161582/3208463\n",
       " */\n",
       "function simpleKeys (original) {\n",
       "  return Object.keys(original).reduce(function (obj, key) {\n",
       "    if (typeof original[key] !== 'object')\n",
       "        obj[key] = original[key]\n",
       "    return obj;\n",
       "  }, {});\n",
       "}\n",
       "\n",
       "mpl.figure.prototype.mouse_event = function(event, name) {\n",
       "    var canvas_pos = mpl.findpos(event)\n",
       "\n",
       "    if (name === 'button_press')\n",
       "    {\n",
       "        this.canvas.focus();\n",
       "        this.canvas_div.focus();\n",
       "    }\n",
       "\n",
       "    var x = canvas_pos.x * mpl.ratio;\n",
       "    var y = canvas_pos.y * mpl.ratio;\n",
       "\n",
       "    this.send_message(name, {x: x, y: y, button: event.button,\n",
       "                             step: event.step,\n",
       "                             guiEvent: simpleKeys(event)});\n",
       "\n",
       "    /* This prevents the web browser from automatically changing to\n",
       "     * the text insertion cursor when the button is pressed.  We want\n",
       "     * to control all of the cursor setting manually through the\n",
       "     * 'cursor' event from matplotlib */\n",
       "    event.preventDefault();\n",
       "    return false;\n",
       "}\n",
       "\n",
       "mpl.figure.prototype._key_event_extra = function(event, name) {\n",
       "    // Handle any extra behaviour associated with a key event\n",
       "}\n",
       "\n",
       "mpl.figure.prototype.key_event = function(event, name) {\n",
       "\n",
       "    // Prevent repeat events\n",
       "    if (name == 'key_press')\n",
       "    {\n",
       "        if (event.which === this._key)\n",
       "            return;\n",
       "        else\n",
       "            this._key = event.which;\n",
       "    }\n",
       "    if (name == 'key_release')\n",
       "        this._key = null;\n",
       "\n",
       "    var value = '';\n",
       "    if (event.ctrlKey && event.which != 17)\n",
       "        value += \"ctrl+\";\n",
       "    if (event.altKey && event.which != 18)\n",
       "        value += \"alt+\";\n",
       "    if (event.shiftKey && event.which != 16)\n",
       "        value += \"shift+\";\n",
       "\n",
       "    value += 'k';\n",
       "    value += event.which.toString();\n",
       "\n",
       "    this._key_event_extra(event, name);\n",
       "\n",
       "    this.send_message(name, {key: value,\n",
       "                             guiEvent: simpleKeys(event)});\n",
       "    return false;\n",
       "}\n",
       "\n",
       "mpl.figure.prototype.toolbar_button_onclick = function(name) {\n",
       "    if (name == 'download') {\n",
       "        this.handle_save(this, null);\n",
       "    } else {\n",
       "        this.send_message(\"toolbar_button\", {name: name});\n",
       "    }\n",
       "};\n",
       "\n",
       "mpl.figure.prototype.toolbar_button_onmouseover = function(tooltip) {\n",
       "    this.message.textContent = tooltip;\n",
       "};\n",
       "mpl.toolbar_items = [[\"Home\", \"Reset original view\", \"fa fa-home icon-home\", \"home\"], [\"Back\", \"Back to previous view\", \"fa fa-arrow-left icon-arrow-left\", \"back\"], [\"Forward\", \"Forward to next view\", \"fa fa-arrow-right icon-arrow-right\", \"forward\"], [\"\", \"\", \"\", \"\"], [\"Pan\", \"Pan axes with left mouse, zoom with right\", \"fa fa-arrows icon-move\", \"pan\"], [\"Zoom\", \"Zoom to rectangle\", \"fa fa-square-o icon-check-empty\", \"zoom\"], [\"\", \"\", \"\", \"\"], [\"Download\", \"Download plot\", \"fa fa-floppy-o icon-save\", \"download\"]];\n",
       "\n",
       "mpl.extensions = [\"eps\", \"pdf\", \"png\", \"ps\", \"raw\", \"svg\"];\n",
       "\n",
       "mpl.default_extension = \"png\";var comm_websocket_adapter = function(comm) {\n",
       "    // Create a \"websocket\"-like object which calls the given IPython comm\n",
       "    // object with the appropriate methods. Currently this is a non binary\n",
       "    // socket, so there is still some room for performance tuning.\n",
       "    var ws = {};\n",
       "\n",
       "    ws.close = function() {\n",
       "        comm.close()\n",
       "    };\n",
       "    ws.send = function(m) {\n",
       "        //console.log('sending', m);\n",
       "        comm.send(m);\n",
       "    };\n",
       "    // Register the callback with on_msg.\n",
       "    comm.on_msg(function(msg) {\n",
       "        //console.log('receiving', msg['content']['data'], msg);\n",
       "        // Pass the mpl event to the overridden (by mpl) onmessage function.\n",
       "        ws.onmessage(msg['content']['data'])\n",
       "    });\n",
       "    return ws;\n",
       "}\n",
       "\n",
       "mpl.mpl_figure_comm = function(comm, msg) {\n",
       "    // This is the function which gets called when the mpl process\n",
       "    // starts-up an IPython Comm through the \"matplotlib\" channel.\n",
       "\n",
       "    var id = msg.content.data.id;\n",
       "    // Get hold of the div created by the display call when the Comm\n",
       "    // socket was opened in Python.\n",
       "    var element = $(\"#\" + id);\n",
       "    var ws_proxy = comm_websocket_adapter(comm)\n",
       "\n",
       "    function ondownload(figure, format) {\n",
       "        window.open(figure.imageObj.src);\n",
       "    }\n",
       "\n",
       "    var fig = new mpl.figure(id, ws_proxy,\n",
       "                           ondownload,\n",
       "                           element.get(0));\n",
       "\n",
       "    // Call onopen now - mpl needs it, as it is assuming we've passed it a real\n",
       "    // web socket which is closed, not our websocket->open comm proxy.\n",
       "    ws_proxy.onopen();\n",
       "\n",
       "    fig.parent_element = element.get(0);\n",
       "    fig.cell_info = mpl.find_output_cell(\"<div id='\" + id + \"'></div>\");\n",
       "    if (!fig.cell_info) {\n",
       "        console.error(\"Failed to find cell for figure\", id, fig);\n",
       "        return;\n",
       "    }\n",
       "\n",
       "    var output_index = fig.cell_info[2]\n",
       "    var cell = fig.cell_info[0];\n",
       "\n",
       "};\n",
       "\n",
       "mpl.figure.prototype.handle_close = function(fig, msg) {\n",
       "    var width = fig.canvas.width/mpl.ratio\n",
       "    fig.root.unbind('remove')\n",
       "\n",
       "    // Update the output cell to use the data from the current canvas.\n",
       "    fig.push_to_output();\n",
       "    var dataURL = fig.canvas.toDataURL();\n",
       "    // Re-enable the keyboard manager in IPython - without this line, in FF,\n",
       "    // the notebook keyboard shortcuts fail.\n",
       "    IPython.keyboard_manager.enable()\n",
       "    $(fig.parent_element).html('<img src=\"' + dataURL + '\" width=\"' + width + '\">');\n",
       "    fig.close_ws(fig, msg);\n",
       "}\n",
       "\n",
       "mpl.figure.prototype.close_ws = function(fig, msg){\n",
       "    fig.send_message('closing', msg);\n",
       "    // fig.ws.close()\n",
       "}\n",
       "\n",
       "mpl.figure.prototype.push_to_output = function(remove_interactive) {\n",
       "    // Turn the data on the canvas into data in the output cell.\n",
       "    var width = this.canvas.width/mpl.ratio\n",
       "    var dataURL = this.canvas.toDataURL();\n",
       "    this.cell_info[1]['text/html'] = '<img src=\"' + dataURL + '\" width=\"' + width + '\">';\n",
       "}\n",
       "\n",
       "mpl.figure.prototype.updated_canvas_event = function() {\n",
       "    // Tell IPython that the notebook contents must change.\n",
       "    IPython.notebook.set_dirty(true);\n",
       "    this.send_message(\"ack\", {});\n",
       "    var fig = this;\n",
       "    // Wait a second, then push the new image to the DOM so\n",
       "    // that it is saved nicely (might be nice to debounce this).\n",
       "    setTimeout(function () { fig.push_to_output() }, 1000);\n",
       "}\n",
       "\n",
       "mpl.figure.prototype._init_toolbar = function() {\n",
       "    var fig = this;\n",
       "\n",
       "    var nav_element = $('<div/>');\n",
       "    nav_element.attr('style', 'width: 100%');\n",
       "    this.root.append(nav_element);\n",
       "\n",
       "    // Define a callback function for later on.\n",
       "    function toolbar_event(event) {\n",
       "        return fig.toolbar_button_onclick(event['data']);\n",
       "    }\n",
       "    function toolbar_mouse_event(event) {\n",
       "        return fig.toolbar_button_onmouseover(event['data']);\n",
       "    }\n",
       "\n",
       "    for(var toolbar_ind in mpl.toolbar_items){\n",
       "        var name = mpl.toolbar_items[toolbar_ind][0];\n",
       "        var tooltip = mpl.toolbar_items[toolbar_ind][1];\n",
       "        var image = mpl.toolbar_items[toolbar_ind][2];\n",
       "        var method_name = mpl.toolbar_items[toolbar_ind][3];\n",
       "\n",
       "        if (!name) { continue; };\n",
       "\n",
       "        var button = $('<button class=\"btn btn-default\" href=\"#\" title=\"' + name + '\"><i class=\"fa ' + image + ' fa-lg\"></i></button>');\n",
       "        button.click(method_name, toolbar_event);\n",
       "        button.mouseover(tooltip, toolbar_mouse_event);\n",
       "        nav_element.append(button);\n",
       "    }\n",
       "\n",
       "    // Add the status bar.\n",
       "    var status_bar = $('<span class=\"mpl-message\" style=\"text-align:right; float: right;\"/>');\n",
       "    nav_element.append(status_bar);\n",
       "    this.message = status_bar[0];\n",
       "\n",
       "    // Add the close button to the window.\n",
       "    var buttongrp = $('<div class=\"btn-group inline pull-right\"></div>');\n",
       "    var button = $('<button class=\"btn btn-mini btn-primary\" href=\"#\" title=\"Stop Interaction\"><i class=\"fa fa-power-off icon-remove icon-large\"></i></button>');\n",
       "    button.click(function (evt) { fig.handle_close(fig, {}); } );\n",
       "    button.mouseover('Stop Interaction', toolbar_mouse_event);\n",
       "    buttongrp.append(button);\n",
       "    var titlebar = this.root.find($('.ui-dialog-titlebar'));\n",
       "    titlebar.prepend(buttongrp);\n",
       "}\n",
       "\n",
       "mpl.figure.prototype._root_extra_style = function(el){\n",
       "    var fig = this\n",
       "    el.on(\"remove\", function(){\n",
       "\tfig.close_ws(fig, {});\n",
       "    });\n",
       "}\n",
       "\n",
       "mpl.figure.prototype._canvas_extra_style = function(el){\n",
       "    // this is important to make the div 'focusable\n",
       "    el.attr('tabindex', 0)\n",
       "    // reach out to IPython and tell the keyboard manager to turn it's self\n",
       "    // off when our div gets focus\n",
       "\n",
       "    // location in version 3\n",
       "    if (IPython.notebook.keyboard_manager) {\n",
       "        IPython.notebook.keyboard_manager.register_events(el);\n",
       "    }\n",
       "    else {\n",
       "        // location in version 2\n",
       "        IPython.keyboard_manager.register_events(el);\n",
       "    }\n",
       "\n",
       "}\n",
       "\n",
       "mpl.figure.prototype._key_event_extra = function(event, name) {\n",
       "    var manager = IPython.notebook.keyboard_manager;\n",
       "    if (!manager)\n",
       "        manager = IPython.keyboard_manager;\n",
       "\n",
       "    // Check for shift+enter\n",
       "    if (event.shiftKey && event.which == 13) {\n",
       "        this.canvas_div.blur();\n",
       "        // select the cell after this one\n",
       "        var index = IPython.notebook.find_cell_index(this.cell_info[0]);\n",
       "        IPython.notebook.select(index + 1);\n",
       "    }\n",
       "}\n",
       "\n",
       "mpl.figure.prototype.handle_save = function(fig, msg) {\n",
       "    fig.ondownload(fig, null);\n",
       "}\n",
       "\n",
       "\n",
       "mpl.find_output_cell = function(html_output) {\n",
       "    // Return the cell and output element which can be found *uniquely* in the notebook.\n",
       "    // Note - this is a bit hacky, but it is done because the \"notebook_saving.Notebook\"\n",
       "    // IPython event is triggered only after the cells have been serialised, which for\n",
       "    // our purposes (turning an active figure into a static one), is too late.\n",
       "    var cells = IPython.notebook.get_cells();\n",
       "    var ncells = cells.length;\n",
       "    for (var i=0; i<ncells; i++) {\n",
       "        var cell = cells[i];\n",
       "        if (cell.cell_type === 'code'){\n",
       "            for (var j=0; j<cell.output_area.outputs.length; j++) {\n",
       "                var data = cell.output_area.outputs[j];\n",
       "                if (data.data) {\n",
       "                    // IPython >= 3 moved mimebundle to data attribute of output\n",
       "                    data = data.data;\n",
       "                }\n",
       "                if (data['text/html'] == html_output) {\n",
       "                    return [cell, data, j];\n",
       "                }\n",
       "            }\n",
       "        }\n",
       "    }\n",
       "}\n",
       "\n",
       "// Register the function which deals with the matplotlib target/channel.\n",
       "// The kernel may be null if the page has been refreshed.\n",
       "if (IPython.notebook.kernel != null) {\n",
       "    IPython.notebook.kernel.comm_manager.register_target('matplotlib', mpl.mpl_figure_comm);\n",
       "}\n"
      ],
      "text/plain": [
       "<IPython.core.display.Javascript object>"
      ]
     },
     "metadata": {},
     "output_type": "display_data"
    },
    {
     "data": {
      "text/html": [
       "<img src=\"data:image/png;base64,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\" width=\"900\">"
      ],
      "text/plain": [
       "<IPython.core.display.HTML object>"
      ]
     },
     "metadata": {},
     "output_type": "display_data"
    }
   ],
   "source": [
    "#%matplotlib notebook\n",
    "\n",
    "#Ej = 2.81\n",
    "#Ec = 0.002\n",
    "Ej = 1.77\n",
    "Ec = 0.0049\n",
    "T = 0.05\n",
    "\n",
    "\n",
    "\n",
    "fig = plt.figure(figsize = (9,9))\n",
    "gs = GridSpec.GridSpec(5, 3)\n",
    "\n",
    "\n",
    "\n",
    "Renvs = [1e3,6e3,20e3]\n",
    "cosines = np.arange(0.2,1.1,0.2)\n",
    "a = 0\n",
    "\n",
    "for j in range(5):    \n",
    "    \n",
    "    for i in range(3):\n",
    "        \n",
    "        I = np.arange(-1e-8,1e-8,1e-10)\n",
    "        V = []\n",
    "        \n",
    "        ax = fig.add_subplot(gs[a])\n",
    "        \n",
    "        for Ibias in I:\n",
    "        \n",
    "            V = np.append(V,V_NNA_smallg_Ejfit(Renvs[i],T,Ibias,Ej,Ec,cosines[j]))    \n",
    "        \n",
    "        ax.plot( I, V , 'o')#, label = 'test')\n",
    "        ax.set_title('Renv = ' + str(round(Renvs[i])) + ' Ohms' + '\\n' + 'cos = ' + str(round(cosines[j],2)))\n",
    "        ax.ticklabel_format(axis=\"y\", style=\"sci\", scilimits=(0,0))\n",
    "        #ax.legend()\n",
    "        \n",
    "        a += 1\n",
    "        \n",
    "    \n",
    "plt.tight_layout()"
   ]
  },
  {
   "cell_type": "code",
   "execution_count": 33,
   "metadata": {},
   "outputs": [],
   "source": [
    "plt.close('all')"
   ]
  },
  {
   "cell_type": "code",
   "execution_count": null,
   "metadata": {},
   "outputs": [],
   "source": []
  }
 ],
 "metadata": {
  "kernelspec": {
   "display_name": "Python 3",
   "language": "python",
   "name": "python3"
  },
  "language_info": {
   "codemirror_mode": {
    "name": "ipython",
    "version": 3
   },
   "file_extension": ".py",
   "mimetype": "text/x-python",
   "name": "python",
   "nbconvert_exporter": "python",
   "pygments_lexer": "ipython3",
   "version": "3.6.9"
  },
  "toc": {
   "base_numbering": 1,
   "nav_menu": {},
   "number_sections": true,
   "sideBar": false,
   "skip_h1_title": false,
   "title_cell": "Table of Contents",
   "title_sidebar": "Contents",
   "toc_cell": false,
   "toc_position": {
    "height": "429.333px",
    "left": "10px",
    "top": "150px",
    "width": "165px"
   },
   "toc_section_display": true,
   "toc_window_display": true
  }
 },
 "nbformat": 4,
 "nbformat_minor": 2
}
