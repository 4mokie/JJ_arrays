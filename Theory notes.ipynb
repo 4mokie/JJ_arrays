{
 "cells": [
  {
   "cell_type": "code",
   "execution_count": 1,
   "metadata": {},
   "outputs": [],
   "source": [
    "%matplotlib widget\n",
    "%load_ext autoreload\n",
    "%autoreload 2\n",
    "\n",
    "\n",
    "import matplotlib.pyplot as plt\n",
    "import matplotlib.gridspec as GridSpec\n",
    "import numpy as np\n",
    "import pandas as pd\n",
    "\n",
    "import os\n",
    "\n",
    "# from tqdm import tqdm, tqdm_notebook\n",
    "import math\n",
    "\n",
    "\n",
    "from scipy.optimize import curve_fit\n",
    "\n",
    "\n",
    "# from  scipy.special import digamma as ψ\n",
    "# from mpmath import besseli as Iν\n",
    "# from scipy.constants import hbar, pi, h, e, k\n",
    "\n",
    "# kB = k\n",
    "# γ = 0.57721566\n",
    "# RQ = h/4/e**2\n",
    "# Φ0 = h/2/e\n",
    "\n",
    "from JJformulas import *"
   ]
  },
  {
   "cell_type": "markdown",
   "metadata": {},
   "source": [
    "# Notes on theory of JJ"
   ]
  },
  {
   "cell_type": "markdown",
   "metadata": {},
   "source": [
    "The intention of this note is to summarize and organize the knowledge on the physics of single JJ, namely TA and Q phase diffusion, environment impedance influence, Bloch oscillations, etc  "
   ]
  },
  {
   "cell_type": "markdown",
   "metadata": {},
   "source": [
    "## 1. RS(C)J-model"
   ]
  },
  {
   "cell_type": "markdown",
   "metadata": {},
   "source": [
    "The simplest model considers current-biasing circuit consisted of Josephson element, Resistor and capasitor.\n",
    "\n",
    "$I_s = I_c \\sin \\phi$\n",
    "\n",
    "$\\dot{\\phi} = \\frac{2 e}{ \\hbar} V $\n",
    "\n",
    "$ I_0 = \\frac{\\hbar C}{2e} \\ddot{ \\phi }  + \\frac{\\hbar}{ 2eR} \\dot \\phi + I_c \\sin \\phi $\n"
   ]
  },
  {
   "attachments": {
    "image.png": {
     "image/png": "[encoded data removed]"
    }
   },
   "cell_type": "markdown",
   "metadata": {},
   "source": [
    "![image.png](attachment:image.png)\n",
    "[Kopnin lecture]\n",
    "\n",
    "$\\omega_p = \\sqrt{2eI_c/\\hbar C} = \\sqrt{8 E_J E_C}$ - plasma frequency\n",
    "\n",
    "$Q = \\omega_p R C$ - quality factor"
   ]
  },
  {
   "cell_type": "markdown",
   "metadata": {},
   "source": [
    "### 1a) $C \\rightarrow \\infty $\n",
    "Equvalent to underdamped regime ( $ 1/ \\omega_p C \\ll R $, $Q \\gg 1$ ). Capacitence completely shunts josephson generation "
   ]
  },
  {
   "cell_type": "markdown",
   "metadata": {},
   "source": [
    "$$I_0 < I_c \\Rightarrow I_s = I_0, I_R = 0, I_C = 0$$\n",
    "\n",
    "$$I_0 > I_c \\Rightarrow \\overline{I_s + I_C} = 0, I_R = I_0$$"
   ]
  },
  {
   "cell_type": "markdown",
   "metadata": {},
   "source": [
    "### 2a) $ C = 0$\n",
    "\n",
    "Equvalent to overdamped regime ( $ 1/ \\omega_p C \\gg R $, $Q \\ll 1$ )\n",
    "\n",
    "For $I_0 > I_c$ Josephson current flows through resistor, so instantaneous voltage changes with time "
   ]
  },
  {
   "cell_type": "code",
   "execution_count": 2,
   "metadata": {},
   "outputs": [],
   "source": [
    "# t = np.linsapce(0, 5*2*np.pi, 101)\n",
    "# Vinst = "
   ]
  },
  {
   "cell_type": "markdown",
   "metadata": {},
   "source": [
    "$ <I_s> = I_0 - <V>/R = I_0\\left(1 - \\sqrt{1 - \\left( \\frac{I_C}{I_0} \\right)^2}\\right)$"
   ]
  },
  {
   "cell_type": "code",
   "execution_count": 3,
   "metadata": {
    "scrolled": false
   },
   "outputs": [
    {
     "data": {
      "application/vnd.jupyter.widget-view+json": {
       "model_id": "",
       "version_major": 2,
       "version_minor": 0
      },
      "text/plain": [
       "FigureCanvasNbAgg()"
      ]
     },
     "metadata": {},
     "output_type": "display_data"
    },
    {
     "data": {
      "text/plain": [
       "Text(0, 0.5, '${<I_s>}/{I_c}$')"
      ]
     },
     "execution_count": 3,
     "metadata": {},
     "output_type": "execute_result"
    }
   ],
   "source": [
    "i = np.linspace(1, 5, 101)\n",
    "Is = 1 - np.sqrt(1 - (1/i)**2)\n",
    "\n",
    "plt.plot(i, Is)\n",
    "plt.xlabel('${I_0}/{I_c}$')\n",
    "plt.ylabel('${<I_s>}/{I_c}$')"
   ]
  },
  {
   "cell_type": "markdown",
   "metadata": {},
   "source": [
    "## IZ: Phase diffusion as Fokker-Plank process\n",
    "[Zil'berman Ivanchenko JEPhT 24 6 1969](http://www.jetp.ac.ru/cgi-bin/dn/e_028_06_1272.pdf )\n",
    "\n"
   ]
  },
  {
   "cell_type": "markdown",
   "metadata": {},
   "source": [
    "Note, that I-biased scheme with R||JJ is equvalent to V-biased with R and JJ in series\n",
    "\n",
    "$ V_B = IR + \\dot{ \\phi } $  \n",
    "\n",
    "$ \\frac{V_B - IR}{R} =  \\frac{\\hbar C}{2e} \\ddot{ \\phi }  + I_c \\sin \\phi $"
   ]
  },
  {
   "attachments": {
    "image.png": {
     "image/png": "[encoded data removed]"
    }
   },
   "cell_type": "markdown",
   "metadata": {},
   "source": [
    "![image.png](attachment:image.png)"
   ]
  },
  {
   "cell_type": "markdown",
   "metadata": {},
   "source": [
    "- underdamped limit $C \\rightarrow 0$\n",
    "- volage biasing scheme is equivalent to curernt-biasing with R as a shunt\n",
    "- note the difference between $I-V_b$ and $I-V$ curves "
   ]
  },
  {
   "cell_type": "markdown",
   "metadata": {},
   "source": [
    "$$<I_s> = I_0 \\Im \\left( \\frac{I_{1-2i\\beta e V_B/ \\hbar R_B}(\\beta E_J)}{I_{-2i\\beta e V_B/ \\hbar R_B}(\\beta E_J)} \\right)$$"
   ]
  },
  {
   "cell_type": "code",
   "execution_count": 2,
   "metadata": {},
   "outputs": [
    {
     "data": {
      "application/vnd.jupyter.widget-view+json": {
       "model_id": "3070880bd2b84ecd9e9104ef013ee036",
       "version_major": 2,
       "version_minor": 0
      },
      "text/plain": [
       "FigureCanvasNbAgg()"
      ]
     },
     "metadata": {},
     "output_type": "display_data"
    },
    {
     "data": {
      "text/plain": [
       "Text(0.5, 1.0, 'EJ = 0.05 K, T = 0.02 K')"
      ]
     },
     "execution_count": 2,
     "metadata": {},
     "output_type": "execute_result"
    }
   ],
   "source": [
    "fig, ax = plt.subplots()\n",
    "\n",
    "Vs = np.linspace(0, 1e-4, 501)\n",
    "\n",
    "R_list = [1e2, 1e3, 5e3]\n",
    "\n",
    "\n",
    "\n",
    "EJ = 0.05\n",
    "kT = .02\n",
    "\n",
    "for R in R_list:\n",
    "    Is =      I_IZ     ( Vs, EJ = EJ, R = R, T = kT)\n",
    "    Is_simp = I_IZ_simp( Vs, EJ = EJ, R = R, T = kT)\n",
    "\n",
    "# ax.plot(  Vs/1e-3, Is/1e-9, '--', label = r'$I-V_b$')\n",
    "    ax.plot( (Vs - Is*R) /1e-6, Is/1e-9, label = f'{R/1e3} kOhm' )\n",
    "#     ax.plot( (Vs ) /1e-3, Is_simp/1e-9, '--' )\n",
    "\n",
    "ax.set_xlabel(r'$V, uV$')\n",
    "ax.set_ylabel(r'$I, nA$')\n",
    "\n",
    "\n",
    "# ax.set_xlim(0, .1e-3)\n",
    "# ax.set_xscale ('log')\n",
    "ax.legend()\n",
    "\n",
    "\n",
    "\n",
    "ax.set_title('EJ = {:g} K, T = {:g} K'.format(EJ, kT))"
   ]
  },
  {
   "cell_type": "markdown",
   "metadata": {},
   "source": [
    "The idea is that the noise on the capacitance C produces gaussian-distributed voltage with width $\\sigma = \\sqrt{E_c k T} $. In order to get new IVC let's convolute the old one with gaussian distribution"
   ]
  },
  {
   "cell_type": "code",
   "execution_count": 11,
   "metadata": {},
   "outputs": [
    {
     "data": {
      "application/vnd.jupyter.widget-view+json": {
       "model_id": "f2ad926874e040c2a9f44fd8e8ee417c",
       "version_major": 2,
       "version_minor": 0
      },
      "text/plain": [
       "FigureCanvasNbAgg()"
      ]
     },
     "metadata": {},
     "output_type": "display_data"
    }
   ],
   "source": [
    "from scipy import interpolate\n",
    "\n",
    "fig, ax = plt.subplots(figsize = (4,5))\n",
    "\n",
    "def gaussian(x, mu, sig):\n",
    "    return 1./(np.sqrt(2.*np.pi)*sig)*np.exp(-np.power((x - mu)/sig, 2.)/2)\n",
    "\n",
    "Rsh = 377\n",
    "\n",
    "kT = 0.050\n",
    "Ec = 1\n",
    "EJ = 0.4\n",
    "Vc_noise = np.sqrt(2*Ec*kT)/1e4\n",
    "\n",
    "\n",
    "Npts = 501\n",
    "V_ = np.linspace(-1e-3, 1e-3, Npts)/1e1\n",
    "\n",
    "\n",
    "def IZ_conv(V_, EJ, Vc_noise, kT, Rsh):\n",
    "    \n",
    "    sigma = Vc_noise#np.sqrt(Ec*kT)/1e4\n",
    "    Is = I_IZ( V_, EJ = EJ, R = Rsh, T = kT)\n",
    "\n",
    "    Vs = V_ - Is*Rsh\n",
    "\n",
    "    f = interpolate.interp1d(Vs, Is)\n",
    "\n",
    "\n",
    "\n",
    "\n",
    "    Vs_evengrid = np.linspace(np.min(Vs), np.max(Vs), len(Vs))\n",
    "    \n",
    "    dVs =  (np.max(Vs) - np.min(Vs)) / (len(Vs)-1)\n",
    "    \n",
    "    \n",
    "\n",
    "    Is_evengrid = f(Vs_evengrid)\n",
    "\n",
    "    Is = Is_evengrid\n",
    "    Vs = Vs_evengrid\n",
    "\n",
    "    V_c = gaussian(Vs, 0, sigma)*dVs\n",
    "\n",
    "    Is_conv = np.convolve(Is, V_c, 'same')\n",
    "#     print(len(Is))\n",
    "    \n",
    "    return Vs, Is, Is_conv\n",
    "\n",
    "Vs, Is, Is_conv = IZ_conv(V_, EJ, Vc_noise, kT, Rsh)\n",
    "\n",
    "\n",
    "# ax.plot(Vs/1e-6, Is/1e-9, 'o', label = 'cIZ')\n",
    "\n",
    "ax.plot(Vs/1e-6 ,Is_conv/1e-9, label = 'cIZ + Vnoise')\n",
    "\n",
    "\n",
    "\n",
    "ax.set_xlabel('V, uV')\n",
    "ax.set_ylabel('I, nA')\n",
    "\n",
    "ax.set_title('EJ = {:g} K, T = {:g} K, Rb = {:g} Ohm'.format(EJ, kT, Rsh))\n",
    "\n",
    "# ax.set_xlim(0, 300)\n",
    "# ax.set_ylim(0, .0250)\n",
    "\n",
    "ax.legend()\n",
    "\n",
    "plt.tight_layout()"
   ]
  },
  {
   "cell_type": "code",
   "execution_count": 123,
   "metadata": {},
   "outputs": [
    {
     "data": {
      "text/plain": [
       "mpc(real='2.1429859019146757e+59', imag='4.4853298352534639e+39')"
      ]
     },
     "execution_count": 123,
     "metadata": {},
     "output_type": "execute_result"
    }
   ],
   "source": [
    "Iν(1j, 7/0.05)"
   ]
  },
  {
   "cell_type": "code",
   "execution_count": 98,
   "metadata": {},
   "outputs": [
    {
     "data": {
      "text/plain": [
       "0.31622776601683794"
      ]
     },
     "execution_count": 98,
     "metadata": {},
     "output_type": "execute_result"
    }
   ],
   "source": [
    "np.sqrt(2*2.5*.02)"
   ]
  },
  {
   "cell_type": "code",
   "execution_count": 199,
   "metadata": {},
   "outputs": [
    {
     "data": {
      "text/plain": [
       "3.5"
      ]
     },
     "execution_count": 199,
     "metadata": {},
     "output_type": "execute_result"
    }
   ],
   "source": [
    "7/20*10"
   ]
  },
  {
   "cell_type": "code",
   "execution_count": 11,
   "metadata": {},
   "outputs": [],
   "source": [
    "\n",
    "\n",
    "Rsh = 377\n",
    "\n",
    "kT = 0.5\n",
    "# Ec = 10\n",
    "Vc_noise = 50e-6\n",
    "\n",
    "EJ_list = np.logspace(-2,1.5, 51)\n",
    "\n",
    "Npts = 251\n",
    "V_ = np.linspace(-1e-3, 1e-3, Npts)\n",
    "\n",
    "Isws = []\n",
    "Isws_conv = []\n",
    "\n",
    "R0s = []\n",
    "R0s_conv = []\n",
    "\n",
    "for EJ in EJ_list:\n",
    "    Vs, Is, Is_conv = IZ_conv(V_, EJ, Vc_noise , kT, Rsh)\n",
    "    \n",
    "#     Isw = (np.max(Is) - np.min(Is))/2\n",
    "#     Isw_conv = (np.max(Is_conv) - np.min(Is_conv))/2\n",
    "    \n",
    "    Imax = np.max(Is)\n",
    "    Imax_conv = np.max(Is_conv)\n",
    "\n",
    "    Vmax = Vs[np.argmax(Is)]\n",
    "    Vmax_conv = Vs[np.argmax(Is_conv)]\n",
    "    \n",
    "    R0s.append( Vmax/Imax )\n",
    "    R0s_conv.append( Vmax_conv/Imax_conv )\n",
    "    \n",
    "    \n",
    "    \n",
    "    Isws.append(Imax)\n",
    "    Isws_conv.append(Imax_conv)\n",
    "    \n",
    "\n",
    "    \n"
   ]
  },
  {
   "cell_type": "code",
   "execution_count": 9,
   "metadata": {},
   "outputs": [
    {
     "data": {
      "text/html": [
       "<div>\n",
       "<style scoped>\n",
       "    .dataframe tbody tr th:only-of-type {\n",
       "        vertical-align: middle;\n",
       "    }\n",
       "\n",
       "    .dataframe tbody tr th {\n",
       "        vertical-align: top;\n",
       "    }\n",
       "\n",
       "    .dataframe thead th {\n",
       "        text-align: right;\n",
       "    }\n",
       "</style>\n",
       "<table border=\"1\" class=\"dataframe\">\n",
       "  <thead>\n",
       "    <tr style=\"text-align: right;\">\n",
       "      <th></th>\n",
       "      <th>Vo_tot</th>\n",
       "      <th>Rn_tot</th>\n",
       "      <th>Isw</th>\n",
       "      <th>Ro_tot</th>\n",
       "      <th>RoFF</th>\n",
       "      <th>N</th>\n",
       "      <th>Npar</th>\n",
       "      <th>dsgn</th>\n",
       "      <th>Ajj</th>\n",
       "      <th>status</th>\n",
       "      <th>Rn</th>\n",
       "      <th>Ro</th>\n",
       "      <th>Ec</th>\n",
       "      <th>Ej</th>\n",
       "      <th>Iab</th>\n",
       "      <th>wp</th>\n",
       "    </tr>\n",
       "  </thead>\n",
       "  <tbody>\n",
       "    <tr>\n",
       "      <th>D055B1N9</th>\n",
       "      <td>219.0u</td>\n",
       "      <td>121.0k</td>\n",
       "      <td>154.0p</td>\n",
       "      <td>905.0k</td>\n",
       "      <td>666.8M</td>\n",
       "      <td>20</td>\n",
       "      <td>2</td>\n",
       "      <td>Fin</td>\n",
       "      <td>40.0f</td>\n",
       "      <td>measd_lv</td>\n",
       "      <td>6.0k</td>\n",
       "      <td>45.2k</td>\n",
       "      <td>185.9m</td>\n",
       "      <td>1.1</td>\n",
       "      <td>47.0n</td>\n",
       "      <td>1.3</td>\n",
       "    </tr>\n",
       "    <tr>\n",
       "      <th>D059B6N3</th>\n",
       "      <td>195.5u</td>\n",
       "      <td>90.8k</td>\n",
       "      <td>2.0n</td>\n",
       "      <td>72.6k</td>\n",
       "      <td>25.9M</td>\n",
       "      <td>20</td>\n",
       "      <td>2</td>\n",
       "      <td>Fin</td>\n",
       "      <td>40.0f</td>\n",
       "      <td>measd_lv</td>\n",
       "      <td>4.5k</td>\n",
       "      <td>3.6k</td>\n",
       "      <td>185.9m</td>\n",
       "      <td>1.5</td>\n",
       "      <td>62.6n</td>\n",
       "      <td>1.5</td>\n",
       "    </tr>\n",
       "    <tr>\n",
       "      <th>D059B0N1</th>\n",
       "      <td>320.0n</td>\n",
       "      <td>9.4k</td>\n",
       "      <td>3.9n</td>\n",
       "      <td>99.7</td>\n",
       "      <td>1.6G</td>\n",
       "      <td>2</td>\n",
       "      <td>2</td>\n",
       "      <td>Fin</td>\n",
       "      <td>40.0f</td>\n",
       "      <td>measd_lv</td>\n",
       "      <td>4.7k</td>\n",
       "      <td>49.8</td>\n",
       "      <td>185.9m</td>\n",
       "      <td>1.4</td>\n",
       "      <td>60.5n</td>\n",
       "      <td>1.5</td>\n",
       "    </tr>\n",
       "    <tr>\n",
       "      <th>D059BBN2</th>\n",
       "      <td>1.4m</td>\n",
       "      <td>1.8M</td>\n",
       "      <td>320.0f</td>\n",
       "      <td>236.7M</td>\n",
       "      <td>903.2M</td>\n",
       "      <td>20</td>\n",
       "      <td>2</td>\n",
       "      <td>Fin</td>\n",
       "      <td>40.0f</td>\n",
       "      <td>fabd</td>\n",
       "      <td>87.5k</td>\n",
       "      <td>11.8M</td>\n",
       "      <td>185.9m</td>\n",
       "      <td>77.4m</td>\n",
       "      <td>3.2n</td>\n",
       "      <td>339.4m</td>\n",
       "    </tr>\n",
       "    <tr>\n",
       "      <th>D062B3N2</th>\n",
       "      <td>2.5m</td>\n",
       "      <td>993.0k</td>\n",
       "      <td>21.0p</td>\n",
       "      <td>4.3M</td>\n",
       "      <td>893.1M</td>\n",
       "      <td>20</td>\n",
       "      <td>2</td>\n",
       "      <td>Fin</td>\n",
       "      <td>40.0f</td>\n",
       "      <td>fabd</td>\n",
       "      <td>49.6k</td>\n",
       "      <td>216.0k</td>\n",
       "      <td>185.9m</td>\n",
       "      <td>136.5m</td>\n",
       "      <td>5.7n</td>\n",
       "      <td>450.5m</td>\n",
       "    </tr>\n",
       "    <tr>\n",
       "      <th>D060B2N6</th>\n",
       "      <td>3.3m</td>\n",
       "      <td>664.0k</td>\n",
       "      <td>1.2p</td>\n",
       "      <td>22.9M</td>\n",
       "      <td>958.7M</td>\n",
       "      <td>20</td>\n",
       "      <td>2</td>\n",
       "      <td>Fin</td>\n",
       "      <td>40.0f</td>\n",
       "      <td>fabd</td>\n",
       "      <td>33.2k</td>\n",
       "      <td>1.1M</td>\n",
       "      <td>185.9m</td>\n",
       "      <td>204.1m</td>\n",
       "      <td>8.6n</td>\n",
       "      <td>551.0m</td>\n",
       "    </tr>\n",
       "    <tr>\n",
       "      <th>D060B2N2</th>\n",
       "      <td>318.6u</td>\n",
       "      <td>119.0k</td>\n",
       "      <td>2.7p</td>\n",
       "      <td>29.1M</td>\n",
       "      <td>920.9M</td>\n",
       "      <td>4</td>\n",
       "      <td>2</td>\n",
       "      <td>Fin</td>\n",
       "      <td>40.0f</td>\n",
       "      <td>fabd</td>\n",
       "      <td>29.8k</td>\n",
       "      <td>7.3M</td>\n",
       "      <td>185.9m</td>\n",
       "      <td>227.8m</td>\n",
       "      <td>9.6n</td>\n",
       "      <td>582.0m</td>\n",
       "    </tr>\n",
       "    <tr>\n",
       "      <th>D063BAN6_b</th>\n",
       "      <td>5.0m</td>\n",
       "      <td>594.0k</td>\n",
       "      <td>20.0p</td>\n",
       "      <td>7.7M</td>\n",
       "      <td>935.0M</td>\n",
       "      <td>30</td>\n",
       "      <td>2</td>\n",
       "      <td>x_s</td>\n",
       "      <td>40.0f</td>\n",
       "      <td>fabd</td>\n",
       "      <td>19.8k</td>\n",
       "      <td>257.2k</td>\n",
       "      <td>185.9m</td>\n",
       "      <td>342.2m</td>\n",
       "      <td>14.4n</td>\n",
       "      <td>713.4m</td>\n",
       "    </tr>\n",
       "    <tr>\n",
       "      <th>D063BAN6_a</th>\n",
       "      <td>3.1m</td>\n",
       "      <td>585.0k</td>\n",
       "      <td>22.0p</td>\n",
       "      <td>265.0k</td>\n",
       "      <td>13.8M</td>\n",
       "      <td>30</td>\n",
       "      <td>2</td>\n",
       "      <td>x_s</td>\n",
       "      <td>4.0p</td>\n",
       "      <td>fabd</td>\n",
       "      <td>19.5k</td>\n",
       "      <td>8.8k</td>\n",
       "      <td>2.3m</td>\n",
       "      <td>347.5m</td>\n",
       "      <td>14.6n</td>\n",
       "      <td>79.4m</td>\n",
       "    </tr>\n",
       "    <tr>\n",
       "      <th>D066B8N5_b</th>\n",
       "      <td>1.7m</td>\n",
       "      <td>66.1k</td>\n",
       "      <td>5.4n</td>\n",
       "      <td>851.0</td>\n",
       "      <td>146.3M</td>\n",
       "      <td>30</td>\n",
       "      <td>2</td>\n",
       "      <td>x_s</td>\n",
       "      <td>40.0f</td>\n",
       "      <td>fabd</td>\n",
       "      <td>2.2k</td>\n",
       "      <td>28.4</td>\n",
       "      <td>185.9m</td>\n",
       "      <td>3.1</td>\n",
       "      <td>129.0n</td>\n",
       "      <td>2.1</td>\n",
       "    </tr>\n",
       "    <tr>\n",
       "      <th>D070B1N0</th>\n",
       "      <td>NaN</td>\n",
       "      <td>168.0k</td>\n",
       "      <td>160.0p</td>\n",
       "      <td>23.7k</td>\n",
       "      <td>NaN</td>\n",
       "      <td>15</td>\n",
       "      <td>2</td>\n",
       "      <td>x_L</td>\n",
       "      <td>4.0p</td>\n",
       "      <td>measd</td>\n",
       "      <td>11.2k</td>\n",
       "      <td>1.6k</td>\n",
       "      <td>2.3m</td>\n",
       "      <td>605.0m</td>\n",
       "      <td>25.4n</td>\n",
       "      <td>104.8m</td>\n",
       "    </tr>\n",
       "    <tr>\n",
       "      <th>D079N6</th>\n",
       "      <td>164.5u</td>\n",
       "      <td>1.4k</td>\n",
       "      <td>137.0n</td>\n",
       "      <td>2.2</td>\n",
       "      <td>NaN</td>\n",
       "      <td>1</td>\n",
       "      <td>2</td>\n",
       "      <td>x_L</td>\n",
       "      <td>3.7p</td>\n",
       "      <td>measd</td>\n",
       "      <td>1.4k</td>\n",
       "      <td>2.2</td>\n",
       "      <td>2.4m</td>\n",
       "      <td>4.7</td>\n",
       "      <td>196.0n</td>\n",
       "      <td>301.0m</td>\n",
       "    </tr>\n",
       "    <tr>\n",
       "      <th>D079N5</th>\n",
       "      <td>2.0m</td>\n",
       "      <td>23.3k</td>\n",
       "      <td>5.6n</td>\n",
       "      <td>307.0</td>\n",
       "      <td>NaN</td>\n",
       "      <td>15</td>\n",
       "      <td>2</td>\n",
       "      <td>x_L</td>\n",
       "      <td>3.7p</td>\n",
       "      <td>fabd</td>\n",
       "      <td>1.6k</td>\n",
       "      <td>20.5</td>\n",
       "      <td>2.4m</td>\n",
       "      <td>4.4</td>\n",
       "      <td>183.0n</td>\n",
       "      <td>290.8m</td>\n",
       "    </tr>\n",
       "    <tr>\n",
       "      <th>D074N4</th>\n",
       "      <td>2.0m</td>\n",
       "      <td>13.5k</td>\n",
       "      <td>9.0n</td>\n",
       "      <td>1.0</td>\n",
       "      <td>NaN</td>\n",
       "      <td>9</td>\n",
       "      <td>2</td>\n",
       "      <td>x_L</td>\n",
       "      <td>2.2p</td>\n",
       "      <td>measd</td>\n",
       "      <td>1.5k</td>\n",
       "      <td>111.1m</td>\n",
       "      <td>4.0m</td>\n",
       "      <td>4.5</td>\n",
       "      <td>189.5n</td>\n",
       "      <td>380.1m</td>\n",
       "    </tr>\n",
       "    <tr>\n",
       "      <th>D078N0</th>\n",
       "      <td>1.9m</td>\n",
       "      <td>254.0k</td>\n",
       "      <td>37.1p</td>\n",
       "      <td>10.0k</td>\n",
       "      <td>NaN</td>\n",
       "      <td>15</td>\n",
       "      <td>2</td>\n",
       "      <td>x_L</td>\n",
       "      <td>4.0p</td>\n",
       "      <td>measd</td>\n",
       "      <td>16.9k</td>\n",
       "      <td>666.7</td>\n",
       "      <td>2.3m</td>\n",
       "      <td>400.1m</td>\n",
       "      <td>16.8n</td>\n",
       "      <td>85.2m</td>\n",
       "    </tr>\n",
       "    <tr>\n",
       "      <th>D078N5</th>\n",
       "      <td>96.8u</td>\n",
       "      <td>16.7k</td>\n",
       "      <td>800.0p</td>\n",
       "      <td>100.0k</td>\n",
       "      <td>NaN</td>\n",
       "      <td>1</td>\n",
       "      <td>2</td>\n",
       "      <td>x_L</td>\n",
       "      <td>4.0p</td>\n",
       "      <td>measd</td>\n",
       "      <td>16.7k</td>\n",
       "      <td>100.0k</td>\n",
       "      <td>2.3m</td>\n",
       "      <td>405.7m</td>\n",
       "      <td>17.0n</td>\n",
       "      <td>85.8m</td>\n",
       "    </tr>\n",
       "    <tr>\n",
       "      <th>D059BBN1</th>\n",
       "      <td>0.0y</td>\n",
       "      <td>745.0k</td>\n",
       "      <td>600.0f</td>\n",
       "      <td>240.0M</td>\n",
       "      <td>NaN</td>\n",
       "      <td>20</td>\n",
       "      <td>2</td>\n",
       "      <td>x_L</td>\n",
       "      <td>4.0p</td>\n",
       "      <td>fabd</td>\n",
       "      <td>37.2k</td>\n",
       "      <td>12.0M</td>\n",
       "      <td>2.3m</td>\n",
       "      <td>181.9m</td>\n",
       "      <td>7.6n</td>\n",
       "      <td>57.4m</td>\n",
       "    </tr>\n",
       "    <tr>\n",
       "      <th>D059BBN2_n</th>\n",
       "      <td>0.0y</td>\n",
       "      <td>2.0M</td>\n",
       "      <td>NaN</td>\n",
       "      <td>NaN</td>\n",
       "      <td>NaN</td>\n",
       "      <td>20</td>\n",
       "      <td>2</td>\n",
       "      <td>x_L</td>\n",
       "      <td>22.5f</td>\n",
       "      <td>fabd</td>\n",
       "      <td>97.5k</td>\n",
       "      <td>NaN</td>\n",
       "      <td>309.9m</td>\n",
       "      <td>69.5m</td>\n",
       "      <td>2.9n</td>\n",
       "      <td>415.1m</td>\n",
       "    </tr>\n",
       "    <tr>\n",
       "      <th>D059BBN8</th>\n",
       "      <td>0.0y</td>\n",
       "      <td>1.8M</td>\n",
       "      <td>750.0f</td>\n",
       "      <td>50.0M</td>\n",
       "      <td>NaN</td>\n",
       "      <td>20</td>\n",
       "      <td>2</td>\n",
       "      <td>x_L</td>\n",
       "      <td>4.0p</td>\n",
       "      <td>fabd</td>\n",
       "      <td>89.0k</td>\n",
       "      <td>2.5M</td>\n",
       "      <td>2.3m</td>\n",
       "      <td>76.1m</td>\n",
       "      <td>3.2n</td>\n",
       "      <td>37.2m</td>\n",
       "    </tr>\n",
       "    <tr>\n",
       "      <th>D053N2</th>\n",
       "      <td>1.6m</td>\n",
       "      <td>8.9k</td>\n",
       "      <td>90.6n</td>\n",
       "      <td>734.0</td>\n",
       "      <td>NaN</td>\n",
       "      <td>20</td>\n",
       "      <td>2</td>\n",
       "      <td>Fin</td>\n",
       "      <td>40.0f</td>\n",
       "      <td>measd_lv</td>\n",
       "      <td>445.0</td>\n",
       "      <td>36.7</td>\n",
       "      <td>185.9m</td>\n",
       "      <td>15.2</td>\n",
       "      <td>638.8n</td>\n",
       "      <td>4.8</td>\n",
       "    </tr>\n",
       "    <tr>\n",
       "      <th>D053N4</th>\n",
       "      <td>353.0u</td>\n",
       "      <td>5.3k</td>\n",
       "      <td>20.0n</td>\n",
       "      <td>17.7k</td>\n",
       "      <td>NaN</td>\n",
       "      <td>20</td>\n",
       "      <td>2</td>\n",
       "      <td>Fin</td>\n",
       "      <td>40.0f</td>\n",
       "      <td>measd_lv</td>\n",
       "      <td>265.0</td>\n",
       "      <td>885.0</td>\n",
       "      <td>185.9m</td>\n",
       "      <td>25.6</td>\n",
       "      <td>1.1u</td>\n",
       "      <td>6.2</td>\n",
       "    </tr>\n",
       "    <tr>\n",
       "      <th>D053N7</th>\n",
       "      <td>333.0u</td>\n",
       "      <td>10.0k</td>\n",
       "      <td>10.0n</td>\n",
       "      <td>33.3k</td>\n",
       "      <td>NaN</td>\n",
       "      <td>20</td>\n",
       "      <td>2</td>\n",
       "      <td>Fin</td>\n",
       "      <td>40.0f</td>\n",
       "      <td>measd_lv</td>\n",
       "      <td>500.0</td>\n",
       "      <td>1.7k</td>\n",
       "      <td>185.9m</td>\n",
       "      <td>13.6</td>\n",
       "      <td>568.5n</td>\n",
       "      <td>4.5</td>\n",
       "    </tr>\n",
       "    <tr>\n",
       "      <th>D055B1N2</th>\n",
       "      <td>219.0u</td>\n",
       "      <td>80.1k</td>\n",
       "      <td>110.0p</td>\n",
       "      <td>558.0k</td>\n",
       "      <td>NaN</td>\n",
       "      <td>20</td>\n",
       "      <td>2</td>\n",
       "      <td>Fin</td>\n",
       "      <td>40.0f</td>\n",
       "      <td>measd_lv</td>\n",
       "      <td>4.0k</td>\n",
       "      <td>27.9k</td>\n",
       "      <td>185.9m</td>\n",
       "      <td>1.7</td>\n",
       "      <td>71.0n</td>\n",
       "      <td>1.6</td>\n",
       "    </tr>\n",
       "    <tr>\n",
       "      <th>D055B1N4</th>\n",
       "      <td>450.0u</td>\n",
       "      <td>157.9k</td>\n",
       "      <td>64.0p</td>\n",
       "      <td>3.6M</td>\n",
       "      <td>NaN</td>\n",
       "      <td>20</td>\n",
       "      <td>2</td>\n",
       "      <td>Fin</td>\n",
       "      <td>40.0f</td>\n",
       "      <td>measd_lv</td>\n",
       "      <td>7.9k</td>\n",
       "      <td>179.4k</td>\n",
       "      <td>185.9m</td>\n",
       "      <td>858.2m</td>\n",
       "      <td>36.0n</td>\n",
       "      <td>1.1</td>\n",
       "    </tr>\n",
       "    <tr>\n",
       "      <th>D055B1N5</th>\n",
       "      <td>103.0u</td>\n",
       "      <td>108.7k</td>\n",
       "      <td>59.0p</td>\n",
       "      <td>1.3M</td>\n",
       "      <td>NaN</td>\n",
       "      <td>20</td>\n",
       "      <td>2</td>\n",
       "      <td>Fin</td>\n",
       "      <td>40.0f</td>\n",
       "      <td>measd_lv</td>\n",
       "      <td>5.4k</td>\n",
       "      <td>64.1k</td>\n",
       "      <td>185.9m</td>\n",
       "      <td>1.2</td>\n",
       "      <td>52.3n</td>\n",
       "      <td>1.4</td>\n",
       "    </tr>\n",
       "    <tr>\n",
       "      <th>D057B1N6</th>\n",
       "      <td>96.8u</td>\n",
       "      <td>92.4k</td>\n",
       "      <td>700.0p</td>\n",
       "      <td>114.5</td>\n",
       "      <td>NaN</td>\n",
       "      <td>20</td>\n",
       "      <td>2</td>\n",
       "      <td>Fin</td>\n",
       "      <td>40.0f</td>\n",
       "      <td>measd_lv</td>\n",
       "      <td>4.6k</td>\n",
       "      <td>5.7</td>\n",
       "      <td>185.9m</td>\n",
       "      <td>1.5</td>\n",
       "      <td>61.5n</td>\n",
       "      <td>1.5</td>\n",
       "    </tr>\n",
       "    <tr>\n",
       "      <th>D057B1N7</th>\n",
       "      <td>68.0u</td>\n",
       "      <td>NaN</td>\n",
       "      <td>700.0p</td>\n",
       "      <td>123.5k</td>\n",
       "      <td>NaN</td>\n",
       "      <td>20</td>\n",
       "      <td>2</td>\n",
       "      <td>Fin</td>\n",
       "      <td>40.0f</td>\n",
       "      <td>measd_lv</td>\n",
       "      <td>NaN</td>\n",
       "      <td>6.2k</td>\n",
       "      <td>185.9m</td>\n",
       "      <td>NaN</td>\n",
       "      <td>NaN</td>\n",
       "      <td>NaN</td>\n",
       "    </tr>\n",
       "    <tr>\n",
       "      <th>D057B1N8</th>\n",
       "      <td>306.5u</td>\n",
       "      <td>157.9k</td>\n",
       "      <td>2.6n</td>\n",
       "      <td>112.2k</td>\n",
       "      <td>NaN</td>\n",
       "      <td>20</td>\n",
       "      <td>2</td>\n",
       "      <td>Fin</td>\n",
       "      <td>40.0f</td>\n",
       "      <td>measd_lv</td>\n",
       "      <td>7.9k</td>\n",
       "      <td>5.6k</td>\n",
       "      <td>185.9m</td>\n",
       "      <td>858.2m</td>\n",
       "      <td>36.0n</td>\n",
       "      <td>1.1</td>\n",
       "    </tr>\n",
       "    <tr>\n",
       "      <th>D057B1N9</th>\n",
       "      <td>134.5u</td>\n",
       "      <td>NaN</td>\n",
       "      <td>575.0p</td>\n",
       "      <td>206.0k</td>\n",
       "      <td>NaN</td>\n",
       "      <td>20</td>\n",
       "      <td>2</td>\n",
       "      <td>Fin</td>\n",
       "      <td>40.0f</td>\n",
       "      <td>measd_lv</td>\n",
       "      <td>NaN</td>\n",
       "      <td>10.3k</td>\n",
       "      <td>185.9m</td>\n",
       "      <td>NaN</td>\n",
       "      <td>NaN</td>\n",
       "      <td>NaN</td>\n",
       "    </tr>\n",
       "    <tr>\n",
       "      <th>D059B6N5</th>\n",
       "      <td>133.0u</td>\n",
       "      <td>86.2k</td>\n",
       "      <td>1.4n</td>\n",
       "      <td>80.4k</td>\n",
       "      <td>NaN</td>\n",
       "      <td>20</td>\n",
       "      <td>2</td>\n",
       "      <td>Fin</td>\n",
       "      <td>40.0f</td>\n",
       "      <td>measd_lv</td>\n",
       "      <td>4.3k</td>\n",
       "      <td>4.0k</td>\n",
       "      <td>185.9m</td>\n",
       "      <td>1.6</td>\n",
       "      <td>66.0n</td>\n",
       "      <td>1.5</td>\n",
       "    </tr>\n",
       "    <tr>\n",
       "      <th>D059B6N7</th>\n",
       "      <td>173.2u</td>\n",
       "      <td>78.0k</td>\n",
       "      <td>1.8n</td>\n",
       "      <td>80.9k</td>\n",
       "      <td>NaN</td>\n",
       "      <td>20</td>\n",
       "      <td>2</td>\n",
       "      <td>Fin</td>\n",
       "      <td>40.0f</td>\n",
       "      <td>measd_lv</td>\n",
       "      <td>3.9k</td>\n",
       "      <td>4.0k</td>\n",
       "      <td>185.9m</td>\n",
       "      <td>1.7</td>\n",
       "      <td>72.9n</td>\n",
       "      <td>1.6</td>\n",
       "    </tr>\n",
       "    <tr>\n",
       "      <th>D059B6N8</th>\n",
       "      <td>162.4u</td>\n",
       "      <td>88.1k</td>\n",
       "      <td>1.6n</td>\n",
       "      <td>65.9k</td>\n",
       "      <td>NaN</td>\n",
       "      <td>20</td>\n",
       "      <td>2</td>\n",
       "      <td>Fin</td>\n",
       "      <td>40.0f</td>\n",
       "      <td>measd_lv</td>\n",
       "      <td>4.4k</td>\n",
       "      <td>3.3k</td>\n",
       "      <td>185.9m</td>\n",
       "      <td>1.5</td>\n",
       "      <td>64.5n</td>\n",
       "      <td>1.5</td>\n",
       "    </tr>\n",
       "  </tbody>\n",
       "</table>\n",
       "</div>"
      ],
      "text/plain": [
       "            Vo_tot  Rn_tot     Isw  Ro_tot    RoFF   N  Npar dsgn    Ajj  \\\n",
       "D055B1N9    219.0u  121.0k  154.0p  905.0k  666.8M  20     2  Fin  40.0f   \n",
       "D059B6N3    195.5u   90.8k    2.0n   72.6k   25.9M  20     2  Fin  40.0f   \n",
       "D059B0N1    320.0n    9.4k    3.9n    99.7    1.6G   2     2  Fin  40.0f   \n",
       "D059BBN2      1.4m    1.8M  320.0f  236.7M  903.2M  20     2  Fin  40.0f   \n",
       "D062B3N2      2.5m  993.0k   21.0p    4.3M  893.1M  20     2  Fin  40.0f   \n",
       "D060B2N6      3.3m  664.0k    1.2p   22.9M  958.7M  20     2  Fin  40.0f   \n",
       "D060B2N2    318.6u  119.0k    2.7p   29.1M  920.9M   4     2  Fin  40.0f   \n",
       "D063BAN6_b    5.0m  594.0k   20.0p    7.7M  935.0M  30     2  x_s  40.0f   \n",
       "D063BAN6_a    3.1m  585.0k   22.0p  265.0k   13.8M  30     2  x_s   4.0p   \n",
       "D066B8N5_b    1.7m   66.1k    5.4n   851.0  146.3M  30     2  x_s  40.0f   \n",
       "D070B1N0       NaN  168.0k  160.0p   23.7k     NaN  15     2  x_L   4.0p   \n",
       "D079N6      164.5u    1.4k  137.0n     2.2     NaN   1     2  x_L   3.7p   \n",
       "D079N5        2.0m   23.3k    5.6n   307.0     NaN  15     2  x_L   3.7p   \n",
       "D074N4        2.0m   13.5k    9.0n     1.0     NaN   9     2  x_L   2.2p   \n",
       "D078N0        1.9m  254.0k   37.1p   10.0k     NaN  15     2  x_L   4.0p   \n",
       "D078N5       96.8u   16.7k  800.0p  100.0k     NaN   1     2  x_L   4.0p   \n",
       "D059BBN1      0.0y  745.0k  600.0f  240.0M     NaN  20     2  x_L   4.0p   \n",
       "D059BBN2_n    0.0y    2.0M     NaN     NaN     NaN  20     2  x_L  22.5f   \n",
       "D059BBN8      0.0y    1.8M  750.0f   50.0M     NaN  20     2  x_L   4.0p   \n",
       "D053N2        1.6m    8.9k   90.6n   734.0     NaN  20     2  Fin  40.0f   \n",
       "D053N4      353.0u    5.3k   20.0n   17.7k     NaN  20     2  Fin  40.0f   \n",
       "D053N7      333.0u   10.0k   10.0n   33.3k     NaN  20     2  Fin  40.0f   \n",
       "D055B1N2    219.0u   80.1k  110.0p  558.0k     NaN  20     2  Fin  40.0f   \n",
       "D055B1N4    450.0u  157.9k   64.0p    3.6M     NaN  20     2  Fin  40.0f   \n",
       "D055B1N5    103.0u  108.7k   59.0p    1.3M     NaN  20     2  Fin  40.0f   \n",
       "D057B1N6     96.8u   92.4k  700.0p   114.5     NaN  20     2  Fin  40.0f   \n",
       "D057B1N7     68.0u     NaN  700.0p  123.5k     NaN  20     2  Fin  40.0f   \n",
       "D057B1N8    306.5u  157.9k    2.6n  112.2k     NaN  20     2  Fin  40.0f   \n",
       "D057B1N9    134.5u     NaN  575.0p  206.0k     NaN  20     2  Fin  40.0f   \n",
       "D059B6N5    133.0u   86.2k    1.4n   80.4k     NaN  20     2  Fin  40.0f   \n",
       "D059B6N7    173.2u   78.0k    1.8n   80.9k     NaN  20     2  Fin  40.0f   \n",
       "D059B6N8    162.4u   88.1k    1.6n   65.9k     NaN  20     2  Fin  40.0f   \n",
       "\n",
       "              status     Rn      Ro      Ec      Ej     Iab      wp  \n",
       "D055B1N9    measd_lv   6.0k   45.2k  185.9m     1.1   47.0n     1.3  \n",
       "D059B6N3    measd_lv   4.5k    3.6k  185.9m     1.5   62.6n     1.5  \n",
       "D059B0N1    measd_lv   4.7k    49.8  185.9m     1.4   60.5n     1.5  \n",
       "D059BBN2        fabd  87.5k   11.8M  185.9m   77.4m    3.2n  339.4m  \n",
       "D062B3N2        fabd  49.6k  216.0k  185.9m  136.5m    5.7n  450.5m  \n",
       "D060B2N6        fabd  33.2k    1.1M  185.9m  204.1m    8.6n  551.0m  \n",
       "D060B2N2        fabd  29.8k    7.3M  185.9m  227.8m    9.6n  582.0m  \n",
       "D063BAN6_b      fabd  19.8k  257.2k  185.9m  342.2m   14.4n  713.4m  \n",
       "D063BAN6_a      fabd  19.5k    8.8k    2.3m  347.5m   14.6n   79.4m  \n",
       "D066B8N5_b      fabd   2.2k    28.4  185.9m     3.1  129.0n     2.1  \n",
       "D070B1N0       measd  11.2k    1.6k    2.3m  605.0m   25.4n  104.8m  \n",
       "D079N6         measd   1.4k     2.2    2.4m     4.7  196.0n  301.0m  \n",
       "D079N5          fabd   1.6k    20.5    2.4m     4.4  183.0n  290.8m  \n",
       "D074N4         measd   1.5k  111.1m    4.0m     4.5  189.5n  380.1m  \n",
       "D078N0         measd  16.9k   666.7    2.3m  400.1m   16.8n   85.2m  \n",
       "D078N5         measd  16.7k  100.0k    2.3m  405.7m   17.0n   85.8m  \n",
       "D059BBN1        fabd  37.2k   12.0M    2.3m  181.9m    7.6n   57.4m  \n",
       "D059BBN2_n      fabd  97.5k     NaN  309.9m   69.5m    2.9n  415.1m  \n",
       "D059BBN8        fabd  89.0k    2.5M    2.3m   76.1m    3.2n   37.2m  \n",
       "D053N2      measd_lv  445.0    36.7  185.9m    15.2  638.8n     4.8  \n",
       "D053N4      measd_lv  265.0   885.0  185.9m    25.6    1.1u     6.2  \n",
       "D053N7      measd_lv  500.0    1.7k  185.9m    13.6  568.5n     4.5  \n",
       "D055B1N2    measd_lv   4.0k   27.9k  185.9m     1.7   71.0n     1.6  \n",
       "D055B1N4    measd_lv   7.9k  179.4k  185.9m  858.2m   36.0n     1.1  \n",
       "D055B1N5    measd_lv   5.4k   64.1k  185.9m     1.2   52.3n     1.4  \n",
       "D057B1N6    measd_lv   4.6k     5.7  185.9m     1.5   61.5n     1.5  \n",
       "D057B1N7    measd_lv    NaN    6.2k  185.9m     NaN     NaN     NaN  \n",
       "D057B1N8    measd_lv   7.9k    5.6k  185.9m  858.2m   36.0n     1.1  \n",
       "D057B1N9    measd_lv    NaN   10.3k  185.9m     NaN     NaN     NaN  \n",
       "D059B6N5    measd_lv   4.3k    4.0k  185.9m     1.6   66.0n     1.5  \n",
       "D059B6N7    measd_lv   3.9k    4.0k  185.9m     1.7   72.9n     1.6  \n",
       "D059B6N8    measd_lv   4.4k    3.3k  185.9m     1.5   64.5n     1.5  "
      ]
     },
     "execution_count": 9,
     "metadata": {},
     "output_type": "execute_result"
    }
   ],
   "source": [
    "ft = pd.read_excel(\"chain table.xlsx\", index_col = 0)\n",
    "\n",
    "ft"
   ]
  },
  {
   "cell_type": "code",
   "execution_count": 5,
   "metadata": {},
   "outputs": [
    {
     "name": "stderr",
     "output_type": "stream",
     "text": [
      "D:\\anaconda\\lib\\site-packages\\qcodes\\dataset\\database.py:13: UserWarning: The module `qcodes.dataset.database` is deprecated.\n",
      "Public features are available at the import of `qcodes`.\n",
      "Private features are available in `qcodes.dataset.sqlite.*` modules.\n",
      "  warnings.warn('The module `qcodes.dataset.database` is deprecated.\\n'\n",
      "D:\\anaconda\\lib\\site-packages\\tqdm\\autonotebook\\__init__.py:14: TqdmExperimentalWarning: Using `tqdm.autonotebook.tqdm` in notebook mode. Use `tqdm.tqdm` instead to force console mode (e.g. in jupyter console)\n",
      "  \" (e.g. in jupyter console)\", TqdmExperimentalWarning)\n"
     ]
    }
   ],
   "source": [
    "import sys \n",
    "sys.path.append('..\\measDC\\_jjtools')\n",
    "\n",
    "# from Exps import *\n",
    "\n",
    "from JJ_data_processing import read_opj_data, pbi, bpbi, show_df, update_df\n",
    "from JJ_data_processing import xy_by_id,extract_Isw_R0_by_id\n",
    "\n",
    "\n",
    "from JJformulas import *\n",
    "from meas_util import *\n",
    "\n",
    "from JJmeasurement import *"
   ]
  },
  {
   "cell_type": "code",
   "execution_count": 6,
   "metadata": {},
   "outputs": [],
   "source": [
    "import os\n",
    "\n",
    "jj = JJmeas(sample = 'D070B1N5v1')\n",
    "\n",
    "jj.db_connect()\n",
    "jj.ZF   = -0.093e-3\n",
    "jj.FF   = 0.130e-3\n",
    "\n"
   ]
  },
  {
   "cell_type": "code",
   "execution_count": 7,
   "metadata": {},
   "outputs": [
    {
     "name": "stderr",
     "output_type": "stream",
     "text": [
      "e:\\OneDrive - Rutgers University\\files_GitHub\\JJ_arrays\\JJ_data_processing.py:285: RuntimeWarning: invalid value encountered in less\n",
      "  ind1 = np.where(np.abs(vA0) < dx )\n"
     ]
    },
    {
     "data": {
      "application/vnd.jupyter.widget-view+json": {
       "model_id": "5a13666b3ba149b282be642009ef826e",
       "version_major": 2,
       "version_minor": 0
      },
      "text/plain": [
       "FigureCanvasNbAgg()"
      ]
     },
     "metadata": {},
     "output_type": "display_data"
    },
    {
     "data": {
      "text/plain": [
       "Text(0.5, 0, 'cos')"
      ]
     },
     "execution_count": 7,
     "metadata": {},
     "output_type": "execute_result"
    }
   ],
   "source": [
    "B_list = np.linspace(-.4e-3, .2e-3, 121)\n",
    "\n",
    "ZF   = -0.093e-3\n",
    "FF   = 0.130e-3\n",
    " \n",
    "cos_list = abs (np.cos(np.pi/2 *(B_list - ZF)/(FF - ZF)))\n",
    "\n",
    "ids = range(689,809+1)\n",
    "\n",
    "Ics_n5 = [2*extract_Isw_R0_by_id (idx, dy = 30e-6)[0] for idx in ids]\n",
    "R0s_n5 = [1/15*extract_Isw_R0_by_id (idx, dy = 30e-6)[1] for idx in ids]\n",
    "\n",
    "Ejs_n5 = 0.412*cos_list\n",
    "\n",
    "\n",
    "fig, (ax1, ax2) = plt.subplots(2,1, sharex = True)\n",
    "ax1.plot(cos_list, Ics_n5, 'o-')\n",
    "\n",
    "# fig, ax = plt.subplots()\n",
    "ax2.plot(cos_list, R0s_n5, 'o')\n",
    "ax2.set_yscale('log')\n",
    "\n",
    "ax1.set_ylabel('Isw, pA')\n",
    "ax2.set_ylabel('R0, Ohm')\n",
    "\n",
    "ax2.set_xlabel('cos')"
   ]
  },
  {
   "cell_type": "code",
   "execution_count": 8,
   "metadata": {
    "scrolled": false
   },
   "outputs": [
    {
     "ename": "NameError",
     "evalue": "name 'ft' is not defined",
     "output_type": "error",
     "traceback": [
      "\u001b[1;31m---------------------------------------------------------------------------\u001b[0m",
      "\u001b[1;31mNameError\u001b[0m                                 Traceback (most recent call last)",
      "\u001b[1;32m<ipython-input-8-b53fdf9c073a>\u001b[0m in \u001b[0;36m<module>\u001b[1;34m()\u001b[0m\n\u001b[0;32m      5\u001b[0m \u001b[0mcolormap\u001b[0m \u001b[1;33m=\u001b[0m \u001b[1;33m{\u001b[0m \u001b[1;34m'D05'\u001b[0m \u001b[1;33m:\u001b[0m \u001b[1;34m'C0'\u001b[0m\u001b[1;33m,\u001b[0m \u001b[1;34m'D06'\u001b[0m \u001b[1;33m:\u001b[0m \u001b[1;34m'C1'\u001b[0m\u001b[1;33m}\u001b[0m\u001b[1;33m\u001b[0m\u001b[0m\n\u001b[0;32m      6\u001b[0m \u001b[1;33m\u001b[0m\u001b[0m\n\u001b[1;32m----> 7\u001b[1;33m \u001b[0max\u001b[0m \u001b[1;33m=\u001b[0m \u001b[0mft\u001b[0m\u001b[1;33m.\u001b[0m\u001b[0mplot\u001b[0m\u001b[1;33m(\u001b[0m \u001b[0mx\u001b[0m \u001b[1;33m=\u001b[0m \u001b[1;34m'Ej'\u001b[0m\u001b[1;33m,\u001b[0m \u001b[0my\u001b[0m \u001b[1;33m=\u001b[0m \u001b[1;34m'Isw'\u001b[0m\u001b[1;33m,\u001b[0m \u001b[0mcolor\u001b[0m \u001b[1;33m=\u001b[0m\u001b[1;34m'k'\u001b[0m\u001b[1;33m,\u001b[0m \u001b[0mmarker\u001b[0m \u001b[1;33m=\u001b[0m \u001b[1;34m'D'\u001b[0m\u001b[1;33m,\u001b[0m \u001b[0mls\u001b[0m \u001b[1;33m=\u001b[0m \u001b[1;34m''\u001b[0m\u001b[1;33m)\u001b[0m\u001b[1;33m\u001b[0m\u001b[0m\n\u001b[0m\u001b[0;32m      8\u001b[0m \u001b[1;33m\u001b[0m\u001b[0m\n\u001b[0;32m      9\u001b[0m \u001b[1;32mfor\u001b[0m \u001b[0mdev_name\u001b[0m \u001b[1;32min\u001b[0m \u001b[0mft\u001b[0m\u001b[1;33m.\u001b[0m\u001b[0mindex\u001b[0m\u001b[1;33m:\u001b[0m\u001b[1;33m\u001b[0m\u001b[0m\n",
      "\u001b[1;31mNameError\u001b[0m: name 'ft' is not defined"
     ]
    }
   ],
   "source": [
    "#fig, ax = plt.subplots()    \n",
    "\n",
    "# ft = pd.read_excel(\"chain table.xlsx\")\n",
    "\n",
    "colormap = { 'D05' : 'C0', 'D06' : 'C1'}\n",
    "\n",
    "ax = ft.plot( x = 'Ej', y = 'Isw', color ='k', marker = 'D', ls = '')\n",
    "\n",
    "for dev_name in ft.index:\n",
    "#     print(dev_name)\n",
    "    dev = ft.loc[dev_name]\n",
    "#         dev = ft.loc[dev_name]\n",
    "    text = '{:d}_{}'.format(dev['N'],dev_name)\n",
    "#     ax.annotate( text, ( dev['Ej'], dev['Isw']), color = colormap.get(dev_name[:3], 'C2'))\n",
    "\n",
    "#     ax.annotate( text, ( dev['Ej'], dev['Isw']), color = colormap.get(dev_name[:3], 'C2'))\n",
    "   \n",
    "\n",
    "\n",
    "# for dev_name in ft.index:\n",
    "#     dev = ft.loc[dev_name]\n",
    "# #     text = '{:d}_{}'.format(dev['N'],dev_name)\n",
    "#     ax.annotate( text, ( dev['Ej'], dev['Isw']), color = colormap.get(dev_name[:3], 'C2'))\n",
    "    \n",
    "ax.set_xscale('log')\n",
    "ax.set_yscale('log')\n",
    "\n",
    "x, y = np.loadtxt('78N0.out')\n",
    "\n",
    "n = 20\n",
    "# ax.plot(x[:n],y[:n], 'o')\n",
    "\n",
    "\n",
    "\n",
    "ax.plot(EJ_list, Isws, label = 'cIZ')\n",
    "ax.plot(EJ_list, Isws_conv, label = 'cIZ + Vc_noise')\n",
    "\n",
    "ax.set_xscale('log')\n",
    "ax.set_yscale('log')\n",
    "\n",
    "\n",
    "# ax.plot(EJ0_exp, IcIAB_exp * EJ0_exp*kB/hbar*2*e, 'o')\n",
    "\n",
    "ax.plot(EJ_list,  EJ_list*kB/hbar*2*e, '--', label = '$A-B$')\n",
    "\n",
    "\n",
    "ax.plot(Ejs_n5, Ics_n5, 'o-', label = 'D070B1 N5')\n",
    "\n",
    "ax.plot(Ejs_79, Ics_79, 'o-', label = 'D079 N5')\n",
    "\n",
    "ax.legend()\n",
    "\n",
    "ax.set_xlabel('EJ, K')\n",
    "ax.set_ylabel('Isw, A')\n",
    "\n",
    "ax.set_title('Vc_noise = {:g} uV, T = {:g} K, Rb = {:g} Ohm'.format( Vc_noise*1e6, kT, Rsh))\n",
    "\n",
    "\n",
    "\n",
    "ax.plot([55e-3], [0.6e-12], marker = 's')\n",
    "\n",
    "ax.set_xlim(10e-3, 2)\n",
    "\n",
    "\n",
    "#fig, ax = plt.subplots()\n",
    "\n",
    "ax = ft.plot( x = 'Ej', y = 'Ro', color ='k', marker = 'D', ls = '')\n",
    "\n",
    "ax.plot(EJ_list, R0s, label = 'cIZ')\n",
    "ax.plot(EJ_list, R0s_conv, label = 'cIZ + Vc_noise')\n",
    "\n",
    "ax.plot(Ejs_n5, R0s_n5, 'o-', label = 'D070B1 N5')\n",
    "ax.plot(Ejs_79, R0s_79, 'o-', label = 'D079 N5')\n",
    "\n",
    "for dev_name in ft.index:\n",
    "    dev = ft.loc[dev_name]\n",
    "    text = '{:d}_{}'.format(dev['N'],dev_name)\n",
    "#     ax.annotate( text, ( dev['Ej'], dev['Ro']), color = colormap.get(dev_name[:3], 'C2'))\n",
    "\n",
    "# ax.plot(EJ0_exp, R0_exp, 'o')\n",
    "\n",
    "ax.set_xscale('log')\n",
    "ax.set_yscale('log')\n",
    "\n",
    "ax.set_xlabel('EJ, K')\n",
    "ax.set_ylabel('R0, Ohm')\n",
    "\n",
    "ax.set_title('Vc_noise = {:g} uV, T = {:g} K, Rb = {:g} Ohm'.format( Vc_noise*1e6, kT, Rsh))\n",
    "\n",
    "\n",
    "\n",
    "ax.legend()\n",
    "\n",
    "\n"
   ]
  },
  {
   "cell_type": "code",
   "execution_count": 13,
   "metadata": {},
   "outputs": [
    {
     "name": "stderr",
     "output_type": "stream",
     "text": [
      "D:\\anaconda\\lib\\site-packages\\numpy\\core\\fromnumeric.py:3118: RuntimeWarning: Mean of empty slice.\n",
      "  out=out, **kwargs)\n",
      "D:\\anaconda\\lib\\site-packages\\numpy\\core\\_methods.py:85: RuntimeWarning: invalid value encountered in double_scalars\n",
      "  ret = ret.dtype.type(ret / rcount)\n"
     ]
    }
   ],
   "source": [
    "jj79 = JJmeas(sample = 'D079N5')\n",
    "\n",
    "jj79.db_connect()\n",
    "\n",
    "cos_list_79 = np.linspace(1, 0, 51 )\n",
    "Ejs_79 = 4.14*cos_list_79\n",
    "\n",
    "\n",
    "ids = range(72,122+1)\n",
    "\n",
    "Ics_79 = [2*extract_Isw_R0_by_id (idx, dy = 30e-6)[0] for idx in ids]\n",
    "R0s_79 = [1/15*extract_Isw_R0_by_id (idx, dy = 30e-6)[1] for idx in ids]\n",
    "\n",
    "\n",
    "# fig, (ax1, ax2) = plt.subplots(2,1, sharex = True)\n",
    "# ax1.plot(cos_list, Ics, 'o-')\n",
    "\n",
    "# # fig, ax = plt.subplots()\n",
    "# ax2.plot(cos_list, R0s, 'o')\n",
    "# ax2.set_yscale('log')\n",
    "# ax1.set_yscale('log')"
   ]
  },
  {
   "cell_type": "code",
   "execution_count": null,
   "metadata": {},
   "outputs": [],
   "source": [
    "jj74 = JJmeas(sample = 'D074N3')\n",
    "\n",
    "jj74.db_connect()\n",
    "\n",
    "cos_list_74 = np.linspace(1, 0, 51 )\n",
    "Ejs_74 = 0.185*cos_list_74\n",
    "\n",
    "\n",
    "ids = range(  43,   93+1)\n",
    "\n",
    "Ics_74 = [2*extract_Isw_R0_by_id (idx, dy = 30e-6)[0] for idx in ids]\n",
    "R0s_74 = [1/15*extract_Isw_R0_by_id (idx, dy = 30e-6)[1] for idx in ids]\n",
    "\n",
    "\n",
    "# fig, (ax1, ax2) = plt.subplots(2,1, sharex = True)\n",
    "# ax1.plot(cos_list, Ics, 'o-')\n",
    "\n",
    "# # fig, ax = plt.subplots()\n",
    "# ax2.plot(cos_list, R0s, 'o')\n",
    "# ax2.set_yscale('log')\n",
    "# ax1.set_yscale('log')"
   ]
  },
  {
   "cell_type": "code",
   "execution_count": 63,
   "metadata": {},
   "outputs": [
    {
     "name": "stderr",
     "output_type": "stream",
     "text": [
      "e:\\OneDrive - Rutgers University\\files_GitHub\\JJ_arrays\\JJ_data_processing.py:165: RuntimeWarning: More than 20 figures have been opened. Figures created through the pyplot interface (`matplotlib.pyplot.figure`) are retained until explicitly closed and may consume too much memory. (To control this warning, see the rcParam `figure.max_open_warning`).\n",
      "  fig, ax = plt.subplots()\n"
     ]
    },
    {
     "data": {
      "application/vnd.jupyter.widget-view+json": {
       "model_id": "414bec52bd024b13b5cf4ed6ee49ebd9",
       "version_major": 2,
       "version_minor": 0
      },
      "text/plain": [
       "FigureCanvasNbAgg()"
      ]
     },
     "metadata": {},
     "output_type": "display_data"
    },
    {
     "name": "stderr",
     "output_type": "stream",
     "text": [
      "No handles with labels found to put in legend.\n"
     ]
    },
    {
     "data": {
      "text/plain": [
       "<matplotlib.axes._subplots.AxesSubplot at 0x1cfebda5d30>"
      ]
     },
     "execution_count": 63,
     "metadata": {},
     "output_type": "execute_result"
    }
   ],
   "source": [
    "jj74.bpbi(ids)"
   ]
  },
  {
   "cell_type": "code",
   "execution_count": 21,
   "metadata": {},
   "outputs": [
    {
     "data": {
      "text/plain": [
       "175253.37837837837"
      ]
     },
     "execution_count": 21,
     "metadata": {},
     "output_type": "execute_result"
    }
   ],
   "source": [
    "2*6.64e-34/4/(1.6e-19)**2/0.074"
   ]
  },
  {
   "cell_type": "code",
   "execution_count": null,
   "metadata": {},
   "outputs": [],
   "source": [
    "fig, ax = plt.subplots()\n",
    "\n",
    "\n",
    "ax.plot(EJ0_exp, R0_exp* IcIAB_exp * EJ0_exp*kB/hbar*2*e, 'o')\n",
    "\n",
    "ax.set_xscale('log')\n",
    "ax.set_yscale('log')\n",
    "\n",
    "ax.set_xlabel('EJ, K')\n",
    "ax.set_ylabel('R0*Isw, V')"
   ]
  },
  {
   "cell_type": "code",
   "execution_count": 15,
   "metadata": {},
   "outputs": [
    {
     "name": "stdout",
     "output_type": "stream",
     "text": [
      "1.4142135623730951e-05\n",
      "1.5491933384829667e-05\n",
      "1.673320053068151e-05\n",
      "1.7888543819998316e-05\n",
      "1.897366596101028e-05\n",
      "2e-05\n",
      "2.097617696340303e-05\n",
      "2.1908902300206645e-05\n",
      "2.280350850198276e-05\n",
      "2.3664319132398465e-05\n",
      "2.449489742783178e-05\n",
      "2.5298221281347034e-05\n",
      "2.60768096208106e-05\n",
      "2.683281572999748e-05\n",
      "2.7568097504180444e-05\n",
      "2.8284271247461902e-05\n",
      "2.8982753492378878e-05\n",
      "2.966479394838265e-05\n",
      "3.0331501776206206e-05\n",
      "3.0983866769659334e-05\n",
      "3.1622776601683795e-05\n",
      "3.22490309931942e-05\n",
      "3.286335345030997e-05\n",
      "3.346640106136302e-05\n",
      "3.405877273185281e-05\n",
      "3.464101615137755e-05\n",
      "3.521363372331802e-05\n",
      "3.577708763999663e-05\n",
      "3.63318042491699e-05\n",
      "3.687817782917155e-05\n",
      "3.741657386773941e-05\n",
      "3.794733192202055e-05\n",
      "3.847076812334269e-05\n",
      "3.8987177379235857e-05\n",
      "3.9496835316262994e-05\n",
      "4e-05\n",
      "4.049691346263318e-05\n",
      "4.098780306383839e-05\n",
      "4.147288270665544e-05\n",
      "4.195235392680606e-05\n",
      "4.242640687119285e-05\n",
      "4.289522117905443e-05\n",
      "4.33589667773576e-05\n",
      "4.381780460041329e-05\n",
      "4.427188724235731e-05\n",
      "4.4721359549995795e-05\n",
      "4.516635916254485e-05\n",
      "4.5607017003965516e-05\n",
      "4.6043457732885354e-05\n",
      "4.6475800154489e-05\n",
      "4.69041575982343e-05\n"
     ]
    }
   ],
   "source": [
    "\n",
    "\n",
    "Rsh = 377\n",
    "\n",
    "kT = 0.05\n",
    "Ec = 1\n",
    "Vc_noise = 10e-6\n",
    "\n",
    "EJ = 0.6/4\n",
    "\n",
    "kT_list = np.linspace(.02,.22, 51)\n",
    "\n",
    "Npts = 251\n",
    "V_ = np.linspace(-1e-3, 1e-3, Npts)\n",
    "\n",
    "Isws = []\n",
    "Isws_conv = []\n",
    "\n",
    "R0s = []\n",
    "R0s_conv = []\n",
    "\n",
    "for kT in kT_list:\n",
    "    \n",
    "    Vc_noise = np.sqrt(Ec*kT)/1e4\n",
    "    print(Vc_noise)\n",
    "    Vs, Is, Is_conv = IZ_conv(V_, EJ, Vc_noise , kT, Rsh)\n",
    "    \n",
    "#     Isw = (np.max(Is) - np.min(Is))/2\n",
    "#     Isw_conv = (np.max(Is_conv) - np.min(Is_conv))/2\n",
    "    \n",
    "    Imax = np.max(Is)\n",
    "    Imax_conv = np.max(Is_conv)\n",
    "\n",
    "    Vmax = Vs[np.argmax(Is)]\n",
    "    Vmax_conv = Vs[np.argmax(Is_conv)]\n",
    "    \n",
    "    R0s.append( Vmax/Imax )\n",
    "    R0s_conv.append( Vmax_conv/Imax_conv )\n",
    "    \n",
    "    \n",
    "    \n",
    "    Isws.append(Imax)\n",
    "    Isws_conv.append(Imax_conv)\n",
    "    \n",
    "Isws = np.array(Isws)\n",
    "Isws_conv = np.array(Isws_conv)\n",
    "\n",
    "R0s = np.array(R0s)\n",
    "R0s_conv = np.array(R0s_conv)\n"
   ]
  },
  {
   "cell_type": "code",
   "execution_count": 16,
   "metadata": {
    "scrolled": false
   },
   "outputs": [
    {
     "data": {
      "application/vnd.jupyter.widget-view+json": {
       "model_id": "e53098ad2b0d476da02ff6f9d34eb1f1",
       "version_major": 2,
       "version_minor": 0
      },
      "text/plain": [
       "FigureCanvasNbAgg()"
      ]
     },
     "metadata": {},
     "output_type": "display_data"
    },
    {
     "name": "stderr",
     "output_type": "stream",
     "text": [
      "No handles with labels found to put in legend.\n"
     ]
    },
    {
     "data": {
      "application/vnd.jupyter.widget-view+json": {
       "model_id": "efc09284e8e74952a3f709663840809d",
       "version_major": 2,
       "version_minor": 0
      },
      "text/plain": [
       "FigureCanvasNbAgg()"
      ]
     },
     "metadata": {},
     "output_type": "display_data"
    },
    {
     "data": {
      "application/vnd.jupyter.widget-view+json": {
       "model_id": "a6f4175a6ca846d0bd62b4050da46fb2",
       "version_major": 2,
       "version_minor": 0
      },
      "text/plain": [
       "FigureCanvasNbAgg()"
      ]
     },
     "metadata": {},
     "output_type": "display_data"
    },
    {
     "data": {
      "text/plain": [
       "[<matplotlib.lines.Line2D at 0x17de77d70b8>]"
      ]
     },
     "execution_count": 16,
     "metadata": {},
     "output_type": "execute_result"
    }
   ],
   "source": [
    "fig, ax = plt.subplots()    \n",
    "    \n",
    "# ax.plot(kT_list, Isws, label = 'cIZ')\n",
    "ax.plot(kT_list, Isws_conv)\n",
    "\n",
    "# ax.set_xscale('log')\n",
    "# ax.set_yscale('log')\n",
    "\n",
    "\n",
    "\n",
    "\n",
    "ax.legend()\n",
    "\n",
    "# ax.set_xlabel('EJ, K')\n",
    "# ax.set_ylabel('Isw, A')\n",
    "\n",
    "ax.set_title('T = {:g} K, Rb = {:g} Ohm'.format( kT, Rsh))\n",
    "\n",
    "\n",
    "\n",
    "fig, ax = plt.subplots()\n",
    "\n",
    "ax.plot(kT_list, R0s)\n",
    "ax.plot(kT_list, R0s_conv)\n",
    "\n",
    "# ax.plot(EJ0_exp, R0_exp, 'o')\n",
    "\n",
    "#     ax.set_xscale('log')\n",
    "#     ax.set_yscale('log')\n",
    "\n",
    "\n",
    "\n",
    "fig, ax = plt.subplots()\n",
    "\n",
    "# ax.plot(kT_list, Isws*R0s)\n",
    "ax.plot(kT_list, Isws_conv*R0s_conv)"
   ]
  },
  {
   "cell_type": "code",
   "execution_count": 7,
   "metadata": {},
   "outputs": [
    {
     "data": {
      "text/plain": [
       "array([8.13031, 0.65602, 0.36831, 0.1087 , 0.04361])"
      ]
     },
     "execution_count": 7,
     "metadata": {},
     "output_type": "execute_result"
    }
   ],
   "source": [
    "data = np.genfromtxt(os.getcwd()+ f'\\IcvsEJ.dat')\n",
    "IcIAB_exp = data[:, 2]\n",
    "EJ0_exp   = data[:, 0]\n",
    "EJ0_exp"
   ]
  },
  {
   "cell_type": "code",
   "execution_count": 9,
   "metadata": {},
   "outputs": [
    {
     "data": {
      "text/plain": [
       "array([8.130315, 0.656025, 0.368315, 0.1087  , 0.04361 ])"
      ]
     },
     "execution_count": 9,
     "metadata": {},
     "output_type": "execute_result"
    }
   ],
   "source": [
    "data = np.genfromtxt(os.getcwd()+ f'\\R0vsEJ.dat')\n",
    "R0_exp  = data[0:, 3]\n",
    "EJ0_exp = data[0:, 2]/2\n",
    "EJ0_exp"
   ]
  },
  {
   "cell_type": "code",
   "execution_count": 68,
   "metadata": {},
   "outputs": [
    {
     "name": "stderr",
     "output_type": "stream",
     "text": [
      "D:\\anaconda\\lib\\site-packages\\ipykernel_launcher.py:1: RuntimeWarning: More than 20 figures have been opened. Figures created through the pyplot interface (`matplotlib.pyplot.figure`) are retained until explicitly closed and may consume too much memory. (To control this warning, see the rcParam `figure.max_open_warning`).\n",
      "  \"\"\"Entry point for launching an IPython kernel.\n"
     ]
    },
    {
     "data": {
      "application/vnd.jupyter.widget-view+json": {
       "model_id": "",
       "version_major": 2,
       "version_minor": 0
      },
      "text/plain": [
       "FigureCanvasNbAgg()"
      ]
     },
     "metadata": {},
     "output_type": "display_data"
    }
   ],
   "source": [
    "fig, ax = plt.subplots()\n",
    "\n",
    "ax.plot(EJ0_exp, IcIAB_exp * EJ0_exp*kB/hbar*2*e, 'o')\n",
    "\n",
    "ax.plot(EJ_list, Isws)\n",
    "ax.plot(EJ_list, Isws_conv)\n",
    "\n",
    "ax.set_xscale('log')\n",
    "ax.set_yscale('log')"
   ]
  },
  {
   "cell_type": "code",
   "execution_count": 3,
   "metadata": {
    "scrolled": false
   },
   "outputs": [
    {
     "data": {
      "application/vnd.jupyter.widget-view+json": {
       "model_id": "",
       "version_major": 2,
       "version_minor": 0
      },
      "text/plain": [
       "FigureCanvasNbAgg()"
      ]
     },
     "metadata": {},
     "output_type": "display_data"
    },
    {
     "data": {
      "text/plain": [
       "<matplotlib.legend.Legend at 0x2279b9c9828>"
      ]
     },
     "execution_count": 3,
     "metadata": {},
     "output_type": "execute_result"
    }
   ],
   "source": [
    "fig, ax = plt.subplots()\n",
    "\n",
    "Vs = np.logspace(-5, -2, 501)\n",
    "\n",
    "# R_list = [1e3, 20e3, 12e3]\n",
    "\n",
    "R_list = [ 1e3]\n",
    "\n",
    "for R in R_list:\n",
    "    Is = I_IZ( Vs, EJ = .5, R = R, T = .05)\n",
    "    \n",
    "    ind = np.where (np.diff (Is ) / np.diff (Vs - Is*R) >0)\n",
    "\n",
    "#     print(ind)\n",
    "    Is, Vs = Is[:-1][ind], Vs[:-1][ind]\n",
    "\n",
    "# ax.plot(  Vs/1e-3, Is/1e-9, '--', label = r'$I-V_b$')\n",
    "    ax.plot( Is/1e-9,(Vs - Is*R) /1e-3,  label = f'{R/1e3} kOhm' )\n",
    "    \n",
    "    \n",
    "    \n",
    "    V_fit = lambda x, A,B  : A*np.sinh(x*B )\n",
    "    popt1 = ( 1e-3 , 1e-3)\n",
    "    popt, pcov = curve_fit(V_fit, Is/1e-12 ,(Vs - Is*R)/1e-6, p0 = popt1 )\n",
    "\n",
    "    Vf = V_fit(Is/1e-12, *popt)*1e-6\n",
    "    ax.plot(Is/1e-9, Vf/1e-3,'--' )\n",
    "    \n",
    "ax.set_ylabel(r'$V, mV$')\n",
    "ax.set_xlabel(r'$I, nA$')\n",
    "\n",
    "\n",
    "# ax.set_xlim(0, .1e-3)\n",
    "# ax.set_xscale ('log')\n",
    "ax.legend()\n"
   ]
  },
  {
   "cell_type": "code",
   "execution_count": 4,
   "metadata": {},
   "outputs": [
    {
     "data": {
      "application/vnd.jupyter.widget-view+json": {
       "model_id": "",
       "version_major": 2,
       "version_minor": 0
      },
      "text/plain": [
       "FigureCanvasNbAgg()"
      ]
     },
     "metadata": {},
     "output_type": "display_data"
    },
    {
     "name": "stdout",
     "output_type": "stream",
     "text": [
      "[-4.00052445e-18  1.00000000e-03]\n",
      "[1.65752614e-13 7.55186412e-04]\n",
      "[1.68236302e-11 6.79468426e-04]\n",
      "[6.47292942e-09 5.53981127e-04]\n",
      "[1.25960884e-07 4.98414403e-04]\n",
      "[1.51275530e-06 4.49594141e-04]\n",
      "[1.19719013e-05 4.07486618e-04]\n",
      "[6.70457265e-05 3.71427055e-04]\n",
      "[0.00028339 0.00034057]\n",
      "[0.00095343 0.00031413]\n",
      "[0.00266359 0.00029142]\n",
      "[0.00638713 0.0002719 ]\n",
      "[0.01349824 0.00025511]\n",
      "[0.02569004 0.00024066]\n",
      "[0.04483147 0.00022821]\n",
      "[0.07282247 0.00021745]\n",
      "[0.11148186 0.0002081 ]\n",
      "[0.16247884 0.00019994]\n",
      "[2.27293248e-01 1.92770838e-04]\n",
      "[3.07199671e-01 1.86443894e-04]\n",
      "[4.03256137e-01 1.80831324e-04]\n"
     ]
    }
   ],
   "source": [
    "fig, ax = plt.subplots()\n",
    "\n",
    "Ic = 35e-9\n",
    "\n",
    "Vs = np.logspace(-5, -2, 501)\n",
    "# Vs = np.linspace(0, 1e-2, 501)\n",
    "\n",
    "R = 1e3\n",
    "\n",
    "T_list = np.linspace(0.05, 0.5, 21)\n",
    "As = []\n",
    "Bs = []\n",
    "\n",
    "\n",
    "Ims =[]\n",
    "for T in T_list:\n",
    "\n",
    "    Is = I_IZ( Vs, EJ = 1.25, R = R, T = T)\n",
    "    \n",
    "    ind = np.where (np.diff (Is ) / np.diff (Vs - Is*R) >0)\n",
    "\n",
    "#     print(ind)\n",
    "    Is, Vs = Is[:-1][ind], Vs[:-1][ind]\n",
    "\n",
    "\n",
    "    Ims.append(Is[np.argmax(Vs)])\n",
    "    \n",
    "    ax.plot( Is/1e-9,(Vs - Is*R) /1e-3,  label = f'{R/1e3} kOhm' )\n",
    "\n",
    "    V_fit = lambda x, A,B  : A*np.sinh(x*B )\n",
    "    popt1 = ( 1e-3 , 1e-3)\n",
    "    popt, pcov = curve_fit(V_fit, Is/1e-12 ,(Vs - Is*R)/1e-6, p0 = popt1 )\n",
    "\n",
    "    Vf = V_fit(Is/1e-12, *popt)*1e-6\n",
    "    ax.plot(Is/1e-9, Vf/1e-3,'--' )\n",
    "    \n",
    "    A, B = popt[0], popt[1]\n",
    "    \n",
    "    As.append(A)\n",
    "    Bs.append(B)\n",
    "\n",
    " \n",
    "\n",
    "    # ax.plot(  Vs/1e-3, (Is - Vs/R)/1e-9, label = r'$I_s - V$')\n",
    "\n",
    "\n",
    "#     ax.set_xlabel(r'$V, mV$')\n",
    "#     ax.set_ylabel(r'$I, nA$')\n",
    "\n",
    "    print(popt)\n",
    "\n",
    "# ax.legend()\n",
    "\n",
    "# Bs = np.array(Bs)\n",
    "# ax.plot(T_list, As)\n",
    "\n",
    "# # ax.set_xscale('log')\n",
    "# # ax.set_yscale('log')\n",
    "# ax2 = ax.twinx()\n",
    "# ax2.plot(T_list, Bs/T_list, c = 'C1')\n",
    "\n",
    "# ax2.set_yscale('log')\n",
    "\n",
    "# fig, ax = plt.subplots()\n",
    "# ax.plot(T_list, Ims, 'o-')"
   ]
  },
  {
   "cell_type": "code",
   "execution_count": 5,
   "metadata": {},
   "outputs": [
    {
     "data": {
      "application/vnd.jupyter.widget-view+json": {
       "model_id": "",
       "version_major": 2,
       "version_minor": 0
      },
      "text/plain": [
       "FigureCanvasNbAgg()"
      ]
     },
     "metadata": {},
     "output_type": "display_data"
    },
    {
     "data": {
      "text/plain": [
       "[<matplotlib.lines.Line2D at 0x2279e760ba8>]"
      ]
     },
     "execution_count": 5,
     "metadata": {},
     "output_type": "execute_result"
    }
   ],
   "source": [
    "fig, ax = plt.subplots()\n",
    "\n",
    "ax.plot(T_list, Ims, 'o-')"
   ]
  },
  {
   "cell_type": "code",
   "execution_count": 6,
   "metadata": {
    "scrolled": false
   },
   "outputs": [
    {
     "data": {
      "application/vnd.jupyter.widget-view+json": {
       "model_id": "",
       "version_major": 2,
       "version_minor": 0
      },
      "text/plain": [
       "FigureCanvasNbAgg()"
      ]
     },
     "metadata": {},
     "output_type": "display_data"
    },
    {
     "data": {
      "text/plain": [
       "[<matplotlib.lines.Line2D at 0x2279eba85c0>]"
      ]
     },
     "execution_count": 6,
     "metadata": {},
     "output_type": "execute_result"
    }
   ],
   "source": [
    "fig, ax = plt.subplots()\n",
    "\n",
    "Bs = np.array(Bs)\n",
    "ax.plot(T_list, As, 'o-')\n",
    "\n",
    "# ax.set_xscale('log')\n",
    "# ax.set_yscale('log')\n",
    "ax2 = ax.twinx()\n",
    "ax2.plot(T_list, Bs/T_list, 'o-', c = 'C1')\n",
    "\n",
    "# ax2.set_yscale('log')\n",
    "\n"
   ]
  },
  {
   "cell_type": "code",
   "execution_count": 7,
   "metadata": {
    "scrolled": false
   },
   "outputs": [
    {
     "data": {
      "application/vnd.jupyter.widget-view+json": {
       "model_id": "",
       "version_major": 2,
       "version_minor": 0
      },
      "text/plain": [
       "FigureCanvasNbAgg()"
      ]
     },
     "metadata": {},
     "output_type": "display_data"
    }
   ],
   "source": [
    "\n",
    "R_env_list = np.logspace(2, 5, 51)\n",
    "\n",
    "\n",
    "\n",
    "EJ = 0.15\n",
    "T =  0.05\n",
    "\n",
    "fig, ax = plt.subplots()\n",
    "ax2 = ax.twinx()\n",
    "\n",
    "for EJ in [0.15, 0.25, 0.35]:\n",
    "\n",
    "    R0s  = []\n",
    "    Isws = []\n",
    "\n",
    "    for R_env in R_env_list:\n",
    "\n",
    "        R0, Isw = find_R0_Isw( EJ, R_env , T, VERBOSE = False)\n",
    "        R0s.append(R0)\n",
    "        Isws.append(Isw)\n",
    "\n",
    "\n",
    "    ax.plot(R_env_list, R0s, label = f'EJ = {EJ} K')\n",
    "\n",
    "\n",
    "\n",
    "\n",
    "    ax2.plot(R_env_list, Isws, '--')\n",
    "    \n",
    "ax.legend()    \n",
    "\n",
    "ax.set_xscale ('log')\n",
    "ax.set_yscale ('log')\n",
    "\n",
    "ax2.set_yscale ('log')\n"
   ]
  },
  {
   "cell_type": "code",
   "execution_count": 8,
   "metadata": {},
   "outputs": [
    {
     "data": {
      "application/vnd.jupyter.widget-view+json": {
       "model_id": "",
       "version_major": 2,
       "version_minor": 0
      },
      "text/plain": [
       "FigureCanvasNbAgg()"
      ]
     },
     "metadata": {},
     "output_type": "display_data"
    }
   ],
   "source": [
    "\n",
    "EJ_list = np.logspace(-2, 1, 51)\n",
    "\n",
    "\n",
    "\n",
    "# R_env = 0.15\n",
    "T =  0.05\n",
    "\n",
    "fig, ax = plt.subplots()\n",
    "ax2 = ax.twinx()\n",
    "\n",
    "for R_env in [1e3, 1e5]:\n",
    "\n",
    "    R0s  = []\n",
    "    Isws = []\n",
    "\n",
    "    for EJ in EJ_list:\n",
    "\n",
    "        R0, Isw = find_R0_Isw( EJ, R_env , T, VERBOSE = False)\n",
    "        R0s.append(R0)\n",
    "        Isws.append(Isw)\n",
    "\n",
    "\n",
    "    ax.plot(EJ_list, R0s, label = f'Renv = {R_env/1e3} kOhm')\n",
    "    \n",
    "    Ics = EJ_list/(Φ0/2/pi/kB)\n",
    "    ax2.plot(EJ_list, Ics, '--')\n",
    "\n",
    "\n",
    "#     ax2 = ax.twinx()\n",
    "    Isws = np.array(Isws)\n",
    "    ax2.plot(EJ_list, Isws/EJ_list, '--')\n",
    "    \n",
    "ax.legend()    \n",
    "\n",
    "ax.set_xscale ('log')\n",
    "ax.set_yscale ('log')\n",
    "\n",
    "ax2.set_yscale ('log')\n"
   ]
  },
  {
   "cell_type": "markdown",
   "metadata": {},
   "source": [
    "## 3. Phase diffusion as Fokker-Plank process -2\n",
    "[Ambegaokar-Halperin PRL 22 25 1969](https://journals.aps.org/prl/pdf/10.1103/PhysRevLett.22.1364 )\n",
    "\n"
   ]
  },
  {
   "cell_type": "markdown",
   "metadata": {},
   "source": [
    "- The same Fokker-Planck eq with non-zero $C$, overdamped limit $\\eta = 1/RC \\gg 1$\n",
    "- Attempt frequency is $\\omega_J^2 / 2 \\pi \\eta =  \\omega_J / \\beta_C$\n",
    "- Derived for I-biased regime\n",
    "- Note the difference between the total current through R||JJ and pure supercurrent"
   ]
  },
  {
   "cell_type": "code",
   "execution_count": 2,
   "metadata": {
    "scrolled": false
   },
   "outputs": [
    {
     "data": {
      "application/vnd.jupyter.widget-view+json": {
       "model_id": "bbb6505a1ae14c978ce5e6b830d2f3ef",
       "version_major": 2,
       "version_minor": 0
      },
      "text/plain": [
       "FigureCanvasNbAgg()"
      ]
     },
     "metadata": {},
     "output_type": "display_data"
    },
    {
     "name": "stderr",
     "output_type": "stream",
     "text": [
      "e:\\OneDrive - Rutgers University\\files_GitHub\\JJ_arrays\\JJformulas.py:167: RuntimeWarning: invalid value encountered in sqrt\n",
      "  i_ = (1 - i**2)**0.5\n",
      "e:\\OneDrive - Rutgers University\\files_GitHub\\JJ_arrays\\JJformulas.py:169: RuntimeWarning: invalid value encountered in arcsin\n",
      "  return 2*Ic0*Rn* i_ * np.exp( -Γ*( i_ + i*np.arcsin(i) ))*np.sinh(np.pi/2*Γ*i)\n",
      "D:\\anaconda\\lib\\site-packages\\ipykernel_launcher.py:21: RuntimeWarning: invalid value encountered in greater\n"
     ]
    },
    {
     "name": "stdout",
     "output_type": "stream",
     "text": [
      "[-0.00011008 -0.00165937]\n"
     ]
    }
   ],
   "source": [
    "fig, ax = plt.subplots()\n",
    "\n",
    "Ic = 3e-9\n",
    "\n",
    "Is = np.linspace(0, 1.5*Ic, 501)\n",
    "\n",
    "R = 1\n",
    "\n",
    "# T_list = np.linspace(0.05, 0.5, 11)\n",
    "T_list = [0.02]\n",
    "\n",
    "As = []\n",
    "Bs = []\n",
    "\n",
    "\n",
    "Ims =[]\n",
    "for T in T_list:\n",
    "\n",
    "    Vs = V_AH_star( Is, EJ =0.051, Rn = R,  T = T)\n",
    "\n",
    "    ind = np.where (np.diff (Vs ) >0)\n",
    "\n",
    "    Is, Vs = Is[:-1][ind][:-10], Vs[:-1][ind][:-10]\n",
    "\n",
    "    Ims.append(Is[np.argmax(Vs)])\n",
    "    \n",
    "    ax.plot(   Is/1e-9, Vs/1e-3, label = r'$I_b - V$')\n",
    "\n",
    "\n",
    "    V_fit = lambda x, A,B  : A*np.sinh(x*B )\n",
    "    popt1 = ( 1e-3 , 1e-3)\n",
    "    popt, pcov = curve_fit(V_fit, Is/1e-12 ,Vs/1e-6, p0 = popt1 )\n",
    "\n",
    "    Vf = V_fit(Is/1e-12, *popt)*1e-6\n",
    "    \n",
    "    A, B = popt[0], popt[1]\n",
    "    \n",
    "    As.append(A)\n",
    "    Bs.append(B)\n",
    "\n",
    "    ax.plot(Is/1e-9, Vf/1e-3,'--' )\n",
    "\n",
    "\n",
    "    # ax.plot(  Vs/1e-3, (Is - Vs/R)/1e-9, label = r'$I_s - V$')\n",
    "\n",
    "\n",
    "#     ax.set_xlabel(r'$V, mV$')\n",
    "#     ax.set_ylabel(r'$I, nA$')\n",
    "\n",
    "    print(popt)\n",
    "\n",
    "# ax.legend()\n",
    "\n",
    "# Bs = np.array(Bs)\n",
    "# ax.plot(T_list, As)\n",
    "\n",
    "# # ax.set_xscale('log')\n",
    "# # ax.set_yscale('log')\n",
    "# ax2 = ax.twinx()\n",
    "# ax2.plot(T_list, Bs/T_list, c = 'C1')\n",
    "\n",
    "# ax2.set_yscale('log')\n",
    "\n",
    "# fig, ax = plt.subplots()\n",
    "# ax.plot(T_list, Ims, 'o-')"
   ]
  },
  {
   "cell_type": "markdown",
   "metadata": {},
   "source": [
    "## 4. Phase diffusion as activation process \n",
    "Kautz Martinis"
   ]
  },
  {
   "cell_type": "markdown",
   "metadata": {},
   "source": [
    "### 4a. Thermally activated PD"
   ]
  },
  {
   "cell_type": "markdown",
   "metadata": {},
   "source": [
    "# Coulomb at P(E)"
   ]
  },
  {
   "cell_type": "markdown",
   "metadata": {},
   "source": [
    "## $E_J$ renormalization"
   ]
  },
  {
   "cell_type": "markdown",
   "metadata": {},
   "source": [
    "In the limit $E_J \\ll E_C$ and high-resistive environment a probability of CP tunneling is quadratic in $E_J$ and effective $E_J$ can be calculated ([Mesoscopic Josephson Effect Superlatt. Microstruct. 25, 915 (1999)](https://www.physik.uni-augsburg.de/theo1/ingold/publikationen_coll/grabe99/grabe99.pdf) )\n"
   ]
  },
  {
   "cell_type": "code",
   "execution_count": 12,
   "metadata": {
    "scrolled": false
   },
   "outputs": [
    {
     "data": {
      "application/vnd.jupyter.widget-view+json": {
       "model_id": "",
       "version_major": 2,
       "version_minor": 0
      },
      "text/plain": [
       "FigureCanvasNbAgg()"
      ]
     },
     "metadata": {},
     "output_type": "display_data"
    },
    {
     "data": {
      "text/plain": [
       "Text(0, 0.5, '$E_J^*, K$')"
      ]
     },
     "execution_count": 12,
     "metadata": {},
     "output_type": "execute_result"
    }
   ],
   "source": [
    "Renv_list = np.logspace(2, 6, 101)\n",
    "\n",
    "RN = 10e3\n",
    "\n",
    "\n",
    "Cj_list = [1e-15, 1.5e-15, 2e-15]\n",
    "fig, ax1 = plt.subplots()\n",
    "\n",
    "for Cj in Cj_list:\n",
    "    EJs = EJ_star (EJ = EJ_AB(RN), R = Renv_list, T = .03, C = Cj)\n",
    "\n",
    "    ax1.plot( Renv_list , EJs, label = r'C = {:1.2f} fF'.format(Cj/1e-15 ))\n",
    "\n",
    "# ax1.plot( Renv_list , EJ_AB(RN), '--k', alpha = 0.5)\n",
    "ax1.axhline(EJ_AB(RN), 0 , 1, ls = '--', color = 'k', alpha = 0.5)\n",
    "\n",
    "\n",
    "ax1.legend()\n",
    "\n",
    "ax1.set_xscale('log')\n",
    "ax1.set_yscale('log')\n",
    "\n",
    "ax1.set_xlabel(r'$R_{env}, K$')\n",
    "ax1.set_ylabel(r'$E_J^*, K$')"
   ]
  },
  {
   "cell_type": "markdown",
   "metadata": {},
   "source": [
    "### T-dependence"
   ]
  },
  {
   "cell_type": "code",
   "execution_count": 13,
   "metadata": {},
   "outputs": [
    {
     "data": {
      "application/vnd.jupyter.widget-view+json": {
       "model_id": "",
       "version_major": 2,
       "version_minor": 0
      },
      "text/plain": [
       "FigureCanvasNbAgg()"
      ]
     },
     "metadata": {},
     "output_type": "display_data"
    },
    {
     "data": {
      "text/plain": [
       "Text(0, 0.5, '$E_J^*, K$')"
      ]
     },
     "execution_count": 13,
     "metadata": {},
     "output_type": "execute_result"
    }
   ],
   "source": [
    "Renv_list = np.logspace(2, 6, 101)\n",
    "\n",
    "RN = 10e3\n",
    "\n",
    "Cj = 1.5e-15\n",
    "\n",
    "Tb_list = [0.05, 0.10, .15]\n",
    "fig, ax1 = plt.subplots()\n",
    "\n",
    "for Tb in Tb_list:\n",
    "    EJs = EJ_star (EJ = EJ_AB(RN), R = Renv_list, T = Tb, C = Cj)\n",
    "\n",
    "    ax1.plot( Renv_list , EJs, label = r'T = {:3.0f} mK'.format(Tb/1e-3 ))\n",
    "\n",
    "# ax1.plot( Renv_list , EJ_AB(RN), '--k', alpha = 0.5)\n",
    "ax1.axhline(EJ_AB(RN), 0 , 1, ls = '--', color = 'k', alpha = 0.5)\n",
    "\n",
    "\n",
    "ax1.legend()\n",
    "\n",
    "ax1.set_xscale('log')\n",
    "ax1.set_yscale('log')\n",
    "\n",
    "ax1.set_xlabel(r'$R_{env}, K$')\n",
    "ax1.set_ylabel(r'$E_J^*, K$')"
   ]
  },
  {
   "cell_type": "markdown",
   "metadata": {},
   "source": [
    "## $R_0$ as a result of thermal diffusion + $E_J$ renormalization"
   ]
  },
  {
   "cell_type": "code",
   "execution_count": 14,
   "metadata": {},
   "outputs": [
    {
     "data": {
      "application/vnd.jupyter.widget-view+json": {
       "model_id": "",
       "version_major": 2,
       "version_minor": 0
      },
      "text/plain": [
       "FigureCanvasNbAgg()"
      ]
     },
     "metadata": {},
     "output_type": "display_data"
    },
    {
     "data": {
      "text/plain": [
       "Text(0, 0.5, '$R_0, k \\\\Omega$')"
      ]
     },
     "execution_count": 14,
     "metadata": {},
     "output_type": "execute_result"
    }
   ],
   "source": [
    "R_list = np.logspace(2, 5.5, 51)\n",
    "\n",
    "Cj = 1.75e-15\n",
    "Tb = 0.035\n",
    "\n",
    "\n",
    "\n",
    "fig, ax1 = plt.subplots()\n",
    "\n",
    "R0s = []\n",
    "\n",
    "for R in R_list:\n",
    "    EJs = EJ_star (EJ = EJ_AB(R), R = 1e3, T = Tb, C = Cj)\n",
    "    R0, _ = find_R0_Isw( EJs ,R_env = 1e3, T = Tb)\n",
    "    R0s.append(R0)\n",
    "\n",
    "ax1.plot( EJ_AB(R_list) , R0s, label = r'C = {:1.2f} fF'.format(Cj/1e-15))\n",
    "\n",
    "\n",
    "\n",
    "\n",
    "ax1.legend()\n",
    "\n",
    "# ax1.set_xscale('log')\n",
    "ax1.set_yscale('log')\n",
    "\n",
    "ax1.set_xlabel(r'$E_J, K$')\n",
    "ax1.set_ylabel(r'$R_0, k \\Omega$')"
   ]
  },
  {
   "cell_type": "markdown",
   "metadata": {},
   "source": [
    "### T-dependence"
   ]
  },
  {
   "cell_type": "code",
   "execution_count": null,
   "metadata": {},
   "outputs": [],
   "source": []
  },
  {
   "cell_type": "code",
   "execution_count": 15,
   "metadata": {},
   "outputs": [
    {
     "data": {
      "application/vnd.jupyter.widget-view+json": {
       "model_id": "",
       "version_major": 2,
       "version_minor": 0
      },
      "text/plain": [
       "FigureCanvasNbAgg()"
      ]
     },
     "metadata": {},
     "output_type": "display_data"
    },
    {
     "data": {
      "text/plain": [
       "Text(0, 0.5, '$R, k \\\\Omega$')"
      ]
     },
     "execution_count": 15,
     "metadata": {},
     "output_type": "execute_result"
    }
   ],
   "source": [
    "RN = 10e3\n",
    "R_env = 100e3\n",
    "\n",
    "Cj = 2e-15\n",
    "Tb_list =  np.linspace(0.05, .25, 51)\n",
    "\n",
    "# EJs = EJ_star (EJ = EJ_AB(RN), R = R_env, T = Tb, C = Cj)\n",
    "\n",
    "fig, ax1 = plt.subplots()\n",
    "\n",
    "R0s = []\n",
    "\n",
    "for Tb in Tb_list:\n",
    "    R0 = find_R0( RN, R_env = R_env , T = Tb, C = Cj)\n",
    "    R0s.append(R0)\n",
    "\n",
    "ax1.plot( Tb_list , R0s, label = r'C = {:1.2f} fF'.format(Cj/1e-15))\n",
    "\n",
    "\n",
    "\n",
    "\n",
    "ax1.legend()\n",
    "\n",
    "# ax1.set_xscale('log')\n",
    "ax1.set_yscale('log')\n",
    "\n",
    "ax1.set_xlabel(r'$T, K$')\n",
    "ax1.set_ylabel(r'$R, k \\Omega$')"
   ]
  },
  {
   "cell_type": "code",
   "execution_count": 16,
   "metadata": {},
   "outputs": [
    {
     "data": {
      "application/vnd.jupyter.widget-view+json": {
       "model_id": "",
       "version_major": 2,
       "version_minor": 0
      },
      "text/plain": [
       "FigureCanvasNbAgg()"
      ]
     },
     "metadata": {},
     "output_type": "display_data"
    }
   ],
   "source": [
    "fig, ax = plt.subplots()\n",
    "T = np.linspace(0.05, 4.05, 101)\n",
    "\n",
    "# ax.plot( T , Rj(1e3, T))\n",
    "ax.plot( T , 1 / ( 1e-9 +  1e-6*np.exp(  -2/T )) )  \n",
    "ax.set_yscale('log')"
   ]
  },
  {
   "cell_type": "code",
   "execution_count": 17,
   "metadata": {},
   "outputs": [
    {
     "data": {
      "text/plain": [
       "3.720075976020836e-44"
      ]
     },
     "execution_count": 17,
     "metadata": {},
     "output_type": "execute_result"
    }
   ],
   "source": [
    "np.exp(-100)"
   ]
  },
  {
   "cell_type": "markdown",
   "metadata": {},
   "source": [
    "# Kautz-Martinis\n"
   ]
  },
  {
   "cell_type": "code",
   "execution_count": 18,
   "metadata": {},
   "outputs": [
    {
     "data": {
      "application/vnd.jupyter.widget-view+json": {
       "model_id": "",
       "version_major": 2,
       "version_minor": 0
      },
      "text/plain": [
       "FigureCanvasNbAgg()"
      ]
     },
     "metadata": {},
     "output_type": "display_data"
    },
    {
     "data": {
      "text/plain": [
       "[<matplotlib.lines.Line2D at 0x1c9343c8eb8>]"
      ]
     },
     "execution_count": 18,
     "metadata": {},
     "output_type": "execute_result"
    }
   ],
   "source": [
    "fig, ax = plt.subplots()\n",
    "Tb = np.linspace(0.05, 4.05, 101)\n",
    "\n",
    "Nps, Nms = Njump(i = 0.5, Q = 50, EJ = 1, T = Tb)\n",
    "\n",
    "ax.plot(Tb, Nps)\n",
    "ax.plot(Tb, Nms)"
   ]
  },
  {
   "cell_type": "code",
   "execution_count": 19,
   "metadata": {},
   "outputs": [
    {
     "data": {
      "application/vnd.jupyter.widget-view+json": {
       "model_id": "",
       "version_major": 2,
       "version_minor": 0
      },
      "text/plain": [
       "FigureCanvasNbAgg()"
      ]
     },
     "metadata": {},
     "output_type": "display_data"
    },
    {
     "name": "stderr",
     "output_type": "stream",
     "text": [
      "e:\\OneDrive - Rutgers University\\files_GitHub\\JJ_arrays\\JJformulas.py:189: RuntimeWarning: invalid value encountered in log\n",
      "  Np = 1 + 2*Q/np.pi**2*( Ed - 1 ) + i*Q**2/2/np.pi*np.log( ( Ed - im )/(1 - im) )\n"
     ]
    },
    {
     "data": {
      "text/plain": [
       "[<matplotlib.lines.Line2D at 0x1c9343d3fd0>]"
      ]
     },
     "execution_count": 19,
     "metadata": {},
     "output_type": "execute_result"
    }
   ],
   "source": [
    "fig, ax = plt.subplots()\n",
    "i = np.linspace(0.0, 1/3, 101)\n",
    "\n",
    "Nps, Nms = Njump(i = i, Q = 5, EJ = 1, T = 0.2)\n",
    "\n",
    "ax.plot(i, Nps)\n",
    "ax.plot(i, Nms)"
   ]
  },
  {
   "cell_type": "code",
   "execution_count": 42,
   "metadata": {},
   "outputs": [
    {
     "data": {
      "application/vnd.jupyter.widget-view+json": {
       "model_id": "",
       "version_major": 2,
       "version_minor": 0
      },
      "text/plain": [
       "FigureCanvasNbAgg()"
      ]
     },
     "metadata": {},
     "output_type": "display_data"
    }
   ],
   "source": [
    "fig, ax = plt.subplots()\n",
    "Tb = np.linspace(0.05, 4.05, 101)\n",
    "\n",
    "τp, τm = τ(i = 0.1, EJ = 1, Ec = 0.5, T = Tb)\n",
    "\n",
    "ax.plot(1/Tb, τp)\n",
    "ax.plot(1/Tb, τm)\n",
    "\n",
    "ax.set_yscale('log')"
   ]
  },
  {
   "cell_type": "code",
   "execution_count": 41,
   "metadata": {},
   "outputs": [
    {
     "data": {
      "application/vnd.jupyter.widget-view+json": {
       "model_id": "",
       "version_major": 2,
       "version_minor": 0
      },
      "text/plain": [
       "FigureCanvasNbAgg()"
      ]
     },
     "metadata": {},
     "output_type": "display_data"
    },
    {
     "data": {
      "text/plain": [
       "[<matplotlib.lines.Line2D at 0x1c93ca81fd0>]"
      ]
     },
     "execution_count": 41,
     "metadata": {},
     "output_type": "execute_result"
    }
   ],
   "source": [
    "fig, ax = plt.subplots()\n",
    "i = np.linspace(0.0, 1, 101)\n",
    "\n",
    "ΔUp, ΔUm = ΔU(i, EJ)\n",
    "\n",
    "ax.plot(i, ΔUp)\n",
    "ax.plot(i, ΔUm)"
   ]
  },
  {
   "cell_type": "code",
   "execution_count": 43,
   "metadata": {},
   "outputs": [
    {
     "data": {
      "text/plain": [
       "array([1.       , 0.9898464])"
      ]
     },
     "execution_count": 43,
     "metadata": {},
     "output_type": "execute_result"
    }
   ],
   "source": [
    "i = np.array([0, .2])\n",
    "\n",
    "(1 - i**2)**0.25"
   ]
  },
  {
   "cell_type": "code",
   "execution_count": 30,
   "metadata": {},
   "outputs": [
    {
     "name": "stderr",
     "output_type": "stream",
     "text": [
      "e:\\OneDrive - Rutgers University\\files_GitHub\\JJ_arrays\\JJformulas.py:207: RuntimeWarning: invalid value encountered in power\n",
      "  ωa = wpK(EJ, Ec)*kB/hbar * (1 - i**2)**0.25\n",
      "e:\\OneDrive - Rutgers University\\files_GitHub\\JJ_arrays\\JJformulas.py:200: RuntimeWarning: invalid value encountered in sqrt\n",
      "  ΔUp = 2*EJ*( 1*(1-i**2)**0.5 + i*(np.arcsin(i) - np.pi/2) )\n",
      "e:\\OneDrive - Rutgers University\\files_GitHub\\JJ_arrays\\JJformulas.py:200: RuntimeWarning: invalid value encountered in arcsin\n",
      "  ΔUp = 2*EJ*( 1*(1-i**2)**0.5 + i*(np.arcsin(i) - np.pi/2) )\n",
      "e:\\OneDrive - Rutgers University\\files_GitHub\\JJ_arrays\\JJformulas.py:201: RuntimeWarning: invalid value encountered in sqrt\n",
      "  ΔUm = 2*EJ*( 1*(1-i**2)**0.5 + i*(np.arcsin(i) + np.pi/2) )\n",
      "e:\\OneDrive - Rutgers University\\files_GitHub\\JJ_arrays\\JJformulas.py:201: RuntimeWarning: invalid value encountered in arcsin\n",
      "  ΔUm = 2*EJ*( 1*(1-i**2)**0.5 + i*(np.arcsin(i) + np.pi/2) )\n",
      "e:\\OneDrive - Rutgers University\\files_GitHub\\JJ_arrays\\JJformulas.py:217: RuntimeWarning: invalid value encountered in power\n",
      "  ωa = wpK(EJ, Ec)*kB/hbar * (1 - i**2)**0.25\n"
     ]
    },
    {
     "data": {
      "text/plain": [
       "array([nan, nan])"
      ]
     },
     "execution_count": 30,
     "metadata": {},
     "output_type": "execute_result"
    }
   ],
   "source": [
    "V_KM(np.array([0.1, .2]), EJ = 1, Ec = 0.9, Q = 20, T = 0.05)"
   ]
  },
  {
   "cell_type": "code",
   "execution_count": 45,
   "metadata": {},
   "outputs": [
    {
     "data": {
      "application/vnd.jupyter.widget-view+json": {
       "model_id": "6d3afed373a54c58b830fc311748ed35",
       "version_major": 2,
       "version_minor": 0
      },
      "text/plain": [
       "FigureCanvasNbAgg()"
      ]
     },
     "metadata": {},
     "output_type": "display_data"
    },
    {
     "data": {
      "text/plain": [
       "array([0.00000000e+00, 6.23498976e-23, 1.24938492e-22, 1.88005353e-22,\n",
       "       2.51791805e-22, 3.16541807e-22, 3.82502845e-22, 4.49926840e-22,\n",
       "       5.19071069e-22, 5.90199100e-22, 6.63581759e-22, 7.39498111e-22,\n",
       "       8.18236481e-22, 9.00095497e-22, 9.85385177e-22, 1.07442805e-21,\n",
       "       1.16756032e-21, 1.26513309e-21, 1.36751362e-21, 1.47508665e-21,\n",
       "       1.58825578e-21, 1.70744492e-21, 1.83309982e-21, 1.96568964e-21,\n",
       "       2.10570866e-21, 2.25367800e-21, 2.41014749e-21, 2.57569764e-21,\n",
       "       2.75094169e-21, 2.93652775e-21, 3.13314115e-21, 3.34150680e-21,\n",
       "       3.56239176e-21, 3.79660798e-21, 4.04501508e-21, 4.30852343e-21,\n",
       "       4.58809727e-21, 4.88475816e-21, 5.19958846e-21, 5.53373517e-21,\n",
       "       5.88841387e-21, 6.26491297e-21, 6.66459818e-21, 7.08891721e-21,\n",
       "       7.53940482e-21, 8.01768805e-21, 8.52549192e-21, 9.06464528e-21,\n",
       "       9.63708714e-21, 1.02448733e-20, 1.08901835e-20, 1.15753286e-20,\n",
       "       1.23027588e-20, 1.30750719e-20, 1.38950219e-20, 1.47655289e-20,\n",
       "       1.56896882e-20, 1.66707818e-20, 1.77122886e-20, 1.88178967e-20,\n",
       "       1.99915158e-20, 2.12372901e-20, 2.25596126e-20, 2.39631396e-20,\n",
       "       2.54528063e-20, 2.70338436e-20, 2.87117956e-20, 3.04925376e-20,\n",
       "       3.23822963e-20, 3.43876704e-20, 3.65156523e-20, 3.87736516e-20,\n",
       "       4.11695195e-20, 4.37115748e-20, 4.64086315e-20, 4.92700280e-20,\n",
       "       5.23056576e-20, 5.55260011e-20, 5.89421616e-20, 6.25659006e-20,\n",
       "       6.64096766e-20, 7.04866859e-20, 7.48109057e-20, 7.93971397e-20,\n",
       "       8.42610665e-20, 8.94192902e-20, 9.48893946e-20, 1.00690000e-19,\n",
       "       1.06840825e-19, 1.13362746e-19, 1.20277870e-19, 1.27609604e-19,\n",
       "       1.35382726e-19, 1.43623472e-19, 1.52359615e-19, 1.61620555e-19,\n",
       "       1.71437414e-19, 1.81843136e-19, 1.92872590e-19, 2.04562682e-19,\n",
       "       2.16952471e-19])"
      ]
     },
     "execution_count": 45,
     "metadata": {},
     "output_type": "execute_result"
    }
   ],
   "source": [
    "Q = 10\n",
    "\n",
    "fig, ax = plt.subplots()\n",
    "\n",
    "for EJ in [1, .5 , .1]:\n",
    "    i = np.linspace(0, 0.1, 101)\n",
    "\n",
    "    Vs = V_KM(i, EJ = 1, Ec = 0.9, Q = 1, T = 0.05)\n",
    "\n",
    "    ax.plot(i, Vs)\n",
    "\n",
    "    \n",
    "Vs"
   ]
  },
  {
   "cell_type": "code",
   "execution_count": 89,
   "metadata": {},
   "outputs": [
    {
     "name": "stderr",
     "output_type": "stream",
     "text": [
      "D:\\anaconda\\lib\\site-packages\\ipykernel_launcher.py:3: RuntimeWarning: More than 20 figures have been opened. Figures created through the pyplot interface (`matplotlib.pyplot.figure`) are retained until explicitly closed and may consume too much memory. (To control this warning, see the rcParam `figure.max_open_warning`).\n",
      "  This is separate from the ipykernel package so we can avoid doing imports until\n"
     ]
    },
    {
     "data": {
      "application/vnd.jupyter.widget-view+json": {
       "model_id": "3af8aa677b5b467d89950367e29d0d99",
       "version_major": 2,
       "version_minor": 0
      },
      "text/plain": [
       "FigureCanvasNbAgg()"
      ]
     },
     "metadata": {},
     "output_type": "display_data"
    }
   ],
   "source": [
    "Q = 10\n",
    "\n",
    "fig, (ax , ax2) = plt.subplots(1,2)\n",
    "\n",
    "Rs = []\n",
    "T_list = np.linspace(0.05, 1, 501)\n",
    "\n",
    "EJ = 0.25\n",
    "\n",
    "for T in T_list:\n",
    "\n",
    "\n",
    "\n",
    "    R = R0_KM(EJ = EJ , Ec = 0.5, Q = 10, T = T)\n",
    "    \n",
    "    Rs.append(R)\n",
    "    \n",
    "Rs = np.array(Rs)\n",
    "ax.plot(T_list/EJ, Rs/1e3)\n",
    "\n",
    "# ax.set_xscale('log')\n",
    "\n",
    "ax.set_yscale('log')\n",
    "\n",
    "ax.set_xlabel('T/EJ')    \n",
    "ax.set_ylabel('R0, au') \n",
    "\n",
    "\n",
    "ax2.plot(EJ/T_list, 1/Rs, '.')\n",
    "\n",
    "fig.subplots_adjust(  left = .25 )\n",
    "ax2.set_xlabel('EJ/T')    \n",
    "ax2.set_ylabel('1/R0, au') \n",
    "\n",
    "# ax2.set_xscale('log')\n",
    "ax2.set_yscale('log')\n",
    "\n",
    "fig.tight_layout()"
   ]
  }
 ],
 "metadata": {
  "kernelspec": {
   "display_name": "Python 3",
   "language": "python",
   "name": "python3"
  },
  "language_info": {
   "codemirror_mode": {
    "name": "ipython",
    "version": 3
   },
   "file_extension": ".py",
   "mimetype": "text/x-python",
   "name": "python",
   "nbconvert_exporter": "python",
   "pygments_lexer": "ipython3",
   "version": "3.6.5"
  },
  "latex_envs": {
   "LaTeX_envs_menu_present": true,
   "autoclose": false,
   "autocomplete": true,
   "bibliofile": "biblio.bib",
   "cite_by": "apalike",
   "current_citInitial": 1,
   "eqLabelWithNumbers": true,
   "eqNumInitial": 1,
   "hotkeys": {
    "equation": "Ctrl-E",
    "itemize": "Ctrl-I"
   },
   "labels_anchors": false,
   "latex_user_defs": false,
   "report_style_numbering": false,
   "user_envs_cfg": false
  },
  "toc": {
   "base_numbering": 1,
   "nav_menu": {},
   "number_sections": true,
   "sideBar": true,
   "skip_h1_title": false,
   "title_cell": "Table of Contents",
   "title_sidebar": "Contents",
   "toc_cell": false,
   "toc_position": {
    "height": "429.333px",
    "left": "10px",
    "top": "150px",
    "width": "165px"
   },
   "toc_section_display": true,
   "toc_window_display": true
  },
  "varInspector": {
   "cols": {
    "lenName": 16,
    "lenType": 16,
    "lenVar": 40
   },
   "kernels_config": {
    "python": {
     "delete_cmd_postfix": "",
     "delete_cmd_prefix": "del ",
     "library": "var_list.py",
     "varRefreshCmd": "print(var_dic_list())"
    },
    "r": {
     "delete_cmd_postfix": ") ",
     "delete_cmd_prefix": "rm(",
     "library": "var_list.r",
     "varRefreshCmd": "cat(var_dic_list()) "
    }
   },
   "types_to_exclude": [
    "module",
    "function",
    "builtin_function_or_method",
    "instance",
    "_Feature"
   ],
   "window_display": false
  }
 },
 "nbformat": 4,
 "nbformat_minor": 2
}
