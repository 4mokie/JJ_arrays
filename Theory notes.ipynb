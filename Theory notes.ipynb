{
 "cells": [
  {
   "cell_type": "code",
   "execution_count": 1,
   "metadata": {},
   "outputs": [],
   "source": [
    "%matplotlib widget\n",
    "%load_ext autoreload\n",
    "%autoreload 2\n",
    "\n",
    "\n",
    "import matplotlib.pyplot as plt\n",
    "import matplotlib.gridspec as GridSpec\n",
    "import numpy as np\n",
    "import os\n",
    "\n",
    "# from tqdm import tqdm, tqdm_notebook\n",
    "import math\n",
    "\n",
    "\n",
    "from scipy.optimize import curve_fit\n",
    "\n",
    "\n",
    "# from  scipy.special import digamma as ψ\n",
    "# from mpmath import besseli as Iν\n",
    "# from scipy.constants import hbar, pi, h, e, k\n",
    "\n",
    "# kB = k\n",
    "# γ = 0.57721566\n",
    "# RQ = h/4/e**2\n",
    "# Φ0 = h/2/e\n",
    "\n",
    "from JJformulas import *"
   ]
  },
  {
   "cell_type": "markdown",
   "metadata": {},
   "source": [
    "# Notes on theory of JJ"
   ]
  },
  {
   "cell_type": "markdown",
   "metadata": {},
   "source": [
    "The intention of this note is to summarize and organize the knowledge on the physics of single JJ, namely TA and Q phase diffusion, environment impedance influence, Bloch oscillations, etc  "
   ]
  },
  {
   "cell_type": "markdown",
   "metadata": {},
   "source": [
    "## 1. RS(C)J-model"
   ]
  },
  {
   "cell_type": "markdown",
   "metadata": {},
   "source": [
    "The simplest model considers current-biasing circuit consisted of Josephson element, Resistor and capasitor.\n",
    "\n",
    "$I_s = I_c \\sin \\phi$\n",
    "\n",
    "$\\dot{\\phi} = \\frac{2 e}{ \\hbar} V $\n",
    "\n",
    "$ I_0 = \\frac{\\hbar C}{2e} \\ddot{ \\phi }  + \\frac{\\hbar}{ 2eR} \\dot \\phi + I_c \\sin \\phi $\n"
   ]
  },
  {
   "attachments": {
    "image.png": {
     "image/png": "[encoded data removed]"
    }
   },
   "cell_type": "markdown",
   "metadata": {},
   "source": [
    "![image.png](attachment:image.png)\n",
    "[Kopnin lecture]\n",
    "\n",
    "$\\omega_p = \\sqrt{2eI_c/\\hbar C} = \\sqrt{8 E_J E_C}$ - plasma frequency\n",
    "\n",
    "$Q = \\omega_p R C$ - quality factor"
   ]
  },
  {
   "cell_type": "markdown",
   "metadata": {},
   "source": [
    "### 1a) $C \\rightarrow \\infty $\n",
    "Equvalent to underdamped regime ( $ 1/ \\omega_p C \\ll R $, $Q \\gg 1$ ). Capacitence completely shunts josephson generation "
   ]
  },
  {
   "cell_type": "markdown",
   "metadata": {},
   "source": [
    "$$I_0 < I_c \\Rightarrow I_s = I_0, I_R = 0, I_C = 0$$\n",
    "\n",
    "$$I_0 > I_c \\Rightarrow \\overline{I_s + I_C} = 0, I_R = I_0$$"
   ]
  },
  {
   "cell_type": "markdown",
   "metadata": {},
   "source": [
    "### 2a) $ C = 0$\n",
    "\n",
    "Equvalent to overdamped regime ( $ 1/ \\omega_p C \\gg R $, $Q \\ll 1$ )\n",
    "\n",
    "For $I_0 > I_c$ Josephson current flows through resistor, so instantaneous voltage changes with time "
   ]
  },
  {
   "cell_type": "code",
   "execution_count": 7,
   "metadata": {},
   "outputs": [],
   "source": [
    "# t = np.linsapce(0, 5*2*np.pi, 101)\n",
    "# Vinst = "
   ]
  },
  {
   "cell_type": "markdown",
   "metadata": {},
   "source": [
    "$ <I_s> = I_0 - <V>/R = I_0\\left(1 - \\sqrt{1 - \\left( \\frac{I_C}{I_0} \\right)^2}\\right)$"
   ]
  },
  {
   "cell_type": "code",
   "execution_count": 8,
   "metadata": {
    "scrolled": false
   },
   "outputs": [
    {
     "data": {
      "application/vnd.jupyter.widget-view+json": {
       "model_id": "24f1fcac277941749625cb6813e91d36",
       "version_major": 2,
       "version_minor": 0
      },
      "text/plain": [
       "FigureCanvasNbAgg()"
      ]
     },
     "metadata": {},
     "output_type": "display_data"
    },
    {
     "data": {
      "text/plain": [
       "Text(0, 0.5, '${<I_s>}/{I_c}$')"
      ]
     },
     "execution_count": 8,
     "metadata": {},
     "output_type": "execute_result"
    }
   ],
   "source": [
    "i = np.linspace(1, 5, 101)\n",
    "Is = 1 - np.sqrt(1 - (1/i)**2)\n",
    "\n",
    "plt.plot(i, Is)\n",
    "plt.xlabel('${I_0}/{I_c}$')\n",
    "plt.ylabel('${<I_s>}/{I_c}$')"
   ]
  },
  {
   "cell_type": "markdown",
   "metadata": {},
   "source": [
    "## IZ: Phase diffusion as Fokker-Plank process\n",
    "[Zil'berman Ivanchenko JEPhT 24 6 1969](http://www.jetp.ac.ru/cgi-bin/dn/e_028_06_1272.pdf )\n",
    "\n"
   ]
  },
  {
   "cell_type": "markdown",
   "metadata": {},
   "source": [
    "Note, that I-biased scheme with R||JJ is equvalent to V-biased with R and JJ in series\n",
    "\n",
    "$ V_B = IR + \\dot{ \\phi } $  \n",
    "\n",
    "$ \\frac{V_B - IR}{R} =  \\frac{\\hbar C}{2e} \\ddot{ \\phi }  + I_c \\sin \\phi $"
   ]
  },
  {
   "attachments": {
    "image.png": {
     "image/png": "[encoded data removed]"
    }
   },
   "cell_type": "markdown",
   "metadata": {},
   "source": [
    "![image.png](attachment:image.png)"
   ]
  },
  {
   "cell_type": "markdown",
   "metadata": {},
   "source": [
    "- underdamped limit $C \\rightarrow 0$\n",
    "- volage biasing scheme is equivalent to curernt-biasing with R as a shunt\n",
    "- note the difference between $I-V_b$ and $I-V$ curves "
   ]
  },
  {
   "cell_type": "markdown",
   "metadata": {},
   "source": [
    "$$<I_s> = I_0 \\Im \\left( \\frac{I_{1-2i\\beta e V_B/ \\hbar R_B}(\\beta E_J)}{I_{-2i\\beta e V_B/ \\hbar R_B}(\\beta E_J)} \\right)$$"
   ]
  },
  {
   "cell_type": "code",
   "execution_count": 12,
   "metadata": {},
   "outputs": [
    {
     "data": {
      "application/vnd.jupyter.widget-view+json": {
       "model_id": "",
       "version_major": 2,
       "version_minor": 0
      },
      "text/plain": [
       "FigureCanvasNbAgg()"
      ]
     },
     "metadata": {},
     "output_type": "display_data"
    },
    {
     "data": {
      "text/plain": [
       "<matplotlib.legend.Legend at 0x222bca75e10>"
      ]
     },
     "execution_count": 12,
     "metadata": {},
     "output_type": "execute_result"
    }
   ],
   "source": [
    "fig, ax = plt.subplots()\n",
    "\n",
    "Vs = np.linspace(0, 1e-3, 501)\n",
    "\n",
    "R_list = [1e3, 10e3, 50e3]\n",
    "\n",
    "for R in R_list:\n",
    "    Is = I_IZ( Vs, EJ = .5, R = R, T = .05)\n",
    "\n",
    "# ax.plot(  Vs/1e-3, Is/1e-9, '--', label = r'$I-V_b$')\n",
    "    ax.plot( (Vs - Is*R) /1e-3, Is/1e-9, label = f'{R/1e3} kOhm' )\n",
    "ax.set_xlabel(r'$V, mV$')\n",
    "ax.set_ylabel(r'$I, nA$')\n",
    "\n",
    "\n",
    "# ax.set_xlim(0, .1e-3)\n",
    "# ax.set_xscale ('log')\n",
    "ax.legend()\n"
   ]
  },
  {
   "cell_type": "code",
   "execution_count": 39,
   "metadata": {
    "scrolled": false
   },
   "outputs": [
    {
     "name": "stderr",
     "output_type": "stream",
     "text": [
      "D:\\anaconda\\lib\\site-packages\\ipykernel_launcher.py:1: RuntimeWarning: More than 20 figures have been opened. Figures created through the pyplot interface (`matplotlib.pyplot.figure`) are retained until explicitly closed and may consume too much memory. (To control this warning, see the rcParam `figure.max_open_warning`).\n",
      "  \"\"\"Entry point for launching an IPython kernel.\n"
     ]
    },
    {
     "data": {
      "application/vnd.jupyter.widget-view+json": {
       "model_id": "791a36ad2e8b418395d8ef3f2bf4f91f",
       "version_major": 2,
       "version_minor": 0
      },
      "text/plain": [
       "FigureCanvasNbAgg()"
      ]
     },
     "metadata": {},
     "output_type": "display_data"
    },
    {
     "data": {
      "text/plain": [
       "<matplotlib.legend.Legend at 0x222c35b4ef0>"
      ]
     },
     "execution_count": 39,
     "metadata": {},
     "output_type": "execute_result"
    }
   ],
   "source": [
    "fig, ax = plt.subplots()\n",
    "\n",
    "Vs = np.logspace(-5, -2, 501)\n",
    "\n",
    "# R_list = [1e3, 20e3, 12e3]\n",
    "\n",
    "R_list = [ 1e3]\n",
    "\n",
    "for R in R_list:\n",
    "    Is = I_IZ( Vs, EJ = .5, R = R, T = .05)\n",
    "    \n",
    "    ind = np.where (np.diff (Is ) / np.diff (Vs - Is*R) >0)\n",
    "\n",
    "#     print(ind)\n",
    "    Is, Vs = Is[:-1][ind], Vs[:-1][ind]\n",
    "\n",
    "# ax.plot(  Vs/1e-3, Is/1e-9, '--', label = r'$I-V_b$')\n",
    "    ax.plot( Is/1e-9,(Vs - Is*R) /1e-3,  label = f'{R/1e3} kOhm' )\n",
    "    \n",
    "    \n",
    "    \n",
    "    V_fit = lambda x, A,B  : A*np.sinh(x*B )\n",
    "    popt1 = ( 1e-3 , 1e-3)\n",
    "    popt, pcov = curve_fit(V_fit, Is/1e-12 ,(Vs - Is*R)/1e-6, p0 = popt1 )\n",
    "\n",
    "    Vf = V_fit(Is/1e-12, *popt)*1e-6\n",
    "    ax.plot(Is/1e-9, Vf/1e-3,'--' )\n",
    "    \n",
    "ax.set_ylabel(r'$V, mV$')\n",
    "ax.set_xlabel(r'$I, nA$')\n",
    "\n",
    "\n",
    "# ax.set_xlim(0, .1e-3)\n",
    "# ax.set_xscale ('log')\n",
    "ax.legend()\n"
   ]
  },
  {
   "cell_type": "code",
   "execution_count": 75,
   "metadata": {},
   "outputs": [
    {
     "name": "stderr",
     "output_type": "stream",
     "text": [
      "D:\\anaconda\\lib\\site-packages\\ipykernel_launcher.py:1: RuntimeWarning: More than 20 figures have been opened. Figures created through the pyplot interface (`matplotlib.pyplot.figure`) are retained until explicitly closed and may consume too much memory. (To control this warning, see the rcParam `figure.max_open_warning`).\n",
      "  \"\"\"Entry point for launching an IPython kernel.\n"
     ]
    },
    {
     "data": {
      "application/vnd.jupyter.widget-view+json": {
       "model_id": "42f2805571be456b84caa0b5f057d82d",
       "version_major": 2,
       "version_minor": 0
      },
      "text/plain": [
       "FigureCanvasNbAgg()"
      ]
     },
     "metadata": {},
     "output_type": "display_data"
    },
    {
     "name": "stdout",
     "output_type": "stream",
     "text": [
      "[-4.00052445e-18  1.00000000e-03]\n",
      "[1.65752614e-13 7.55186412e-04]\n",
      "[1.68236302e-11 6.79468426e-04]\n",
      "[6.47292942e-09 5.53981127e-04]\n",
      "[1.25960884e-07 4.98414403e-04]\n",
      "[1.51275530e-06 4.49594141e-04]\n",
      "[1.19719013e-05 4.07486618e-04]\n",
      "[6.70457265e-05 3.71427055e-04]\n",
      "[0.00028339 0.00034057]\n",
      "[0.00095343 0.00031413]\n",
      "[0.00266359 0.00029142]\n",
      "[0.00638713 0.0002719 ]\n",
      "[0.01349824 0.00025511]\n",
      "[0.02569004 0.00024066]\n",
      "[0.04483147 0.00022821]\n",
      "[0.07282247 0.00021745]\n",
      "[0.11148186 0.0002081 ]\n",
      "[0.16247884 0.00019994]\n",
      "[2.27293248e-01 1.92770838e-04]\n",
      "[3.07199671e-01 1.86443894e-04]\n",
      "[4.03256137e-01 1.80831324e-04]\n"
     ]
    }
   ],
   "source": [
    "fig, ax = plt.subplots()\n",
    "\n",
    "Ic = 35e-9\n",
    "\n",
    "Vs = np.logspace(-5, -2, 501)\n",
    "# Vs = np.linspace(0, 1e-2, 501)\n",
    "\n",
    "R = 1e3\n",
    "\n",
    "T_list = np.linspace(0.05, 0.5, 21)\n",
    "As = []\n",
    "Bs = []\n",
    "\n",
    "\n",
    "Ims =[]\n",
    "for T in T_list:\n",
    "\n",
    "    Is = I_IZ( Vs, EJ = 1.25, R = R, T = T)\n",
    "    \n",
    "    ind = np.where (np.diff (Is ) / np.diff (Vs - Is*R) >0)\n",
    "\n",
    "#     print(ind)\n",
    "    Is, Vs = Is[:-1][ind], Vs[:-1][ind]\n",
    "\n",
    "\n",
    "    Ims.append(Is[np.argmax(Vs)])\n",
    "    \n",
    "    ax.plot( Is/1e-9,(Vs - Is*R) /1e-3,  label = f'{R/1e3} kOhm' )\n",
    "\n",
    "    V_fit = lambda x, A,B  : A*np.sinh(x*B )\n",
    "    popt1 = ( 1e-3 , 1e-3)\n",
    "    popt, pcov = curve_fit(V_fit, Is/1e-12 ,(Vs - Is*R)/1e-6, p0 = popt1 )\n",
    "\n",
    "    Vf = V_fit(Is/1e-12, *popt)*1e-6\n",
    "    ax.plot(Is/1e-9, Vf/1e-3,'--' )\n",
    "    \n",
    "    A, B = popt[0], popt[1]\n",
    "    \n",
    "    As.append(A)\n",
    "    Bs.append(B)\n",
    "\n",
    " \n",
    "\n",
    "    # ax.plot(  Vs/1e-3, (Is - Vs/R)/1e-9, label = r'$I_s - V$')\n",
    "\n",
    "\n",
    "#     ax.set_xlabel(r'$V, mV$')\n",
    "#     ax.set_ylabel(r'$I, nA$')\n",
    "\n",
    "    print(popt)\n",
    "\n",
    "# ax.legend()\n",
    "\n",
    "# Bs = np.array(Bs)\n",
    "# ax.plot(T_list, As)\n",
    "\n",
    "# # ax.set_xscale('log')\n",
    "# # ax.set_yscale('log')\n",
    "# ax2 = ax.twinx()\n",
    "# ax2.plot(T_list, Bs/T_list, c = 'C1')\n",
    "\n",
    "# ax2.set_yscale('log')\n",
    "\n",
    "# fig, ax = plt.subplots()\n",
    "# ax.plot(T_list, Ims, 'o-')"
   ]
  },
  {
   "cell_type": "code",
   "execution_count": 76,
   "metadata": {},
   "outputs": [
    {
     "name": "stderr",
     "output_type": "stream",
     "text": [
      "D:\\anaconda\\lib\\site-packages\\ipykernel_launcher.py:1: RuntimeWarning: More than 20 figures have been opened. Figures created through the pyplot interface (`matplotlib.pyplot.figure`) are retained until explicitly closed and may consume too much memory. (To control this warning, see the rcParam `figure.max_open_warning`).\n",
      "  \"\"\"Entry point for launching an IPython kernel.\n"
     ]
    },
    {
     "data": {
      "application/vnd.jupyter.widget-view+json": {
       "model_id": "86a3f9312eb24264b487f06643e90ff9",
       "version_major": 2,
       "version_minor": 0
      },
      "text/plain": [
       "FigureCanvasNbAgg()"
      ]
     },
     "metadata": {},
     "output_type": "display_data"
    },
    {
     "data": {
      "text/plain": [
       "[<matplotlib.lines.Line2D at 0x222cd3886a0>]"
      ]
     },
     "execution_count": 76,
     "metadata": {},
     "output_type": "execute_result"
    }
   ],
   "source": [
    "fig, ax = plt.subplots()\n",
    "\n",
    "ax.plot(T_list, Ims, 'o-')"
   ]
  },
  {
   "cell_type": "code",
   "execution_count": 69,
   "metadata": {
    "scrolled": false
   },
   "outputs": [
    {
     "name": "stderr",
     "output_type": "stream",
     "text": [
      "D:\\anaconda\\lib\\site-packages\\ipykernel_launcher.py:1: RuntimeWarning: More than 20 figures have been opened. Figures created through the pyplot interface (`matplotlib.pyplot.figure`) are retained until explicitly closed and may consume too much memory. (To control this warning, see the rcParam `figure.max_open_warning`).\n",
      "  \"\"\"Entry point for launching an IPython kernel.\n"
     ]
    },
    {
     "data": {
      "application/vnd.jupyter.widget-view+json": {
       "model_id": "ca5ff43a077b4799a8bf7d61ac596325",
       "version_major": 2,
       "version_minor": 0
      },
      "text/plain": [
       "FigureCanvasNbAgg()"
      ]
     },
     "metadata": {},
     "output_type": "display_data"
    },
    {
     "data": {
      "text/plain": [
       "[<matplotlib.lines.Line2D at 0x222cbcc45f8>]"
      ]
     },
     "execution_count": 69,
     "metadata": {},
     "output_type": "execute_result"
    }
   ],
   "source": [
    "fig, ax = plt.subplots()\n",
    "\n",
    "Bs = np.array(Bs)\n",
    "ax.plot(T_list, As, 'o-')\n",
    "\n",
    "# ax.set_xscale('log')\n",
    "# ax.set_yscale('log')\n",
    "ax2 = ax.twinx()\n",
    "ax2.plot(T_list, Bs/T_list, 'o-', c = 'C1')\n",
    "\n",
    "# ax2.set_yscale('log')\n",
    "\n"
   ]
  },
  {
   "cell_type": "code",
   "execution_count": 3,
   "metadata": {
    "scrolled": false
   },
   "outputs": [
    {
     "data": {
      "application/vnd.jupyter.widget-view+json": {
       "model_id": "f6419f83debe45708bd57fd511222cb9",
       "version_major": 2,
       "version_minor": 0
      },
      "text/plain": [
       "FigureCanvasNbAgg()"
      ]
     },
     "metadata": {},
     "output_type": "display_data"
    }
   ],
   "source": [
    "\n",
    "R_env_list = np.logspace(2, 5, 51)\n",
    "\n",
    "\n",
    "\n",
    "EJ = 0.15\n",
    "T =  0.05\n",
    "\n",
    "fig, ax = plt.subplots()\n",
    "ax2 = ax.twinx()\n",
    "\n",
    "for EJ in [0.15, 0.25, 0.35]:\n",
    "\n",
    "    R0s  = []\n",
    "    Isws = []\n",
    "\n",
    "    for R_env in R_env_list:\n",
    "\n",
    "        R0, Isw = find_R0_Isw( EJ, R_env , T, VERBOSE = False)\n",
    "        R0s.append(R0)\n",
    "        Isws.append(Isw)\n",
    "\n",
    "\n",
    "    ax.plot(R_env_list, R0s, label = f'EJ = {EJ} K')\n",
    "\n",
    "\n",
    "\n",
    "\n",
    "    ax2.plot(R_env_list, Isws, '--')\n",
    "    \n",
    "ax.legend()    \n",
    "\n",
    "ax.set_xscale ('log')\n",
    "ax.set_yscale ('log')\n",
    "\n",
    "ax2.set_yscale ('log')\n"
   ]
  },
  {
   "cell_type": "code",
   "execution_count": 5,
   "metadata": {},
   "outputs": [
    {
     "data": {
      "application/vnd.jupyter.widget-view+json": {
       "model_id": "1fc1c86e6fea46219cfec4808561dbd4",
       "version_major": 2,
       "version_minor": 0
      },
      "text/plain": [
       "FigureCanvasNbAgg()"
      ]
     },
     "metadata": {},
     "output_type": "display_data"
    }
   ],
   "source": [
    "\n",
    "EJ_list = np.logspace(-2, 1, 51)\n",
    "\n",
    "\n",
    "\n",
    "# R_env = 0.15\n",
    "T =  0.05\n",
    "\n",
    "fig, ax = plt.subplots()\n",
    "ax2 = ax.twinx()\n",
    "\n",
    "for R_env in [1e3, 1e5]:\n",
    "\n",
    "    R0s  = []\n",
    "    Isws = []\n",
    "\n",
    "    for EJ in EJ_list:\n",
    "\n",
    "        R0, Isw = find_R0_Isw( EJ, R_env , T, VERBOSE = False)\n",
    "        R0s.append(R0)\n",
    "        Isws.append(Isw)\n",
    "\n",
    "\n",
    "    ax.plot(EJ_list, R0s, label = f'Renv = {R_env/1e3} kOhm')\n",
    "    \n",
    "    Ics = EJ_list/(Φ0/2/pi/kB)\n",
    "    ax2.plot(EJ_list, Ics, '--')\n",
    "\n",
    "\n",
    "#     ax2 = ax.twinx()\n",
    "    Isws = np.array(Isws)\n",
    "    ax2.plot(EJ_list, Isws/EJ_list, '--')\n",
    "    \n",
    "ax.legend()    \n",
    "\n",
    "ax.set_xscale ('log')\n",
    "ax.set_yscale ('log')\n",
    "\n",
    "ax2.set_yscale ('log')\n"
   ]
  },
  {
   "cell_type": "markdown",
   "metadata": {},
   "source": [
    "## 3. Phase diffusion as Fokker-Plank process -2\n",
    "[Ambegaokar-Halperin PRL 22 25 1969](https://journals.aps.org/prl/pdf/10.1103/PhysRevLett.22.1364 )\n",
    "\n"
   ]
  },
  {
   "cell_type": "markdown",
   "metadata": {},
   "source": [
    "- The same Fokker-Planck eq with non-zero $C$, overdamped limit $\\eta = 1/RC \\gg 1$\n",
    "- Attempt frequency is $\\omega_J^2 / 2 \\pi \\eta =  \\omega_J / \\beta_C$\n",
    "- Derived for I-biased regime\n",
    "- Note the difference between the total current through R||JJ and pure supercurrent"
   ]
  },
  {
   "cell_type": "code",
   "execution_count": 11,
   "metadata": {
    "scrolled": false
   },
   "outputs": [
    {
     "data": {
      "application/vnd.jupyter.widget-view+json": {
       "model_id": "c1a09b828a6b46fe91fa3e303f1d8881",
       "version_major": 2,
       "version_minor": 0
      },
      "text/plain": [
       "FigureCanvasNbAgg()"
      ]
     },
     "metadata": {},
     "output_type": "display_data"
    },
    {
     "name": "stderr",
     "output_type": "stream",
     "text": [
      "e:\\OneDrive - Rutgers University\\files_GitHub\\JJ_arrays\\JJformulas.py:140: RuntimeWarning: invalid value encountered in sqrt\n",
      "  i_ = (1 - i**2)**0.5\n",
      "e:\\OneDrive - Rutgers University\\files_GitHub\\JJ_arrays\\JJformulas.py:142: RuntimeWarning: invalid value encountered in arcsin\n",
      "  return 2*Ic0*Rn* i_ * np.exp( -Γ*( i_ + i*np.arcsin(i) ))*np.sinh(np.pi/2*Γ*i)\n",
      "D:\\anaconda\\lib\\site-packages\\ipykernel_launcher.py:19: RuntimeWarning: invalid value encountered in greater\n"
     ]
    },
    {
     "name": "stdout",
     "output_type": "stream",
     "text": [
      "[6.97901002e-07 5.08093587e-04]\n",
      "[3.69897391e-05 3.30240945e-04]\n",
      "[0.00019906 0.00025733]\n",
      "[0.00056441 0.00021161]\n",
      "[0.00120295 0.00017683]\n",
      "[0.00217945 0.00014796]\n",
      "[0.00357014 0.00012286]\n",
      "[0.00551522 0.00010019]\n",
      "[8.35680367e-03 7.88027008e-05]\n",
      "[1.31787328e-02 5.71626939e-05]\n",
      "[2.67387938e-02 3.12563135e-05]\n"
     ]
    }
   ],
   "source": [
    "fig, ax = plt.subplots()\n",
    "\n",
    "Ic = 35e-9\n",
    "\n",
    "Is = np.linspace(0, 1.5*Ic, 501)\n",
    "\n",
    "R = 1\n",
    "\n",
    "T_list = np.linspace(0.05, 0.5, 11)\n",
    "As = []\n",
    "Bs = []\n",
    "\n",
    "\n",
    "Ims =[]\n",
    "for T in T_list:\n",
    "\n",
    "    Vs = V_AH_star( Is, EJ =0.51, Rn = R,  T = T)\n",
    "\n",
    "    ind = np.where (np.diff (Vs ) >0)\n",
    "\n",
    "    Is, Vs = Is[:-1][ind][:-10], Vs[:-1][ind][:-10]\n",
    "\n",
    "    Ims.append(Is[np.argmax(Vs)])\n",
    "    \n",
    "    ax.plot(   Is/1e-9, Vs/1e-3, label = r'$I_b - V$')\n",
    "\n",
    "\n",
    "    V_fit = lambda x, A,B  : A*np.sinh(x*B )\n",
    "    popt1 = ( 1e-3 , 1e-3)\n",
    "    popt, pcov = curve_fit(V_fit, Is/1e-12 ,Vs/1e-6, p0 = popt1 )\n",
    "\n",
    "    Vf = V_fit(Is/1e-12, *popt)*1e-6\n",
    "    \n",
    "    A, B = popt[0], popt[1]\n",
    "    \n",
    "    As.append(A)\n",
    "    Bs.append(B)\n",
    "\n",
    "    ax.plot(Is/1e-9, Vf/1e-3,'--' )\n",
    "\n",
    "\n",
    "    # ax.plot(  Vs/1e-3, (Is - Vs/R)/1e-9, label = r'$I_s - V$')\n",
    "\n",
    "\n",
    "#     ax.set_xlabel(r'$V, mV$')\n",
    "#     ax.set_ylabel(r'$I, nA$')\n",
    "\n",
    "    print(popt)\n",
    "\n",
    "# ax.legend()\n",
    "\n",
    "# Bs = np.array(Bs)\n",
    "# ax.plot(T_list, As)\n",
    "\n",
    "# # ax.set_xscale('log')\n",
    "# # ax.set_yscale('log')\n",
    "# ax2 = ax.twinx()\n",
    "# ax2.plot(T_list, Bs/T_list, c = 'C1')\n",
    "\n",
    "# ax2.set_yscale('log')\n",
    "\n",
    "# fig, ax = plt.subplots()\n",
    "# ax.plot(T_list, Ims, 'o-')"
   ]
  },
  {
   "cell_type": "markdown",
   "metadata": {},
   "source": [
    "## 4. Phase diffusion as activation process \n",
    "Kautz Martinis"
   ]
  },
  {
   "cell_type": "markdown",
   "metadata": {},
   "source": [
    "### 4a. Thermally activated PD"
   ]
  },
  {
   "cell_type": "markdown",
   "metadata": {},
   "source": [
    "# Coulomb at P(E)"
   ]
  },
  {
   "cell_type": "markdown",
   "metadata": {},
   "source": [
    "## $E_J$ renormalization"
   ]
  },
  {
   "cell_type": "markdown",
   "metadata": {},
   "source": [
    "In the limit $E_J \\ll E_C$ and high-resistive environment a probability of CP tunneling is quadratic in $E_J$ and effective $E_J$ can be calculated ([Mesoscopic Josephson Effect Superlatt. Microstruct. 25, 915 (1999)](https://www.physik.uni-augsburg.de/theo1/ingold/publikationen_coll/grabe99/grabe99.pdf) )\n"
   ]
  },
  {
   "cell_type": "code",
   "execution_count": 13,
   "metadata": {
    "scrolled": false
   },
   "outputs": [
    {
     "data": {
      "application/vnd.jupyter.widget-view+json": {
       "model_id": "7aa6678ae09f44c49f2a8aba3a4495db",
       "version_major": 2,
       "version_minor": 0
      },
      "text/plain": [
       "FigureCanvasNbAgg()"
      ]
     },
     "metadata": {},
     "output_type": "display_data"
    },
    {
     "data": {
      "text/plain": [
       "Text(0, 0.5, '$E_J^*, K$')"
      ]
     },
     "execution_count": 13,
     "metadata": {},
     "output_type": "execute_result"
    }
   ],
   "source": [
    "Renv_list = np.logspace(2, 6, 101)\n",
    "\n",
    "RN = 10e3\n",
    "\n",
    "\n",
    "Cj_list = [1e-15, 1.5e-15, 2e-15]\n",
    "fig, ax1 = plt.subplots()\n",
    "\n",
    "for Cj in Cj_list:\n",
    "    EJs = EJ_star (EJ = EJ_AB(RN), R = Renv_list, T = .03, C = Cj)\n",
    "\n",
    "    ax1.plot( Renv_list , EJs, label = r'C = {:1.2f} fF'.format(Cj/1e-15 ))\n",
    "\n",
    "# ax1.plot( Renv_list , EJ_AB(RN), '--k', alpha = 0.5)\n",
    "ax1.axhline(EJ_AB(RN), 0 , 1, ls = '--', color = 'k', alpha = 0.5)\n",
    "\n",
    "\n",
    "ax1.legend()\n",
    "\n",
    "ax1.set_xscale('log')\n",
    "ax1.set_yscale('log')\n",
    "\n",
    "ax1.set_xlabel(r'$R_{env}, K$')\n",
    "ax1.set_ylabel(r'$E_J^*, K$')"
   ]
  },
  {
   "cell_type": "markdown",
   "metadata": {},
   "source": [
    "### T-dependence"
   ]
  },
  {
   "cell_type": "code",
   "execution_count": 14,
   "metadata": {},
   "outputs": [
    {
     "data": {
      "application/vnd.jupyter.widget-view+json": {
       "model_id": "181f3e053541482b95db057213f659d6",
       "version_major": 2,
       "version_minor": 0
      },
      "text/plain": [
       "FigureCanvasNbAgg()"
      ]
     },
     "metadata": {},
     "output_type": "display_data"
    },
    {
     "data": {
      "text/plain": [
       "Text(0, 0.5, '$E_J^*, K$')"
      ]
     },
     "execution_count": 14,
     "metadata": {},
     "output_type": "execute_result"
    }
   ],
   "source": [
    "Renv_list = np.logspace(2, 6, 101)\n",
    "\n",
    "RN = 10e3\n",
    "\n",
    "Cj = 1.5e-15\n",
    "\n",
    "Tb_list = [0.05, 0.10, .15]\n",
    "fig, ax1 = plt.subplots()\n",
    "\n",
    "for Tb in Tb_list:\n",
    "    EJs = EJ_star (EJ = EJ_AB(RN), R = Renv_list, T = Tb, C = Cj)\n",
    "\n",
    "    ax1.plot( Renv_list , EJs, label = r'T = {:3.0f} mK'.format(Tb/1e-3 ))\n",
    "\n",
    "# ax1.plot( Renv_list , EJ_AB(RN), '--k', alpha = 0.5)\n",
    "ax1.axhline(EJ_AB(RN), 0 , 1, ls = '--', color = 'k', alpha = 0.5)\n",
    "\n",
    "\n",
    "ax1.legend()\n",
    "\n",
    "ax1.set_xscale('log')\n",
    "ax1.set_yscale('log')\n",
    "\n",
    "ax1.set_xlabel(r'$R_{env}, K$')\n",
    "ax1.set_ylabel(r'$E_J^*, K$')"
   ]
  },
  {
   "cell_type": "markdown",
   "metadata": {},
   "source": [
    "## $R_0$ as a result of thermal diffusion + $E_J$ renormalization"
   ]
  },
  {
   "cell_type": "code",
   "execution_count": 24,
   "metadata": {},
   "outputs": [
    {
     "data": {
      "application/vnd.jupyter.widget-view+json": {
       "model_id": "7d4eb154d49d4fb693e51f7721e42d1a",
       "version_major": 2,
       "version_minor": 0
      },
      "text/plain": [
       "FigureCanvasNbAgg()"
      ]
     },
     "metadata": {},
     "output_type": "display_data"
    },
    {
     "data": {
      "text/plain": [
       "Text(0, 0.5, '$R_0, k \\\\Omega$')"
      ]
     },
     "execution_count": 24,
     "metadata": {},
     "output_type": "execute_result"
    }
   ],
   "source": [
    "R_list = np.logspace(2, 5.5, 51)\n",
    "\n",
    "Cj = 1.75e-15\n",
    "Tb = 0.035\n",
    "\n",
    "\n",
    "\n",
    "fig, ax1 = plt.subplots()\n",
    "\n",
    "R0s = []\n",
    "\n",
    "for R in R_list:\n",
    "    EJs = EJ_star (EJ = EJ_AB(R), R = 1e3, T = Tb, C = Cj)\n",
    "    R0, _ = find_R0_Isw( EJs ,R_env = 1e3, T = Tb)\n",
    "    R0s.append(R0)\n",
    "\n",
    "ax1.plot( EJ_AB(R_list) , R0s, label = r'C = {:1.2f} fF'.format(Cj/1e-15))\n",
    "\n",
    "\n",
    "\n",
    "\n",
    "ax1.legend()\n",
    "\n",
    "# ax1.set_xscale('log')\n",
    "ax1.set_yscale('log')\n",
    "\n",
    "ax1.set_xlabel(r'$E_J, K$')\n",
    "ax1.set_ylabel(r'$R_0, k \\Omega$')"
   ]
  },
  {
   "cell_type": "markdown",
   "metadata": {},
   "source": [
    "### T-dependence"
   ]
  },
  {
   "cell_type": "code",
   "execution_count": null,
   "metadata": {},
   "outputs": [],
   "source": []
  },
  {
   "cell_type": "code",
   "execution_count": 16,
   "metadata": {},
   "outputs": [
    {
     "data": {
      "application/vnd.jupyter.widget-view+json": {
       "model_id": "cc4246b66a744057bf93eed20bf44f55",
       "version_major": 2,
       "version_minor": 0
      },
      "text/plain": [
       "FigureCanvasNbAgg()"
      ]
     },
     "metadata": {},
     "output_type": "display_data"
    },
    {
     "data": {
      "text/plain": [
       "Text(0, 0.5, '$R, k \\\\Omega$')"
      ]
     },
     "execution_count": 16,
     "metadata": {},
     "output_type": "execute_result"
    }
   ],
   "source": [
    "RN = 10e3\n",
    "R_env = 100e3\n",
    "\n",
    "Cj = 2e-15\n",
    "Tb_list =  np.linspace(0.05, .25, 51)\n",
    "\n",
    "# EJs = EJ_star (EJ = EJ_AB(RN), R = R_env, T = Tb, C = Cj)\n",
    "\n",
    "fig, ax1 = plt.subplots()\n",
    "\n",
    "R0s = []\n",
    "\n",
    "for Tb in Tb_list:\n",
    "    R0 = find_R0( RN, R_env = R_env , T = Tb, C = Cj)\n",
    "    R0s.append(R0)\n",
    "\n",
    "ax1.plot( Tb_list , R0s, label = r'C = {:1.2f} fF'.format(Cj/1e-15))\n",
    "\n",
    "\n",
    "\n",
    "\n",
    "ax1.legend()\n",
    "\n",
    "# ax1.set_xscale('log')\n",
    "ax1.set_yscale('log')\n",
    "\n",
    "ax1.set_xlabel(r'$T, K$')\n",
    "ax1.set_ylabel(r'$R, k \\Omega$')"
   ]
  },
  {
   "cell_type": "code",
   "execution_count": 17,
   "metadata": {},
   "outputs": [
    {
     "data": {
      "application/vnd.jupyter.widget-view+json": {
       "model_id": "30c0f28bfa414571a86fb71bbca644a4",
       "version_major": 2,
       "version_minor": 0
      },
      "text/plain": [
       "FigureCanvasNbAgg()"
      ]
     },
     "metadata": {},
     "output_type": "display_data"
    }
   ],
   "source": [
    "fig, ax = plt.subplots()\n",
    "T = np.linspace(0.05, 4.05, 101)\n",
    "\n",
    "# ax.plot( T , Rj(1e3, T))\n",
    "ax.plot( T , 1 / ( 1e-9 +  1e-6*np.exp(  -2/T )) )  \n",
    "ax.set_yscale('log')"
   ]
  },
  {
   "cell_type": "code",
   "execution_count": 18,
   "metadata": {},
   "outputs": [
    {
     "data": {
      "text/plain": [
       "3.720075976020836e-44"
      ]
     },
     "execution_count": 18,
     "metadata": {},
     "output_type": "execute_result"
    }
   ],
   "source": [
    "np.exp(-100)"
   ]
  },
  {
   "cell_type": "markdown",
   "metadata": {},
   "source": [
    "# Kautz-Martinis\n"
   ]
  },
  {
   "cell_type": "code",
   "execution_count": 6,
   "metadata": {},
   "outputs": [
    {
     "data": {
      "application/vnd.jupyter.widget-view+json": {
       "model_id": "0ed624c7c893430fae166197637ecf71",
       "version_major": 2,
       "version_minor": 0
      },
      "text/plain": [
       "FigureCanvasNbAgg()"
      ]
     },
     "metadata": {},
     "output_type": "display_data"
    },
    {
     "data": {
      "text/plain": [
       "[<matplotlib.lines.Line2D at 0x22239c05eb8>]"
      ]
     },
     "execution_count": 6,
     "metadata": {},
     "output_type": "execute_result"
    }
   ],
   "source": [
    "fig, ax = plt.subplots()\n",
    "Tb = np.linspace(0.05, 4.05, 101)\n",
    "\n",
    "Nps, Nms = Njump(i = 0.5, Q = 50, EJ = 1, T = Tb)\n",
    "\n",
    "ax.plot(Tb, Nps)\n",
    "ax.plot(Tb, Nms)"
   ]
  },
  {
   "cell_type": "code",
   "execution_count": 7,
   "metadata": {},
   "outputs": [
    {
     "data": {
      "application/vnd.jupyter.widget-view+json": {
       "model_id": "df822cfe3b5a4c05be69c67f782f0413",
       "version_major": 2,
       "version_minor": 0
      },
      "text/plain": [
       "FigureCanvasNbAgg()"
      ]
     },
     "metadata": {},
     "output_type": "display_data"
    },
    {
     "name": "stderr",
     "output_type": "stream",
     "text": [
      "e:\\OneDrive - Rutgers University\\files_GitHub\\JJ_arrays\\JJformulas.py:176: RuntimeWarning: invalid value encountered in log\n",
      "  Np = 1 + 2*Q/np.pi**2*( Ed - 1 ) + i*Q**2/2/np.pi*np.log( ( Ed - im )/(1 - im) )\n"
     ]
    },
    {
     "data": {
      "text/plain": [
       "[<matplotlib.lines.Line2D at 0x22239c05358>]"
      ]
     },
     "execution_count": 7,
     "metadata": {},
     "output_type": "execute_result"
    }
   ],
   "source": [
    "fig, ax = plt.subplots()\n",
    "i = np.linspace(0.0, 1/3, 101)\n",
    "\n",
    "Nps, Nms = Njump(i = i, Q = 5, EJ = 1, T = 0.2)\n",
    "\n",
    "ax.plot(i, Nps)\n",
    "ax.plot(i, Nms)"
   ]
  },
  {
   "cell_type": "code",
   "execution_count": 8,
   "metadata": {},
   "outputs": [
    {
     "data": {
      "application/vnd.jupyter.widget-view+json": {
       "model_id": "c790d3cf6aef4cf99d486ff4c71c9b51",
       "version_major": 2,
       "version_minor": 0
      },
      "text/plain": [
       "FigureCanvasNbAgg()"
      ]
     },
     "metadata": {},
     "output_type": "display_data"
    }
   ],
   "source": [
    "fig, ax = plt.subplots()\n",
    "Tb = np.linspace(0.05, 4.05, 101)\n",
    "\n",
    "τp, τm = τ(i = 0.1, EJ = 1, Ec = 0.5, T = Tb)\n",
    "\n",
    "ax.plot(1/Tb, τp)\n",
    "ax.plot(1/Tb, τm)\n",
    "\n",
    "ax.set_yscale('log')"
   ]
  },
  {
   "cell_type": "code",
   "execution_count": 9,
   "metadata": {},
   "outputs": [
    {
     "data": {
      "application/vnd.jupyter.widget-view+json": {
       "model_id": "ac4747bc80964ff6b9243cb726b7c3cc",
       "version_major": 2,
       "version_minor": 0
      },
      "text/plain": [
       "FigureCanvasNbAgg()"
      ]
     },
     "metadata": {},
     "output_type": "display_data"
    },
    {
     "data": {
      "text/plain": [
       "[<matplotlib.lines.Line2D at 0x2223a8affd0>]"
      ]
     },
     "execution_count": 9,
     "metadata": {},
     "output_type": "execute_result"
    }
   ],
   "source": [
    "fig, ax = plt.subplots()\n",
    "i = np.linspace(0.0, 1, 101)\n",
    "\n",
    "ΔUp, ΔUm = ΔU(i, EJ)\n",
    "\n",
    "ax.plot(i, ΔUp)\n",
    "ax.plot(i, ΔUm)"
   ]
  },
  {
   "cell_type": "code",
   "execution_count": 12,
   "metadata": {},
   "outputs": [
    {
     "data": {
      "application/vnd.jupyter.widget-view+json": {
       "model_id": "d9db711cb566444ab16c3c536cd10fcd",
       "version_major": 2,
       "version_minor": 0
      },
      "text/plain": [
       "FigureCanvasNbAgg()"
      ]
     },
     "metadata": {},
     "output_type": "display_data"
    },
    {
     "name": "stderr",
     "output_type": "stream",
     "text": [
      "e:\\OneDrive - Rutgers University\\files_GitHub\\JJ_arrays\\JJformulas.py:176: RuntimeWarning: invalid value encountered in log\n",
      "  Np = 1 + 2*Q/np.pi**2*( Ed - 1 ) + i*Q**2/2/np.pi*np.log( ( Ed - im )/(1 - im) )\n",
      "e:\\OneDrive - Rutgers University\\files_GitHub\\JJ_arrays\\JJformulas.py:177: RuntimeWarning: invalid value encountered in log\n",
      "  Nm = 1 + 2*Q/np.pi**2*( Ed - 1 ) - i*Q**2/2/np.pi*np.log( ( Ed + im )/(1 + im) )\n"
     ]
    }
   ],
   "source": [
    "Q = 10\n",
    "\n",
    "fig, ax = plt.subplots()\n",
    "\n",
    "for EJ in [1, .5 , .1]:\n",
    "    i = np.linspace(-1/Q, 1/Q, 101)\n",
    "\n",
    "    Vs = V_KM(i, EJ = EJ, Ec = 0.9, Q = 2*Q, T = 0.75)\n",
    "\n",
    "    ax.plot(i, Vs)\n"
   ]
  }
 ],
 "metadata": {
  "kernelspec": {
   "display_name": "Python 3",
   "language": "python",
   "name": "python3"
  },
  "language_info": {
   "codemirror_mode": {
    "name": "ipython",
    "version": 3
   },
   "file_extension": ".py",
   "mimetype": "text/x-python",
   "name": "python",
   "nbconvert_exporter": "python",
   "pygments_lexer": "ipython3",
   "version": "3.6.5"
  },
  "toc": {
   "base_numbering": 1,
   "nav_menu": {},
   "number_sections": true,
   "sideBar": false,
   "skip_h1_title": false,
   "title_cell": "Table of Contents",
   "title_sidebar": "Contents",
   "toc_cell": false,
   "toc_position": {
    "height": "429.333px",
    "left": "10px",
    "top": "150px",
    "width": "165px"
   },
   "toc_section_display": true,
   "toc_window_display": true
  }
 },
 "nbformat": 4,
 "nbformat_minor": 2
}
