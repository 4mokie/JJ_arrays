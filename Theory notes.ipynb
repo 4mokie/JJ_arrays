{
 "cells": [
  {
   "cell_type": "code",
   "execution_count": 107,
   "metadata": {},
   "outputs": [
    {
     "name": "stdout",
     "output_type": "stream",
     "text": [
      "The autoreload extension is already loaded. To reload it, use:\n",
      "  %reload_ext autoreload\n"
     ]
    }
   ],
   "source": [
    "%matplotlib widget\n",
    "%load_ext autoreload\n",
    "%autoreload 2\n",
    "\n",
    "\n",
    "import matplotlib.pyplot as plt\n",
    "import matplotlib.gridspec as GridSpec\n",
    "import numpy as np\n",
    "import os\n",
    "\n",
    "# from tqdm import tqdm, tqdm_notebook\n",
    "import math\n",
    "\n",
    "# from  scipy.special import digamma as ψ\n",
    "# from mpmath import besseli as Iν\n",
    "# from scipy.constants import hbar, pi, h, e, k\n",
    "\n",
    "# kB = k\n",
    "# γ = 0.57721566\n",
    "# RQ = h/4/e**2\n",
    "# Φ0 = h/2/e\n",
    "\n",
    "from JJformulas import *"
   ]
  },
  {
   "cell_type": "markdown",
   "metadata": {},
   "source": [
    "# Notes on theory of JJ"
   ]
  },
  {
   "cell_type": "markdown",
   "metadata": {},
   "source": [
    "The intention of this note is to summarize and organize the knowledge on the physics of single JJ, namely TA and Q phase diffusion, environment impedance influence, Bloch oscillations, etc  "
   ]
  },
  {
   "cell_type": "markdown",
   "metadata": {},
   "source": [
    "## 1. RS(C)J-model"
   ]
  },
  {
   "cell_type": "markdown",
   "metadata": {},
   "source": [
    "The simplest model considers current-biasing circuit consisted of Josephson element, Resistor and capasitor.\n",
    "\n",
    "$I_s = I_c \\sin \\phi$\n",
    "\n",
    "$\\dot{\\phi} = \\frac{2 e}{ \\hbar} V $\n",
    "\n",
    "$ I_0 = \\frac{\\hbar C}{2e} \\ddot{ \\phi }  + \\frac{\\hbar}{ 2eR} \\dot \\phi + I_c \\sin \\phi $\n"
   ]
  },
  {
   "attachments": {
    "image.png": {
     "image/png": "[encoded data removed]"
    }
   },
   "cell_type": "markdown",
   "metadata": {},
   "source": [
    "![image.png](attachment:image.png)\n",
    "[Kopnin lecture]\n",
    "\n",
    "$\\omega_p = \\sqrt{2eI_c/\\hbar C} = \\sqrt{8 E_J E_C}$ - plasma frequency\n",
    "\n",
    "$Q = \\omega_p R C$ - quality factor"
   ]
  },
  {
   "cell_type": "markdown",
   "metadata": {},
   "source": [
    "### 1a) $C \\rightarrow \\infty $\n",
    "Equvalent to underdamped regime ( $ 1/ \\omega_p C \\ll R $, $Q \\gg 1$ ). Capacitence completely shunts josephson generation "
   ]
  },
  {
   "cell_type": "markdown",
   "metadata": {},
   "source": [
    "$$I_0 < I_c \\Rightarrow I_s = I_0, I_R = 0, I_C = 0$$\n",
    "\n",
    "$$I_0 > I_c \\Rightarrow \\overline{I_s + I_C} = 0, I_R = I_0$$"
   ]
  },
  {
   "cell_type": "markdown",
   "metadata": {},
   "source": [
    "### 2a) $ C = 0$\n",
    "\n",
    "Equvalent to overdamped regime ( $ 1/ \\omega_p C \\gg R $, $Q \\ll 1$ )\n",
    "\n",
    "For $I_0 > I_c$ Josephson current flows through resistor, so instantaneous voltage changes with time "
   ]
  },
  {
   "cell_type": "code",
   "execution_count": null,
   "metadata": {},
   "outputs": [],
   "source": [
    "t = np.linsapce(0, 5*2*np.pi, 101)\n",
    "Vinst = "
   ]
  },
  {
   "cell_type": "markdown",
   "metadata": {},
   "source": [
    "$ <I_s> = I_0 - <V>/R = I_0\\left(1 - \\sqrt{1 - \\left( \\frac{I_C}{I_0} \\right)^2}\\right)$"
   ]
  },
  {
   "cell_type": "code",
   "execution_count": 15,
   "metadata": {
    "scrolled": false
   },
   "outputs": [
    {
     "data": {
      "application/javascript": [
       "/* Put everything inside the global mpl namespace */\n",
       "window.mpl = {};\n",
       "\n",
       "\n",
       "mpl.get_websocket_type = function() {\n",
       "    if (typeof(WebSocket) !== 'undefined') {\n",
       "        return WebSocket;\n",
       "    } else if (typeof(MozWebSocket) !== 'undefined') {\n",
       "        return MozWebSocket;\n",
       "    } else {\n",
       "        alert('Your browser does not have WebSocket support.' +\n",
       "              'Please try Chrome, Safari or Firefox ≥ 6. ' +\n",
       "              'Firefox 4 and 5 are also supported but you ' +\n",
       "              'have to enable WebSockets in about:config.');\n",
       "    };\n",
       "}\n",
       "\n",
       "mpl.figure = function(figure_id, websocket, ondownload, parent_element) {\n",
       "    this.id = figure_id;\n",
       "\n",
       "    this.ws = websocket;\n",
       "\n",
       "    this.supports_binary = (this.ws.binaryType != undefined);\n",
       "\n",
       "    if (!this.supports_binary) {\n",
       "        var warnings = document.getElementById(\"mpl-warnings\");\n",
       "        if (warnings) {\n",
       "            warnings.style.display = 'block';\n",
       "            warnings.textContent = (\n",
       "                \"This browser does not support binary websocket messages. \" +\n",
       "                    \"Performance may be slow.\");\n",
       "        }\n",
       "    }\n",
       "\n",
       "    this.imageObj = new Image();\n",
       "\n",
       "    this.context = undefined;\n",
       "    this.message = undefined;\n",
       "    this.canvas = undefined;\n",
       "    this.rubberband_canvas = undefined;\n",
       "    this.rubberband_context = undefined;\n",
       "    this.format_dropdown = undefined;\n",
       "\n",
       "    this.image_mode = 'full';\n",
       "\n",
       "    this.root = $('<div/>');\n",
       "    this._root_extra_style(this.root)\n",
       "    this.root.attr('style', 'display: inline-block');\n",
       "\n",
       "    $(parent_element).append(this.root);\n",
       "\n",
       "    this._init_header(this);\n",
       "    this._init_canvas(this);\n",
       "    this._init_toolbar(this);\n",
       "\n",
       "    var fig = this;\n",
       "\n",
       "    this.waiting = false;\n",
       "\n",
       "    this.ws.onopen =  function () {\n",
       "            fig.send_message(\"supports_binary\", {value: fig.supports_binary});\n",
       "            fig.send_message(\"send_image_mode\", {});\n",
       "            if (mpl.ratio != 1) {\n",
       "                fig.send_message(\"set_dpi_ratio\", {'dpi_ratio': mpl.ratio});\n",
       "            }\n",
       "            fig.send_message(\"refresh\", {});\n",
       "        }\n",
       "\n",
       "    this.imageObj.onload = function() {\n",
       "            if (fig.image_mode == 'full') {\n",
       "                // Full images could contain transparency (where diff images\n",
       "                // almost always do), so we need to clear the canvas so that\n",
       "                // there is no ghosting.\n",
       "                fig.context.clearRect(0, 0, fig.canvas.width, fig.canvas.height);\n",
       "            }\n",
       "            fig.context.drawImage(fig.imageObj, 0, 0);\n",
       "        };\n",
       "\n",
       "    this.imageObj.onunload = function() {\n",
       "        fig.ws.close();\n",
       "    }\n",
       "\n",
       "    this.ws.onmessage = this._make_on_message_function(this);\n",
       "\n",
       "    this.ondownload = ondownload;\n",
       "}\n",
       "\n",
       "mpl.figure.prototype._init_header = function() {\n",
       "    var titlebar = $(\n",
       "        '<div class=\"ui-dialog-titlebar ui-widget-header ui-corner-all ' +\n",
       "        'ui-helper-clearfix\"/>');\n",
       "    var titletext = $(\n",
       "        '<div class=\"ui-dialog-title\" style=\"width: 100%; ' +\n",
       "        'text-align: center; padding: 3px;\"/>');\n",
       "    titlebar.append(titletext)\n",
       "    this.root.append(titlebar);\n",
       "    this.header = titletext[0];\n",
       "}\n",
       "\n",
       "\n",
       "\n",
       "mpl.figure.prototype._canvas_extra_style = function(canvas_div) {\n",
       "\n",
       "}\n",
       "\n",
       "\n",
       "mpl.figure.prototype._root_extra_style = function(canvas_div) {\n",
       "\n",
       "}\n",
       "\n",
       "mpl.figure.prototype._init_canvas = function() {\n",
       "    var fig = this;\n",
       "\n",
       "    var canvas_div = $('<div/>');\n",
       "\n",
       "    canvas_div.attr('style', 'position: relative; clear: both; outline: 0');\n",
       "\n",
       "    function canvas_keyboard_event(event) {\n",
       "        return fig.key_event(event, event['data']);\n",
       "    }\n",
       "\n",
       "    canvas_div.keydown('key_press', canvas_keyboard_event);\n",
       "    canvas_div.keyup('key_release', canvas_keyboard_event);\n",
       "    this.canvas_div = canvas_div\n",
       "    this._canvas_extra_style(canvas_div)\n",
       "    this.root.append(canvas_div);\n",
       "\n",
       "    var canvas = $('<canvas/>');\n",
       "    canvas.addClass('mpl-canvas');\n",
       "    canvas.attr('style', \"left: 0; top: 0; z-index: 0; outline: 0\")\n",
       "\n",
       "    this.canvas = canvas[0];\n",
       "    this.context = canvas[0].getContext(\"2d\");\n",
       "\n",
       "    var backingStore = this.context.backingStorePixelRatio ||\n",
       "\tthis.context.webkitBackingStorePixelRatio ||\n",
       "\tthis.context.mozBackingStorePixelRatio ||\n",
       "\tthis.context.msBackingStorePixelRatio ||\n",
       "\tthis.context.oBackingStorePixelRatio ||\n",
       "\tthis.context.backingStorePixelRatio || 1;\n",
       "\n",
       "    mpl.ratio = (window.devicePixelRatio || 1) / backingStore;\n",
       "\n",
       "    var rubberband = $('<canvas/>');\n",
       "    rubberband.attr('style', \"position: absolute; left: 0; top: 0; z-index: 1;\")\n",
       "\n",
       "    var pass_mouse_events = true;\n",
       "\n",
       "    canvas_div.resizable({\n",
       "        start: function(event, ui) {\n",
       "            pass_mouse_events = false;\n",
       "        },\n",
       "        resize: function(event, ui) {\n",
       "            fig.request_resize(ui.size.width, ui.size.height);\n",
       "        },\n",
       "        stop: function(event, ui) {\n",
       "            pass_mouse_events = true;\n",
       "            fig.request_resize(ui.size.width, ui.size.height);\n",
       "        },\n",
       "    });\n",
       "\n",
       "    function mouse_event_fn(event) {\n",
       "        if (pass_mouse_events)\n",
       "            return fig.mouse_event(event, event['data']);\n",
       "    }\n",
       "\n",
       "    rubberband.mousedown('button_press', mouse_event_fn);\n",
       "    rubberband.mouseup('button_release', mouse_event_fn);\n",
       "    // Throttle sequential mouse events to 1 every 20ms.\n",
       "    rubberband.mousemove('motion_notify', mouse_event_fn);\n",
       "\n",
       "    rubberband.mouseenter('figure_enter', mouse_event_fn);\n",
       "    rubberband.mouseleave('figure_leave', mouse_event_fn);\n",
       "\n",
       "    canvas_div.on(\"wheel\", function (event) {\n",
       "        event = event.originalEvent;\n",
       "        event['data'] = 'scroll'\n",
       "        if (event.deltaY < 0) {\n",
       "            event.step = 1;\n",
       "        } else {\n",
       "            event.step = -1;\n",
       "        }\n",
       "        mouse_event_fn(event);\n",
       "    });\n",
       "\n",
       "    canvas_div.append(canvas);\n",
       "    canvas_div.append(rubberband);\n",
       "\n",
       "    this.rubberband = rubberband;\n",
       "    this.rubberband_canvas = rubberband[0];\n",
       "    this.rubberband_context = rubberband[0].getContext(\"2d\");\n",
       "    this.rubberband_context.strokeStyle = \"#000000\";\n",
       "\n",
       "    this._resize_canvas = function(width, height) {\n",
       "        // Keep the size of the canvas, canvas container, and rubber band\n",
       "        // canvas in synch.\n",
       "        canvas_div.css('width', width)\n",
       "        canvas_div.css('height', height)\n",
       "\n",
       "        canvas.attr('width', width * mpl.ratio);\n",
       "        canvas.attr('height', height * mpl.ratio);\n",
       "        canvas.attr('style', 'width: ' + width + 'px; height: ' + height + 'px;');\n",
       "\n",
       "        rubberband.attr('width', width);\n",
       "        rubberband.attr('height', height);\n",
       "    }\n",
       "\n",
       "    // Set the figure to an initial 600x600px, this will subsequently be updated\n",
       "    // upon first draw.\n",
       "    this._resize_canvas(600, 600);\n",
       "\n",
       "    // Disable right mouse context menu.\n",
       "    $(this.rubberband_canvas).bind(\"contextmenu\",function(e){\n",
       "        return false;\n",
       "    });\n",
       "\n",
       "    function set_focus () {\n",
       "        canvas.focus();\n",
       "        canvas_div.focus();\n",
       "    }\n",
       "\n",
       "    window.setTimeout(set_focus, 100);\n",
       "}\n",
       "\n",
       "mpl.figure.prototype._init_toolbar = function() {\n",
       "    var fig = this;\n",
       "\n",
       "    var nav_element = $('<div/>')\n",
       "    nav_element.attr('style', 'width: 100%');\n",
       "    this.root.append(nav_element);\n",
       "\n",
       "    // Define a callback function for later on.\n",
       "    function toolbar_event(event) {\n",
       "        return fig.toolbar_button_onclick(event['data']);\n",
       "    }\n",
       "    function toolbar_mouse_event(event) {\n",
       "        return fig.toolbar_button_onmouseover(event['data']);\n",
       "    }\n",
       "\n",
       "    for(var toolbar_ind in mpl.toolbar_items) {\n",
       "        var name = mpl.toolbar_items[toolbar_ind][0];\n",
       "        var tooltip = mpl.toolbar_items[toolbar_ind][1];\n",
       "        var image = mpl.toolbar_items[toolbar_ind][2];\n",
       "        var method_name = mpl.toolbar_items[toolbar_ind][3];\n",
       "\n",
       "        if (!name) {\n",
       "            // put a spacer in here.\n",
       "            continue;\n",
       "        }\n",
       "        var button = $('<button/>');\n",
       "        button.addClass('ui-button ui-widget ui-state-default ui-corner-all ' +\n",
       "                        'ui-button-icon-only');\n",
       "        button.attr('role', 'button');\n",
       "        button.attr('aria-disabled', 'false');\n",
       "        button.click(method_name, toolbar_event);\n",
       "        button.mouseover(tooltip, toolbar_mouse_event);\n",
       "\n",
       "        var icon_img = $('<span/>');\n",
       "        icon_img.addClass('ui-button-icon-primary ui-icon');\n",
       "        icon_img.addClass(image);\n",
       "        icon_img.addClass('ui-corner-all');\n",
       "\n",
       "        var tooltip_span = $('<span/>');\n",
       "        tooltip_span.addClass('ui-button-text');\n",
       "        tooltip_span.html(tooltip);\n",
       "\n",
       "        button.append(icon_img);\n",
       "        button.append(tooltip_span);\n",
       "\n",
       "        nav_element.append(button);\n",
       "    }\n",
       "\n",
       "    var fmt_picker_span = $('<span/>');\n",
       "\n",
       "    var fmt_picker = $('<select/>');\n",
       "    fmt_picker.addClass('mpl-toolbar-option ui-widget ui-widget-content');\n",
       "    fmt_picker_span.append(fmt_picker);\n",
       "    nav_element.append(fmt_picker_span);\n",
       "    this.format_dropdown = fmt_picker[0];\n",
       "\n",
       "    for (var ind in mpl.extensions) {\n",
       "        var fmt = mpl.extensions[ind];\n",
       "        var option = $(\n",
       "            '<option/>', {selected: fmt === mpl.default_extension}).html(fmt);\n",
       "        fmt_picker.append(option)\n",
       "    }\n",
       "\n",
       "    // Add hover states to the ui-buttons\n",
       "    $( \".ui-button\" ).hover(\n",
       "        function() { $(this).addClass(\"ui-state-hover\");},\n",
       "        function() { $(this).removeClass(\"ui-state-hover\");}\n",
       "    );\n",
       "\n",
       "    var status_bar = $('<span class=\"mpl-message\"/>');\n",
       "    nav_element.append(status_bar);\n",
       "    this.message = status_bar[0];\n",
       "}\n",
       "\n",
       "mpl.figure.prototype.request_resize = function(x_pixels, y_pixels) {\n",
       "    // Request matplotlib to resize the figure. Matplotlib will then trigger a resize in the client,\n",
       "    // which will in turn request a refresh of the image.\n",
       "    this.send_message('resize', {'width': x_pixels, 'height': y_pixels});\n",
       "}\n",
       "\n",
       "mpl.figure.prototype.send_message = function(type, properties) {\n",
       "    properties['type'] = type;\n",
       "    properties['figure_id'] = this.id;\n",
       "    this.ws.send(JSON.stringify(properties));\n",
       "}\n",
       "\n",
       "mpl.figure.prototype.send_draw_message = function() {\n",
       "    if (!this.waiting) {\n",
       "        this.waiting = true;\n",
       "        this.ws.send(JSON.stringify({type: \"draw\", figure_id: this.id}));\n",
       "    }\n",
       "}\n",
       "\n",
       "\n",
       "mpl.figure.prototype.handle_save = function(fig, msg) {\n",
       "    var format_dropdown = fig.format_dropdown;\n",
       "    var format = format_dropdown.options[format_dropdown.selectedIndex].value;\n",
       "    fig.ondownload(fig, format);\n",
       "}\n",
       "\n",
       "\n",
       "mpl.figure.prototype.handle_resize = function(fig, msg) {\n",
       "    var size = msg['size'];\n",
       "    if (size[0] != fig.canvas.width || size[1] != fig.canvas.height) {\n",
       "        fig._resize_canvas(size[0], size[1]);\n",
       "        fig.send_message(\"refresh\", {});\n",
       "    };\n",
       "}\n",
       "\n",
       "mpl.figure.prototype.handle_rubberband = function(fig, msg) {\n",
       "    var x0 = msg['x0'] / mpl.ratio;\n",
       "    var y0 = (fig.canvas.height - msg['y0']) / mpl.ratio;\n",
       "    var x1 = msg['x1'] / mpl.ratio;\n",
       "    var y1 = (fig.canvas.height - msg['y1']) / mpl.ratio;\n",
       "    x0 = Math.floor(x0) + 0.5;\n",
       "    y0 = Math.floor(y0) + 0.5;\n",
       "    x1 = Math.floor(x1) + 0.5;\n",
       "    y1 = Math.floor(y1) + 0.5;\n",
       "    var min_x = Math.min(x0, x1);\n",
       "    var min_y = Math.min(y0, y1);\n",
       "    var width = Math.abs(x1 - x0);\n",
       "    var height = Math.abs(y1 - y0);\n",
       "\n",
       "    fig.rubberband_context.clearRect(\n",
       "        0, 0, fig.canvas.width, fig.canvas.height);\n",
       "\n",
       "    fig.rubberband_context.strokeRect(min_x, min_y, width, height);\n",
       "}\n",
       "\n",
       "mpl.figure.prototype.handle_figure_label = function(fig, msg) {\n",
       "    // Updates the figure title.\n",
       "    fig.header.textContent = msg['label'];\n",
       "}\n",
       "\n",
       "mpl.figure.prototype.handle_cursor = function(fig, msg) {\n",
       "    var cursor = msg['cursor'];\n",
       "    switch(cursor)\n",
       "    {\n",
       "    case 0:\n",
       "        cursor = 'pointer';\n",
       "        break;\n",
       "    case 1:\n",
       "        cursor = 'default';\n",
       "        break;\n",
       "    case 2:\n",
       "        cursor = 'crosshair';\n",
       "        break;\n",
       "    case 3:\n",
       "        cursor = 'move';\n",
       "        break;\n",
       "    }\n",
       "    fig.rubberband_canvas.style.cursor = cursor;\n",
       "}\n",
       "\n",
       "mpl.figure.prototype.handle_message = function(fig, msg) {\n",
       "    fig.message.textContent = msg['message'];\n",
       "}\n",
       "\n",
       "mpl.figure.prototype.handle_draw = function(fig, msg) {\n",
       "    // Request the server to send over a new figure.\n",
       "    fig.send_draw_message();\n",
       "}\n",
       "\n",
       "mpl.figure.prototype.handle_image_mode = function(fig, msg) {\n",
       "    fig.image_mode = msg['mode'];\n",
       "}\n",
       "\n",
       "mpl.figure.prototype.updated_canvas_event = function() {\n",
       "    // Called whenever the canvas gets updated.\n",
       "    this.send_message(\"ack\", {});\n",
       "}\n",
       "\n",
       "// A function to construct a web socket function for onmessage handling.\n",
       "// Called in the figure constructor.\n",
       "mpl.figure.prototype._make_on_message_function = function(fig) {\n",
       "    return function socket_on_message(evt) {\n",
       "        if (evt.data instanceof Blob) {\n",
       "            /* FIXME: We get \"Resource interpreted as Image but\n",
       "             * transferred with MIME type text/plain:\" errors on\n",
       "             * Chrome.  But how to set the MIME type?  It doesn't seem\n",
       "             * to be part of the websocket stream */\n",
       "            evt.data.type = \"image/png\";\n",
       "\n",
       "            /* Free the memory for the previous frames */\n",
       "            if (fig.imageObj.src) {\n",
       "                (window.URL || window.webkitURL).revokeObjectURL(\n",
       "                    fig.imageObj.src);\n",
       "            }\n",
       "\n",
       "            fig.imageObj.src = (window.URL || window.webkitURL).createObjectURL(\n",
       "                evt.data);\n",
       "            fig.updated_canvas_event();\n",
       "            fig.waiting = false;\n",
       "            return;\n",
       "        }\n",
       "        else if (typeof evt.data === 'string' && evt.data.slice(0, 21) == \"data:image/png;base64\") {\n",
       "            fig.imageObj.src = evt.data;\n",
       "            fig.updated_canvas_event();\n",
       "            fig.waiting = false;\n",
       "            return;\n",
       "        }\n",
       "\n",
       "        var msg = JSON.parse(evt.data);\n",
       "        var msg_type = msg['type'];\n",
       "\n",
       "        // Call the  \"handle_{type}\" callback, which takes\n",
       "        // the figure and JSON message as its only arguments.\n",
       "        try {\n",
       "            var callback = fig[\"handle_\" + msg_type];\n",
       "        } catch (e) {\n",
       "            console.log(\"No handler for the '\" + msg_type + \"' message type: \", msg);\n",
       "            return;\n",
       "        }\n",
       "\n",
       "        if (callback) {\n",
       "            try {\n",
       "                // console.log(\"Handling '\" + msg_type + \"' message: \", msg);\n",
       "                callback(fig, msg);\n",
       "            } catch (e) {\n",
       "                console.log(\"Exception inside the 'handler_\" + msg_type + \"' callback:\", e, e.stack, msg);\n",
       "            }\n",
       "        }\n",
       "    };\n",
       "}\n",
       "\n",
       "// from http://stackoverflow.com/questions/1114465/getting-mouse-location-in-canvas\n",
       "mpl.findpos = function(e) {\n",
       "    //this section is from http://www.quirksmode.org/js/events_properties.html\n",
       "    var targ;\n",
       "    if (!e)\n",
       "        e = window.event;\n",
       "    if (e.target)\n",
       "        targ = e.target;\n",
       "    else if (e.srcElement)\n",
       "        targ = e.srcElement;\n",
       "    if (targ.nodeType == 3) // defeat Safari bug\n",
       "        targ = targ.parentNode;\n",
       "\n",
       "    // jQuery normalizes the pageX and pageY\n",
       "    // pageX,Y are the mouse positions relative to the document\n",
       "    // offset() returns the position of the element relative to the document\n",
       "    var x = e.pageX - $(targ).offset().left;\n",
       "    var y = e.pageY - $(targ).offset().top;\n",
       "\n",
       "    return {\"x\": x, \"y\": y};\n",
       "};\n",
       "\n",
       "/*\n",
       " * return a copy of an object with only non-object keys\n",
       " * we need this to avoid circular references\n",
       " * http://stackoverflow.com/a/24161582/3208463\n",
       " */\n",
       "function simpleKeys (original) {\n",
       "  return Object.keys(original).reduce(function (obj, key) {\n",
       "    if (typeof original[key] !== 'object')\n",
       "        obj[key] = original[key]\n",
       "    return obj;\n",
       "  }, {});\n",
       "}\n",
       "\n",
       "mpl.figure.prototype.mouse_event = function(event, name) {\n",
       "    var canvas_pos = mpl.findpos(event)\n",
       "\n",
       "    if (name === 'button_press')\n",
       "    {\n",
       "        this.canvas.focus();\n",
       "        this.canvas_div.focus();\n",
       "    }\n",
       "\n",
       "    var x = canvas_pos.x * mpl.ratio;\n",
       "    var y = canvas_pos.y * mpl.ratio;\n",
       "\n",
       "    this.send_message(name, {x: x, y: y, button: event.button,\n",
       "                             step: event.step,\n",
       "                             guiEvent: simpleKeys(event)});\n",
       "\n",
       "    /* This prevents the web browser from automatically changing to\n",
       "     * the text insertion cursor when the button is pressed.  We want\n",
       "     * to control all of the cursor setting manually through the\n",
       "     * 'cursor' event from matplotlib */\n",
       "    event.preventDefault();\n",
       "    return false;\n",
       "}\n",
       "\n",
       "mpl.figure.prototype._key_event_extra = function(event, name) {\n",
       "    // Handle any extra behaviour associated with a key event\n",
       "}\n",
       "\n",
       "mpl.figure.prototype.key_event = function(event, name) {\n",
       "\n",
       "    // Prevent repeat events\n",
       "    if (name == 'key_press')\n",
       "    {\n",
       "        if (event.which === this._key)\n",
       "            return;\n",
       "        else\n",
       "            this._key = event.which;\n",
       "    }\n",
       "    if (name == 'key_release')\n",
       "        this._key = null;\n",
       "\n",
       "    var value = '';\n",
       "    if (event.ctrlKey && event.which != 17)\n",
       "        value += \"ctrl+\";\n",
       "    if (event.altKey && event.which != 18)\n",
       "        value += \"alt+\";\n",
       "    if (event.shiftKey && event.which != 16)\n",
       "        value += \"shift+\";\n",
       "\n",
       "    value += 'k';\n",
       "    value += event.which.toString();\n",
       "\n",
       "    this._key_event_extra(event, name);\n",
       "\n",
       "    this.send_message(name, {key: value,\n",
       "                             guiEvent: simpleKeys(event)});\n",
       "    return false;\n",
       "}\n",
       "\n",
       "mpl.figure.prototype.toolbar_button_onclick = function(name) {\n",
       "    if (name == 'download') {\n",
       "        this.handle_save(this, null);\n",
       "    } else {\n",
       "        this.send_message(\"toolbar_button\", {name: name});\n",
       "    }\n",
       "};\n",
       "\n",
       "mpl.figure.prototype.toolbar_button_onmouseover = function(tooltip) {\n",
       "    this.message.textContent = tooltip;\n",
       "};\n",
       "mpl.toolbar_items = [[\"Home\", \"Reset original view\", \"fa fa-home icon-home\", \"home\"], [\"Back\", \"Back to  previous view\", \"fa fa-arrow-left icon-arrow-left\", \"back\"], [\"Forward\", \"Forward to next view\", \"fa fa-arrow-right icon-arrow-right\", \"forward\"], [\"\", \"\", \"\", \"\"], [\"Pan\", \"Pan axes with left mouse, zoom with right\", \"fa fa-arrows icon-move\", \"pan\"], [\"Zoom\", \"Zoom to rectangle\", \"fa fa-square-o icon-check-empty\", \"zoom\"], [\"\", \"\", \"\", \"\"], [\"Download\", \"Download plot\", \"fa fa-floppy-o icon-save\", \"download\"]];\n",
       "\n",
       "mpl.extensions = [\"eps\", \"jpeg\", \"pdf\", \"png\", \"ps\", \"raw\", \"svg\", \"tif\"];\n",
       "\n",
       "mpl.default_extension = \"png\";var comm_websocket_adapter = function(comm) {\n",
       "    // Create a \"websocket\"-like object which calls the given IPython comm\n",
       "    // object with the appropriate methods. Currently this is a non binary\n",
       "    // socket, so there is still some room for performance tuning.\n",
       "    var ws = {};\n",
       "\n",
       "    ws.close = function() {\n",
       "        comm.close()\n",
       "    };\n",
       "    ws.send = function(m) {\n",
       "        //console.log('sending', m);\n",
       "        comm.send(m);\n",
       "    };\n",
       "    // Register the callback with on_msg.\n",
       "    comm.on_msg(function(msg) {\n",
       "        //console.log('receiving', msg['content']['data'], msg);\n",
       "        // Pass the mpl event to the overridden (by mpl) onmessage function.\n",
       "        ws.onmessage(msg['content']['data'])\n",
       "    });\n",
       "    return ws;\n",
       "}\n",
       "\n",
       "mpl.mpl_figure_comm = function(comm, msg) {\n",
       "    // This is the function which gets called when the mpl process\n",
       "    // starts-up an IPython Comm through the \"matplotlib\" channel.\n",
       "\n",
       "    var id = msg.content.data.id;\n",
       "    // Get hold of the div created by the display call when the Comm\n",
       "    // socket was opened in Python.\n",
       "    var element = $(\"#\" + id);\n",
       "    var ws_proxy = comm_websocket_adapter(comm)\n",
       "\n",
       "    function ondownload(figure, format) {\n",
       "        window.open(figure.imageObj.src);\n",
       "    }\n",
       "\n",
       "    var fig = new mpl.figure(id, ws_proxy,\n",
       "                           ondownload,\n",
       "                           element.get(0));\n",
       "\n",
       "    // Call onopen now - mpl needs it, as it is assuming we've passed it a real\n",
       "    // web socket which is closed, not our websocket->open comm proxy.\n",
       "    ws_proxy.onopen();\n",
       "\n",
       "    fig.parent_element = element.get(0);\n",
       "    fig.cell_info = mpl.find_output_cell(\"<div id='\" + id + \"'></div>\");\n",
       "    if (!fig.cell_info) {\n",
       "        console.error(\"Failed to find cell for figure\", id, fig);\n",
       "        return;\n",
       "    }\n",
       "\n",
       "    var output_index = fig.cell_info[2]\n",
       "    var cell = fig.cell_info[0];\n",
       "\n",
       "};\n",
       "\n",
       "mpl.figure.prototype.handle_close = function(fig, msg) {\n",
       "    var width = fig.canvas.width/mpl.ratio\n",
       "    fig.root.unbind('remove')\n",
       "\n",
       "    // Update the output cell to use the data from the current canvas.\n",
       "    fig.push_to_output();\n",
       "    var dataURL = fig.canvas.toDataURL();\n",
       "    // Re-enable the keyboard manager in IPython - without this line, in FF,\n",
       "    // the notebook keyboard shortcuts fail.\n",
       "    IPython.keyboard_manager.enable()\n",
       "    $(fig.parent_element).html('<img src=\"' + dataURL + '\" width=\"' + width + '\">');\n",
       "    fig.close_ws(fig, msg);\n",
       "}\n",
       "\n",
       "mpl.figure.prototype.close_ws = function(fig, msg){\n",
       "    fig.send_message('closing', msg);\n",
       "    // fig.ws.close()\n",
       "}\n",
       "\n",
       "mpl.figure.prototype.push_to_output = function(remove_interactive) {\n",
       "    // Turn the data on the canvas into data in the output cell.\n",
       "    var width = this.canvas.width/mpl.ratio\n",
       "    var dataURL = this.canvas.toDataURL();\n",
       "    this.cell_info[1]['text/html'] = '<img src=\"' + dataURL + '\" width=\"' + width + '\">';\n",
       "}\n",
       "\n",
       "mpl.figure.prototype.updated_canvas_event = function() {\n",
       "    // Tell IPython that the notebook contents must change.\n",
       "    IPython.notebook.set_dirty(true);\n",
       "    this.send_message(\"ack\", {});\n",
       "    var fig = this;\n",
       "    // Wait a second, then push the new image to the DOM so\n",
       "    // that it is saved nicely (might be nice to debounce this).\n",
       "    setTimeout(function () { fig.push_to_output() }, 1000);\n",
       "}\n",
       "\n",
       "mpl.figure.prototype._init_toolbar = function() {\n",
       "    var fig = this;\n",
       "\n",
       "    var nav_element = $('<div/>')\n",
       "    nav_element.attr('style', 'width: 100%');\n",
       "    this.root.append(nav_element);\n",
       "\n",
       "    // Define a callback function for later on.\n",
       "    function toolbar_event(event) {\n",
       "        return fig.toolbar_button_onclick(event['data']);\n",
       "    }\n",
       "    function toolbar_mouse_event(event) {\n",
       "        return fig.toolbar_button_onmouseover(event['data']);\n",
       "    }\n",
       "\n",
       "    for(var toolbar_ind in mpl.toolbar_items){\n",
       "        var name = mpl.toolbar_items[toolbar_ind][0];\n",
       "        var tooltip = mpl.toolbar_items[toolbar_ind][1];\n",
       "        var image = mpl.toolbar_items[toolbar_ind][2];\n",
       "        var method_name = mpl.toolbar_items[toolbar_ind][3];\n",
       "\n",
       "        if (!name) { continue; };\n",
       "\n",
       "        var button = $('<button class=\"btn btn-default\" href=\"#\" title=\"' + name + '\"><i class=\"fa ' + image + ' fa-lg\"></i></button>');\n",
       "        button.click(method_name, toolbar_event);\n",
       "        button.mouseover(tooltip, toolbar_mouse_event);\n",
       "        nav_element.append(button);\n",
       "    }\n",
       "\n",
       "    // Add the status bar.\n",
       "    var status_bar = $('<span class=\"mpl-message\" style=\"text-align:right; float: right;\"/>');\n",
       "    nav_element.append(status_bar);\n",
       "    this.message = status_bar[0];\n",
       "\n",
       "    // Add the close button to the window.\n",
       "    var buttongrp = $('<div class=\"btn-group inline pull-right\"></div>');\n",
       "    var button = $('<button class=\"btn btn-mini btn-primary\" href=\"#\" title=\"Stop Interaction\"><i class=\"fa fa-power-off icon-remove icon-large\"></i></button>');\n",
       "    button.click(function (evt) { fig.handle_close(fig, {}); } );\n",
       "    button.mouseover('Stop Interaction', toolbar_mouse_event);\n",
       "    buttongrp.append(button);\n",
       "    var titlebar = this.root.find($('.ui-dialog-titlebar'));\n",
       "    titlebar.prepend(buttongrp);\n",
       "}\n",
       "\n",
       "mpl.figure.prototype._root_extra_style = function(el){\n",
       "    var fig = this\n",
       "    el.on(\"remove\", function(){\n",
       "\tfig.close_ws(fig, {});\n",
       "    });\n",
       "}\n",
       "\n",
       "mpl.figure.prototype._canvas_extra_style = function(el){\n",
       "    // this is important to make the div 'focusable\n",
       "    el.attr('tabindex', 0)\n",
       "    // reach out to IPython and tell the keyboard manager to turn it's self\n",
       "    // off when our div gets focus\n",
       "\n",
       "    // location in version 3\n",
       "    if (IPython.notebook.keyboard_manager) {\n",
       "        IPython.notebook.keyboard_manager.register_events(el);\n",
       "    }\n",
       "    else {\n",
       "        // location in version 2\n",
       "        IPython.keyboard_manager.register_events(el);\n",
       "    }\n",
       "\n",
       "}\n",
       "\n",
       "mpl.figure.prototype._key_event_extra = function(event, name) {\n",
       "    var manager = IPython.notebook.keyboard_manager;\n",
       "    if (!manager)\n",
       "        manager = IPython.keyboard_manager;\n",
       "\n",
       "    // Check for shift+enter\n",
       "    if (event.shiftKey && event.which == 13) {\n",
       "        this.canvas_div.blur();\n",
       "        event.shiftKey = false;\n",
       "        // Send a \"J\" for go to next cell\n",
       "        event.which = 74;\n",
       "        event.keyCode = 74;\n",
       "        manager.command_mode();\n",
       "        manager.handle_keydown(event);\n",
       "    }\n",
       "}\n",
       "\n",
       "mpl.figure.prototype.handle_save = function(fig, msg) {\n",
       "    fig.ondownload(fig, null);\n",
       "}\n",
       "\n",
       "\n",
       "mpl.find_output_cell = function(html_output) {\n",
       "    // Return the cell and output element which can be found *uniquely* in the notebook.\n",
       "    // Note - this is a bit hacky, but it is done because the \"notebook_saving.Notebook\"\n",
       "    // IPython event is triggered only after the cells have been serialised, which for\n",
       "    // our purposes (turning an active figure into a static one), is too late.\n",
       "    var cells = IPython.notebook.get_cells();\n",
       "    var ncells = cells.length;\n",
       "    for (var i=0; i<ncells; i++) {\n",
       "        var cell = cells[i];\n",
       "        if (cell.cell_type === 'code'){\n",
       "            for (var j=0; j<cell.output_area.outputs.length; j++) {\n",
       "                var data = cell.output_area.outputs[j];\n",
       "                if (data.data) {\n",
       "                    // IPython >= 3 moved mimebundle to data attribute of output\n",
       "                    data = data.data;\n",
       "                }\n",
       "                if (data['text/html'] == html_output) {\n",
       "                    return [cell, data, j];\n",
       "                }\n",
       "            }\n",
       "        }\n",
       "    }\n",
       "}\n",
       "\n",
       "// Register the function which deals with the matplotlib target/channel.\n",
       "// The kernel may be null if the page has been refreshed.\n",
       "if (IPython.notebook.kernel != null) {\n",
       "    IPython.notebook.kernel.comm_manager.register_target('matplotlib', mpl.mpl_figure_comm);\n",
       "}\n"
      ],
      "text/plain": [
       "<IPython.core.display.Javascript object>"
      ]
     },
     "metadata": {},
     "output_type": "display_data"
    },
    {
     "data": {
      "text/html": [
       "<img src=\"data:image/png;base64,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\" width=\"640\">"
      ],
      "text/plain": [
       "<IPython.core.display.HTML object>"
      ]
     },
     "metadata": {},
     "output_type": "display_data"
    },
    {
     "data": {
      "text/plain": [
       "Text(0,0.5,'${<I_s>}/{I_c}$')"
      ]
     },
     "execution_count": 15,
     "metadata": {},
     "output_type": "execute_result"
    }
   ],
   "source": [
    "i = np.linspace(1, 5, 101)\n",
    "Is = 1 - np.sqrt(1 - (1/i)**2)\n",
    "\n",
    "plt.plot(i, Is)\n",
    "plt.xlabel('${I_0}/{I_c}$')\n",
    "plt.ylabel('${<I_s>}/{I_c}$')"
   ]
  },
  {
   "cell_type": "markdown",
   "metadata": {},
   "source": [
    "## 2. Phase diffusion as Fokker-Plank process\n",
    "[Zil'berman Ivanchenko JEPhT 24 6 1969](http://www.jetp.ac.ru/cgi-bin/dn/e_028_06_1272.pdf )\n",
    "\n"
   ]
  },
  {
   "cell_type": "markdown",
   "metadata": {},
   "source": [
    "Note, that I-biased scheme with R||JJ is equvalent to V-biased with R and JJ in series\n",
    "\n",
    "$ V_B = IR + \\dot{ \\phi } $  \n",
    "\n",
    "$ \\frac{V_B - IR}{R} =  \\frac{\\hbar C}{2e} \\ddot{ \\phi }  + I_c \\sin \\phi $"
   ]
  },
  {
   "attachments": {
    "image.png": {
     "image/png": "[encoded data removed]"
    }
   },
   "cell_type": "markdown",
   "metadata": {},
   "source": [
    "![image.png](attachment:image.png)"
   ]
  },
  {
   "cell_type": "markdown",
   "metadata": {},
   "source": [
    "- underdamped limit $C \\rightarrow 0$\n",
    "- volage biasing scheme is equivalent to curernt-biasing with R as a shunt\n",
    "- note the difference between $I-V_b$ and $I-V$ curves "
   ]
  },
  {
   "cell_type": "markdown",
   "metadata": {},
   "source": [
    "$$<I_s> = I_0 \\Im \\left( \\frac{I_{1-2i\\beta e V_B/ \\hbar R_B}(\\beta E_J)}{I_{-2i\\beta e V_B/ \\hbar R_B}(\\beta E_J)} \\right)$$"
   ]
  },
  {
   "cell_type": "code",
   "execution_count": 75,
   "metadata": {},
   "outputs": [
    {
     "data": {
      "application/vnd.jupyter.widget-view+json": {
       "model_id": "",
       "version_major": 2,
       "version_minor": 0
      },
      "text/plain": [
       "FigureCanvasNbAgg()"
      ]
     },
     "metadata": {},
     "output_type": "display_data"
    },
    {
     "data": {
      "text/plain": [
       "<matplotlib.legend.Legend at 0x210feddc208>"
      ]
     },
     "execution_count": 75,
     "metadata": {},
     "output_type": "execute_result"
    }
   ],
   "source": [
    "fig, ax = plt.subplots()\n",
    "\n",
    "Vs = np.linspace(0, 0.4e-3, 501)\n",
    "\n",
    "R_list = [1e3, 10e3, 50e3]\n",
    "\n",
    "for R in R_list:\n",
    "    Is = I_IZ( Vs, EJ = 1, R = R, T = .05)\n",
    "\n",
    "# ax.plot(  Vs/1e-3, Is/1e-9, '--', label = r'$I-V_b$')\n",
    "    ax.plot( (Vs - Is*R) /1e-3, Is/1e-9, label = r'$I-V$')\n",
    "ax.set_xlabel(r'$V, mV$')\n",
    "ax.set_ylabel(r'$I, nA$')\n",
    "\n",
    "ax.legend()\n"
   ]
  },
  {
   "cell_type": "markdown",
   "metadata": {},
   "source": [
    "## 3. Phase diffusion as Fokker-Plank process -2\n",
    "[Ambegaokar-Halperin PRL 22 25 1969](https://journals.aps.org/prl/pdf/10.1103/PhysRevLett.22.1364 )\n",
    "\n"
   ]
  },
  {
   "cell_type": "markdown",
   "metadata": {},
   "source": [
    "- The same Fokker-Planck eq with non-zero $C$, overdamped limit $\\eta = 1/RC \\gg 1$\n",
    "- Attempt frequency is $\\omega_J^2 / 2 \\pi \\eta =  \\omega_J / \\beta_C$\n",
    "- Derived for I-biased regime\n",
    "- Note the difference between the total current through R||JJ and pure supercurrent"
   ]
  },
  {
   "cell_type": "code",
   "execution_count": 72,
   "metadata": {
    "scrolled": false
   },
   "outputs": [
    {
     "data": {
      "application/vnd.jupyter.widget-view+json": {
       "model_id": "",
       "version_major": 2,
       "version_minor": 0
      },
      "text/plain": [
       "FigureCanvasNbAgg()"
      ]
     },
     "metadata": {},
     "output_type": "display_data"
    },
    {
     "data": {
      "text/plain": [
       "<matplotlib.legend.Legend at 0x21085652dd8>"
      ]
     },
     "execution_count": 72,
     "metadata": {},
     "output_type": "execute_result"
    }
   ],
   "source": [
    "fig, ax = plt.subplots()\n",
    "\n",
    "Ic = 35e-9\n",
    "\n",
    "Is = np.linspace(0, 1.5*Ic, 501)\n",
    "\n",
    "R = 1e3\n",
    "\n",
    "Vs = V_AH( Is, Ic = Ic, T = 0.05, EJ = 1, Rn = R)\n",
    "\n",
    "ax.plot(  Vs/1e-3, Is/1e-9, label = r'$I_b - V$')\n",
    "\n",
    "ax.plot(  Vs/1e-3, (Is - Vs/R)/1e-9, label = r'$I_s - V$')\n",
    "\n",
    "\n",
    "ax.set_xlabel(r'$V, mV$')\n",
    "ax.set_ylabel(r'$I, nA$')\n",
    "\n",
    "\n",
    "\n",
    "ax.legend()\n"
   ]
  },
  {
   "cell_type": "markdown",
   "metadata": {},
   "source": [
    "## 4. Phase diffusion as activation process \n",
    "Kautz Martinis"
   ]
  },
  {
   "cell_type": "markdown",
   "metadata": {},
   "source": [
    "### 4a. Thermally activated PD"
   ]
  },
  {
   "cell_type": "markdown",
   "metadata": {},
   "source": [
    "# Coulomb at P(E)"
   ]
  },
  {
   "cell_type": "markdown",
   "metadata": {},
   "source": [
    "## $E_J$ renormalization"
   ]
  },
  {
   "cell_type": "markdown",
   "metadata": {},
   "source": [
    "In the limit $E_J \\ll E_C$ and high-resistive environment a probability of CP tunneling is quadratic in $E_J$ and effective $E_J$ can be calculated ([Mesoscopic Josephson Effect Superlatt. Microstruct. 25, 915 (1999)](https://www.physik.uni-augsburg.de/theo1/ingold/publikationen_coll/grabe99/grabe99.pdf) )\n"
   ]
  },
  {
   "cell_type": "code",
   "execution_count": 63,
   "metadata": {
    "scrolled": false
   },
   "outputs": [
    {
     "name": "stderr",
     "output_type": "stream",
     "text": [
      "D:\\anaconda\\lib\\site-packages\\ipykernel_launcher.py:7: RuntimeWarning: More than 20 figures have been opened. Figures created through the pyplot interface (`matplotlib.pyplot.figure`) are retained until explicitly closed and may consume too much memory. (To control this warning, see the rcParam `figure.max_open_warning`).\n",
      "  import sys\n"
     ]
    },
    {
     "data": {
      "application/vnd.jupyter.widget-view+json": {
       "model_id": "",
       "version_major": 2,
       "version_minor": 0
      },
      "text/plain": [
       "FigureCanvasNbAgg()"
      ]
     },
     "metadata": {},
     "output_type": "display_data"
    },
    {
     "data": {
      "text/plain": [
       "Text(0, 0.5, '$E_J^*, K$')"
      ]
     },
     "execution_count": 63,
     "metadata": {},
     "output_type": "execute_result"
    }
   ],
   "source": [
    "Renv_list = np.logspace(2, 6, 101)\n",
    "\n",
    "RN = 10e3\n",
    "\n",
    "\n",
    "Cj_list = [1e-15, 1.5e-15, 2e-15]\n",
    "fig, ax1 = plt.subplots()\n",
    "\n",
    "for Cj in Cj_list:\n",
    "    EJs = EJ_star (EJ = EJ_AB(RN), R = Renv_list, T = .03, C = Cj)\n",
    "\n",
    "    ax1.plot( Renv_list , EJs, label = r'C = {:1.2f} fF'.format(Cj/1e-15 ))\n",
    "\n",
    "# ax1.plot( Renv_list , EJ_AB(RN), '--k', alpha = 0.5)\n",
    "ax1.axhline(EJ_AB(RN), 0 , 1, ls = '--', color = 'k', alpha = 0.5)\n",
    "\n",
    "\n",
    "ax1.legend()\n",
    "\n",
    "ax1.set_xscale('log')\n",
    "ax1.set_yscale('log')\n",
    "\n",
    "ax1.set_xlabel(r'$R_{env}, K$')\n",
    "ax1.set_ylabel(r'$E_J^*, K$')"
   ]
  },
  {
   "cell_type": "markdown",
   "metadata": {},
   "source": [
    "### T-dependence"
   ]
  },
  {
   "cell_type": "code",
   "execution_count": 76,
   "metadata": {},
   "outputs": [
    {
     "data": {
      "application/vnd.jupyter.widget-view+json": {
       "model_id": "",
       "version_major": 2,
       "version_minor": 0
      },
      "text/plain": [
       "FigureCanvasNbAgg()"
      ]
     },
     "metadata": {},
     "output_type": "display_data"
    },
    {
     "data": {
      "text/plain": [
       "Text(0, 0.5, '$E_J^*, K$')"
      ]
     },
     "execution_count": 76,
     "metadata": {},
     "output_type": "execute_result"
    }
   ],
   "source": [
    "Renv_list = np.logspace(2, 6, 101)\n",
    "\n",
    "RN = 10e3\n",
    "\n",
    "Cj = 1.5e-15\n",
    "\n",
    "Tb_list = [0.05, 0.10, .15]\n",
    "fig, ax1 = plt.subplots()\n",
    "\n",
    "for Tb in Tb_list:\n",
    "    EJs = EJ_star (EJ = EJ_AB(RN), R = Renv_list, T = Tb, C = Cj)\n",
    "\n",
    "    ax1.plot( Renv_list , EJs, label = r'T = {:3.0f} mK'.format(Tb/1e-3 ))\n",
    "\n",
    "# ax1.plot( Renv_list , EJ_AB(RN), '--k', alpha = 0.5)\n",
    "ax1.axhline(EJ_AB(RN), 0 , 1, ls = '--', color = 'k', alpha = 0.5)\n",
    "\n",
    "\n",
    "ax1.legend()\n",
    "\n",
    "ax1.set_xscale('log')\n",
    "ax1.set_yscale('log')\n",
    "\n",
    "ax1.set_xlabel(r'$R_{env}, K$')\n",
    "ax1.set_ylabel(r'$E_J^*, K$')"
   ]
  },
  {
   "cell_type": "markdown",
   "metadata": {},
   "source": [
    "## $R_0$ as a result of thermal diffusion + $E_J$ renormalization"
   ]
  },
  {
   "cell_type": "code",
   "execution_count": 58,
   "metadata": {},
   "outputs": [
    {
     "data": {
      "application/vnd.jupyter.widget-view+json": {
       "model_id": "",
       "version_major": 2,
       "version_minor": 0
      },
      "text/plain": [
       "FigureCanvasNbAgg()"
      ]
     },
     "metadata": {},
     "output_type": "display_data"
    },
    {
     "data": {
      "text/plain": [
       "Text(0, 0.5, '$R_0, k \\\\Omega$')"
      ]
     },
     "execution_count": 58,
     "metadata": {},
     "output_type": "execute_result"
    }
   ],
   "source": [
    "R_list = np.logspace(2, 5.5, 51)\n",
    "\n",
    "Cj = 1.75e-15\n",
    "Tb = 0.035\n",
    "\n",
    "EJs = EJ_star (EJ = EJ_AB(R_list), R = R_list, T = Tb, C = Cj)\n",
    "\n",
    "fig, ax1 = plt.subplots()\n",
    "\n",
    "R0s = []\n",
    "\n",
    "for R in R_list:\n",
    "    R0 = find_R0( R, T = Tb, C = Cj)\n",
    "    R0s.append(R0)\n",
    "\n",
    "ax1.plot( EJ_AB(R_list) , R0s, label = r'C = {:1.2f} fF'.format(Cj/1e-15))\n",
    "\n",
    "\n",
    "\n",
    "\n",
    "ax1.legend()\n",
    "\n",
    "ax1.set_xscale('log')\n",
    "ax1.set_yscale('log')\n",
    "\n",
    "ax1.set_xlabel(r'$E_J, K$')\n",
    "ax1.set_ylabel(r'$R_0, k \\Omega$')"
   ]
  },
  {
   "cell_type": "markdown",
   "metadata": {},
   "source": [
    "### T-dependence"
   ]
  },
  {
   "cell_type": "code",
   "execution_count": null,
   "metadata": {},
   "outputs": [],
   "source": []
  },
  {
   "cell_type": "code",
   "execution_count": 82,
   "metadata": {},
   "outputs": [
    {
     "data": {
      "application/vnd.jupyter.widget-view+json": {
       "model_id": "",
       "version_major": 2,
       "version_minor": 0
      },
      "text/plain": [
       "FigureCanvasNbAgg()"
      ]
     },
     "metadata": {},
     "output_type": "display_data"
    },
    {
     "data": {
      "text/plain": [
       "Text(0, 0.5, '$R, k \\\\Omega$')"
      ]
     },
     "execution_count": 82,
     "metadata": {},
     "output_type": "execute_result"
    }
   ],
   "source": [
    "RN = 10e3\n",
    "R_env = 100e3\n",
    "\n",
    "Cj = 2e-15\n",
    "Tb_list =  np.linspace(0.05, .25, 51)\n",
    "\n",
    "# EJs = EJ_star (EJ = EJ_AB(RN), R = R_env, T = Tb, C = Cj)\n",
    "\n",
    "fig, ax1 = plt.subplots()\n",
    "\n",
    "R0s = []\n",
    "\n",
    "for Tb in Tb_list:\n",
    "    R0 = find_R0( RN, R_env = R_env , T = Tb, C = Cj)\n",
    "    R0s.append(R0)\n",
    "\n",
    "ax1.plot( Tb_list , R0s, label = r'C = {:1.2f} fF'.format(Cj/1e-15))\n",
    "\n",
    "\n",
    "\n",
    "\n",
    "ax1.legend()\n",
    "\n",
    "# ax1.set_xscale('log')\n",
    "ax1.set_yscale('log')\n",
    "\n",
    "ax1.set_xlabel(r'$T, K$')\n",
    "ax1.set_ylabel(r'$R, k \\Omega$')"
   ]
  },
  {
   "cell_type": "code",
   "execution_count": 128,
   "metadata": {},
   "outputs": [
    {
     "data": {
      "application/vnd.jupyter.widget-view+json": {
       "model_id": "a678adeef2d744a2bf9c16eee1f6ae6e",
       "version_major": 2,
       "version_minor": 0
      },
      "text/plain": [
       "FigureCanvasNbAgg()"
      ]
     },
     "metadata": {},
     "output_type": "display_data"
    }
   ],
   "source": [
    "fig, ax = plt.subplots()\n",
    "T = np.linspace(0.05, 0.85, 101)\n",
    "\n",
    "# ax.plot( T , Rj(1e3, T))\n",
    "ax.plot( T , 1 / ( 1e-9 +  1e-6*np.exp(  -2/T )) )  \n",
    "ax.set_yscale('log')"
   ]
  },
  {
   "cell_type": "code",
   "execution_count": 106,
   "metadata": {},
   "outputs": [
    {
     "data": {
      "text/plain": [
       "3.720075976020836e-44"
      ]
     },
     "execution_count": 106,
     "metadata": {},
     "output_type": "execute_result"
    }
   ],
   "source": [
    "np.exp(-100)"
   ]
  }
 ],
 "metadata": {
  "kernelspec": {
   "display_name": "Python 3",
   "language": "python",
   "name": "python3"
  },
  "language_info": {
   "codemirror_mode": {
    "name": "ipython",
    "version": 3
   },
   "file_extension": ".py",
   "mimetype": "text/x-python",
   "name": "python",
   "nbconvert_exporter": "python",
   "pygments_lexer": "ipython3",
   "version": "3.6.5"
  },
  "toc": {
   "base_numbering": 1,
   "nav_menu": {},
   "number_sections": true,
   "sideBar": false,
   "skip_h1_title": false,
   "title_cell": "Table of Contents",
   "title_sidebar": "Contents",
   "toc_cell": false,
   "toc_position": {
    "height": "429.333px",
    "left": "10px",
    "top": "150px",
    "width": "165px"
   },
   "toc_section_display": true,
   "toc_window_display": true
  }
 },
 "nbformat": 4,
 "nbformat_minor": 2
}
