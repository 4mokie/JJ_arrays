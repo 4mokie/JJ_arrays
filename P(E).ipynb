{
 "cells": [
  {
   "cell_type": "code",
   "execution_count": 94,
   "metadata": {},
   "outputs": [
    {
     "name": "stdout",
     "output_type": "stream",
     "text": [
      "The autoreload extension is already loaded. To reload it, use:\n",
      "  %reload_ext autoreload\n"
     ]
    }
   ],
   "source": [
    "%matplotlib widget\n",
    "%load_ext autoreload\n",
    "%autoreload 2\n",
    "\n",
    "\n",
    "import matplotlib.pyplot as plt\n",
    "import matplotlib.gridspec as GridSpec\n",
    "import numpy as np\n",
    "import os\n",
    "import time\n",
    "\n",
    "from matplotlib.widgets import Button\n",
    "\n",
    "# from tqdm import tqdm, tqdm_notebook\n",
    "import math\n",
    "\n",
    "from  scipy.special import digamma as ψ\n",
    "from mpmath import besseli as Iν\n",
    "from scipy.constants import hbar, pi, h, e, k\n",
    "\n",
    "kB = k\n",
    "γ = 0.57721566\n",
    "RQ = h/4/e**2\n",
    "Φ0 = h/2/e\n",
    "\n",
    "from JJformulas import *\n",
    "from JJ_data_processing import *\n",
    "\n",
    "plt.close('all')"
   ]
  },
  {
   "cell_type": "code",
   "execution_count": 2,
   "metadata": {},
   "outputs": [],
   "source": [
    "Δ = 2.1*kB\n",
    "R_env = 377"
   ]
  },
  {
   "cell_type": "code",
   "execution_count": 142,
   "metadata": {},
   "outputs": [
    {
     "ename": "SyntaxError",
     "evalue": "invalid syntax (<ipython-input-142-0872fb3064c7>, line 1)",
     "output_type": "error",
     "traceback": [
      "\u001b[1;36m  File \u001b[1;32m\"<ipython-input-142-0872fb3064c7>\"\u001b[1;36m, line \u001b[1;32m1\u001b[0m\n\u001b[1;33m    ||\u001b[0m\n\u001b[1;37m    ^\u001b[0m\n\u001b[1;31mSyntaxError\u001b[0m\u001b[1;31m:\u001b[0m invalid syntax\n"
     ]
    }
   ],
   "source": []
  },
  {
   "cell_type": "code",
   "execution_count": 40,
   "metadata": {},
   "outputs": [
    {
     "data": {
      "text/plain": [
       "'e:\\\\OneDrive - Rutgers University\\\\files_GitHub\\\\JJ arrays'"
      ]
     },
     "execution_count": 40,
     "metadata": {},
     "output_type": "execute_result"
    }
   ],
   "source": [
    "os.getcwd()"
   ]
  },
  {
   "cell_type": "code",
   "execution_count": 4,
   "metadata": {},
   "outputs": [
    {
     "data": {
      "text/plain": [
       "0.04517241304820373"
      ]
     },
     "execution_count": 4,
     "metadata": {},
     "output_type": "execute_result"
    }
   ],
   "source": [
    "EJ_AB(150e3)"
   ]
  },
  {
   "cell_type": "code",
   "execution_count": 5,
   "metadata": {},
   "outputs": [
    {
     "data": {
      "text/plain": [
       "1.8950499176670637e-09"
      ]
     },
     "execution_count": 5,
     "metadata": {},
     "output_type": "execute_result"
    }
   ],
   "source": [
    "Ic (150e3)"
   ]
  },
  {
   "cell_type": "markdown",
   "metadata": {},
   "source": [
    "# $E_J^* (E_J)$"
   ]
  },
  {
   "cell_type": "code",
   "execution_count": 51,
   "metadata": {},
   "outputs": [
    {
     "data": {
      "text/plain": [
       "array([8.13031, 0.65602, 0.36831, 0.1087 , 0.04361])"
      ]
     },
     "execution_count": 51,
     "metadata": {},
     "output_type": "execute_result"
    }
   ],
   "source": [
    "data = np.genfromtxt(os.getcwd()+ f'\\IcvsEJ.dat')\n",
    "IcIAB_exp = data[:, 2]\n",
    "EJ0_exp = data[:, 0]\n",
    "EJ0_exp"
   ]
  },
  {
   "cell_type": "code",
   "execution_count": 25,
   "metadata": {},
   "outputs": [
    {
     "data": {
      "application/vnd.jupyter.widget-view+json": {
       "model_id": "3e268a9a8c5f459ebb1371a924fdfeb8",
       "version_major": 2,
       "version_minor": 0
      },
      "text/plain": [
       "FigureCanvasNbAgg()"
      ]
     },
     "metadata": {},
     "output_type": "display_data"
    },
    {
     "data": {
      "text/plain": [
       "Text(0, 0.5, '$E_J^*, K$')"
      ]
     },
     "execution_count": 25,
     "metadata": {},
     "output_type": "execute_result"
    }
   ],
   "source": [
    "R_list = np.logspace(2, 6, 101)\n",
    "\n",
    "R_env = 377\n",
    "Tb = 0.05\n",
    "\n",
    "# EJs = EJ_star (EJ = EJ_AB(R_list), R = II(R_env, Rj(R_list, Tb)), T = Tb, C = 1.95e-15)\n",
    "\n",
    "EJs = EJ_star_simp (EJ = EJ_AB(R_list),  C = 1.95e-15)\n",
    "\n",
    "fig, ax1 = plt.subplots()\n",
    "ax1.plot( EJ_AB(R_list) , EJs, label = r'C = 1.95 fF')\n",
    "\n",
    "ax1.plot( EJ_AB(R_list) , EJ_AB(R_list), '--k', alpha = 0.5)\n",
    "# ax.plot( EJ_AB(R_list) , EJ_AB(R_list)**2 / 5, '--k', alpha = 0.5)\n",
    "\n",
    "ax1.plot(EJ0_exp, EJ0_exp * IcIAB_exp, 'o' , label = 'exp. data')\n",
    "\n",
    "\n",
    "ax1.legend()\n",
    "\n",
    "ax1.set_xscale('log')\n",
    "ax1.set_yscale('log')\n",
    "\n",
    "ax1.set_xlabel(r'$E_J, K$')\n",
    "ax1.set_ylabel(r'$E_J^*, K$')"
   ]
  },
  {
   "cell_type": "markdown",
   "metadata": {},
   "source": [
    "# IVCs"
   ]
  },
  {
   "cell_type": "code",
   "execution_count": 52,
   "metadata": {
    "scrolled": false
   },
   "outputs": [
    {
     "name": "stderr",
     "output_type": "stream",
     "text": [
      "D:\\anaconda\\lib\\site-packages\\ipykernel_launcher.py:9: RuntimeWarning: More than 20 figures have been opened. Figures created through the pyplot interface (`matplotlib.pyplot.figure`) are retained until explicitly closed and may consume too much memory. (To control this warning, see the rcParam `figure.max_open_warning`).\n",
      "  if __name__ == '__main__':\n"
     ]
    },
    {
     "data": {
      "application/vnd.jupyter.widget-view+json": {
       "model_id": "fae436fc86584f6798d1e523b1a0943e",
       "version_major": 2,
       "version_minor": 0
      },
      "text/plain": [
       "FigureCanvasNbAgg()"
      ]
     },
     "metadata": {},
     "output_type": "display_data"
    }
   ],
   "source": [
    "Rs = [1e2, 10e3, 20e3, 150e3 ]\n",
    "\n",
    "R_env = 2e5\n",
    "Tb = 0.05\n",
    "Cj = 1.5e-15\n",
    "\n",
    "n = len(Rs)\n",
    "\n",
    "fig = plt.figure(figsize = (7,10))\n",
    "gs = GridSpec.GridSpec(n, 1)\n",
    "\n",
    "\n",
    "\n",
    "Vs = np.linspace(0, 1e-2, 101)\n",
    "\n",
    "\n",
    "# Rs = [ 200e3 ]\n",
    "\n",
    "for i, R in enumerate(Rs):\n",
    "    \n",
    "    ax = fig.add_subplot(gs[i] )#,sharex=ax)\n",
    "\n",
    "    Rsh = II(R_env, Rj(R, Tb))\n",
    "    \n",
    "    EJ_s = EJ_star_simp (EJ = EJ_AB(R),  C = Cj)\n",
    "#     EJ_s = EJ_star (EJ = EJ_AB(R), R = Rsh, T = Tb, C = Cj)\n",
    "\n",
    "    Is = I_IZ( Vs, EJ = EJ_s, R = Rsh, T = Tb) \n",
    "\n",
    "\n",
    "    ax.plot( (Vs - 1*Is*Rsh)/1e-3, (Is)/1e-9, '-', label = 'Rn = {} kOhm, EJ* = {:1.3f} K'.format(R/1e3, EJ_s))\n",
    "\n",
    "    ax.legend()    \n",
    "    ax.set_xlabel(r'$V, mV$')\n",
    "    ax.set_ylabel(r'$I, nA$')\n",
    "\n",
    "# ax.set_xscale('log')\n",
    "# ax.set_yscale('log')\n",
    "\n",
    "plt.tight_layout()"
   ]
  },
  {
   "cell_type": "markdown",
   "metadata": {},
   "source": [
    "# $R_0, I_{sw}(E_J)$\n"
   ]
  },
  {
   "cell_type": "code",
   "execution_count": 75,
   "metadata": {},
   "outputs": [
    {
     "data": {
      "text/plain": [
       "array([8.13031, 0.65602, 0.36831, 0.1087 , 0.04361])"
      ]
     },
     "execution_count": 75,
     "metadata": {},
     "output_type": "execute_result"
    }
   ],
   "source": [
    "data = np.genfromtxt(os.getcwd()+ f'\\IcvsEJ.dat')\n",
    "IcIAB_exp = data[:, 2]\n",
    "EJ0_exp = data[:, 0]\n",
    "EJ0_exp"
   ]
  },
  {
   "cell_type": "code",
   "execution_count": 76,
   "metadata": {},
   "outputs": [
    {
     "data": {
      "text/plain": [
       "array([8.130315, 0.656025, 0.368315, 0.1087  , 0.04361 ])"
      ]
     },
     "execution_count": 76,
     "metadata": {},
     "output_type": "execute_result"
    }
   ],
   "source": [
    "data = np.genfromtxt(os.getcwd()+ f'\\R0vsEJ.dat')\n",
    "R0_exp = data[:, 3]\n",
    "EJ0_exp = data[:, 2]\n",
    "EJ0_exp/2"
   ]
  },
  {
   "cell_type": "code",
   "execution_count": 77,
   "metadata": {},
   "outputs": [
    {
     "data": {
      "application/vnd.jupyter.widget-view+json": {
       "model_id": "",
       "version_major": 2,
       "version_minor": 0
      },
      "text/plain": [
       "FigureCanvasNbAgg()"
      ]
     },
     "metadata": {},
     "output_type": "display_data"
    }
   ],
   "source": [
    "fig, ax = plt.subplots()\n",
    "\n",
    "ax.plot(R0_exp, IcIAB_exp, 'o-')\n",
    "ax.set_xscale('log')\n",
    "ax.set_yscale('log')"
   ]
  },
  {
   "cell_type": "code",
   "execution_count": 79,
   "metadata": {},
   "outputs": [
    {
     "name": "stderr",
     "output_type": "stream",
     "text": [
      "D:\\anaconda\\lib\\site-packages\\ipykernel_launcher.py:11: RuntimeWarning: More than 20 figures have been opened. Figures created through the pyplot interface (`matplotlib.pyplot.figure`) are retained until explicitly closed and may consume too much memory. (To control this warning, see the rcParam `figure.max_open_warning`).\n",
      "  # This is added back by InteractiveShellApp.init_path()\n"
     ]
    },
    {
     "data": {
      "application/vnd.jupyter.widget-view+json": {
       "model_id": "",
       "version_major": 2,
       "version_minor": 0
      },
      "text/plain": [
       "FigureCanvasNbAgg()"
      ]
     },
     "metadata": {},
     "output_type": "display_data"
    }
   ],
   "source": [
    "R_list = np.logspace(2, 5, 51)\n",
    "\n",
    "R_env = 1e5\n",
    "\n",
    "\n",
    "Cj = 1.5e-15\n",
    "Tb = 0.05\n",
    "\n",
    "# EJs = EJ_star_simp (EJ = EJ_AB(R_list), C = Cj)\n",
    "\n",
    "fig, (ax1, ax2) = plt.subplots(2,1, sharex = True, figsize = (5,5))\n",
    "\n",
    "R0s = []\n",
    "Isw_maxs = []\n",
    "\n",
    "for R in R_list:\n",
    "    \n",
    "    EJs = EJ_star_simp (EJ = EJ_AB(R), C = Cj)\n",
    "#     EJs = EJ_star (EJ= EJ_AB(R), R = II(R_env, Rj(R, Tb)), T = Tb, C = Cj)\n",
    "    R0, Isw_max = find_R0_Isw( EJ = EJs, R_env = R_env , T = Tb)    \n",
    "    \n",
    "    R0s.append(R0)\n",
    "    Isw_maxs.append(Isw_max)\n",
    "\n",
    "ax1.plot( EJ_AB(R_list) , R0s, label = r'C = {:1.2f} fF'.format(Cj/1e-15))\n",
    "\n",
    "# ax1.plot( EJ_AB(R_list) , EJ_AB(R_list), '--k', alpha = 0.5)\n",
    "# ax.plot( EJ_AB(R_list) , EJ_AB(R_list)**2 / 5, '--k', alpha = 0.5)\n",
    "\n",
    "ax1.plot(EJ0_exp, R0_exp, 'o' , label = 'exp. data')\n",
    "\n",
    "\n",
    "ax1.legend()\n",
    "\n",
    "ax1.set_xscale('log')\n",
    "ax1.set_yscale('log')\n",
    "\n",
    "# ax1.set_xlabel(r'$E_J, K$')\n",
    "ax1.set_ylabel(r'$R_0, k \\Omega$')\n",
    "\n",
    "ax2.plot( EJ_AB(R_list) , np.array(Isw_maxs) / Ic(R_list), label = r'C = {:1.1f} fF'.format(Cj/1e-15))\n",
    "ax2.plot(EJ0_exp, IcIAB_exp, 'o' , label = 'exp. data')\n",
    "ax2.legend()\n",
    "\n",
    "ax2.set_xscale('log')\n",
    "ax2.set_yscale('log')\n",
    "\n",
    "ax2.set_xlabel(r'$E_J, K$')\n",
    "ax2.set_ylabel(r'$I_{sw}/I_{AB}$')\n",
    "\n",
    "plt.tight_layout()"
   ]
  },
  {
   "cell_type": "markdown",
   "metadata": {},
   "source": [
    "# $R_0(T)$"
   ]
  },
  {
   "cell_type": "code",
   "execution_count": 21,
   "metadata": {},
   "outputs": [
    {
     "data": {
      "application/vnd.jupyter.widget-view+json": {
       "model_id": "204138d290e247fea255fe2538b59152",
       "version_major": 2,
       "version_minor": 0
      },
      "text/plain": [
       "FigureCanvasNbAgg()"
      ]
     },
     "metadata": {},
     "output_type": "display_data"
    },
    {
     "data": {
      "text/plain": [
       "Text(0, 0.5, '$R, k \\\\Omega$')"
      ]
     },
     "execution_count": 21,
     "metadata": {},
     "output_type": "execute_result"
    }
   ],
   "source": [
    "RN = 3e3\n",
    "R_env = 200e3\n",
    "\n",
    "Cj = 1.4e-15\n",
    "Tb_list =  np.linspace(0.05, .85, 51)\n",
    "\n",
    "EJs = EJ_star_simp (EJ = EJ_AB(RN), R = R_env, T = Tb, C = Cj)\n",
    "\n",
    "fig, ax1 = plt.subplots()\n",
    "\n",
    "R0s = []\n",
    "\n",
    "for Tb in Tb_list:\n",
    "    \n",
    "    Rsh = II(R_env, Rj(RN, Tb))\n",
    "    \n",
    "    R0 = find_R0( RN, R_env = Rsh , T = Tb, C = Cj)\n",
    "    R0s.append(R0)\n",
    "\n",
    "ax1.plot( Tb_list , R0s, label = r'C = {:1.2f} fF'.format(Cj/1e-15))\n",
    "\n",
    "\n",
    "\n",
    "\n",
    "ax1.legend()\n",
    "\n",
    "# ax1.set_xscale('log')\n",
    "ax1.set_yscale('log')\n",
    "\n",
    "ax1.set_xlabel(r'$T, K$')\n",
    "ax1.set_ylabel(r'$R, k \\Omega$')"
   ]
  },
  {
   "cell_type": "markdown",
   "metadata": {},
   "source": [
    "# $I_{sw}, R_0 (R_{env})$ "
   ]
  },
  {
   "cell_type": "code",
   "execution_count": 75,
   "metadata": {
    "scrolled": false
   },
   "outputs": [
    {
     "name": "stderr",
     "output_type": "stream",
     "text": [
      "D:\\anaconda\\lib\\site-packages\\ipykernel_launcher.py:9: RuntimeWarning: More than 20 figures have been opened. Figures created through the pyplot interface (`matplotlib.pyplot.figure`) are retained until explicitly closed and may consume too much memory. (To control this warning, see the rcParam `figure.max_open_warning`).\n",
      "  if __name__ == '__main__':\n"
     ]
    },
    {
     "data": {
      "application/vnd.jupyter.widget-view+json": {
       "model_id": "",
       "version_major": 2,
       "version_minor": 0
      },
      "text/plain": [
       "FigureCanvasNbAgg()"
      ]
     },
     "metadata": {},
     "output_type": "display_data"
    }
   ],
   "source": [
    "R_env_list = np.logspace(2, 6, 51)\n",
    "\n",
    "RN = 7e3\n",
    "\n",
    "Cj = 1.4e-15\n",
    "Tb = 0.05\n",
    "\n",
    "\n",
    "fig, ax1 = plt.subplots()\n",
    "\n",
    "R0s = []\n",
    "Isw_maxs = []\n",
    "\n",
    "for R_env in R_env_list:\n",
    "\n",
    "    EJs = EJ_star (EJ= EJ_AB(RN), R = R_env, T = Tb, C = Cj)\n",
    "#     EJs = EJ_star_simp (EJ = EJ_AB(RN), C = Cj)\n",
    "    \n",
    "    R0, Isw_max = find_R0_Isw( EJ = EJs, R_env = R_env , T = Tb)\n",
    "    \n",
    "    R0s.append(R0)\n",
    "    Isw_maxs.append(Isw_max)\n",
    "\n",
    "ax1.plot( R_env_list , R0s, '-', label = r'$R_0$')\n",
    "\n",
    "ax2 = ax1.twinx()\n",
    "ax2.plot( R_env_list , np.array(Isw_maxs) / Ic(RN), '--', color = 'C1', label = r'$I_{sw}/I_c$')\n",
    "\n",
    "\n",
    "\n",
    "ax1.set_xscale('log')\n",
    "ax1.set_yscale('log')\n",
    "\n",
    "ax1.set_xlabel(r'$R_{env}, Ohm$')\n",
    "ax1.set_ylabel(r'$R_0, k \\Omega$')\n",
    "\n",
    "ax2.set_yscale('log')\n",
    "ax2.set_ylabel(r'$I_{sw}/I_c$')\n",
    "\n",
    "ax1.legend()\n",
    "ax2.legend()\n",
    "\n",
    "plt.tight_layout()"
   ]
  },
  {
   "cell_type": "markdown",
   "metadata": {},
   "source": [
    "# playing around"
   ]
  },
  {
   "cell_type": "code",
   "execution_count": 211,
   "metadata": {},
   "outputs": [
    {
     "name": "stderr",
     "output_type": "stream",
     "text": [
      "D:\\anaconda\\lib\\site-packages\\ipykernel_launcher.py:16: RuntimeWarning: More than 20 figures have been opened. Figures created through the pyplot interface (`matplotlib.pyplot.figure`) are retained until explicitly closed and may consume too much memory. (To control this warning, see the rcParam `figure.max_open_warning`).\n",
      "  app.launch_new_instance()\n"
     ]
    },
    {
     "data": {
      "application/vnd.jupyter.widget-view+json": {
       "model_id": "e40bfb0cc5f848d799d7e65fdf05be49",
       "version_major": 2,
       "version_minor": 0
      },
      "text/plain": [
       "FigureCanvasNbAgg()"
      ]
     },
     "metadata": {},
     "output_type": "display_data"
    },
    {
     "name": "stdout",
     "output_type": "stream",
     "text": [
      "nan\n",
      "nan\n",
      "nan\n",
      "nan\n",
      "nan\n",
      "nan\n",
      "nan\n",
      "nan\n",
      "nan\n",
      "nan\n",
      "nan\n",
      "nan\n"
     ]
    }
   ],
   "source": [
    "R_env = 1e7\n",
    "Cj = 1.5e-15\n",
    "# Tb = 0.3\n",
    "\n",
    "EJ0= 3\n",
    "\n",
    "fdir = 'E:\\\\OneDrive - Rutgers University\\\\files_py\\\\expdata\\\\'\n",
    "\n",
    "Frust = 'IV scanB'\n",
    "spl = 'chain 68N5\\\\' + Frust + '\\\\'\n",
    "\n",
    "f = os.listdir(fdir + spl)[1]\n",
    "\n",
    "IVC = load_IVC_B(file = fdir + spl+f )\n",
    "\n",
    "fig = plt.figure(figsize = (9,9))\n",
    "gs = GridSpec.GridSpec(4, 3)\n",
    "\n",
    "for i in range(12):\n",
    "# for i, j in enumerate([0,3,4,5,6,7,8, 11, 12, 14,15,16]):\n",
    "    \n",
    "    ax = fig.add_subplot(gs[i] )\n",
    "    \n",
    "    j = 1*i+5\n",
    "    \n",
    "    plot_IVC(ax, IVC[j])\n",
    "    \n",
    "#     plot_IVC(ax, IVC[j], cut = True)\n",
    "\n",
    "\n",
    "    I, V = cut_dxdy(IVC[j]['I'], IVC[j]['V'], dx = 5e-8 ,dy = 2e-5)\n",
    "    Isw = (np.max(I) - np.min(I))/2\n",
    "#     ax.plot([-Isw, Isw], [0,0])\n",
    "    \n",
    "    B  = IVC[j]['B']\n",
    "    Tb = IVC[j]['T']\n",
    "    \n",
    "    cosφ =  np.abs( np.cos(pi/2*B/8.85e-4))\n",
    "\n",
    "    EJ = EJ0 * cosφ**1\n",
    "#     EJ = EJ_star_simp (1.15* cosφ,  Cj)\n",
    "    \n",
    "    Ic0 = EJ/ (Φ0/2/pi/kB)\n",
    "    Vc0 = R_env*Ic0\n",
    "#     Vs = np.linspace(-Vc0*0.5, Vc0*0.5, 101)\n",
    "    Vs = np.linspace(-1000e-4, 1000e-4, 101)\n",
    "    \n",
    "#     R0 = R0_IZ(EJ, R_env, Tb)\n",
    "    R_sh = R_env #II(R0, R_env)\n",
    "#     Tb = 1\n",
    "    Is = I_IZ( Vs, EJ = EJ, R = R_sh, T = Tb) + 0*Iqp(Vs, Tb, V0 = 6e-4, G1 = 1/10e3,  G2 = 1/100e3)\n",
    "#     ax.plot(Is,Vs - Is*R_sh, '-')\n",
    "\n",
    "#     Rd = find_exp_R0(I,V)\n",
    "#     ax.plot( V/ Rd ,V)\n",
    "    \n",
    "    print(Rd)\n",
    "    \n",
    "    plt.title('T = {:2.0f} mK'.format(Tb/1e-3))\n",
    "    ax.legend()\n",
    "    \n",
    "    plt.tight_layout()"
   ]
  },
  {
   "cell_type": "code",
   "execution_count": 299,
   "metadata": {},
   "outputs": [
    {
     "name": "stderr",
     "output_type": "stream",
     "text": [
      "D:\\anaconda\\lib\\site-packages\\ipykernel_launcher.py:1: RuntimeWarning: More than 20 figures have been opened. Figures created through the pyplot interface (`matplotlib.pyplot.figure`) are retained until explicitly closed and may consume too much memory. (To control this warning, see the rcParam `figure.max_open_warning`).\n",
      "  \"\"\"Entry point for launching an IPython kernel.\n"
     ]
    },
    {
     "data": {
      "application/vnd.jupyter.widget-view+json": {
       "model_id": "632f2a5da66841d581559a760c3e4d5b",
       "version_major": 2,
       "version_minor": 0
      },
      "text/plain": [
       "FigureCanvasNbAgg()"
      ]
     },
     "metadata": {},
     "output_type": "display_data"
    },
    {
     "name": "stdout",
     "output_type": "stream",
     "text": [
      "0.08526585891339196\n"
     ]
    }
   ],
   "source": [
    "fig, ax = plt.subplots()\n",
    "\n",
    "j = 13\n",
    "\n",
    "plot_IVC(ax, IVC[13], cut = True)\n",
    "# plot_IVC(ax, IVC[13])\n",
    "\n",
    "EJ = 0.0195 \n",
    "R_env = 2.6e4\n",
    "\n",
    "\n",
    "Vs = np.linspace(-4e-5, 4e-5)\n",
    "Is = I_IZ( Vs, EJ = EJ, R = R_env, T = 0.05) + 0*Iqp(Vs, Tb, V0 = 6e-4, G1 = 1/10e3,  G2 = 1/100e3)\n",
    "ax.plot(Is,Vs - Is*R_env - 2.0e-6, '-')\n",
    "\n",
    "# Is = np.linspace(-0.5e-10, 0.5e-10)\n",
    "# ax.plot(Is,1e-5*np.sinh(Is/0.35e-10), '-')\n",
    "\n",
    "ax.legend()\n",
    "\n",
    "print (EJ/IVC[13]['cosφ'])"
   ]
  },
  {
   "cell_type": "code",
   "execution_count": 291,
   "metadata": {},
   "outputs": [
    {
     "name": "stderr",
     "output_type": "stream",
     "text": [
      "D:\\anaconda\\lib\\site-packages\\ipykernel_launcher.py:1: RuntimeWarning: More than 20 figures have been opened. Figures created through the pyplot interface (`matplotlib.pyplot.figure`) are retained until explicitly closed and may consume too much memory. (To control this warning, see the rcParam `figure.max_open_warning`).\n",
      "  \"\"\"Entry point for launching an IPython kernel.\n"
     ]
    },
    {
     "data": {
      "application/vnd.jupyter.widget-view+json": {
       "model_id": "5c26957d975f465c89e4992c3555679b",
       "version_major": 2,
       "version_minor": 0
      },
      "text/plain": [
       "FigureCanvasNbAgg()"
      ]
     },
     "metadata": {},
     "output_type": "display_data"
    },
    {
     "name": "stdout",
     "output_type": "stream",
     "text": [
      "0.15272842348309862\n"
     ]
    }
   ],
   "source": [
    "fig, ax = plt.subplots()\n",
    "\n",
    "j = 5\n",
    "\n",
    "# plot_IVC(ax, IVC[5])\n",
    "plot_IVC(ax, IVC[j], cut = True)\n",
    "\n",
    "EJ = 0.145\n",
    "R_env = 3.09e4\n",
    "\n",
    "Vs = np.linspace(-10e-5, 10e-5)\n",
    "Is = I_IZ( Vs, EJ = EJ, R = R_env, T = 0.05) + 1*Iqp(Vs, Tb, V0 = 6e-4, G1 = 1/10e3,  G2 = 1/100e3)\n",
    "ax.plot(Is - 1e-10 ,Vs - Is*R_env - 1.2e-6, '-')\n",
    "\n",
    "ax.legend()\n",
    "\n",
    "print (EJ/IVC[j]['cosφ'])"
   ]
  },
  {
   "cell_type": "code",
   "execution_count": 276,
   "metadata": {},
   "outputs": [
    {
     "data": {
      "application/vnd.jupyter.widget-view+json": {
       "model_id": "51078884f6744fb5b01eedf336bcde2c",
       "version_major": 2,
       "version_minor": 0
      },
      "text/plain": [
       "FigureCanvasNbAgg()"
      ]
     },
     "metadata": {},
     "output_type": "display_data"
    },
    {
     "name": "stdout",
     "output_type": "stream",
     "text": [
      "0.10238572915318822\n"
     ]
    }
   ],
   "source": [
    "fig, ax = plt.subplots()\n",
    "\n",
    "j = 6\n",
    "\n",
    "plot_IVC(ax, IVC[j], cut = True)\n",
    "# plot_IVC(ax, IVC[13], cut = True)\n",
    "\n",
    "EJ = 0.09\n",
    "R_env = 1.39e4\n",
    "\n",
    "Is = I_IZ( Vs, EJ = EJ, R = R_env, T = 0.05) + 1*Iqp(Vs, Tb, V0 = 6e-4, G1 = 1/10e3,  G2 = 1/100e3)\n",
    "ax.plot(Is + 0e-10 ,Vs - Is*R_env + 0.5e-6, '-')\n",
    "\n",
    "ax.legend()\n",
    "\n",
    "print (EJ/IVC[j]['cosφ'])"
   ]
  },
  {
   "cell_type": "code",
   "execution_count": 171,
   "metadata": {},
   "outputs": [
    {
     "data": {
      "text/plain": [
       "['68N5_scanB_050mK-030739.txt',\n",
       " '68N5_scanB_100mK-081113.txt',\n",
       " '68N5_scanB_300mK-114708.txt',\n",
       " '68N5_scanB_500mK-114708.txt']"
      ]
     },
     "execution_count": 171,
     "metadata": {},
     "output_type": "execute_result"
    }
   ],
   "source": [
    "os.listdir(fdir + spl)"
   ]
  },
  {
   "cell_type": "code",
   "execution_count": 210,
   "metadata": {
    "scrolled": false
   },
   "outputs": [
    {
     "name": "stderr",
     "output_type": "stream",
     "text": [
      "D:\\anaconda\\lib\\site-packages\\ipykernel_launcher.py:13: RuntimeWarning: More than 20 figures have been opened. Figures created through the pyplot interface (`matplotlib.pyplot.figure`) are retained until explicitly closed and may consume too much memory. (To control this warning, see the rcParam `figure.max_open_warning`).\n",
      "  del sys.path[0]\n"
     ]
    },
    {
     "data": {
      "application/vnd.jupyter.widget-view+json": {
       "model_id": "af64ab538eff4eb2b22e873400204412",
       "version_major": 2,
       "version_minor": 0
      },
      "text/plain": [
       "FigureCanvasNbAgg()"
      ]
     },
     "metadata": {},
     "output_type": "display_data"
    },
    {
     "name": "stderr",
     "output_type": "stream",
     "text": [
      "D:\\anaconda\\lib\\site-packages\\numpy\\core\\fromnumeric.py:3118: RuntimeWarning: Mean of empty slice.\n",
      "  out=out, **kwargs)\n",
      "D:\\anaconda\\lib\\site-packages\\numpy\\core\\_methods.py:85: RuntimeWarning: invalid value encountered in double_scalars\n",
      "  ret = ret.dtype.type(ret / rcount)\n"
     ]
    },
    {
     "name": "stdout",
     "output_type": "stream",
     "text": [
      "nan\n"
     ]
    },
    {
     "data": {
      "text/plain": [
       "[<matplotlib.lines.Line2D at 0x22f83160f98>]"
      ]
     },
     "execution_count": 210,
     "metadata": {},
     "output_type": "execute_result"
    }
   ],
   "source": [
    "R_env = 2e5\n",
    "Cj = 1.5e-15\n",
    "Tb = 0.3\n",
    "\n",
    "j = 1\n",
    "\n",
    "fdir = 'E:\\\\OneDrive - Rutgers University\\\\files_py\\\\expdata\\\\'\n",
    "\n",
    "Frust = 'IV scanB'\n",
    "spl = 'chain 68N5\\\\' + Frust + '\\\\'\n",
    "# spl = 'chain 678N1\\\\' + Frust + '\\\\'\n",
    "\n",
    "fig, ax = plt.subplots()\n",
    "\n",
    "f = os.listdir(fdir + spl)[j]\n",
    "\n",
    "ax.clear()\n",
    "\n",
    "I, V = [], []\n",
    "\n",
    "data = np.genfromtxt(fdir + spl+f, skip_header = 22 ) [1:,:] \n",
    "Ts    = data[:,5]\n",
    "Iraw = data[:,7]\n",
    "Vraw = data[:,8]\n",
    "IG   = data[:,6]\n",
    "    \n",
    "# np.split(IG, 357)    \n",
    "# _, n = np.unique(IG, return_counts = True) \n",
    "\n",
    "# np.split(IG, n) \n",
    "\n",
    "# Tb = np.mean(Ts)\n",
    "\n",
    "index_sets = [np.argwhere(i == IG) for i in np.unique(IG)]\n",
    "\n",
    "i = 0\n",
    "\n",
    "Iss = []\n",
    "Igs = []\n",
    "\n",
    "R0s = []\n",
    "R0_ths = []\n",
    "\n",
    "for sll in index_sets[:]:\n",
    "    sl = sll.flatten()\n",
    "\n",
    "#     I, V = avg_group(Iraw[sl], Vraw[sl])\n",
    "    I, V = Iraw[sl], Vraw[sl]\n",
    "    I, V = cut_dxdy(I, V, dx = 1e-7 ,dy = 3.85e-4)\n",
    "    \n",
    "    Is = (np.max(I) - np.min(I))/2\n",
    "    Ig = np.mean(IG[sl])\n",
    "    \n",
    "    Iss.append(Is)\n",
    "    Igs.append(Ig)\n",
    "  \n",
    "    I, V = cut_dxdy(I, V, dx = 1e-9 ,dy = 3.85e-4)\n",
    "\n",
    "    R0s.append( find_exp_R0(I, V) )\n",
    "#     EJ = 3* np.abs( np.cos(pi/2*Ig/8.85e-4)    ) \n",
    "#     R0_th, _ = find_R0_Isw( EJ, R_env = 1e5 , T = 0.05, VERBOSE = False)\n",
    "#     R0_ths.append(R0_th)\n",
    "\n",
    "\n",
    "Iss = np.array(Iss)\n",
    "Igs = np.array(Igs)\n",
    "\n",
    "R0s = np.array(R0s)\n",
    "\n",
    "cosφ =  np.abs( np.cos(pi/2*Igs/8.85e-4)    )    \n",
    "\n",
    "Ic0 = Ic (2e3)\n",
    "\n",
    "ax.plot(cosφ, Iss/Ic0/cosφ , 'o', label = r'exp data')\n",
    "\n",
    "# ax.set_xscale('log')\n",
    "ax.set_yscale('log')   \n",
    "\n",
    "ax.set_xlabel(r'$cos(\\pi \\Phi / \\Phi_0)$')\n",
    "ax.set_ylabel(r'$I_{sw}/I_{c0}$')\n",
    "\n",
    "ax2 = ax.twinx()\n",
    "ax2.plot(cosφ, R0s , 'x', label = r'exp data')\n",
    "ax2.set_yscale('log')\n",
    "# Isw_maxs = []\n",
    "\n",
    "# for cosφ_ in cosφ:\n",
    "#     EJ0 = 0.25\n",
    "#     EJs = EJ0*cosφ_**1\n",
    "# #     EJs = EJ_star_simp (EJ = EJ_AB(RN), C = Cj)\n",
    "    \n",
    "#     R0, Isw_max = find_R0_Isw( EJ = EJs, R_env = R_env , T = Tb)\n",
    "#     Isw_maxs.append(Isw_max/1e-9)\n",
    "    \n",
    "# ax.plot(cosφ, Isw_maxs, '-', label = 'IZ for EJ* = {:1.2f} K x cos(phi)'.format(EJ0))\n",
    "\n",
    "ax.set_xlim( 0.1 ,1.2 )\n",
    "ax.set_ylim( 1e-4,1e-1  ) \n",
    " \n",
    "# ax.legend()\n",
    "EJ = EJ_AB(2e3)\n",
    "# R0_KMs = R0_KM( EJ = EJ*cosφ, Ec = 0.9, Q = 5, T = 0.5)\n",
    "R0_th = 2e3*np.exp( - (cosφ**1-1)*10.5) \n",
    "# R0_KMs = 2e3*np.exp( - (cosφ**2-1)*8) \n",
    "\n",
    "\n",
    "n, b = np.polyfit ( cosφ, np.log( R0s ), 1 )\n",
    "\n",
    "print(n)\n",
    "\n",
    "# R0_th = np.exp(n*cosφ+b)\n",
    "\n",
    "ax2.plot(cosφ, R0_th , '--', label = r'th data')\n",
    "# for c in cosφ:\n",
    "    \n",
    "#     R0_th  = R0_IZ(3.15*c, R = 1e6, T = 0.5)\n",
    "#     R0_ths.append(R0_th)\n",
    "# ax2.plot(cosφ, R0_ths , '--', label = r'th data')\n",
    "\n"
   ]
  },
  {
   "cell_type": "code",
   "execution_count": 188,
   "metadata": {},
   "outputs": [
    {
     "data": {
      "text/plain": [
       "<function numpy.polyfit(x, y, deg, rcond=None, full=False, w=None, cov=False)>"
      ]
     },
     "execution_count": 188,
     "metadata": {},
     "output_type": "execute_result"
    }
   ],
   "source": [
    "np.polyfit "
   ]
  },
  {
   "cell_type": "code",
   "execution_count": 25,
   "metadata": {
    "scrolled": false
   },
   "outputs": [
    {
     "name": "stderr",
     "output_type": "stream",
     "text": [
      "D:\\anaconda\\lib\\site-packages\\ipykernel_launcher.py:1: RuntimeWarning: More than 20 figures have been opened. Figures created through the pyplot interface (`matplotlib.pyplot.figure`) are retained until explicitly closed and may consume too much memory. (To control this warning, see the rcParam `figure.max_open_warning`).\n",
      "  \"\"\"Entry point for launching an IPython kernel.\n"
     ]
    },
    {
     "data": {
      "application/vnd.jupyter.widget-view+json": {
       "model_id": "",
       "version_major": 2,
       "version_minor": 0
      },
      "text/plain": [
       "FigureCanvasNbAgg()"
      ]
     },
     "metadata": {},
     "output_type": "display_data"
    },
    {
     "name": "stderr",
     "output_type": "stream",
     "text": [
      "D:\\anaconda\\lib\\site-packages\\numpy\\lib\\function_base.py:392: RuntimeWarning: Mean of empty slice.\n",
      "  avg = a.mean(axis)\n",
      "D:\\anaconda\\lib\\site-packages\\numpy\\core\\_methods.py:85: RuntimeWarning: invalid value encountered in double_scalars\n",
      "  ret = ret.dtype.type(ret / rcount)\n"
     ]
    }
   ],
   "source": [
    "fig = plt.figure(figsize = (9,9))\n",
    "gs = GridSpec.GridSpec(4, 3)\n",
    "\n",
    "for i in range(12):\n",
    "    ax = fig.add_subplot(gs[i] )\n",
    "    plot_i(ax, 2*i, EJ0 = 1.2)\n",
    "    plt.tight_layout()"
   ]
  },
  {
   "cell_type": "code",
   "execution_count": 402,
   "metadata": {},
   "outputs": [
    {
     "data": {
      "application/vnd.jupyter.widget-view+json": {
       "model_id": "318cdbec2f01462a868575a0b0bb8871",
       "version_major": 2,
       "version_minor": 0
      },
      "text/plain": [
       "FigureCanvasNbAgg()"
      ]
     },
     "metadata": {},
     "output_type": "display_data"
    }
   ],
   "source": [
    "Vs = np.linspace(-1e-2, 1e-2, 101)\n",
    "\n",
    "fig, ax = plt.subplots()\n",
    "\n",
    "for T in [ 0.1, 0.3, 0.5]:\n",
    "    Is = Iqp(Vs, T, V0 = 1e-3, G1 = 1/1e3,  G2 = 1/30e3)\n",
    "\n",
    "    ax.plot(Is, Vs)"
   ]
  },
  {
   "cell_type": "code",
   "execution_count": 81,
   "metadata": {
    "scrolled": false
   },
   "outputs": [
    {
     "data": {
      "application/vnd.jupyter.widget-view+json": {
       "model_id": "a852ad4cd4004a67a5150276f1cf51d8",
       "version_major": 2,
       "version_minor": 0
      },
      "text/plain": [
       "FigureCanvasNbAgg()"
      ]
     },
     "metadata": {},
     "output_type": "display_data"
    },
    {
     "data": {
      "text/plain": [
       "7"
      ]
     },
     "execution_count": 81,
     "metadata": {},
     "output_type": "execute_result"
    }
   ],
   "source": [
    "fdir = 'E:\\\\OneDrive - Rutgers University\\\\files_py\\\\expdata\\\\'\n",
    "Frust = 'IV ZF'\n",
    "# Frust = 'IV scanB'\n",
    "spl = 'chain 68N5\\\\' + Frust + '\\\\'\n",
    "# spl = 'chain 678N1\\\\' + Frust + '\\\\'\n",
    "\n",
    "fig, ax = plt.subplots()\n",
    "\n",
    "def plot_i(ax, i):\n",
    "\n",
    "    f = os.listdir(fdir + spl)[i]\n",
    "\n",
    "    ax.clear()\n",
    "\n",
    "    I, V = [], []\n",
    "    \n",
    "    data = np.genfromtxt(fdir + spl+f, skip_header = 22 ) [1:,:] \n",
    "    T = data[:,5]\n",
    "    Iraw = data[:,7]\n",
    "    Vraw = data[:,8] \n",
    "\n",
    "    ax.plot(Iraw, Vraw, 'o', alpha = 0.2, label = 'T = {:2.0f} mK'.format(np.mean(T*1e3)))\n",
    "\n",
    "    ax.set_xlim(-4e-8, 4e-8)\n",
    "    ax.set_ylim(-5e-4, 5e-4)\n",
    "    \n",
    "    ax.legend()\n",
    "    fig.canvas.draw()\n",
    "    time.sleep(.5)\n",
    "\n",
    "def press( event, ax):\n",
    "\n",
    "    global i\n",
    "\n",
    "\n",
    "    if event.key == 'left':\n",
    "        i -= 1 \n",
    "        plot_i(ax, i)\n",
    "\n",
    "\n",
    "    if event.key == 'right':\n",
    "        i += 1 \n",
    "        plot_i(ax, i)\n",
    "        \n",
    "\n",
    "    \n",
    "i = 0\n",
    "plot_i(ax, i)\n",
    "fig.canvas.mpl_connect('key_press_event', lambda event: press(event, ax))\n",
    "    "
   ]
  },
  {
   "cell_type": "code",
   "execution_count": 74,
   "metadata": {},
   "outputs": [
    {
     "name": "stderr",
     "output_type": "stream",
     "text": [
      "D:\\anaconda\\lib\\site-packages\\ipykernel_launcher.py:8: RuntimeWarning: More than 20 figures have been opened. Figures created through the pyplot interface (`matplotlib.pyplot.figure`) are retained until explicitly closed and may consume too much memory. (To control this warning, see the rcParam `figure.max_open_warning`).\n",
      "  \n"
     ]
    },
    {
     "data": {
      "application/vnd.jupyter.widget-view+json": {
       "model_id": "",
       "version_major": 2,
       "version_minor": 0
      },
      "text/plain": [
       "FigureCanvasNbAgg()"
      ]
     },
     "metadata": {},
     "output_type": "display_data"
    },
    {
     "data": {
      "text/plain": [
       "[<matplotlib.lines.Line2D at 0x2681ae9bc50>]"
      ]
     },
     "execution_count": 74,
     "metadata": {},
     "output_type": "execute_result"
    }
   ],
   "source": [
    "EC = 4*e**2/2/1e-15/kB\n",
    "\n",
    "T = 0.2\n",
    "\n",
    "E = np.linspace(-3, 3, 101)\n",
    "f = np.exp (-E**2/ 4 /EC /T )\n",
    "\n",
    "fig, ax = plt.subplots()\n",
    "\n",
    "ax.plot(E,f)\n"
   ]
  },
  {
   "cell_type": "code",
   "execution_count": 44,
   "metadata": {},
   "outputs": [
    {
     "data": {
      "text/plain": [
       "(994.0098703697229, 1.4322014399176624e-11)"
      ]
     },
     "execution_count": 44,
     "metadata": {},
     "output_type": "execute_result"
    }
   ],
   "source": [
    "find_R0_Isw( EJ = .01, R_env = 2e1 , T = 0.05)"
   ]
  },
  {
   "cell_type": "code",
   "execution_count": 139,
   "metadata": {},
   "outputs": [],
   "source": [
    "class jj( ):\n",
    "    def __init__(self, **kwargs ):\n",
    "        self.vars = ['Ic', 'RN', 'Rj', 'EJ', 'T', 'C', 'EC']\n",
    "        \n",
    "        self.Δ = 2.1*kB\n",
    "        \n",
    "        for var in self.vars:\n",
    "            if var not in kwargs.keys():\n",
    "                kwargs[var] = np.nan\n",
    "                \n",
    "            setattr(self,'_' + var, kwargs[var])        \n",
    "        \n",
    "\n",
    "        \n",
    "    def Ic(self):\n",
    "        if self._Ic is np.nan:\n",
    "            self._Ic = self.EJ()/ (Φ0/2/pi/kB)\n",
    "        return self._Ic\n",
    "\n",
    "    def EJ(self):\n",
    "        if self._EJ is np.nan:\n",
    "            self._EJ = self._Ic* (Φ0/2/pi/kB)\n",
    "        return self._EJ\n",
    "    \n",
    "    def RN(self):\n",
    "        if self._RN is np.nan:\n",
    "            self._RN = self.Δ / 4 /e /kB /self.EJ()\n",
    "        return self._RN\n",
    "    \n",
    "#     def RN(self):\n",
    "#         self._RN = self.Δ / 4 /e /kB /self.EJ()\n",
    "#         return self._RN "
   ]
  },
  {
   "cell_type": "code",
   "execution_count": 140,
   "metadata": {},
   "outputs": [
    {
     "data": {
      "text/plain": [
       "array([1.37466311e+20, 6.87331553e+19])"
      ]
     },
     "execution_count": 140,
     "metadata": {},
     "output_type": "execute_result"
    }
   ],
   "source": [
    "RN_list = np.array([1e3,2e3])\n",
    "Ic_list = np.array([1e-9,2e-9])\n",
    "\n",
    "\n",
    "jj(Ic = Ic_list).RN()"
   ]
  },
  {
   "cell_type": "code",
   "execution_count": 70,
   "metadata": {},
   "outputs": [
    {
     "data": {
      "text/plain": [
       "array([0.0500296, 0.0500648, 0.050029 , ..., 0.0499659, 0.0499395,\n",
       "       0.0499333])"
      ]
     },
     "execution_count": 70,
     "metadata": {},
     "output_type": "execute_result"
    }
   ],
   "source": [
    "fdir = 'E:\\\\OneDrive - Rutgers University\\\\files_py\\\\expdata\\\\'\n",
    "\n",
    "Frust = 'IV scanB'\n",
    "spl = 'chain 68N5\\\\' + Frust + '\\\\'\n",
    "f = os.listdir(fdir + spl)[0]\n",
    "\n",
    "\n",
    "data = np.genfromtxt( fdir + spl+f, skip_header = 22 ) [1:,:] \n",
    "Ts    = data[:,5]\n",
    "Ts"
   ]
  },
  {
   "cell_type": "markdown",
   "metadata": {},
   "source": [
    "## KAutz"
   ]
  },
  {
   "cell_type": "code",
   "execution_count": 95,
   "metadata": {},
   "outputs": [
    {
     "data": {
      "application/vnd.jupyter.widget-view+json": {
       "model_id": "82bdefeeb55148c7a1b881df4963d11c",
       "version_major": 2,
       "version_minor": 0
      },
      "text/plain": [
       "FigureCanvasNbAgg()"
      ]
     },
     "metadata": {},
     "output_type": "display_data"
    },
    {
     "name": "stdout",
     "output_type": "stream",
     "text": [
      "14260.15637007266\n",
      "14656.670807150254\n",
      "15331.941477535633\n",
      "16387.8482969361\n",
      "19986.224483553357\n",
      "26641.908396471183\n",
      "38989.065495538416\n",
      "139797.88651595337\n",
      "169842.935413269\n",
      "266393.1147719066\n",
      "349802.85125544743\n",
      "487263.40032403526\n"
     ]
    }
   ],
   "source": [
    "R_env = 1.49e4\n",
    "Cj = 1.5e-15\n",
    "# Tb = 0.3\n",
    "\n",
    "EJ0= 1\n",
    "\n",
    "fdir = 'E:\\\\OneDrive - Rutgers University\\\\files_py\\\\expdata\\\\'\n",
    "\n",
    "Frust = 'IV scanB'\n",
    "spl = 'chain 68N5\\\\' + Frust + '\\\\'\n",
    "\n",
    "f = os.listdir(fdir + spl)[0]\n",
    "\n",
    "IVC = load_IVC_B(file = fdir + spl+f )\n",
    "\n",
    "fig = plt.figure(figsize = (9,9))\n",
    "gs = GridSpec.GridSpec(4, 3)\n",
    "\n",
    "for i, j in enumerate([0,3,4,5,6,7,8, 11, 12, 14, 15, 16]):\n",
    "    \n",
    "    ax = fig.add_subplot(gs[i] )\n",
    "    \n",
    "#     j = 2*i+0\n",
    "    \n",
    "#     plot_IVC(ax, IVC[j])\n",
    "    \n",
    "    plot_IVC(ax, IVC[j], cut = True)\n",
    "\n",
    "\n",
    "    I, V = cut_dxdy(IVC[j]['I'], IVC[j]['V'], dx = 5e-9 ,dy = 2e-5)\n",
    "    Isw = (np.max(I) - np.min(I))/2\n",
    "#     ax.plot([-Isw, Isw], [0,0])\n",
    "    \n",
    "    B  = IVC[j]['B']\n",
    "    Tb = IVC[j]['T']\n",
    "    \n",
    "    cosφ =  np.abs( np.cos(pi/2*B/8.85e-4))\n",
    "\n",
    "    EJ = EJ0 * cosφ**1\n",
    "#     EJ = EJ_star_simp (1.15* cosφ,  Cj)\n",
    "    Q = 16\n",
    "#     Q = Qp(EJ = EJ, Ec = 0.9, Rsh = 4e4)\n",
    "\n",
    "    Ic0 = EJ/(Φ0/2/pi/kB)\n",
    "    Vc0 = R_env*Ic0\n",
    "\n",
    "    Is = np.linspace(-Ic0/Q, Ic0/Q, 101)\n",
    "    \n",
    "    R_sh = R_env #II(R0, R_env)\n",
    "    Vs = V_KM(Is/Ic0, EJ = EJ, Ec = 0.9, Q = Q, T = .7)\n",
    "    ax.plot(Is,Vs , '-')\n",
    "\n",
    "    \n",
    "    print(R0_KM( EJ = EJ, Ec = 0.9, Q = Q, T = .7))\n",
    "    \n",
    "    plt.title('T = {:2.0f} mK'.format(Tb/1e-3))\n",
    "    ax.legend()\n",
    "    \n",
    "    plt.tight_layout()"
   ]
  },
  {
   "cell_type": "code",
   "execution_count": 217,
   "metadata": {},
   "outputs": [
    {
     "data": {
      "text/plain": [
       "True"
      ]
     },
     "execution_count": 217,
     "metadata": {},
     "output_type": "execute_result"
    }
   ],
   "source": [
    "np.allclose(1e-8,2e-8)"
   ]
  }
 ],
 "metadata": {
  "kernelspec": {
   "display_name": "Python 3",
   "language": "python",
   "name": "python3"
  },
  "language_info": {
   "codemirror_mode": {
    "name": "ipython",
    "version": 3
   },
   "file_extension": ".py",
   "mimetype": "text/x-python",
   "name": "python",
   "nbconvert_exporter": "python",
   "pygments_lexer": "ipython3",
   "version": "3.6.5"
  },
  "toc": {
   "base_numbering": 1,
   "nav_menu": {},
   "number_sections": true,
   "sideBar": true,
   "skip_h1_title": false,
   "title_cell": "Table of Contents",
   "title_sidebar": "Contents",
   "toc_cell": false,
   "toc_position": {
    "height": "121.45px",
    "left": "10px",
    "top": "150px",
    "width": "165px"
   },
   "toc_section_display": true,
   "toc_window_display": true
  }
 },
 "nbformat": 4,
 "nbformat_minor": 2
}
