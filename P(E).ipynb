{
 "cells": [
  {
   "cell_type": "code",
   "execution_count": 3,
   "metadata": {},
   "outputs": [],
   "source": [
    "%matplotlib widget\n",
    "%load_ext autoreload\n",
    "%autoreload 2\n",
    "\n",
    "\n",
    "import matplotlib.pyplot as plt\n",
    "import matplotlib.gridspec as GridSpec\n",
    "import numpy as np\n",
    "import os\n",
    "\n",
    "# from tqdm import tqdm, tqdm_notebook\n",
    "import math\n",
    "\n",
    "from  scipy.special import digamma as ψ\n",
    "from mpmath import besseli as Iν\n",
    "from scipy.constants import hbar, pi, h, e, k\n",
    "\n",
    "kB = k\n",
    "γ = 0.57721566\n",
    "RQ = h/4/e**2\n",
    "Φ0 = h/2/e\n",
    "\n",
    "from JJformulas import *"
   ]
  },
  {
   "cell_type": "code",
   "execution_count": 2,
   "metadata": {},
   "outputs": [],
   "source": [
    "Δ = 2.1*kB\n",
    "R_env = 377"
   ]
  },
  {
   "cell_type": "code",
   "execution_count": 142,
   "metadata": {},
   "outputs": [
    {
     "ename": "SyntaxError",
     "evalue": "invalid syntax (<ipython-input-142-0872fb3064c7>, line 1)",
     "output_type": "error",
     "traceback": [
      "\u001b[1;36m  File \u001b[1;32m\"<ipython-input-142-0872fb3064c7>\"\u001b[1;36m, line \u001b[1;32m1\u001b[0m\n\u001b[1;33m    ||\u001b[0m\n\u001b[1;37m    ^\u001b[0m\n\u001b[1;31mSyntaxError\u001b[0m\u001b[1;31m:\u001b[0m invalid syntax\n"
     ]
    }
   ],
   "source": []
  },
  {
   "cell_type": "code",
   "execution_count": 40,
   "metadata": {},
   "outputs": [
    {
     "data": {
      "text/plain": [
       "'e:\\\\OneDrive - Rutgers University\\\\files_GitHub\\\\JJ arrays'"
      ]
     },
     "execution_count": 40,
     "metadata": {},
     "output_type": "execute_result"
    }
   ],
   "source": [
    "os.getcwd()"
   ]
  },
  {
   "cell_type": "code",
   "execution_count": 4,
   "metadata": {},
   "outputs": [
    {
     "data": {
      "text/plain": [
       "0.04517241304820373"
      ]
     },
     "execution_count": 4,
     "metadata": {},
     "output_type": "execute_result"
    }
   ],
   "source": [
    "EJ_AB(150e3)"
   ]
  },
  {
   "cell_type": "code",
   "execution_count": 5,
   "metadata": {},
   "outputs": [
    {
     "data": {
      "text/plain": [
       "1.8950499176670637e-09"
      ]
     },
     "execution_count": 5,
     "metadata": {},
     "output_type": "execute_result"
    }
   ],
   "source": [
    "Ic (150e3)"
   ]
  },
  {
   "cell_type": "markdown",
   "metadata": {},
   "source": [
    "# $E_J^* (E_J)$"
   ]
  },
  {
   "cell_type": "code",
   "execution_count": 51,
   "metadata": {},
   "outputs": [
    {
     "data": {
      "text/plain": [
       "array([8.13031, 0.65602, 0.36831, 0.1087 , 0.04361])"
      ]
     },
     "execution_count": 51,
     "metadata": {},
     "output_type": "execute_result"
    }
   ],
   "source": [
    "data = np.genfromtxt(os.getcwd()+ f'\\IcvsEJ.dat')\n",
    "IcIAB_exp = data[:, 2]\n",
    "EJ0_exp = data[:, 0]\n",
    "EJ0_exp"
   ]
  },
  {
   "cell_type": "code",
   "execution_count": 25,
   "metadata": {},
   "outputs": [
    {
     "data": {
      "application/vnd.jupyter.widget-view+json": {
       "model_id": "3e268a9a8c5f459ebb1371a924fdfeb8",
       "version_major": 2,
       "version_minor": 0
      },
      "text/plain": [
       "FigureCanvasNbAgg()"
      ]
     },
     "metadata": {},
     "output_type": "display_data"
    },
    {
     "data": {
      "text/plain": [
       "Text(0, 0.5, '$E_J^*, K$')"
      ]
     },
     "execution_count": 25,
     "metadata": {},
     "output_type": "execute_result"
    }
   ],
   "source": [
    "R_list = np.logspace(2, 6, 101)\n",
    "\n",
    "R_env = 377\n",
    "Tb = 0.05\n",
    "\n",
    "# EJs = EJ_star (EJ = EJ_AB(R_list), R = II(R_env, Rj(R_list, Tb)), T = Tb, C = 1.95e-15)\n",
    "\n",
    "EJs = EJ_star_simp (EJ = EJ_AB(R_list),  C = 1.95e-15)\n",
    "\n",
    "fig, ax1 = plt.subplots()\n",
    "ax1.plot( EJ_AB(R_list) , EJs, label = r'C = 1.95 fF')\n",
    "\n",
    "ax1.plot( EJ_AB(R_list) , EJ_AB(R_list), '--k', alpha = 0.5)\n",
    "# ax.plot( EJ_AB(R_list) , EJ_AB(R_list)**2 / 5, '--k', alpha = 0.5)\n",
    "\n",
    "ax1.plot(EJ0_exp, EJ0_exp * IcIAB_exp, 'o' , label = 'exp. data')\n",
    "\n",
    "\n",
    "ax1.legend()\n",
    "\n",
    "ax1.set_xscale('log')\n",
    "ax1.set_yscale('log')\n",
    "\n",
    "ax1.set_xlabel(r'$E_J, K$')\n",
    "ax1.set_ylabel(r'$E_J^*, K$')"
   ]
  },
  {
   "cell_type": "markdown",
   "metadata": {},
   "source": [
    "# IVCs"
   ]
  },
  {
   "cell_type": "code",
   "execution_count": 52,
   "metadata": {
    "scrolled": false
   },
   "outputs": [
    {
     "name": "stderr",
     "output_type": "stream",
     "text": [
      "D:\\anaconda\\lib\\site-packages\\ipykernel_launcher.py:9: RuntimeWarning: More than 20 figures have been opened. Figures created through the pyplot interface (`matplotlib.pyplot.figure`) are retained until explicitly closed and may consume too much memory. (To control this warning, see the rcParam `figure.max_open_warning`).\n",
      "  if __name__ == '__main__':\n"
     ]
    },
    {
     "data": {
      "application/vnd.jupyter.widget-view+json": {
       "model_id": "fae436fc86584f6798d1e523b1a0943e",
       "version_major": 2,
       "version_minor": 0
      },
      "text/plain": [
       "FigureCanvasNbAgg()"
      ]
     },
     "metadata": {},
     "output_type": "display_data"
    }
   ],
   "source": [
    "Rs = [1e2, 10e3, 20e3, 150e3 ]\n",
    "\n",
    "R_env = 2e5\n",
    "Tb = 0.05\n",
    "Cj = 1.5e-15\n",
    "\n",
    "n = len(Rs)\n",
    "\n",
    "fig = plt.figure(figsize = (7,10))\n",
    "gs = GridSpec.GridSpec(n, 1)\n",
    "\n",
    "\n",
    "\n",
    "Vs = np.linspace(0, 1e-2, 101)\n",
    "\n",
    "\n",
    "# Rs = [ 200e3 ]\n",
    "\n",
    "for i, R in enumerate(Rs):\n",
    "    \n",
    "    ax = fig.add_subplot(gs[i] )#,sharex=ax)\n",
    "\n",
    "    Rsh = II(R_env, Rj(R, Tb))\n",
    "    \n",
    "    EJ_s = EJ_star_simp (EJ = EJ_AB(R),  C = Cj)\n",
    "#     EJ_s = EJ_star (EJ = EJ_AB(R), R = Rsh, T = Tb, C = Cj)\n",
    "\n",
    "    Is = I_IZ( Vs, EJ = EJ_s, R = Rsh, T = Tb) \n",
    "\n",
    "\n",
    "    ax.plot( (Vs - 1*Is*Rsh)/1e-3, (Is)/1e-9, '-', label = 'Rn = {} kOhm, EJ* = {:1.3f} K'.format(R/1e3, EJ_s))\n",
    "\n",
    "    ax.legend()    \n",
    "    ax.set_xlabel(r'$V, mV$')\n",
    "    ax.set_ylabel(r'$I, nA$')\n",
    "\n",
    "# ax.set_xscale('log')\n",
    "# ax.set_yscale('log')\n",
    "\n",
    "plt.tight_layout()"
   ]
  },
  {
   "cell_type": "markdown",
   "metadata": {},
   "source": [
    "# $R_0, I_{sw}(E_J)$\n"
   ]
  },
  {
   "cell_type": "code",
   "execution_count": null,
   "metadata": {},
   "outputs": [],
   "source": [
    "data = np.genfromtxt(os.getcwd()+ f'\\IcvsEJ.dat')\n",
    "IcIAB_exp = data[:, 2]\n",
    "EJ0_exp = data[:, 0]\n",
    "EJ0_exp"
   ]
  },
  {
   "cell_type": "code",
   "execution_count": 48,
   "metadata": {},
   "outputs": [
    {
     "data": {
      "text/plain": [
       "array([16.26063,  1.31205,  0.73663,  0.2174 ,  0.08722])"
      ]
     },
     "execution_count": 48,
     "metadata": {},
     "output_type": "execute_result"
    }
   ],
   "source": [
    "data = np.genfromtxt(os.getcwd()+ f'\\R0vsEJ.dat')\n",
    "R0_exp = data[:, 3]\n",
    "EJ0_exp = data[:, 2]\n",
    "EJ0_exp"
   ]
  },
  {
   "cell_type": "code",
   "execution_count": 82,
   "metadata": {},
   "outputs": [
    {
     "name": "stderr",
     "output_type": "stream",
     "text": [
      "D:\\anaconda\\lib\\site-packages\\ipykernel_launcher.py:11: RuntimeWarning: More than 20 figures have been opened. Figures created through the pyplot interface (`matplotlib.pyplot.figure`) are retained until explicitly closed and may consume too much memory. (To control this warning, see the rcParam `figure.max_open_warning`).\n",
      "  # This is added back by InteractiveShellApp.init_path()\n"
     ]
    },
    {
     "data": {
      "application/vnd.jupyter.widget-view+json": {
       "model_id": "c5110b0ebcc14d1c8caec6172f3e3461",
       "version_major": 2,
       "version_minor": 0
      },
      "text/plain": [
       "FigureCanvasNbAgg()"
      ]
     },
     "metadata": {},
     "output_type": "display_data"
    }
   ],
   "source": [
    "R_list = np.logspace(2, 5, 51)\n",
    "\n",
    "R_env = 1e5\n",
    "\n",
    "\n",
    "Cj = 1.5e-15\n",
    "Tb = 0.05\n",
    "\n",
    "# EJs = EJ_star_simp (EJ = EJ_AB(R_list), C = Cj)\n",
    "\n",
    "fig, (ax1, ax2) = plt.subplots(2,1, sharex = True, figsize = (5,5))\n",
    "\n",
    "R0s = []\n",
    "Isw_maxs = []\n",
    "\n",
    "for R in R_list:\n",
    "    \n",
    "#     EJs = EJ_star_simp (EJ = EJ_AB(R), C = Cj)\n",
    "    EJs = EJ_star (EJ= EJ_AB(R), R = II(R_env, Rj(R, Tb)), T = Tb, C = Cj)\n",
    "    R0, Isw_max = find_R0_Isw( EJ = EJs, R_env = R_env , T = Tb)    \n",
    "    \n",
    "    R0s.append(R0)\n",
    "    Isw_maxs.append(Isw_max)\n",
    "\n",
    "ax1.plot( EJ_AB(R_list) , R0s, label = r'C = {:1.2f} fF'.format(Cj/1e-15))\n",
    "\n",
    "# ax1.plot( EJ_AB(R_list) , EJ_AB(R_list), '--k', alpha = 0.5)\n",
    "# ax.plot( EJ_AB(R_list) , EJ_AB(R_list)**2 / 5, '--k', alpha = 0.5)\n",
    "\n",
    "ax1.plot(EJ0_exp, R0_exp, 'o' , label = 'exp. data')\n",
    "\n",
    "\n",
    "ax1.legend()\n",
    "\n",
    "ax1.set_xscale('log')\n",
    "ax1.set_yscale('log')\n",
    "\n",
    "# ax1.set_xlabel(r'$E_J, K$')\n",
    "ax1.set_ylabel(r'$R_0, k \\Omega$')\n",
    "\n",
    "ax2.plot( EJ_AB(R_list) , np.array(Isw_maxs) / Ic(R_list), label = r'C = {:1.1f} fF'.format(Cj/1e-15))\n",
    "ax2.plot(EJ0_exp, IcIAB_exp, 'o' , label = 'exp. data')\n",
    "ax2.legend()\n",
    "\n",
    "ax2.set_xscale('log')\n",
    "ax2.set_yscale('log')\n",
    "\n",
    "ax2.set_xlabel(r'$E_J, K$')\n",
    "ax2.set_ylabel(r'$I_{sw}/I_{AB}$')\n",
    "\n",
    "plt.tight_layout()"
   ]
  },
  {
   "cell_type": "markdown",
   "metadata": {},
   "source": [
    "# $R_0(T)$"
   ]
  },
  {
   "cell_type": "code",
   "execution_count": 21,
   "metadata": {},
   "outputs": [
    {
     "data": {
      "application/vnd.jupyter.widget-view+json": {
       "model_id": "204138d290e247fea255fe2538b59152",
       "version_major": 2,
       "version_minor": 0
      },
      "text/plain": [
       "FigureCanvasNbAgg()"
      ]
     },
     "metadata": {},
     "output_type": "display_data"
    },
    {
     "data": {
      "text/plain": [
       "Text(0, 0.5, '$R, k \\\\Omega$')"
      ]
     },
     "execution_count": 21,
     "metadata": {},
     "output_type": "execute_result"
    }
   ],
   "source": [
    "RN = 3e3\n",
    "R_env = 200e3\n",
    "\n",
    "Cj = 1.4e-15\n",
    "Tb_list =  np.linspace(0.05, .85, 51)\n",
    "\n",
    "EJs = EJ_star_simp (EJ = EJ_AB(RN), R = R_env, T = Tb, C = Cj)\n",
    "\n",
    "fig, ax1 = plt.subplots()\n",
    "\n",
    "R0s = []\n",
    "\n",
    "for Tb in Tb_list:\n",
    "    \n",
    "    Rsh = II(R_env, Rj(RN, Tb))\n",
    "    \n",
    "    R0 = find_R0( RN, R_env = Rsh , T = Tb, C = Cj)\n",
    "    R0s.append(R0)\n",
    "\n",
    "ax1.plot( Tb_list , R0s, label = r'C = {:1.2f} fF'.format(Cj/1e-15))\n",
    "\n",
    "\n",
    "\n",
    "\n",
    "ax1.legend()\n",
    "\n",
    "# ax1.set_xscale('log')\n",
    "ax1.set_yscale('log')\n",
    "\n",
    "ax1.set_xlabel(r'$T, K$')\n",
    "ax1.set_ylabel(r'$R, k \\Omega$')"
   ]
  },
  {
   "cell_type": "markdown",
   "metadata": {},
   "source": [
    "# $I_{sw}, R_0 (R_{env})$ "
   ]
  },
  {
   "cell_type": "code",
   "execution_count": 75,
   "metadata": {
    "scrolled": false
   },
   "outputs": [
    {
     "name": "stderr",
     "output_type": "stream",
     "text": [
      "D:\\anaconda\\lib\\site-packages\\ipykernel_launcher.py:9: RuntimeWarning: More than 20 figures have been opened. Figures created through the pyplot interface (`matplotlib.pyplot.figure`) are retained until explicitly closed and may consume too much memory. (To control this warning, see the rcParam `figure.max_open_warning`).\n",
      "  if __name__ == '__main__':\n"
     ]
    },
    {
     "data": {
      "application/vnd.jupyter.widget-view+json": {
       "model_id": "e56dc82290c34821b4d54bd6f012b8b6",
       "version_major": 2,
       "version_minor": 0
      },
      "text/plain": [
       "FigureCanvasNbAgg()"
      ]
     },
     "metadata": {},
     "output_type": "display_data"
    }
   ],
   "source": [
    "R_env_list = np.logspace(2, 6, 51)\n",
    "\n",
    "RN = 7e3\n",
    "\n",
    "Cj = 1.4e-15\n",
    "Tb = 0.05\n",
    "\n",
    "\n",
    "fig, ax1 = plt.subplots()\n",
    "\n",
    "R0s = []\n",
    "Isw_maxs = []\n",
    "\n",
    "for R_env in R_env_list:\n",
    "\n",
    "    EJs = EJ_star (EJ= EJ_AB(RN), R = R_env, T = Tb, C = Cj)\n",
    "#     EJs = EJ_star_simp (EJ = EJ_AB(RN), C = Cj)\n",
    "    \n",
    "    R0, Isw_max = find_R0_Isw( EJ = EJs, R_env = R_env , T = Tb)\n",
    "    \n",
    "    R0s.append(R0)\n",
    "    Isw_maxs.append(Isw_max)\n",
    "\n",
    "ax1.plot( R_env_list , R0s, '-', label = r'$R_0$')\n",
    "\n",
    "ax2 = ax1.twinx()\n",
    "ax2.plot( R_env_list , np.array(Isw_maxs) / Ic(RN), '--', color = 'C1', label = r'$I_{sw}/I_c$')\n",
    "\n",
    "\n",
    "\n",
    "ax1.set_xscale('log')\n",
    "ax1.set_yscale('log')\n",
    "\n",
    "ax1.set_xlabel(r'$R_{env}, Ohm$')\n",
    "ax1.set_ylabel(r'$R_0, k \\Omega$')\n",
    "\n",
    "ax2.set_yscale('log')\n",
    "ax2.set_ylabel(r'$I_{sw}/I_c$')\n",
    "\n",
    "ax1.legend()\n",
    "ax2.legend()\n",
    "\n",
    "plt.tight_layout()"
   ]
  },
  {
   "cell_type": "markdown",
   "metadata": {},
   "source": [
    "# playing around"
   ]
  },
  {
   "cell_type": "code",
   "execution_count": 74,
   "metadata": {},
   "outputs": [
    {
     "name": "stderr",
     "output_type": "stream",
     "text": [
      "D:\\anaconda\\lib\\site-packages\\ipykernel_launcher.py:8: RuntimeWarning: More than 20 figures have been opened. Figures created through the pyplot interface (`matplotlib.pyplot.figure`) are retained until explicitly closed and may consume too much memory. (To control this warning, see the rcParam `figure.max_open_warning`).\n",
      "  \n"
     ]
    },
    {
     "data": {
      "application/vnd.jupyter.widget-view+json": {
       "model_id": "4e0d59ddf58c4932a705e2801fa6d17b",
       "version_major": 2,
       "version_minor": 0
      },
      "text/plain": [
       "FigureCanvasNbAgg()"
      ]
     },
     "metadata": {},
     "output_type": "display_data"
    },
    {
     "data": {
      "text/plain": [
       "[<matplotlib.lines.Line2D at 0x2681ae9bc50>]"
      ]
     },
     "execution_count": 74,
     "metadata": {},
     "output_type": "execute_result"
    }
   ],
   "source": [
    "EC = 4*e**2/2/1e-15/kB\n",
    "\n",
    "T = 0.2\n",
    "\n",
    "E = np.linspace(-3, 3, 101)\n",
    "f = np.exp (-E**2/ 4 /EC /T )\n",
    "\n",
    "fig, ax = plt.subplots()\n",
    "\n",
    "ax.plot(E,f)\n"
   ]
  },
  {
   "cell_type": "code",
   "execution_count": 44,
   "metadata": {},
   "outputs": [
    {
     "data": {
      "text/plain": [
       "(994.0098703697229, 1.4322014399176624e-11)"
      ]
     },
     "execution_count": 44,
     "metadata": {},
     "output_type": "execute_result"
    }
   ],
   "source": [
    "find_R0_Isw( EJ = .01, R_env = 2e1 , T = 0.05)"
   ]
  },
  {
   "cell_type": "code",
   "execution_count": 139,
   "metadata": {},
   "outputs": [],
   "source": [
    "class jj( ):\n",
    "    def __init__(self, **kwargs ):\n",
    "        self.vars = ['Ic', 'RN', 'Rj', 'EJ', 'T', 'C', 'EC']\n",
    "        \n",
    "        self.Δ = 2.1*kB\n",
    "        \n",
    "        for var in self.vars:\n",
    "            if var not in kwargs.keys():\n",
    "                kwargs[var] = np.nan\n",
    "                \n",
    "            setattr(self,'_' + var, kwargs[var])        \n",
    "        \n",
    "\n",
    "        \n",
    "    def Ic(self):\n",
    "        if self._Ic is np.nan:\n",
    "            self._Ic = self.EJ()/ (Φ0/2/pi/kB)\n",
    "        return self._Ic\n",
    "\n",
    "    def EJ(self):\n",
    "        if self._EJ is np.nan:\n",
    "            self._EJ = self._Ic* (Φ0/2/pi/kB)\n",
    "        return self._EJ\n",
    "    \n",
    "    def RN(self):\n",
    "        if self._RN is np.nan:\n",
    "            self._RN = self.Δ / 4 /e /kB /self.EJ()\n",
    "        return self._RN\n",
    "    \n",
    "#     def RN(self):\n",
    "#         self._RN = self.Δ / 4 /e /kB /self.EJ()\n",
    "#         return self._RN "
   ]
  },
  {
   "cell_type": "code",
   "execution_count": 140,
   "metadata": {},
   "outputs": [
    {
     "data": {
      "text/plain": [
       "array([1.37466311e+20, 6.87331553e+19])"
      ]
     },
     "execution_count": 140,
     "metadata": {},
     "output_type": "execute_result"
    }
   ],
   "source": [
    "RN_list = np.array([1e3,2e3])\n",
    "Ic_list = np.array([1e-9,2e-9])\n",
    "\n",
    "\n",
    "jj(Ic = Ic_list).RN()"
   ]
  }
 ],
 "metadata": {
  "kernelspec": {
   "display_name": "Python 3",
   "language": "python",
   "name": "python3"
  },
  "language_info": {
   "codemirror_mode": {
    "name": "ipython",
    "version": 3
   },
   "file_extension": ".py",
   "mimetype": "text/x-python",
   "name": "python",
   "nbconvert_exporter": "python",
   "pygments_lexer": "ipython3",
   "version": "3.6.5"
  },
  "toc": {
   "base_numbering": 1,
   "nav_menu": {},
   "number_sections": true,
   "sideBar": true,
   "skip_h1_title": false,
   "title_cell": "Table of Contents",
   "title_sidebar": "Contents",
   "toc_cell": false,
   "toc_position": {
    "height": "121.45px",
    "left": "10px",
    "top": "150px",
    "width": "165px"
   },
   "toc_section_display": true,
   "toc_window_display": true
  }
 },
 "nbformat": 4,
 "nbformat_minor": 2
}
