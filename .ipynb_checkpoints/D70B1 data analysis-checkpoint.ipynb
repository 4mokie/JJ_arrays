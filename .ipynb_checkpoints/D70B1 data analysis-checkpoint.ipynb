{
 "cells": [
  {
   "cell_type": "code",
   "execution_count": 1,
   "metadata": {},
   "outputs": [],
   "source": [
    "%matplotlib widget\n",
    "%load_ext autoreload\n",
    "%autoreload 2\n",
    "\n",
    "import matplotlib as mpl\n",
    "import matplotlib.pyplot as plt\n",
    "import matplotlib.gridspec as GridSpec\n",
    "import numpy as np\n",
    "import pandas as pd\n",
    "\n",
    "import os\n",
    "\n",
    "\n",
    "import math\n",
    "\n",
    "\n",
    "from scipy.optimize import curve_fit\n",
    "\n",
    "\n",
    "\n",
    "\n",
    "from JJformulas import *"
   ]
  },
  {
   "cell_type": "code",
   "execution_count": 2,
   "metadata": {},
   "outputs": [
    {
     "name": "stderr",
     "output_type": "stream",
     "text": [
      "D:\\anaconda\\lib\\site-packages\\qcodes\\dataset\\database.py:13: UserWarning: The module `qcodes.dataset.database` is deprecated.\n",
      "Public features are available at the import of `qcodes`.\n",
      "Private features are available in `qcodes.dataset.sqlite.*` modules.\n",
      "  warnings.warn('The module `qcodes.dataset.database` is deprecated.\\n'\n",
      "D:\\anaconda\\lib\\site-packages\\tqdm\\autonotebook\\__init__.py:14: TqdmExperimentalWarning: Using `tqdm.autonotebook.tqdm` in notebook mode. Use `tqdm.tqdm` instead to force console mode (e.g. in jupyter console)\n",
      "  \" (e.g. in jupyter console)\", TqdmExperimentalWarning)\n"
     ]
    }
   ],
   "source": [
    "import sys \n",
    "sys.path.append('..\\measDC\\_jjtools')\n",
    "\n",
    "# from Exps import *\n",
    "\n",
    "from JJ_data_processing import read_opj_data, pbi, bpbi, show_df, update_df\n",
    "from JJ_data_processing import xy_by_id,extract_Isw_R0_by_id\n",
    "\n",
    "\n",
    "from JJformulas import *\n",
    "from meas_util import *\n",
    "\n",
    "from JJmeasurement import *"
   ]
  },
  {
   "cell_type": "markdown",
   "metadata": {},
   "source": [
    "# Samples"
   ]
  },
  {
   "cell_type": "code",
   "execution_count": 3,
   "metadata": {},
   "outputs": [],
   "source": [
    "jj70N5 = JJmeas(sample = 'D070B1N5v1')\n",
    "\n",
    "jj70N5.db_connect()"
   ]
  },
  {
   "cell_type": "code",
   "execution_count": 4,
   "metadata": {},
   "outputs": [],
   "source": [
    "jj70N1 = JJmeas(sample = 'D070B1N1v1')\n",
    "\n",
    "jj70N1.db_connect()"
   ]
  },
  {
   "cell_type": "code",
   "execution_count": 5,
   "metadata": {},
   "outputs": [],
   "source": [
    "jj70N0 = JJmeas(sample = 'D070B1N0v1')\n",
    "\n",
    "jj70N0.db_connect()"
   ]
  },
  {
   "cell_type": "code",
   "execution_count": 6,
   "metadata": {},
   "outputs": [],
   "source": [
    "\n",
    "jj70N7 = JJmeas(sample = 'D070B1N7')\n",
    "\n",
    "jj70N7.db_connect()"
   ]
  },
  {
   "cell_type": "code",
   "execution_count": 7,
   "metadata": {},
   "outputs": [],
   "source": [
    "jj85 = JJmeas(sample = 'D085N5')\n",
    "jj85.db_connect()\n",
    "\n"
   ]
  },
  {
   "cell_type": "code",
   "execution_count": 8,
   "metadata": {},
   "outputs": [],
   "source": [
    "jj79 = JJmeas(sample = 'D079N6')\n",
    "jj79.db_connect()"
   ]
  },
  {
   "cell_type": "code",
   "execution_count": 9,
   "metadata": {},
   "outputs": [],
   "source": [
    "jj59 = JJmeas(sample = 'D059BBN1')\n",
    "jj59.db_connect()"
   ]
  },
  {
   "cell_type": "code",
   "execution_count": 30,
   "metadata": {},
   "outputs": [],
   "source": [
    "jj57 = JJmeas(sample = 'D057B1N8v1')\n",
    "jj57.db_connect()"
   ]
  },
  {
   "cell_type": "code",
   "execution_count": 10,
   "metadata": {
    "scrolled": true
   },
   "outputs": [
    {
     "data": {
      "application/vnd.jupyter.widget-view+json": {
       "model_id": "dc6510bd9c0248c6a8da2721b6e09add",
       "version_major": 2,
       "version_minor": 0
      },
      "text/plain": [
       "FigureCanvasNbAgg()"
      ]
     },
     "metadata": {},
     "output_type": "display_data"
    },
    {
     "data": {
      "text/plain": [
       "<matplotlib.axes._subplots.AxesSubplot at 0x218c2220eb8>"
      ]
     },
     "execution_count": 10,
     "metadata": {},
     "output_type": "execute_result"
    }
   ],
   "source": [
    "jj70N5.pbi(1, interactive = True)"
   ]
  },
  {
   "cell_type": "markdown",
   "metadata": {},
   "source": [
    "# Some coding"
   ]
  },
  {
   "cell_type": "code",
   "execution_count": 69,
   "metadata": {},
   "outputs": [
    {
     "data": {
      "application/vnd.jupyter.widget-view+json": {
       "model_id": "5f6c90bf153e48fc9a526ebe7f8bd7ac",
       "version_major": 2,
       "version_minor": 0
      },
      "text/plain": [
       "FigureCanvasNbAgg()"
      ]
     },
     "metadata": {},
     "output_type": "display_data"
    }
   ],
   "source": [
    "from scipy import interpolate\n",
    "\n",
    "fig, ax = plt.subplots(figsize = (4,5))\n",
    "\n",
    "def gaussian(x, mu, sig):\n",
    "    return 1./(np.sqrt(2.*np.pi)*sig)*np.exp(-np.power((x - mu)/sig, 2.)/2)\n",
    "\n",
    "Rsh = 377\n",
    "\n",
    "kT = 0.050\n",
    "Ec = 1\n",
    "EJ = 0.4\n",
    "Vc_noise = np.sqrt(2*Ec*kT)/1e4\n",
    "\n",
    "\n",
    "Npts = 501\n",
    "V_ = np.linspace(-1e-3, 1e-3, Npts)/1e1\n",
    "\n",
    "\n",
    "def IZ_conv(V_, EJ, Vc_noise, kT, Rsh):\n",
    "    \n",
    "    sigma = Vc_noise#np.sqrt(Ec*kT)/1e4\n",
    "    Is = I_IZ( V_, EJ = EJ, R = Rsh, T = kT)\n",
    "\n",
    "    Vs = V_ - Is*Rsh\n",
    "\n",
    "    f = interpolate.interp1d(Vs, Is)\n",
    "\n",
    "\n",
    "\n",
    "\n",
    "    Vs_evengrid = np.linspace(np.min(Vs), np.max(Vs), len(Vs))\n",
    "    \n",
    "    dVs =  (np.max(Vs) - np.min(Vs)) / (len(Vs)-1)\n",
    "    \n",
    "    \n",
    "\n",
    "    Is_evengrid = f(Vs_evengrid)\n",
    "\n",
    "    Is = Is_evengrid\n",
    "    Vs = Vs_evengrid\n",
    "\n",
    "    V_c = gaussian(Vs, 0, sigma)*dVs\n",
    "\n",
    "    Is_conv = np.convolve(Is, V_c, 'same')\n",
    "#     print(len(Is))\n",
    "    \n",
    "    return Vs, Is, Is_conv\n",
    "\n",
    "Vs, Is, Is_conv = IZ_conv(V_, EJ, Vc_noise, kT, Rsh)\n",
    "\n",
    "\n",
    "ax.plot(Vs/1e-6, Is/1e-9, 'o', label = 'cIZ')\n",
    "\n",
    "ax.plot(Vs/1e-6 ,Is_conv/1e-9, label = 'cIZ + Vnoise')\n",
    "\n",
    "\n",
    "\n",
    "ax.set_xlabel('V, uV')\n",
    "ax.set_ylabel('I, nA')\n",
    "\n",
    "ax.set_title('EJ = {:g} K, T = {:g} K, Rb = {:g} Ohm'.format(EJ, kT, Rsh))\n",
    "\n",
    "# ax.set_xlim(0, 300)\n",
    "# ax.set_ylim(0, .0250)\n",
    "\n",
    "ax.legend()\n",
    "\n",
    "plt.tight_layout()"
   ]
  },
  {
   "cell_type": "code",
   "execution_count": 70,
   "metadata": {},
   "outputs": [],
   "source": [
    "\n",
    "\n",
    "Rsh = 377\n",
    "\n",
    "kT = 0.05\n",
    "# Ec = 10\n",
    "Vc_noise = 50e-6\n",
    "\n",
    "EJ_list = np.logspace(-2,1.5, 51)\n",
    "\n",
    "Npts = 251\n",
    "V_ = np.linspace(-1e-3, 1e-3, Npts)\n",
    "\n",
    "Isws = []\n",
    "Isws_conv = []\n",
    "\n",
    "R0s = []\n",
    "R0s_conv = []\n",
    "\n",
    "for EJ in EJ_list:\n",
    "    Vs, Is, Is_conv = IZ_conv(V_, EJ, Vc_noise , kT, Rsh)\n",
    "    \n",
    "#     Isw = (np.max(Is) - np.min(Is))/2\n",
    "#     Isw_conv = (np.max(Is_conv) - np.min(Is_conv))/2\n",
    "    \n",
    "    Imax = np.max(Is)\n",
    "    Imax_conv = np.max(Is_conv)\n",
    "\n",
    "    Vmax = Vs[np.argmax(Is)]\n",
    "    Vmax_conv = Vs[np.argmax(Is_conv)]\n",
    "    \n",
    "    R0s.append( Vmax/Imax )\n",
    "    R0s_conv.append( Vmax_conv/Imax_conv )\n",
    "    \n",
    "    \n",
    "    \n",
    "    Isws.append(Imax)\n",
    "    Isws_conv.append(Imax_conv)\n",
    "    \n",
    "\n",
    "    \n"
   ]
  },
  {
   "cell_type": "code",
   "execution_count": 14,
   "metadata": {},
   "outputs": [
    {
     "data": {
      "text/html": [
       "<div>\n",
       "<style scoped>\n",
       "    .dataframe tbody tr th:only-of-type {\n",
       "        vertical-align: middle;\n",
       "    }\n",
       "\n",
       "    .dataframe tbody tr th {\n",
       "        vertical-align: top;\n",
       "    }\n",
       "\n",
       "    .dataframe thead th {\n",
       "        text-align: right;\n",
       "    }\n",
       "</style>\n",
       "<table border=\"1\" class=\"dataframe\">\n",
       "  <thead>\n",
       "    <tr style=\"text-align: right;\">\n",
       "      <th></th>\n",
       "      <th>ref</th>\n",
       "      <th>RN, kOhm</th>\n",
       "      <th>Ej</th>\n",
       "      <th>EJ, K altern.</th>\n",
       "      <th>EC, K</th>\n",
       "      <th>EC, K altern.</th>\n",
       "      <th>Isw</th>\n",
       "      <th>IAB, nA</th>\n",
       "      <th>R0/JJ, kOhm</th>\n",
       "      <th>sample</th>\n",
       "    </tr>\n",
       "  </thead>\n",
       "  <tbody>\n",
       "    <tr>\n",
       "      <th>0</th>\n",
       "      <td>Shimada 2016</td>\n",
       "      <td>NaN</td>\n",
       "      <td>1.1</td>\n",
       "      <td>NaN</td>\n",
       "      <td>200.0m</td>\n",
       "      <td>NaN</td>\n",
       "      <td>1.2</td>\n",
       "      <td>44.6</td>\n",
       "      <td>110.0m</td>\n",
       "      <td>SQUID array, frustr=0.375</td>\n",
       "    </tr>\n",
       "    <tr>\n",
       "      <th>1</th>\n",
       "      <td>Goffman 2000</td>\n",
       "      <td>NaN</td>\n",
       "      <td>600.0m</td>\n",
       "      <td>NaN</td>\n",
       "      <td>NaN</td>\n",
       "      <td>0 (C=120pF)</td>\n",
       "      <td>18.0</td>\n",
       "      <td>26.0</td>\n",
       "      <td>-</td>\n",
       "      <td>breakjunction shunted by RC</td>\n",
       "    </tr>\n",
       "    <tr>\n",
       "      <th>2</th>\n",
       "      <td>Jack 2017</td>\n",
       "      <td>NaN</td>\n",
       "      <td>176.0m</td>\n",
       "      <td>NaN</td>\n",
       "      <td>NaN</td>\n",
       "      <td>0 (C=3nF)</td>\n",
       "      <td>50.0m</td>\n",
       "      <td>7.3</td>\n",
       "      <td>400</td>\n",
       "      <td>STM shunted by C</td>\n",
       "    </tr>\n",
       "    <tr>\n",
       "      <th>3</th>\n",
       "      <td>Jack PhD 2015 p43</td>\n",
       "      <td>47.9</td>\n",
       "      <td>460.0m</td>\n",
       "      <td>NaN</td>\n",
       "      <td>NaN</td>\n",
       "      <td>NaN</td>\n",
       "      <td>1.5</td>\n",
       "      <td>19.0</td>\n",
       "      <td>13.3</td>\n",
       "      <td>STM (vanadium, TC=4K)</td>\n",
       "    </tr>\n",
       "    <tr>\n",
       "      <th>4</th>\n",
       "      <td>Jack PhD 2015 p54</td>\n",
       "      <td>2580</td>\n",
       "      <td>9.0m</td>\n",
       "      <td>NaN</td>\n",
       "      <td>NaN</td>\n",
       "      <td>NaN</td>\n",
       "      <td>500.0u</td>\n",
       "      <td>380.0m</td>\n",
       "      <td>32000</td>\n",
       "      <td>STM (vanadium, TC=4K)</td>\n",
       "    </tr>\n",
       "    <tr>\n",
       "      <th>5</th>\n",
       "      <td>Jack PhD 2015 p56</td>\n",
       "      <td>21</td>\n",
       "      <td>1.0</td>\n",
       "      <td>NaN</td>\n",
       "      <td>NaN</td>\n",
       "      <td>NaN</td>\n",
       "      <td>6.6</td>\n",
       "      <td>44.0</td>\n",
       "      <td>2.5</td>\n",
       "      <td>STM (vanadium, TC=4K)</td>\n",
       "    </tr>\n",
       "    <tr>\n",
       "      <th>6</th>\n",
       "      <td>Jack PhD 2015 p56</td>\n",
       "      <td>9.6</td>\n",
       "      <td>2.3</td>\n",
       "      <td>NaN</td>\n",
       "      <td>NaN</td>\n",
       "      <td>NaN</td>\n",
       "      <td>25.0</td>\n",
       "      <td>96.0</td>\n",
       "      <td>500.0m</td>\n",
       "      <td>STM (vanadium, TC=4K)</td>\n",
       "    </tr>\n",
       "    <tr>\n",
       "      <th>7</th>\n",
       "      <td>Jack PhD 2015 p75</td>\n",
       "      <td>100</td>\n",
       "      <td>220.0m</td>\n",
       "      <td>NaN</td>\n",
       "      <td>NaN</td>\n",
       "      <td>NaN</td>\n",
       "      <td>130.0m</td>\n",
       "      <td>9.2</td>\n",
       "      <td>NaN</td>\n",
       "      <td>STM (vanadium, TC=4K)</td>\n",
       "    </tr>\n",
       "    <tr>\n",
       "      <th>8</th>\n",
       "      <td>Steinbach 2001</td>\n",
       "      <td>7.0</td>\n",
       "      <td>1.1</td>\n",
       "      <td>NaN</td>\n",
       "      <td>7.4</td>\n",
       "      <td>NaN</td>\n",
       "      <td>38.0</td>\n",
       "      <td>44.9</td>\n",
       "      <td>24.0m</td>\n",
       "      <td>SQUID chain current meter, single JJ with on c...</td>\n",
       "    </tr>\n",
       "    <tr>\n",
       "      <th>9</th>\n",
       "      <td>Iansiti 1988, 89</td>\n",
       "      <td>140</td>\n",
       "      <td>145.0m</td>\n",
       "      <td>NaN</td>\n",
       "      <td>900.0m</td>\n",
       "      <td>NaN</td>\n",
       "      <td>350.0m</td>\n",
       "      <td>6.1</td>\n",
       "      <td>NaN</td>\n",
       "      <td>twoJJ or one?, tin,  CJ~1fF, C-?</td>\n",
       "    </tr>\n",
       "    <tr>\n",
       "      <th>10</th>\n",
       "      <td>Iansiti 1988, 89</td>\n",
       "      <td>14</td>\n",
       "      <td>1.4</td>\n",
       "      <td>NaN</td>\n",
       "      <td>350.0m</td>\n",
       "      <td>NaN</td>\n",
       "      <td>13.0</td>\n",
       "      <td>61.0</td>\n",
       "      <td>NaN</td>\n",
       "      <td>single JJ, tin, C-?</td>\n",
       "    </tr>\n",
       "    <tr>\n",
       "      <th>11</th>\n",
       "      <td>Iansiti 1988, 89</td>\n",
       "      <td>70</td>\n",
       "      <td>300.0m</td>\n",
       "      <td>NaN</td>\n",
       "      <td>720.0m</td>\n",
       "      <td>NaN</td>\n",
       "      <td>1.2</td>\n",
       "      <td>14.0</td>\n",
       "      <td>NaN</td>\n",
       "      <td>two JJs, tin</td>\n",
       "    </tr>\n",
       "    <tr>\n",
       "      <th>12</th>\n",
       "      <td>Eiles Martinis 1994</td>\n",
       "      <td>16x2</td>\n",
       "      <td>140.0m</td>\n",
       "      <td>0.47 (for Al)</td>\n",
       "      <td>460.0m</td>\n",
       "      <td>NaN</td>\n",
       "      <td>1.0</td>\n",
       "      <td>NaN</td>\n",
       "      <td>NaN</td>\n",
       "      <td>two JJ, Al, gate-dependent ISW, EJ affected by...</td>\n",
       "    </tr>\n",
       "    <tr>\n",
       "      <th>13</th>\n",
       "      <td>Eiles Martinis 1994</td>\n",
       "      <td>41x2</td>\n",
       "      <td>50.0m</td>\n",
       "      <td>0.18 (for Al)</td>\n",
       "      <td>1.6</td>\n",
       "      <td>NaN</td>\n",
       "      <td>160.0m</td>\n",
       "      <td>NaN</td>\n",
       "      <td>NaN</td>\n",
       "      <td>two JJ, Al, gate-dependent ISW, EJ affected by...</td>\n",
       "    </tr>\n",
       "    <tr>\n",
       "      <th>14</th>\n",
       "      <td>Corlevi 2006</td>\n",
       "      <td>3.1</td>\n",
       "      <td>2.4</td>\n",
       "      <td>NaN</td>\n",
       "      <td>400.0m</td>\n",
       "      <td>NaN</td>\n",
       "      <td>NaN</td>\n",
       "      <td>100.0</td>\n",
       "      <td>350.0m</td>\n",
       "      <td>array of 70x2 SQUIDs, R0total=50kOhm</td>\n",
       "    </tr>\n",
       "    <tr>\n",
       "      <th>15</th>\n",
       "      <td>Corlevi thesis f.5.7</td>\n",
       "      <td>1</td>\n",
       "      <td>7.5</td>\n",
       "      <td>NaN</td>\n",
       "      <td>NaN</td>\n",
       "      <td>NaN</td>\n",
       "      <td>80.0</td>\n",
       "      <td>NaN</td>\n",
       "      <td>160.0m</td>\n",
       "      <td>arrays of 60x2 SQUIDs, R0 is between 40 and 1...</td>\n",
       "    </tr>\n",
       "    <tr>\n",
       "      <th>16</th>\n",
       "      <td>Kuzmin 1991, f.2b</td>\n",
       "      <td>760</td>\n",
       "      <td>50.0m</td>\n",
       "      <td>NaN</td>\n",
       "      <td>2.7</td>\n",
       "      <td>NaN</td>\n",
       "      <td>14.0m</td>\n",
       "      <td>2.0</td>\n",
       "      <td>9300</td>\n",
       "      <td>single JJ, Pb, R=22kOhm</td>\n",
       "    </tr>\n",
       "    <tr>\n",
       "      <th>17</th>\n",
       "      <td>Kuzmin 1991, f.3</td>\n",
       "      <td>NaN</td>\n",
       "      <td>1.7</td>\n",
       "      <td>Ejfit=0.19 (!)</td>\n",
       "      <td>2.2</td>\n",
       "      <td>NaN</td>\n",
       "      <td>280.0m</td>\n",
       "      <td>NaN</td>\n",
       "      <td>NaN</td>\n",
       "      <td>single JJ, Pb, R=200kOhm, Imax rather than Isw</td>\n",
       "    </tr>\n",
       "    <tr>\n",
       "      <th>18</th>\n",
       "      <td>Watanabe 2003</td>\n",
       "      <td>1.2</td>\n",
       "      <td>6.4</td>\n",
       "      <td>NaN</td>\n",
       "      <td>NaN</td>\n",
       "      <td>NaN</td>\n",
       "      <td>40.0</td>\n",
       "      <td>280.0</td>\n",
       "      <td>1.2m</td>\n",
       "      <td>SQUID arrays (N=510), RN per Squid</td>\n",
       "    </tr>\n",
       "    <tr>\n",
       "      <th>19</th>\n",
       "      <td>Watanabe 2003</td>\n",
       "      <td>9</td>\n",
       "      <td>850.0m</td>\n",
       "      <td>NaN</td>\n",
       "      <td>NaN</td>\n",
       "      <td>NaN</td>\n",
       "      <td>1.6</td>\n",
       "      <td>36.0</td>\n",
       "      <td>13.9</td>\n",
       "      <td>single JJ with low-Z SQUID-array leads</td>\n",
       "    </tr>\n",
       "    <tr>\n",
       "      <th>20</th>\n",
       "      <td>Watanabe 2003</td>\n",
       "      <td>1.1</td>\n",
       "      <td>7.0</td>\n",
       "      <td>NaN</td>\n",
       "      <td>NaN</td>\n",
       "      <td>NaN</td>\n",
       "      <td>35.0</td>\n",
       "      <td>NaN</td>\n",
       "      <td>400.0u</td>\n",
       "      <td>SQUID arrays (N=510), sample G f=0</td>\n",
       "    </tr>\n",
       "    <tr>\n",
       "      <th>21</th>\n",
       "      <td>Watanabe 2003</td>\n",
       "      <td>1.1</td>\n",
       "      <td>2.2</td>\n",
       "      <td>NaN</td>\n",
       "      <td>NaN</td>\n",
       "      <td>NaN</td>\n",
       "      <td>1.2</td>\n",
       "      <td>NaN</td>\n",
       "      <td>22.0m</td>\n",
       "      <td>SQUID arrays (N=510), sample G f=0.4</td>\n",
       "    </tr>\n",
       "    <tr>\n",
       "      <th>22</th>\n",
       "      <td>Watanabe 2003</td>\n",
       "      <td>1.1</td>\n",
       "      <td>1.1</td>\n",
       "      <td>NaN</td>\n",
       "      <td>NaN</td>\n",
       "      <td>NaN</td>\n",
       "      <td>120.0m</td>\n",
       "      <td>NaN</td>\n",
       "      <td>650.0m</td>\n",
       "      <td>SQUID arrays (N=510), sample G f=0.45</td>\n",
       "    </tr>\n",
       "    <tr>\n",
       "      <th>23</th>\n",
       "      <td>weissl 2015</td>\n",
       "      <td>NaN</td>\n",
       "      <td>900.0m</td>\n",
       "      <td>calc. from LJ</td>\n",
       "      <td>67.0m</td>\n",
       "      <td>0.03 (50fF/um^2)</td>\n",
       "      <td>350.0m</td>\n",
       "      <td>NaN</td>\n",
       "      <td>140.0m</td>\n",
       "      <td>array of 49 SQUIDs, EJ ans EC are per SQUID</td>\n",
       "    </tr>\n",
       "    <tr>\n",
       "      <th>24</th>\n",
       "      <td>Chow 1998</td>\n",
       "      <td>1.2k</td>\n",
       "      <td>1.6</td>\n",
       "      <td>NaN</td>\n",
       "      <td>260.0m</td>\n",
       "      <td>NaN</td>\n",
       "      <td>900.0m</td>\n",
       "      <td>69.0</td>\n",
       "      <td>70.6m</td>\n",
       "      <td>255 SQUIDs (EJ and EC per SQUID)</td>\n",
       "    </tr>\n",
       "    <tr>\n",
       "      <th>25</th>\n",
       "      <td>Chow 1998</td>\n",
       "      <td>622.3</td>\n",
       "      <td>1.6</td>\n",
       "      <td>NaN</td>\n",
       "      <td>260.0m</td>\n",
       "      <td>NaN</td>\n",
       "      <td>770.0m</td>\n",
       "      <td>69.0</td>\n",
       "      <td>149.6m</td>\n",
       "      <td>127 SQUIDs (EJ and EC per SQUID)</td>\n",
       "    </tr>\n",
       "    <tr>\n",
       "      <th>26</th>\n",
       "      <td>Chow 1998</td>\n",
       "      <td>308.7</td>\n",
       "      <td>1.6</td>\n",
       "      <td>NaN</td>\n",
       "      <td>260.0m</td>\n",
       "      <td>NaN</td>\n",
       "      <td>590.0m</td>\n",
       "      <td>69.0</td>\n",
       "      <td>476.2m</td>\n",
       "      <td>63 SQUIDs (EJ and EC per SQUID)</td>\n",
       "    </tr>\n",
       "    <tr>\n",
       "      <th>27</th>\n",
       "      <td>Murani 2020</td>\n",
       "      <td>NaN</td>\n",
       "      <td>120.0m</td>\n",
       "      <td>NaN</td>\n",
       "      <td>2.6</td>\n",
       "      <td>NaN</td>\n",
       "      <td>70.0m</td>\n",
       "      <td>5.0</td>\n",
       "      <td>NaN</td>\n",
       "      <td>single JJ in MW circuit with in-series R=12kOhm</td>\n",
       "    </tr>\n",
       "    <tr>\n",
       "      <th>28</th>\n",
       "      <td>Murani 2020</td>\n",
       "      <td>NaN</td>\n",
       "      <td>390.0m</td>\n",
       "      <td>NaN</td>\n",
       "      <td>640.0m</td>\n",
       "      <td>NaN</td>\n",
       "      <td>NaN</td>\n",
       "      <td>NaN</td>\n",
       "      <td>NaN</td>\n",
       "      <td>single JJ in MW circuit with in-series R=8kOhm</td>\n",
       "    </tr>\n",
       "    <tr>\n",
       "      <th>29</th>\n",
       "      <td>Pentilla 2001</td>\n",
       "      <td>NaN</td>\n",
       "      <td>1.8</td>\n",
       "      <td>NaN</td>\n",
       "      <td>290.0m</td>\n",
       "      <td>NaN</td>\n",
       "      <td>NaN</td>\n",
       "      <td>NaN</td>\n",
       "      <td>450.0m</td>\n",
       "      <td>single JJ shunted by Cr resistor</td>\n",
       "    </tr>\n",
       "    <tr>\n",
       "      <th>30</th>\n",
       "      <td>Pentilla 2001</td>\n",
       "      <td>NaN</td>\n",
       "      <td>770.0m</td>\n",
       "      <td>NaN</td>\n",
       "      <td>450.0m</td>\n",
       "      <td>NaN</td>\n",
       "      <td>NaN</td>\n",
       "      <td>NaN</td>\n",
       "      <td>4.8</td>\n",
       "      <td>single JJ shunted by Cr resistor</td>\n",
       "    </tr>\n",
       "    <tr>\n",
       "      <th>31</th>\n",
       "      <td>Pentilla 2001</td>\n",
       "      <td>NaN</td>\n",
       "      <td>530.0m</td>\n",
       "      <td>NaN</td>\n",
       "      <td>560.0m</td>\n",
       "      <td>NaN</td>\n",
       "      <td>NaN</td>\n",
       "      <td>NaN</td>\n",
       "      <td>9.6</td>\n",
       "      <td>single JJ shunted by Cr resistor</td>\n",
       "    </tr>\n",
       "  </tbody>\n",
       "</table>\n",
       "</div>"
      ],
      "text/plain": [
       "                     ref RN, kOhm      Ej   EJ, K altern.   EC, K  \\\n",
       "0           Shimada 2016      NaN     1.1             NaN  200.0m   \n",
       "1           Goffman 2000      NaN  600.0m             NaN     NaN   \n",
       "2              Jack 2017      NaN  176.0m             NaN     NaN   \n",
       "3      Jack PhD 2015 p43     47.9  460.0m             NaN     NaN   \n",
       "4      Jack PhD 2015 p54     2580    9.0m             NaN     NaN   \n",
       "5      Jack PhD 2015 p56       21     1.0             NaN     NaN   \n",
       "6      Jack PhD 2015 p56      9.6     2.3             NaN     NaN   \n",
       "7      Jack PhD 2015 p75      100  220.0m             NaN     NaN   \n",
       "8         Steinbach 2001      7.0     1.1             NaN     7.4   \n",
       "9       Iansiti 1988, 89      140  145.0m             NaN  900.0m   \n",
       "10      Iansiti 1988, 89       14     1.4             NaN  350.0m   \n",
       "11      Iansiti 1988, 89       70  300.0m             NaN  720.0m   \n",
       "12   Eiles Martinis 1994     16x2  140.0m   0.47 (for Al)  460.0m   \n",
       "13   Eiles Martinis 1994     41x2   50.0m   0.18 (for Al)     1.6   \n",
       "14          Corlevi 2006      3.1     2.4             NaN  400.0m   \n",
       "15  Corlevi thesis f.5.7        1     7.5             NaN     NaN   \n",
       "16     Kuzmin 1991, f.2b      760   50.0m             NaN     2.7   \n",
       "17      Kuzmin 1991, f.3      NaN     1.7  Ejfit=0.19 (!)     2.2   \n",
       "18         Watanabe 2003      1.2     6.4             NaN     NaN   \n",
       "19         Watanabe 2003        9  850.0m             NaN     NaN   \n",
       "20         Watanabe 2003      1.1     7.0             NaN     NaN   \n",
       "21         Watanabe 2003      1.1     2.2             NaN     NaN   \n",
       "22         Watanabe 2003      1.1     1.1             NaN     NaN   \n",
       "23           weissl 2015      NaN  900.0m   calc. from LJ   67.0m   \n",
       "24             Chow 1998     1.2k     1.6             NaN  260.0m   \n",
       "25             Chow 1998    622.3     1.6             NaN  260.0m   \n",
       "26             Chow 1998    308.7     1.6             NaN  260.0m   \n",
       "27           Murani 2020      NaN  120.0m             NaN     2.6   \n",
       "28           Murani 2020      NaN  390.0m             NaN  640.0m   \n",
       "29         Pentilla 2001      NaN     1.8             NaN  290.0m   \n",
       "30         Pentilla 2001      NaN  770.0m             NaN  450.0m   \n",
       "31         Pentilla 2001      NaN  530.0m             NaN  560.0m   \n",
       "\n",
       "       EC, K altern.     Isw  IAB, nA R0/JJ, kOhm  \\\n",
       "0                NaN     1.2     44.6      110.0m   \n",
       "1        0 (C=120pF)    18.0     26.0           -   \n",
       "2          0 (C=3nF)   50.0m      7.3         400   \n",
       "3                NaN     1.5     19.0        13.3   \n",
       "4                NaN  500.0u   380.0m       32000   \n",
       "5                NaN     6.6     44.0         2.5   \n",
       "6                NaN    25.0     96.0      500.0m   \n",
       "7                NaN  130.0m      9.2         NaN   \n",
       "8                NaN    38.0     44.9       24.0m   \n",
       "9                NaN  350.0m      6.1         NaN   \n",
       "10               NaN    13.0     61.0         NaN   \n",
       "11               NaN     1.2     14.0         NaN   \n",
       "12               NaN     1.0      NaN         NaN   \n",
       "13               NaN  160.0m      NaN         NaN   \n",
       "14               NaN     NaN    100.0      350.0m   \n",
       "15               NaN    80.0      NaN      160.0m   \n",
       "16               NaN   14.0m      2.0        9300   \n",
       "17               NaN  280.0m      NaN         NaN   \n",
       "18               NaN    40.0    280.0        1.2m   \n",
       "19               NaN     1.6     36.0        13.9   \n",
       "20               NaN    35.0      NaN      400.0u   \n",
       "21               NaN     1.2      NaN       22.0m   \n",
       "22               NaN  120.0m      NaN      650.0m   \n",
       "23  0.03 (50fF/um^2)  350.0m      NaN      140.0m   \n",
       "24               NaN  900.0m     69.0       70.6m   \n",
       "25               NaN  770.0m     69.0      149.6m   \n",
       "26               NaN  590.0m     69.0      476.2m   \n",
       "27               NaN   70.0m      5.0         NaN   \n",
       "28               NaN     NaN      NaN         NaN   \n",
       "29               NaN     NaN      NaN      450.0m   \n",
       "30               NaN     NaN      NaN         4.8   \n",
       "31               NaN     NaN      NaN         9.6   \n",
       "\n",
       "                                               sample  \n",
       "0                           SQUID array, frustr=0.375  \n",
       "1                         breakjunction shunted by RC  \n",
       "2                                    STM shunted by C  \n",
       "3                               STM (vanadium, TC=4K)  \n",
       "4                               STM (vanadium, TC=4K)  \n",
       "5                               STM (vanadium, TC=4K)  \n",
       "6                               STM (vanadium, TC=4K)  \n",
       "7                               STM (vanadium, TC=4K)  \n",
       "8   SQUID chain current meter, single JJ with on c...  \n",
       "9                    twoJJ or one?, tin,  CJ~1fF, C-?  \n",
       "10                                single JJ, tin, C-?  \n",
       "11                                       two JJs, tin  \n",
       "12  two JJ, Al, gate-dependent ISW, EJ affected by...  \n",
       "13  two JJ, Al, gate-dependent ISW, EJ affected by...  \n",
       "14               array of 70x2 SQUIDs, R0total=50kOhm  \n",
       "15   arrays of 60x2 SQUIDs, R0 is between 40 and 1...  \n",
       "16                            single JJ, Pb, R=22kOhm  \n",
       "17     single JJ, Pb, R=200kOhm, Imax rather than Isw  \n",
       "18                 SQUID arrays (N=510), RN per Squid  \n",
       "19             single JJ with low-Z SQUID-array leads  \n",
       "20                 SQUID arrays (N=510), sample G f=0  \n",
       "21               SQUID arrays (N=510), sample G f=0.4  \n",
       "22              SQUID arrays (N=510), sample G f=0.45  \n",
       "23        array of 49 SQUIDs, EJ ans EC are per SQUID  \n",
       "24                   255 SQUIDs (EJ and EC per SQUID)  \n",
       "25                   127 SQUIDs (EJ and EC per SQUID)  \n",
       "26                    63 SQUIDs (EJ and EC per SQUID)  \n",
       "27    single JJ in MW circuit with in-series R=12kOhm  \n",
       "28     single JJ in MW circuit with in-series R=8kOhm  \n",
       "29                   single JJ shunted by Cr resistor  \n",
       "30                   single JJ shunted by Cr resistor  \n",
       "31                   single JJ shunted by Cr resistor  "
      ]
     },
     "execution_count": 14,
     "metadata": {},
     "output_type": "execute_result"
    }
   ],
   "source": [
    "# ft = pd.read_excel(\"lit_summary.xlsx\")\n",
    "ft = pd.read_excel(\"exp summary.xlsx\")\n",
    "ft"
   ]
  },
  {
   "cell_type": "markdown",
   "metadata": {},
   "source": [
    "# Isw vs Ej"
   ]
  },
  {
   "cell_type": "code",
   "execution_count": 10,
   "metadata": {},
   "outputs": [],
   "source": [
    "# ax = ft.plot( x = 'EJ', y = 'Isw', color ='k', marker = 'D', ls = '')\n",
    "# ax.set_xscale('log')\n",
    "# ax.set_yscale('log')"
   ]
  },
  {
   "cell_type": "code",
   "execution_count": 71,
   "metadata": {
    "scrolled": false
   },
   "outputs": [
    {
     "data": {
      "application/vnd.jupyter.widget-view+json": {
       "model_id": "5ea7c99c7ec541c1a9e6acd1c315aa40",
       "version_major": 2,
       "version_minor": 0
      },
      "text/plain": [
       "FigureCanvasNbAgg()"
      ]
     },
     "metadata": {},
     "output_type": "display_data"
    }
   ],
   "source": [
    "# ax = ft.plot( x = 'EJ', y = 'Isw', color ='k', marker = 'D', ls = '')\n",
    "\n",
    "\n",
    "fig, ax = plt.subplots(figsize = (8,6))\n",
    "markers=['d',',','o','v','^','<','>','s','p','P','*','h','H','+','x','X','D','d','|','_','1','2','3','4','8']\n",
    "\n",
    "unique_lablist = list(set(ft.ref.to_list()))\n",
    "\n",
    "\n",
    "# for ej, isw, lab, m in zip(ft.Ej, ft.Isw, ft.ref, markers):\n",
    "    \n",
    "#     ilab = unique_lablist.index(lab)\n",
    "#     ax.scatter(ej, isw*1e-9, color = f'C{ilab}',marker = m, label = lab, s = 50)\n",
    "    \n",
    "# ax.legend()\n",
    "\n",
    "ax.set_xscale('log')\n",
    "ax.set_yscale('log')\n",
    "\n",
    "# ax.set_xlim(8e-3, 2e1)\n",
    "# ax.set_ylim(1e-13, 1e-6)"
   ]
  },
  {
   "cell_type": "code",
   "execution_count": 72,
   "metadata": {},
   "outputs": [
    {
     "data": {
      "text/plain": [
       "Text(0, 0.5, 'sqrt(Isw), A^1/2')"
      ]
     },
     "execution_count": 72,
     "metadata": {},
     "output_type": "execute_result"
    }
   ],
   "source": [
    "ax.set_xlabel('Ej, K')\n",
    "ax.set_ylabel('sqrt(Isw), A^1/2')"
   ]
  },
  {
   "cell_type": "code",
   "execution_count": 73,
   "metadata": {},
   "outputs": [
    {
     "data": {
      "text/plain": [
       "range"
      ]
     },
     "execution_count": 73,
     "metadata": {},
     "output_type": "execute_result"
    }
   ],
   "source": [
    "type(range(0,5))"
   ]
  },
  {
   "cell_type": "code",
   "execution_count": 74,
   "metadata": {},
   "outputs": [],
   "source": [
    "# fig, ax = plt.subplots()\n",
    "\n",
    "\n",
    "# ax.plot(EJ_list,  EJ_list*kB/hbar*2*e, '--', label = '$A-B$')\n",
    "\n",
    "\n",
    "ax.plot(EJ_list, Isws, label = 'cIZ')\n",
    "# ax.plot(EJ_list, Isws_conv, label = 'cIZ + Vc_noise')\n",
    "\n",
    "\n",
    "ax.set_xscale('log')\n",
    "ax.set_yscale('log')\n",
    "\n",
    "leg1 = ax.legend(loc='lower right')"
   ]
  },
  {
   "cell_type": "code",
   "execution_count": 75,
   "metadata": {
    "scrolled": false
   },
   "outputs": [
    {
     "name": "stderr",
     "output_type": "stream",
     "text": [
      "D:\\anaconda\\lib\\site-packages\\numpy\\core\\fromnumeric.py:3257: RuntimeWarning: Mean of empty slice.\n",
      "  out=out, **kwargs)\n"
     ]
    },
    {
     "data": {
      "text/plain": [
       "<matplotlib.legend.Legend at 0x218cb623710>"
      ]
     },
     "execution_count": 75,
     "metadata": {},
     "output_type": "execute_result"
    }
   ],
   "source": [
    "jj79.db_connect()\n",
    "ids = range(108,158+1)\n",
    "ZF =  0.004e-3\n",
    "FF =  0.224e-3\n",
    "dF = 0.250e-3\n",
    "\n",
    "jj79.ZF   = ZF\n",
    "jj79.FF   = ZF+FF\n",
    "\n",
    "\n",
    "B = np.arange(ZF, ZF + 1.02*dF, 5e-6)\n",
    "cos = jj79.B_to_cos(B)\n",
    "\n",
    "Ics = [1*extract_Isw_R0_by_id (idx, dy = 50e-6, yoff = -650e-6)[0] for idx in ids]\n",
    "# jj79.Isw_by_id(ids, fullIVC = True, dy = 10e-6, yoff = -650e-6)\n",
    "\n",
    "# fig, ax = plt.subplots()\n",
    "ax.plot(4.5*abs(cos), Ics, 'o', label = '79 early IVC Bscan')\n",
    "\n",
    "# jj85.pbi(739,marker = 'x', axes = ax, label = '85 ')\n",
    "\n",
    "\n",
    "\n",
    "# jj79.pbi(1728, axes = ax, label = '79 hist')\n",
    "\n",
    "ax.legend()\n",
    "\n",
    "# ax.set_xscale('log')\n",
    "# ax.set_yscale('log')"
   ]
  },
  {
   "cell_type": "code",
   "execution_count": null,
   "metadata": {},
   "outputs": [],
   "source": []
  },
  {
   "cell_type": "code",
   "execution_count": 76,
   "metadata": {},
   "outputs": [],
   "source": [
    "jj70N5.db_connect()\n",
    "\n",
    "B_list = np.linspace(-.4e-3, .2e-3, 121)\n",
    "jj70N5.ZF   = -0.093e-3\n",
    "jj70N5.FF   = 0.130e-3\n",
    "ids = range(689,809+1)\n",
    "\n",
    "\n",
    "# B_list = np.linspace(0e-3, .2e-3, 51)\n",
    "# jj70N5.ZF   = 0e-3\n",
    "# jj70N5.FF   = 0.220e-3\n",
    "# ids = range(1213, 1263+1)\n",
    "\n",
    "cos_list = abs (jj70N5.B_to_cos(B_list))\n",
    "\n",
    "\n",
    "\n",
    "Ics = [2*extract_Isw_R0_by_id (idx, dy = 50e-6)[0] for idx in ids]\n",
    "\n",
    "Ej0 = 0.410\n",
    "\n",
    "# l70N5v1, = ax.plot(Ej0*cos_list, np.sqrt(Ics), '.', fillstyle = 'none')\n",
    "l70N5v1, = ax.plot(Ej0*cos_list, Ics, '.', fillstyle = 'none')"
   ]
  },
  {
   "cell_type": "code",
   "execution_count": 77,
   "metadata": {},
   "outputs": [],
   "source": [
    "jj70N5.db_connect()\n",
    "\n",
    "# B_list = np.linspace(-.4e-3, .2e-3, 121)\n",
    "# jj70N5.ZF   = -0.093e-3\n",
    "# jj70N5.FF   = 0.130e-3\n",
    "# ids = range(689,809+1)\n",
    "\n",
    "B_list = np.linspace(-.10e-3, .5e-3, 121)\n",
    "# B_list = np.linspace(0e-3, .2e-3, 51)\n",
    "jj70N5.ZF   = 0e-3\n",
    "jj70N5.FF   = 0.220e-3\n",
    "# ids = range(1213, 1263+1)\n",
    "ids = range(1264, 1384+1)\n",
    "cos_list = abs (jj70N5.B_to_cos(B_list))\n",
    "\n",
    "\n",
    "\n",
    "Ics = [2*extract_Isw_R0_by_id (idx, dy = 50e-6)[0] for idx in ids]\n",
    "\n",
    "Ej0 = 0.410\n",
    "\n",
    "l70N5v2, = ax.plot(Ej0*cos_list, Ics, '.', fillstyle = 'none')\n",
    "# l70N5v2, = ax.plot(Ej0*cos_list, np.sqrt(Ics), '.', fillstyle = 'none')"
   ]
  },
  {
   "cell_type": "code",
   "execution_count": 78,
   "metadata": {},
   "outputs": [],
   "source": [
    "jj70N1.db_connect()\n",
    "\n",
    "jj70N1.ZF = -2e-6\n",
    "jj70N1.FF = 205e-6\n",
    "\n",
    "B_list = np.linspace(-.10e-3, .5e-3, 121)\n",
    "cos_list = abs (jj70N1.B_to_cos(B_list))\n",
    "\n",
    "ids = range(14, 134+1)\n",
    "\n",
    "Ics = [2*extract_Isw_R0_by_id (idx, dy = 30e-6)[0] for idx in ids]\n",
    "\n",
    "Ej0 = 0.350  \n",
    "l70N1, = ax.plot(Ej0*cos_list, Ics, '.', fillstyle = 'none' )\n",
    "# l70N1, = ax.plot(Ej0*cos_list, np.sqrt(Ics), '.', fillstyle = 'none' )"
   ]
  },
  {
   "cell_type": "code",
   "execution_count": 79,
   "metadata": {},
   "outputs": [],
   "source": [
    "jj70N0.db_connect()\n",
    "\n",
    "jj70N0.ZF = -2e-6\n",
    "jj70N0.FF = 200e-6\n",
    "\n",
    "\n",
    "# B_list = np.linspace(-.10e-3, .5e-3, 61)\n",
    "# cos_list = abs (jj70N0.B_to_cos(B_list))\n",
    "# ids = range(11, 71+1)\n",
    "\n",
    "sl = slice(75, 125)\n",
    "B_list = np.linspace(-1e-3, 1e-3, 201)[sl]\n",
    "cos_list = abs (jj70N0.B_to_cos(B_list))\n",
    "ids = range(76, 276+1)[sl]\n",
    "\n",
    "\n",
    "\n",
    "Ics = [2*extract_Isw_R0_by_id (idx, dy = 20e-6)[0] for idx in ids]\n",
    "\n",
    "Ej0 = 0.656\n",
    "l70N0, = ax.plot(Ej0*cos_list, Ics, '.', fillstyle = 'none')\n",
    "# l70N0, = ax.plot(Ej0*cos_list, np.sqrt(Ics), '.', fillstyle = 'none')"
   ]
  },
  {
   "cell_type": "code",
   "execution_count": 80,
   "metadata": {},
   "outputs": [
    {
     "data": {
      "application/vnd.jupyter.widget-view+json": {
       "model_id": "f3762af5b51944369345b0b02a026be0",
       "version_major": 2,
       "version_minor": 0
      },
      "text/plain": [
       "FigureCanvasNbAgg()"
      ]
     },
     "metadata": {},
     "output_type": "display_data"
    },
    {
     "name": "stderr",
     "output_type": "stream",
     "text": [
      "No handles with labels found to put in legend.\n"
     ]
    },
    {
     "data": {
      "text/plain": [
       "<matplotlib.axes._subplots.AxesSubplot at 0x218cb675908>"
      ]
     },
     "execution_count": 80,
     "metadata": {},
     "output_type": "execute_result"
    }
   ],
   "source": [
    "jj70N0.bpbi(range(76, 276+1))"
   ]
  },
  {
   "cell_type": "code",
   "execution_count": 81,
   "metadata": {},
   "outputs": [
    {
     "name": "stderr",
     "output_type": "stream",
     "text": [
      "D:\\anaconda\\lib\\site-packages\\numpy\\core\\fromnumeric.py:3257: RuntimeWarning: Mean of empty slice.\n",
      "  out=out, **kwargs)\n"
     ]
    }
   ],
   "source": [
    "# fig, ax = plt.subplots()\n",
    "    \n",
    "jj70N7.db_connect()\n",
    "\n",
    "jj70N7.ZF = 4e-6\n",
    "jj70N7.FF = 224e-6\n",
    "\n",
    "\n",
    "B_list = np.linspace(4e-6, 254e-6, 85)\n",
    "cos_list = abs (jj70N7.B_to_cos(B_list))\n",
    "\n",
    "ids = range(208, 292+1)\n",
    "\n",
    "\n",
    "\n",
    "Ics = [1*extract_Isw_R0_by_id (idx, dy = 50e-6, yoff = -.735e-3)[0] for idx in ids]\n",
    "\n",
    "Ej0 = 1.18\n",
    "l70N7, = ax.plot(Ej0*cos_list, Ics, '.', fillstyle = 'none')\n",
    "# l70N7, = ax.plot(Ej0*cos_list, np.sqrt(Ics), '.', fillstyle = 'none')"
   ]
  },
  {
   "cell_type": "code",
   "execution_count": 82,
   "metadata": {},
   "outputs": [
    {
     "name": "stderr",
     "output_type": "stream",
     "text": [
      "D:\\anaconda\\lib\\site-packages\\numpy\\core\\fromnumeric.py:3257: RuntimeWarning: Mean of empty slice.\n",
      "  out=out, **kwargs)\n"
     ]
    }
   ],
   "source": [
    "jj79N5 = JJmeas(sample = 'D079N5')\n",
    "\n",
    "jj79N5.db_connect()\n",
    "\n",
    "cos_list_795 = np.linspace(1, 0, 51 )\n",
    "Ejs_795 = 4.14*cos_list_795\n",
    "\n",
    "\n",
    "ids = range(72,122+1)\n",
    "\n",
    "Ics = [2*extract_Isw_R0_by_id (idx, dy = 30e-6)[0] for idx in ids]\n",
    "    \n",
    "\n",
    "Ej0 = 4.14\n",
    "l79N5, = ax.plot(Ej0*cos_list_795, Ics, '.', fillstyle = 'none')\n",
    "# l79N5, = ax.plot(Ej0*cos_list_79, np.sqrt(Ics), '.', fillstyle = 'none')"
   ]
  },
  {
   "cell_type": "code",
   "execution_count": 83,
   "metadata": {},
   "outputs": [],
   "source": [
    "jj85 = JJmeas(sample = 'D085N5')\n",
    "\n",
    "jj85.db_connect()\n",
    "\n",
    "cos_list_85 = np.arange(0.12, 1.01, 0.01)\n",
    "\n",
    "\n",
    "\n",
    "ids = np.concatenate([range(592, 623+1),\n",
    "                range(681, 737+1)])\n",
    "\n",
    "Is = [2*extract_Isw_R0_by_id (idx, dy = 30e-6)[0] for idx in ids]\n",
    "    \n",
    "\n",
    "Ej0 = 5.4\n",
    "l85N5, = ax.plot(Ej0*cos_list_85, Is, '.', fillstyle = 'none')\n"
   ]
  },
  {
   "cell_type": "code",
   "execution_count": 84,
   "metadata": {},
   "outputs": [],
   "source": [
    "l59 = jj59.pbi(940, axes = ax)"
   ]
  },
  {
   "cell_type": "code",
   "execution_count": 85,
   "metadata": {},
   "outputs": [],
   "source": [
    "\n",
    "cos, Isws = jj57.xy_by_id(184)\n",
    "\n",
    "Ej0 = 2.5\n",
    "l57 = ax.plot(Ej0*cos, Isws, 'x')"
   ]
  },
  {
   "cell_type": "code",
   "execution_count": 86,
   "metadata": {},
   "outputs": [
    {
     "name": "stderr",
     "output_type": "stream",
     "text": [
      "D:\\anaconda\\lib\\site-packages\\ipykernel_launcher.py:11: UserWarning: Legend does not support <matplotlib.axes._subplots.AxesSubplot object at 0x00000218CB2851D0> instances.\n",
      "A proxy artist may be used instead.\n",
      "See: http://matplotlib.org/users/legend_guide.html#creating-artists-specifically-for-adding-to-the-legend-aka-proxy-artists\n",
      "  # This is added back by InteractiveShellApp.init_path()\n",
      "D:\\anaconda\\lib\\site-packages\\ipykernel_launcher.py:11: UserWarning: Legend does not support [<matplotlib.lines.Line2D object at 0x00000218CB867CC0>] instances.\n",
      "A proxy artist may be used instead.\n",
      "See: http://matplotlib.org/users/legend_guide.html#creating-artists-specifically-for-adding-to-the-legend-aka-proxy-artists\n",
      "  # This is added back by InteractiveShellApp.init_path()\n"
     ]
    },
    {
     "data": {
      "text/plain": [
       "<matplotlib.legend.Legend at 0x218cb281c50>"
      ]
     },
     "execution_count": 86,
     "metadata": {},
     "output_type": "execute_result"
    }
   ],
   "source": [
    "leg2 = ax.legend([l70N5v1,l70N5v2, l70N1, l70N0, l70N7,l79N5,l85N5, l59, l57 ],\n",
    "                 ['70N5v1, N=14, Ec = 650mK',\n",
    "                  '70N5v2, N=14, Ec = 650mK',\n",
    "                  '70N1, N=15, Ec = ??mK', \n",
    "                  '70N0, N=15, Ec = 400mK', \n",
    "                  '70N7, N=14, Ec = 200mK', \n",
    "                  '79N5, N=1, Ec = 4mK',\n",
    "                  '85N5, N=1, Ec = 4mK',\n",
    "                 '59N1, N=12, Ec = ??mK',\n",
    "                 '57N8, N=20, Ec = ??mK'], \n",
    "                 loc='upper left')\n",
    "# Manually add the first legend back\n",
    "ax.add_artist(leg1)"
   ]
  },
  {
   "cell_type": "markdown",
   "metadata": {},
   "source": [
    "# R0 vs Ej"
   ]
  },
  {
   "cell_type": "code",
   "execution_count": 123,
   "metadata": {},
   "outputs": [
    {
     "data": {
      "application/vnd.jupyter.widget-view+json": {
       "model_id": "593aabac6d834e539514350a3ea54a64",
       "version_major": 2,
       "version_minor": 0
      },
      "text/plain": [
       "FigureCanvasNbAgg()"
      ]
     },
     "metadata": {},
     "output_type": "display_data"
    },
    {
     "name": "stderr",
     "output_type": "stream",
     "text": [
      "No handles with labels found to put in legend.\n"
     ]
    }
   ],
   "source": [
    "fig, ax = plt.subplots(figsize = (8,6))\n",
    "\n",
    "\n",
    "\n",
    "# ax.plot(EJ_list, R0s, label = 'cIZ ???')\n",
    "# ax.plot(EJ_list, R0s_conv, label = 'cIZ + Vc_noise')\n",
    "\n",
    "\n",
    "ax.set_xscale('log')\n",
    "ax.set_yscale('log')\n",
    "\n",
    "leg1 = ax.legend(loc='upper right')"
   ]
  },
  {
   "cell_type": "code",
   "execution_count": 124,
   "metadata": {
    "scrolled": false
   },
   "outputs": [
    {
     "name": "stderr",
     "output_type": "stream",
     "text": [
      "D:\\anaconda\\lib\\site-packages\\numpy\\core\\fromnumeric.py:3257: RuntimeWarning: Mean of empty slice.\n",
      "  out=out, **kwargs)\n"
     ]
    },
    {
     "data": {
      "text/plain": [
       "<matplotlib.legend.Legend at 0x2a27c85ada0>"
      ]
     },
     "execution_count": 124,
     "metadata": {},
     "output_type": "execute_result"
    }
   ],
   "source": [
    "jj79.db_connect()\n",
    "ids = range(108,158+1)\n",
    "ZF =  0.004e-3\n",
    "FF =  0.224e-3\n",
    "dF = 0.250e-3\n",
    "\n",
    "jj79.ZF   = ZF\n",
    "jj79.FF   = ZF+FF\n",
    "\n",
    "\n",
    "B = np.arange(ZF, ZF + 1.02*dF, 5e-6)\n",
    "cos_list = jj79.B_to_cos(B)\n",
    "\n",
    "Ej0 = 4.5\n",
    "\n",
    "R0s, err_R0s = jj79.R0_by_id(ids, fullIVC = True, dy = 50e-6, yoff = -650e-6)\n",
    "ax.errorbar(Ej0*cos_list, R0s, marker ='.', ls = '', yerr = err_R0s, label = '79N6 single')\n",
    "\n",
    "\n",
    "ax.legend()\n"
   ]
  },
  {
   "cell_type": "code",
   "execution_count": 125,
   "metadata": {},
   "outputs": [
    {
     "data": {
      "application/vnd.jupyter.widget-view+json": {
       "model_id": "d99bc81e24e844099a56ede2a5c2c914",
       "version_major": 2,
       "version_minor": 0
      },
      "text/plain": [
       "FigureCanvasNbAgg()"
      ]
     },
     "metadata": {},
     "output_type": "display_data"
    },
    {
     "name": "stderr",
     "output_type": "stream",
     "text": [
      "No handles with labels found to put in legend.\n"
     ]
    },
    {
     "data": {
      "text/plain": [
       "<matplotlib.axes._subplots.AxesSubplot at 0x2a27cb013c8>"
      ]
     },
     "execution_count": 125,
     "metadata": {},
     "output_type": "execute_result"
    }
   ],
   "source": [
    "jj70N5.bpbi(range(689,809+1))"
   ]
  },
  {
   "cell_type": "code",
   "execution_count": 126,
   "metadata": {},
   "outputs": [
    {
     "data": {
      "text/plain": [
       "<ErrorbarContainer object of 3 artists>"
      ]
     },
     "execution_count": 126,
     "metadata": {},
     "output_type": "execute_result"
    }
   ],
   "source": [
    "jj70N5.db_connect()\n",
    "\n",
    "B_list = np.linspace(-.4e-3, .2e-3, 121)\n",
    "jj70N5.ZF   = -0.093e-3\n",
    "jj70N5.FF   = 0.130e-3\n",
    "ids = range(689,809+1)\n",
    "\n",
    "\n",
    "\n",
    "cos_list = abs (jj70N5.B_to_cos(B_list))\n",
    "\n",
    "Ej0 = 0.410\n",
    "\n",
    "R0s, err_R0s = jj70N5.R0_by_id(ids, fullIVC = False, dy = 50e-6)\n",
    "ax.errorbar(Ej0*cos_list, R0s/15, marker ='.', ls = '', yerr = err_R0s/15, label = '70N5 N = `15')\n",
    "\n",
    "\n",
    "\n"
   ]
  },
  {
   "cell_type": "code",
   "execution_count": 127,
   "metadata": {},
   "outputs": [
    {
     "data": {
      "text/plain": [
       "<ErrorbarContainer object of 3 artists>"
      ]
     },
     "execution_count": 127,
     "metadata": {},
     "output_type": "execute_result"
    }
   ],
   "source": [
    "jj70N5.db_connect()\n",
    "\n",
    "# B_list = np.linspace(-.4e-3, .2e-3, 121)\n",
    "# jj70N5.ZF   = -0.093e-3\n",
    "# jj70N5.FF   = 0.130e-3\n",
    "# ids = range(689,809+1)\n",
    "\n",
    "\n",
    "B_list = np.linspace(0e-3, .2e-3, 51)\n",
    "jj70N5.ZF   = 0e-3\n",
    "jj70N5.FF   = 0.220e-3\n",
    "ids = range(1213, 1263+1)\n",
    "\n",
    "cos_list = abs (jj70N5.B_to_cos(B_list))\n",
    "\n",
    "\n",
    "\n",
    "Ej0 = 0.410\n",
    "\n",
    "R0s, err_R0s = jj70N5.R0_by_id(ids, fullIVC = False, dy = 50e-6)\n",
    "ax.errorbar(Ej0*cos_list, R0s/15, marker ='.', ls = '', yerr = err_R0s/15, label = '70N5 N = `15')\n"
   ]
  },
  {
   "cell_type": "code",
   "execution_count": 128,
   "metadata": {},
   "outputs": [
    {
     "data": {
      "text/plain": [
       "<ErrorbarContainer object of 3 artists>"
      ]
     },
     "execution_count": 128,
     "metadata": {},
     "output_type": "execute_result"
    }
   ],
   "source": [
    "jj70N1.db_connect()\n",
    "\n",
    "jj70N1.ZF = -2e-6\n",
    "jj70N1.FF = 200e-6\n",
    "\n",
    "B_list = np.linspace(-.10e-3, .5e-3, 121)\n",
    "cos_list = abs (jj70N1.B_to_cos(B_list))\n",
    "\n",
    "ids = range(14, 134+1)\n",
    "\n",
    "\n",
    "Ej0 = 0.350\n",
    "\n",
    "R0s, err_R0s = jj70N1.R0_by_id(ids, fullIVC = False, dy = 50e-6)\n",
    "ax.errorbar(Ej0*cos_list, R0s/15, marker ='.', ls = '', yerr = err_R0s/15, label = '70N1 N = `15')\n"
   ]
  },
  {
   "cell_type": "code",
   "execution_count": 129,
   "metadata": {},
   "outputs": [
    {
     "name": "stderr",
     "output_type": "stream",
     "text": [
      "e:\\OneDrive - Rutgers University\\files_GitHub\\JJ_arrays\\JJ_data_processing.py:183: RuntimeWarning: More than 20 figures have been opened. Figures created through the pyplot interface (`matplotlib.pyplot.figure`) are retained until explicitly closed and may consume too much memory. (To control this warning, see the rcParam `figure.max_open_warning`).\n",
      "  fig, ax = plt.subplots()\n"
     ]
    },
    {
     "data": {
      "application/vnd.jupyter.widget-view+json": {
       "model_id": "7ef3678d0c94478da8e043bd8a6230cc",
       "version_major": 2,
       "version_minor": 0
      },
      "text/plain": [
       "FigureCanvasNbAgg()"
      ]
     },
     "metadata": {},
     "output_type": "display_data"
    },
    {
     "name": "stderr",
     "output_type": "stream",
     "text": [
      "No handles with labels found to put in legend.\n"
     ]
    },
    {
     "data": {
      "text/plain": [
       "<matplotlib.axes._subplots.AxesSubplot at 0x2a27cca0160>"
      ]
     },
     "execution_count": 129,
     "metadata": {},
     "output_type": "execute_result"
    }
   ],
   "source": [
    "jj70N1.bpbi(range(14, 134+1))"
   ]
  },
  {
   "cell_type": "code",
   "execution_count": 130,
   "metadata": {},
   "outputs": [
    {
     "data": {
      "text/plain": [
       "<ErrorbarContainer object of 3 artists>"
      ]
     },
     "execution_count": 130,
     "metadata": {},
     "output_type": "execute_result"
    }
   ],
   "source": [
    "jj70N0.db_connect()\n",
    "\n",
    "jj70N0.ZF = -2e-6\n",
    "jj70N0.FF = 200e-6\n",
    "\n",
    "\n",
    "# B_list = np.linspace(-.10e-3, .5e-3, 61)\n",
    "# cos_list = abs (jj70N0.B_to_cos(B_list))\n",
    "# ids = range(11, 71+1)\n",
    "\n",
    "sl = slice(75, 125)\n",
    "B_list = np.linspace(-1e-3, 1e-3, 201)[sl]\n",
    "cos_list = abs (jj70N0.B_to_cos(B_list))\n",
    "ids = range(76, 276+1)[sl]\n",
    "\n",
    "\n",
    "\n",
    "Ej0 = 0.656\n",
    "\n",
    "R0s, err_R0s = jj70N0.R0_by_id(ids, fullIVC = False, dy = 50e-6)\n",
    "ax.errorbar(Ej0*cos_list, R0s/15, marker ='.', ls = '', yerr = err_R0s/15, label = '70N0 N = `15')\n"
   ]
  },
  {
   "cell_type": "code",
   "execution_count": 131,
   "metadata": {},
   "outputs": [
    {
     "name": "stderr",
     "output_type": "stream",
     "text": [
      "D:\\anaconda\\lib\\site-packages\\numpy\\core\\fromnumeric.py:3257: RuntimeWarning: Mean of empty slice.\n",
      "  out=out, **kwargs)\n"
     ]
    },
    {
     "data": {
      "text/plain": [
       "<ErrorbarContainer object of 3 artists>"
      ]
     },
     "execution_count": 131,
     "metadata": {},
     "output_type": "execute_result"
    }
   ],
   "source": [
    "# fig, ax = plt.subplots()\n",
    "    \n",
    "jj70N7.db_connect()\n",
    "\n",
    "jj70N7.ZF = 4e-6\n",
    "jj70N7.FF = 224e-6\n",
    "\n",
    "\n",
    "B_list = np.linspace(4e-6, 254e-6, 85)\n",
    "cos_list = abs (jj70N7.B_to_cos(B_list))\n",
    "\n",
    "ids = range(208, 292+1)\n",
    "\n",
    "\n",
    "\n",
    "# Rs = [1*extract_Isw_R0_by_id (idx, dy = 50e-6, yoff = -.735e-3)[1] for idx in ids]\n",
    "\n",
    "Ej0 = 1.18\n",
    "\n",
    "R0s, err_R0s = jj70N7.R0_by_id(ids, fullIVC = False, dy = 50e-6, yoff = -.735e-3)\n",
    "ax.errorbar(Ej0*cos_list, R0s/15, marker ='.', ls = '', yerr = err_R0s/15, label = '70N7 N = `15')\n",
    "\n",
    "\n"
   ]
  },
  {
   "cell_type": "code",
   "execution_count": 132,
   "metadata": {},
   "outputs": [],
   "source": [
    "# jj79N5 = JJmeas(sample = 'D079N5')\n",
    "\n",
    "# jj79N5.db_connect()\n",
    "\n",
    "# cos_list = np.linspace(1, 0, 51 )\n",
    "\n",
    "\n",
    "\n",
    "# ids = range(72,122+1)\n",
    "\n",
    "# # Rs = [1*extract_Isw_R0_by_id (idx, dy = 30e-6)[1] for idx in ids]\n",
    "    \n",
    "\n",
    "# Ej0 = 4.14\n",
    "\n",
    "# R0s, err_R0s = jj79N5.R0_by_id(ids, fullIVC = True, dy = 50e-6)\n",
    "# ax.errorbar(Ej0*cos_list, R0s/15, marker ='.', ls = '', yerr = err_R0s/15, label = '79N5 N = `15')\n"
   ]
  },
  {
   "cell_type": "code",
   "execution_count": 133,
   "metadata": {},
   "outputs": [
    {
     "data": {
      "text/plain": [
       "<ErrorbarContainer object of 3 artists>"
      ]
     },
     "execution_count": 133,
     "metadata": {},
     "output_type": "execute_result"
    }
   ],
   "source": [
    "jj85 = JJmeas(sample = 'D085N5')\n",
    "\n",
    "jj85.db_connect()\n",
    "\n",
    "cos_list = np.arange(0.12, 1.01, 0.01)\n",
    "\n",
    "\n",
    "\n",
    "ids = np.concatenate([range(592, 623+1),\n",
    "                range(681, 737+1)])\n",
    "\n",
    "# Rs = [1*extract_Isw_R0_by_id (idx, dy = 30e-6)[1] for idx in ids]\n",
    "    \n",
    "\n",
    "Ej0 = 5.4\n",
    "R0s, err_R0s = jj85.R0_by_id(ids, fullIVC = False, dy = 50e-6)\n",
    "ax.errorbar(Ej0*cos_list, R0s, marker ='.', ls = '', yerr = err_R0s, label = '85N5b N = 1')\n"
   ]
  },
  {
   "cell_type": "code",
   "execution_count": 134,
   "metadata": {},
   "outputs": [],
   "source": [
    "l59 = jj59.pbi(941, axes = ax)"
   ]
  },
  {
   "cell_type": "code",
   "execution_count": 135,
   "metadata": {},
   "outputs": [
    {
     "data": {
      "text/plain": [
       "<matplotlib.legend.Legend at 0x2a27ce1ef60>"
      ]
     },
     "execution_count": 135,
     "metadata": {},
     "output_type": "execute_result"
    }
   ],
   "source": [
    "ax.legend()"
   ]
  },
  {
   "cell_type": "code",
   "execution_count": 136,
   "metadata": {},
   "outputs": [
    {
     "name": "stderr",
     "output_type": "stream",
     "text": [
      "D:\\anaconda\\lib\\site-packages\\ipykernel_launcher.py:10: UserWarning: Legend does not support <matplotlib.axes._subplots.AxesSubplot object at 0x000002A27C851D30> instances.\n",
      "A proxy artist may be used instead.\n",
      "See: http://matplotlib.org/users/legend_guide.html#creating-artists-specifically-for-adding-to-the-legend-aka-proxy-artists\n",
      "  # Remove the CWD from sys.path while we load stuff.\n"
     ]
    },
    {
     "data": {
      "text/plain": [
       "<matplotlib.legend.Legend at 0x2a27c801f60>"
      ]
     },
     "execution_count": 136,
     "metadata": {},
     "output_type": "execute_result"
    }
   ],
   "source": [
    "leg2 = ax.legend([l70N5v1,l70N5v2, l70N1, l70N0, l70N7,l79N5,l85N5, l59 ],\n",
    "                 ['70N5v1, N=14, Ec = 650mK',\n",
    "                  '70N5v2, N=14, Ec = 650mK',\n",
    "                  '70N1, N=15, Ec = ??mK', \n",
    "                  '70N0, N=15, Ec = 400mK', \n",
    "                  '70N7, N=14, Ec = 200mK', \n",
    "                  '79N5, N=1, Ec = 4mK',\n",
    "                  '85N5, N=1, Ec = 4mK',\n",
    "                 '59N1, N=12, Ec = ?mK'], \n",
    "                 loc='lower left')\n",
    "# Manually add the first legend back\n",
    "ax.add_artist(leg1)"
   ]
  },
  {
   "cell_type": "markdown",
   "metadata": {},
   "source": [
    "# IZ for diff T"
   ]
  },
  {
   "cell_type": "code",
   "execution_count": 34,
   "metadata": {
    "scrolled": false
   },
   "outputs": [
    {
     "data": {
      "application/vnd.jupyter.widget-view+json": {
       "model_id": "",
       "version_major": 2,
       "version_minor": 0
      },
      "text/plain": [
       "FigureCanvasNbAgg()"
      ]
     },
     "metadata": {},
     "output_type": "display_data"
    },
    {
     "data": {
      "text/plain": [
       "<matplotlib.legend.Legend at 0x19c8c0b1d30>"
      ]
     },
     "execution_count": 34,
     "metadata": {},
     "output_type": "execute_result"
    }
   ],
   "source": [
    "\n",
    "fig, (ax, ax2) = plt.subplots(1,2, figsize = (10,5))\n",
    "\n",
    "Rsh = 10e3\n",
    "\n",
    "for kT in [10e-3, 20e-3, 50e-3, 100e-3, 200e-3, 500e-3]:\n",
    "    \n",
    "    # Ec = 10\n",
    "    Vc_noise = 50e-6\n",
    "\n",
    "    EJ_list = np.logspace(-2,1.0, 26)\n",
    "\n",
    "    Npts = 501\n",
    "    V_ = np.linspace(0, 5e-3, Npts)\n",
    "\n",
    "    Isws = []\n",
    "    Isws_conv = []\n",
    "\n",
    "    R0s = []\n",
    "    R0s_conv = []\n",
    "\n",
    "    for EJ in EJ_list:\n",
    "#         Vs, Is, Is_conv = IZ_conv(V_, EJ, Vc_noise , kT, Rsh)\n",
    "        \n",
    "        Is = I_IZ     ( V_, EJ = EJ, R = Rsh, T = kT)\n",
    "        Vs = V_- Is*Rsh\n",
    "    #     Isw = (np.max(Is) - np.min(Is))/2\n",
    "    #     Isw_conv = (np.max(Is_conv) - np.min(Is_conv))/2\n",
    "\n",
    "        Imax = np.max(Is)\n",
    "        Imax_conv = np.max(Is_conv)\n",
    "\n",
    "        Vmax = Vs[np.argmax(Is)]\n",
    "        Vmax_conv = Vs[np.argmax(Is_conv)]\n",
    "\n",
    "        R0s.append( Vmax/Imax )\n",
    "        R0s_conv.append( Vmax_conv/Imax_conv )\n",
    "\n",
    "\n",
    "\n",
    "        Isws.append(Imax)\n",
    "        Isws_conv.append(Imax_conv)\n",
    "        \n",
    "    ax.plot(EJ_list, Isws, label = 'cIZ T = {:2.0f}mK'.format(kT*1e3))\n",
    "    ax2.plot(EJ_list, R0s, label = 'cIZ T = {:2.0f}mK'.format(kT*1e3))\n",
    "\n",
    "    \n",
    "    #         ax.plot(EJ_list, Isws_conv, label = 'cIZ + Vc_noise T = {:2.0}mK'.format(kT))\n",
    "\n",
    "\n",
    "ax.set_xscale('log')\n",
    "ax.set_yscale('log')\n",
    "ax.set_xlabel('EJ, K')\n",
    "ax.set_ylabel('Isw, A')\n",
    "ax.legend()\n",
    "\n",
    "ax2.set_xscale('log')\n",
    "ax2.set_yscale('log')\n",
    "ax2.set_xlabel('EJ, K')\n",
    "ax2.set_ylabel('R, Ohm')\n",
    "ax2.legend()"
   ]
  },
  {
   "cell_type": "code",
   "execution_count": 67,
   "metadata": {},
   "outputs": [
    {
     "data": {
      "text/plain": [
       "Text(107.49621212121211, 0.5, 'Isw, A')"
      ]
     },
     "execution_count": 67,
     "metadata": {},
     "output_type": "execute_result"
    }
   ],
   "source": [
    "ax.set_xlabel('EJ, K')\n",
    "ax.set_ylabel('Isw, A')"
   ]
  },
  {
   "cell_type": "code",
   "execution_count": 58,
   "metadata": {
    "scrolled": false
   },
   "outputs": [
    {
     "data": {
      "text/plain": [
       "<matplotlib.axes._subplots.AxesSubplot at 0x1bece8ee8d0>"
      ]
     },
     "execution_count": 58,
     "metadata": {},
     "output_type": "execute_result"
    }
   ],
   "source": [
    "jj85.pbi(1217, axes = ax)\n",
    "jj85.pbi(933, axes = ax)\n",
    "jj85.pbi(739, axes = ax)"
   ]
  },
  {
   "cell_type": "code",
   "execution_count": 4,
   "metadata": {},
   "outputs": [],
   "source": []
  },
  {
   "cell_type": "code",
   "execution_count": 60,
   "metadata": {},
   "outputs": [
    {
     "data": {
      "text/plain": [
       "<matplotlib.axes._subplots.AxesSubplot at 0x1bece8ee8d0>"
      ]
     },
     "execution_count": 60,
     "metadata": {},
     "output_type": "execute_result"
    }
   ],
   "source": [
    "jj79.pbi(1727, axes = ax)"
   ]
  },
  {
   "cell_type": "code",
   "execution_count": 61,
   "metadata": {},
   "outputs": [
    {
     "name": "stderr",
     "output_type": "stream",
     "text": [
      "D:\\anaconda\\lib\\site-packages\\qcodes\\dataset\\plotting.py:199: RuntimeWarning: More than 20 figures have been opened. Figures created through the pyplot interface (`matplotlib.pyplot.figure`) are retained until explicitly closed and may consume too much memory. (To control this warning, see the rcParam `figure.max_open_warning`).\n",
      "  fig, ax = plt.subplots(1, 1, **subplots_kwargs)\n"
     ]
    },
    {
     "data": {
      "application/vnd.jupyter.widget-view+json": {
       "model_id": "bda1215f8b19499dbc3ffc522ac1bf96",
       "version_major": 2,
       "version_minor": 0
      },
      "text/plain": [
       "FigureCanvasNbAgg()"
      ]
     },
     "metadata": {},
     "output_type": "display_data"
    }
   ],
   "source": [
    "ax = jj79.pbi(1726)\n",
    "\n",
    "# ax.plot()"
   ]
  },
  {
   "cell_type": "code",
   "execution_count": 63,
   "metadata": {},
   "outputs": [
    {
     "name": "stderr",
     "output_type": "stream",
     "text": [
      "D:\\anaconda\\lib\\site-packages\\qcodes\\dataset\\plotting.py:199: RuntimeWarning: More than 20 figures have been opened. Figures created through the pyplot interface (`matplotlib.pyplot.figure`) are retained until explicitly closed and may consume too much memory. (To control this warning, see the rcParam `figure.max_open_warning`).\n",
      "  fig, ax = plt.subplots(1, 1, **subplots_kwargs)\n"
     ]
    },
    {
     "data": {
      "application/vnd.jupyter.widget-view+json": {
       "model_id": "3d4e705b79c24a768e39cfc5a269b48d",
       "version_major": 2,
       "version_minor": 0
      },
      "text/plain": [
       "FigureCanvasNbAgg()"
      ]
     },
     "metadata": {},
     "output_type": "display_data"
    },
    {
     "data": {
      "text/plain": [
       "<matplotlib.axes._subplots.AxesSubplot at 0x1becf789f98>"
      ]
     },
     "execution_count": 63,
     "metadata": {},
     "output_type": "execute_result"
    }
   ],
   "source": [
    "jj79.pbi(1379+4)"
   ]
  },
  {
   "cell_type": "code",
   "execution_count": 36,
   "metadata": {},
   "outputs": [
    {
     "data": {
      "application/vnd.jupyter.widget-view+json": {
       "model_id": "0c2e4f7588ba4494a3fb446f9316eeaf",
       "version_major": 2,
       "version_minor": 0
      },
      "text/plain": [
       "FigureCanvasNbAgg()"
      ]
     },
     "metadata": {},
     "output_type": "display_data"
    },
    {
     "data": {
      "text/plain": [
       "[<matplotlib.lines.Line2D at 0x29c7108fcc0>]"
      ]
     },
     "execution_count": 36,
     "metadata": {},
     "output_type": "execute_result"
    }
   ],
   "source": [
    "fig, ax = plt.subplots()\n",
    "\n",
    "kT = 10e-3\n",
    "EJ = 0.2\n",
    "\n",
    "Vs, Is, Is_conv = IZ_conv(V_, EJ, Vc_noise , kT, Rsh)\n",
    "\n",
    "ax.plot(Vs, Is)"
   ]
  },
  {
   "cell_type": "code",
   "execution_count": 65,
   "metadata": {},
   "outputs": [
    {
     "name": "stderr",
     "output_type": "stream",
     "text": [
      "e:\\OneDrive - Rutgers University\\files_GitHub\\JJ_arrays\\JJ_data_processing.py:165: RuntimeWarning: More than 20 figures have been opened. Figures created through the pyplot interface (`matplotlib.pyplot.figure`) are retained until explicitly closed and may consume too much memory. (To control this warning, see the rcParam `figure.max_open_warning`).\n",
      "  fig, ax = plt.subplots()\n"
     ]
    },
    {
     "data": {
      "application/vnd.jupyter.widget-view+json": {
       "model_id": "b42fe1f0e5ea4bdca3ae50494e118886",
       "version_major": 2,
       "version_minor": 0
      },
      "text/plain": [
       "FigureCanvasNbAgg()"
      ]
     },
     "metadata": {},
     "output_type": "display_data"
    },
    {
     "name": "stderr",
     "output_type": "stream",
     "text": [
      "No handles with labels found to put in legend.\n"
     ]
    },
    {
     "name": "stdout",
     "output_type": "stream",
     "text": [
      "[  0.  20.  40.  60.  80. 100. 120. 140. 160. 180. 200. 220. 240. 260.\n",
      " 280. 300. 320. 340. 360. 380. 400. 420. 440. 460. 480. 500. 520. 540.\n",
      " 560. 580. 600. 620.]\n"
     ]
    }
   ],
   "source": [
    "jj79.bpbi(range(1625,1656+1))\n",
    "B = np.linspace(0, 620e-6, 32)\n",
    "\n",
    "print(B*1e6)"
   ]
  },
  {
   "cell_type": "markdown",
   "metadata": {},
   "source": [
    "# sqrt(Isw) vs cos"
   ]
  },
  {
   "cell_type": "code",
   "execution_count": 70,
   "metadata": {},
   "outputs": [],
   "source": [
    "jj85.db_connect()"
   ]
  },
  {
   "cell_type": "code",
   "execution_count": 71,
   "metadata": {},
   "outputs": [
    {
     "name": "stderr",
     "output_type": "stream",
     "text": [
      "D:\\anaconda\\lib\\site-packages\\ipykernel_launcher.py:1: RuntimeWarning: More than 20 figures have been opened. Figures created through the pyplot interface (`matplotlib.pyplot.figure`) are retained until explicitly closed and may consume too much memory. (To control this warning, see the rcParam `figure.max_open_warning`).\n",
      "  \"\"\"Entry point for launching an IPython kernel.\n"
     ]
    },
    {
     "data": {
      "application/vnd.jupyter.widget-view+json": {
       "model_id": "d7c51018c0684ba99a38a0a47d171777",
       "version_major": 2,
       "version_minor": 0
      },
      "text/plain": [
       "FigureCanvasNbAgg()"
      ]
     },
     "metadata": {},
     "output_type": "display_data"
    }
   ],
   "source": [
    "fig, ax = plt.subplots()\n",
    "\n",
    "for idx in [1217, 933,739]:\n",
    "    \n",
    "    Ej, Isw = xy_by_id(idx)\n",
    "    \n",
    "    ax.plot(Ej, np.sqrt(Isw))\n",
    "    \n",
    "    "
   ]
  },
  {
   "cell_type": "code",
   "execution_count": 72,
   "metadata": {},
   "outputs": [
    {
     "name": "stderr",
     "output_type": "stream",
     "text": [
      "No handles with labels found to put in legend.\n"
     ]
    },
    {
     "data": {
      "text/plain": [
       "<matplotlib.legend.Legend at 0x29c73406400>"
      ]
     },
     "execution_count": 72,
     "metadata": {},
     "output_type": "execute_result"
    }
   ],
   "source": [
    "ax.set_xscale('log')\n",
    "ax.set_yscale('log')\n",
    "ax.set_xlabel('EJ, K')\n",
    "ax.set_ylabel('sqrt(Isw), A^1/2')\n",
    "ax.legend()"
   ]
  },
  {
   "cell_type": "markdown",
   "metadata": {},
   "source": [
    "# comapre D79 and 85"
   ]
  },
  {
   "cell_type": "code",
   "execution_count": 8,
   "metadata": {},
   "outputs": [
    {
     "data": {
      "application/vnd.jupyter.widget-view+json": {
       "model_id": "5c0c9f9b393b4353a95785c5df9ceb4b",
       "version_major": 2,
       "version_minor": 0
      },
      "text/plain": [
       "FigureCanvasNbAgg()"
      ]
     },
     "metadata": {},
     "output_type": "display_data"
    },
    {
     "name": "stderr",
     "output_type": "stream",
     "text": [
      "No handles with labels found to put in legend.\n"
     ]
    },
    {
     "data": {
      "text/plain": [
       "<matplotlib.axes._subplots.AxesSubplot at 0x19af52059b0>"
      ]
     },
     "execution_count": 8,
     "metadata": {},
     "output_type": "execute_result"
    }
   ],
   "source": [
    "jj85.bpbi(range(603, 623+1))"
   ]
  },
  {
   "cell_type": "code",
   "execution_count": 12,
   "metadata": {},
   "outputs": [
    {
     "name": "stdout",
     "output_type": "stream",
     "text": [
      "1625 B = 0 uA_\n",
      "1626 B = 20 uA_\n",
      "1627 B = 40 uA_\n",
      "1628 B = 60 uA_\n",
      "1629 B = 80 uA_\n",
      "1630 B = 100 uA_\n",
      "1631 B = 120 uA_\n",
      "1632 B = 140 uA_\n",
      "1633 B = 160 uA_\n",
      "1634 B = 180 uA_\n",
      "1635 B = 200 uA_\n",
      "1636 B = 220 uA_\n",
      "1637 B = 240 uA_\n",
      "1638 B = 260 uA_\n",
      "1639 B = 280 uA_\n"
     ]
    }
   ],
   "source": [
    "jj79.db_connect()\n",
    "\n",
    "Bs = []\n",
    "for idx in range(1625,1639+1):\n",
    "    exp = load_by_run_spec(captured_run_id=idx)\n",
    "    B = float(exp.exp_name.split('B = ')[1].split(' ')[0])*1e-6\n",
    "    Bs.append(B)\n",
    "    print(idx, exp.exp_name)"
   ]
  },
  {
   "cell_type": "code",
   "execution_count": 13,
   "metadata": {},
   "outputs": [
    {
     "name": "stderr",
     "output_type": "stream",
     "text": [
      "D:\\anaconda\\lib\\site-packages\\numpy\\core\\fromnumeric.py:3257: RuntimeWarning: Mean of empty slice.\n",
      "  out=out, **kwargs)\n",
      "D:\\anaconda\\lib\\site-packages\\numpy\\core\\_methods.py:161: RuntimeWarning: invalid value encountered in double_scalars\n",
      "  ret = ret.dtype.type(ret / rcount)\n"
     ]
    },
    {
     "data": {
      "text/plain": [
       "<matplotlib.legend.Legend at 0x19af72a49e8>"
      ]
     },
     "execution_count": 13,
     "metadata": {},
     "output_type": "execute_result"
    }
   ],
   "source": [
    "ids = range(1625,1639+1)\n",
    "\n",
    "jj79.db_connect()\n",
    "Ics = [1*extract_Isw_R0_by_id (idx, dy = 20e-6, yoff = 0e-6)[0] for idx in ids]\n",
    "# jj79.Isw_by_id(ids, fullIVC = True, dy = 10e-6, yoff = -650e-6)\n",
    "\n",
    "# fig, ax = plt.subplots()\n",
    "\n",
    "\n",
    "jj79.ZF = 4e-6\n",
    "jj79.FF = 228e-6\n",
    "\n",
    "coss = jj79.B_to_cos(np.array(Bs))\n",
    "ax.plot(abs(coss), Ics, 'o', label = '79 periodicity check')\n",
    "\n",
    "ax.legend()"
   ]
  },
  {
   "cell_type": "code",
   "execution_count": 14,
   "metadata": {},
   "outputs": [
    {
     "data": {
      "application/vnd.jupyter.widget-view+json": {
       "model_id": "9e3334b377e34686908f3ad6cc42161b",
       "version_major": 2,
       "version_minor": 0
      },
      "text/plain": [
       "FigureCanvasNbAgg()"
      ]
     },
     "metadata": {},
     "output_type": "display_data"
    },
    {
     "data": {
      "text/plain": [
       "Text(0.5, 1.0, 'B = 0')"
      ]
     },
     "execution_count": 14,
     "metadata": {},
     "output_type": "execute_result"
    }
   ],
   "source": [
    "ax = jj85.pbi(1237, label = 'D085')\n",
    "\n",
    "jj79.pbi(1629, axes = ax, alpha = .1, label = 'D079')\n",
    "\n",
    "ax.legend()\n",
    "\n",
    "\n",
    "ax.set_title('B = 0')"
   ]
  },
  {
   "cell_type": "code",
   "execution_count": 60,
   "metadata": {},
   "outputs": [
    {
     "data": {
      "text/plain": [
       "0.3090169943749473"
      ]
     },
     "execution_count": 60,
     "metadata": {},
     "output_type": "execute_result"
    }
   ],
   "source": [
    "jj85.B_to_cos(170e-6)"
   ]
  },
  {
   "cell_type": "code",
   "execution_count": 15,
   "metadata": {},
   "outputs": [
    {
     "data": {
      "application/vnd.jupyter.widget-view+json": {
       "model_id": "21c15671743d4bca882aa9c9907f80c1",
       "version_major": 2,
       "version_minor": 0
      },
      "text/plain": [
       "FigureCanvasNbAgg()"
      ]
     },
     "metadata": {},
     "output_type": "display_data"
    },
    {
     "data": {
      "text/plain": [
       "Text(0.5, 1.0, 'B = 70')"
      ]
     },
     "execution_count": 15,
     "metadata": {},
     "output_type": "execute_result"
    }
   ],
   "source": [
    "ax = jj85.pbi(1238)\n",
    "jj85.pbi(722, axes = ax)\n",
    "\n",
    "\n",
    "jj79.pbi(1629, axes = ax, alpha = .1)\n",
    "\n",
    "\n",
    "ax.set_title('B = 70')"
   ]
  },
  {
   "cell_type": "code",
   "execution_count": 89,
   "metadata": {},
   "outputs": [
    {
     "name": "stderr",
     "output_type": "stream",
     "text": [
      "D:\\anaconda\\lib\\site-packages\\qcodes\\dataset\\plotting.py:199: RuntimeWarning: More than 20 figures have been opened. Figures created through the pyplot interface (`matplotlib.pyplot.figure`) are retained until explicitly closed and may consume too much memory. (To control this warning, see the rcParam `figure.max_open_warning`).\n",
      "  fig, ax = plt.subplots(1, 1, **subplots_kwargs)\n"
     ]
    },
    {
     "data": {
      "application/vnd.jupyter.widget-view+json": {
       "model_id": "",
       "version_major": 2,
       "version_minor": 0
      },
      "text/plain": [
       "FigureCanvasNbAgg()"
      ]
     },
     "metadata": {},
     "output_type": "display_data"
    },
    {
     "data": {
      "text/plain": [
       "Text(0.5, 1.0, 'B = 140')"
      ]
     },
     "execution_count": 89,
     "metadata": {},
     "output_type": "execute_result"
    }
   ],
   "source": [
    "ax = jj85.pbi(1239)\n",
    "\n",
    "\n",
    "\n",
    "jj79.pbi(1632, axes = ax, alpha = .1)\n",
    "\n",
    "\n",
    "ax.set_title('B = 140')"
   ]
  },
  {
   "cell_type": "code",
   "execution_count": 16,
   "metadata": {},
   "outputs": [
    {
     "data": {
      "application/vnd.jupyter.widget-view+json": {
       "model_id": "d9db5210dafa46dba9e4727539ca55c4",
       "version_major": 2,
       "version_minor": 0
      },
      "text/plain": [
       "FigureCanvasNbAgg()"
      ]
     },
     "metadata": {},
     "output_type": "display_data"
    },
    {
     "data": {
      "text/plain": [
       "<matplotlib.legend.Legend at 0x19af525f978>"
      ]
     },
     "execution_count": 16,
     "metadata": {},
     "output_type": "execute_result"
    }
   ],
   "source": [
    "ax = jj85.pbi(479, label = '85N5')\n",
    "\n",
    "\n",
    "\n",
    "jj79.pbi(1631, axes = ax, alpha = .1,label = '79N6')\n",
    "\n",
    "\n",
    "ax.set_title('B = 120u, cos ~ 0.65')\n",
    "\n",
    "ax.legend()"
   ]
  },
  {
   "cell_type": "code",
   "execution_count": 17,
   "metadata": {},
   "outputs": [
    {
     "data": {
      "application/vnd.jupyter.widget-view+json": {
       "model_id": "5ec3bcb4ae2149e09ab70a418d8c7751",
       "version_major": 2,
       "version_minor": 0
      },
      "text/plain": [
       "FigureCanvasNbAgg()"
      ]
     },
     "metadata": {},
     "output_type": "display_data"
    },
    {
     "data": {
      "text/plain": [
       "Text(0.5, 1.0, 'B ~ 170u, cos = .3')"
      ]
     },
     "execution_count": 17,
     "metadata": {},
     "output_type": "execute_result"
    }
   ],
   "source": [
    "ax = jj85.pbi(501, label = '85N5')\n",
    "\n",
    "\n",
    "\n",
    "jj79.pbi(1634, axes = ax, alpha = .1,label = '79N6')\n",
    "\n",
    "ax.legend()\n",
    "\n",
    "ax.set_title('B ~ 170u, cos = .3')"
   ]
  },
  {
   "cell_type": "code",
   "execution_count": 18,
   "metadata": {},
   "outputs": [
    {
     "data": {
      "application/vnd.jupyter.widget-view+json": {
       "model_id": "672ce9aedb1e4c3fba9e020c90b2c8c9",
       "version_major": 2,
       "version_minor": 0
      },
      "text/plain": [
       "FigureCanvasNbAgg()"
      ]
     },
     "metadata": {},
     "output_type": "display_data"
    },
    {
     "data": {
      "text/plain": [
       "Text(0.5, 1.0, 'B = 170')"
      ]
     },
     "execution_count": 18,
     "metadata": {},
     "output_type": "execute_result"
    }
   ],
   "source": [
    "ax = jj85.pbi(610)\n",
    "\n",
    "\n",
    "\n",
    "jj79.pbi(142, axes = ax, alpha = .1)\n",
    "\n",
    "\n",
    "ax.set_title('B = 170')"
   ]
  },
  {
   "cell_type": "code",
   "execution_count": 111,
   "metadata": {},
   "outputs": [
    {
     "data": {
      "text/plain": [
       "0.6156614753256583"
      ]
     },
     "execution_count": 111,
     "metadata": {},
     "output_type": "execute_result"
    }
   ],
   "source": [
    "jj85.ZF   = -10e-6\n",
    "jj85.FF   = 215e-6\n",
    "\n",
    "jj85.B_to_cos(120e-6)"
   ]
  },
  {
   "cell_type": "code",
   "execution_count": 107,
   "metadata": {},
   "outputs": [
    {
     "data": {
      "text/plain": [
       "0.33027906195516715"
      ]
     },
     "execution_count": 107,
     "metadata": {},
     "output_type": "execute_result"
    }
   ],
   "source": [
    "jj79.B_to_cos(180e-6)"
   ]
  },
  {
   "cell_type": "code",
   "execution_count": 19,
   "metadata": {},
   "outputs": [
    {
     "ename": "Exception",
     "evalue": "Please indicate value of ZF!",
     "output_type": "error",
     "traceback": [
      "\u001b[1;31m---------------------------------------------------------------------------\u001b[0m",
      "\u001b[1;31mException\u001b[0m                                 Traceback (most recent call last)",
      "\u001b[1;32m<ipython-input-19-7f153392cd3e>\u001b[0m in \u001b[0;36m<module>\u001b[1;34m()\u001b[0m\n\u001b[0;32m      1\u001b[0m \u001b[0mcos_list\u001b[0m \u001b[1;33m=\u001b[0m \u001b[0mnp\u001b[0m\u001b[1;33m.\u001b[0m\u001b[0mlinspace\u001b[0m\u001b[1;33m(\u001b[0m\u001b[1;36m0.44\u001b[0m\u001b[1;33m,\u001b[0m \u001b[1;36m1\u001b[0m\u001b[1;33m,\u001b[0m \u001b[1;36m57\u001b[0m\u001b[1;33m)\u001b[0m\u001b[1;33m\u001b[0m\u001b[0m\n\u001b[0;32m      2\u001b[0m \u001b[1;33m\u001b[0m\u001b[0m\n\u001b[1;32m----> 3\u001b[1;33m \u001b[0mb_list\u001b[0m \u001b[1;33m=\u001b[0m \u001b[0mjj85\u001b[0m\u001b[1;33m.\u001b[0m\u001b[0mcos_to_B\u001b[0m\u001b[1;33m(\u001b[0m\u001b[0mcos_list\u001b[0m\u001b[1;33m)\u001b[0m\u001b[1;33m\u001b[0m\u001b[0m\n\u001b[0m\u001b[0;32m      4\u001b[0m \u001b[1;33m\u001b[0m\u001b[0m\n\u001b[0;32m      5\u001b[0m \u001b[0mjj85\u001b[0m\u001b[1;33m.\u001b[0m\u001b[0mpbi\u001b[0m\u001b[1;33m(\u001b[0m\u001b[0mrange\u001b[0m\u001b[1;33m(\u001b[0m\u001b[1;36m681\u001b[0m\u001b[1;33m,\u001b[0m \u001b[1;36m735\u001b[0m\u001b[1;33m+\u001b[0m\u001b[1;36m1\u001b[0m\u001b[1;33m)\u001b[0m\u001b[1;33m[\u001b[0m\u001b[1;36m41\u001b[0m\u001b[1;33m]\u001b[0m\u001b[1;33m)\u001b[0m\u001b[1;33m\u001b[0m\u001b[0m\n",
      "\u001b[1;32me:\\OneDrive - Rutgers University\\files_GitHub\\measDC\\_jjtools\\JJmeasurement.py\u001b[0m in \u001b[0;36mcos_to_B\u001b[1;34m(self, cos)\u001b[0m\n\u001b[0;32m    141\u001b[0m         \u001b[1;32mfor\u001b[0m \u001b[0mfrust\u001b[0m \u001b[1;32min\u001b[0m \u001b[1;33m[\u001b[0m\u001b[1;34m'ZF'\u001b[0m\u001b[1;33m,\u001b[0m \u001b[1;34m'FF'\u001b[0m\u001b[1;33m]\u001b[0m\u001b[1;33m:\u001b[0m\u001b[1;33m\u001b[0m\u001b[0m\n\u001b[0;32m    142\u001b[0m               \u001b[1;32mif\u001b[0m \u001b[1;32mnot\u001b[0m \u001b[0mhasattr\u001b[0m\u001b[1;33m(\u001b[0m\u001b[0mself\u001b[0m\u001b[1;33m,\u001b[0m \u001b[0mfrust\u001b[0m\u001b[1;33m)\u001b[0m\u001b[1;33m:\u001b[0m\u001b[1;33m\u001b[0m\u001b[0m\n\u001b[1;32m--> 143\u001b[1;33m                      \u001b[1;32mraise\u001b[0m \u001b[0mException\u001b[0m\u001b[1;33m(\u001b[0m\u001b[1;34mf'Please indicate value of {frust}!'\u001b[0m\u001b[1;33m)\u001b[0m\u001b[1;33m\u001b[0m\u001b[0m\n\u001b[0m\u001b[0;32m    144\u001b[0m \u001b[1;33m\u001b[0m\u001b[0m\n\u001b[0;32m    145\u001b[0m         \u001b[0mZF\u001b[0m \u001b[1;33m=\u001b[0m \u001b[0mself\u001b[0m\u001b[1;33m.\u001b[0m\u001b[0mZF\u001b[0m\u001b[1;33m\u001b[0m\u001b[0m\n",
      "\u001b[1;31mException\u001b[0m: Please indicate value of ZF!"
     ]
    }
   ],
   "source": [
    "cos_list = np.linspace(0.44, 1, 57)\n",
    "\n",
    "b_list = jj85.cos_to_B(cos_list)\n",
    "\n",
    "jj85.pbi(range(681, 735+1)[41])\n",
    "\n",
    "print(b_list[41]*1e6)"
   ]
  },
  {
   "cell_type": "code",
   "execution_count": 66,
   "metadata": {},
   "outputs": [
    {
     "name": "stderr",
     "output_type": "stream",
     "text": [
      "e:\\OneDrive - Rutgers University\\files_GitHub\\JJ_arrays\\JJ_data_processing.py:165: RuntimeWarning: More than 20 figures have been opened. Figures created through the pyplot interface (`matplotlib.pyplot.figure`) are retained until explicitly closed and may consume too much memory. (To control this warning, see the rcParam `figure.max_open_warning`).\n",
      "  fig, ax = plt.subplots()\n"
     ]
    },
    {
     "data": {
      "application/vnd.jupyter.widget-view+json": {
       "model_id": "",
       "version_major": 2,
       "version_minor": 0
      },
      "text/plain": [
       "FigureCanvasNbAgg()"
      ]
     },
     "metadata": {},
     "output_type": "display_data"
    },
    {
     "name": "stderr",
     "output_type": "stream",
     "text": [
      "No handles with labels found to put in legend.\n"
     ]
    },
    {
     "data": {
      "text/plain": [
       "<matplotlib.axes._subplots.AxesSubplot at 0x1bed1890080>"
      ]
     },
     "execution_count": 66,
     "metadata": {},
     "output_type": "execute_result"
    }
   ],
   "source": [
    "jj79.bpbi(range(108,158+1))"
   ]
  },
  {
   "cell_type": "code",
   "execution_count": 20,
   "metadata": {
    "scrolled": false
   },
   "outputs": [
    {
     "name": "stderr",
     "output_type": "stream",
     "text": [
      "D:\\anaconda\\lib\\site-packages\\numpy\\core\\fromnumeric.py:3257: RuntimeWarning: Mean of empty slice.\n",
      "  out=out, **kwargs)\n",
      "D:\\anaconda\\lib\\site-packages\\numpy\\core\\_methods.py:161: RuntimeWarning: invalid value encountered in double_scalars\n",
      "  ret = ret.dtype.type(ret / rcount)\n"
     ]
    },
    {
     "data": {
      "application/vnd.jupyter.widget-view+json": {
       "model_id": "922deeb2e0b241298fbf211da02185cd",
       "version_major": 2,
       "version_minor": 0
      },
      "text/plain": [
       "FigureCanvasNbAgg()"
      ]
     },
     "metadata": {},
     "output_type": "display_data"
    },
    {
     "name": "stdout",
     "output_type": "stream",
     "text": [
      "148\n"
     ]
    },
    {
     "data": {
      "text/plain": [
       "<matplotlib.legend.Legend at 0x19af8b88f60>"
      ]
     },
     "execution_count": 20,
     "metadata": {},
     "output_type": "execute_result"
    }
   ],
   "source": [
    "jj79.db_connect()\n",
    "ids = range(108,158+1)\n",
    "ZF =  0.004e-3\n",
    "FF =  0.224e-3\n",
    "dF = 0.250e-3\n",
    "\n",
    "jj79.ZF   = ZF\n",
    "jj79.FF   = ZF+FF\n",
    "\n",
    "\n",
    "B = np.arange(ZF, ZF + 1.02*dF, 5e-6)\n",
    "cos = jj79.B_to_cos(B)\n",
    "\n",
    "Ics = [1*extract_Isw_R0_by_id (idx, dy = 50e-6, yoff = -650e-6)[0] for idx in ids]\n",
    "# jj79.Isw_by_id(ids, fullIVC = True, dy = 10e-6, yoff = -650e-6)\n",
    "\n",
    "fig, ax = plt.subplots()\n",
    "ax.plot(abs(cos), Ics, 'o', label = '79 early IVC Bscan')\n",
    "\n",
    "jj85.pbi(738,marker = 'x', axes = ax, label = '85 ')\n",
    "\n",
    "print(ids[40])\n",
    "\n",
    "jj79.pbi(1728, axes = ax, label = '79 hist')\n",
    "\n",
    "ax.legend()\n",
    "\n",
    "# ax.set_xscale('log')\n",
    "# ax.set_yscale('log')"
   ]
  },
  {
   "cell_type": "code",
   "execution_count": 22,
   "metadata": {},
   "outputs": [
    {
     "data": {
      "application/vnd.jupyter.widget-view+json": {
       "model_id": "1dbb3f001dff4fa9919f39a3e4f1bc72",
       "version_major": 2,
       "version_minor": 0
      },
      "text/plain": [
       "FigureCanvasNbAgg()"
      ]
     },
     "metadata": {},
     "output_type": "display_data"
    },
    {
     "name": "stderr",
     "output_type": "stream",
     "text": [
      "No handles with labels found to put in legend.\n"
     ]
    },
    {
     "data": {
      "text/plain": [
       "<matplotlib.axes._subplots.AxesSubplot at 0x19af86ae630>"
      ]
     },
     "execution_count": 22,
     "metadata": {},
     "output_type": "execute_result"
    }
   ],
   "source": [
    "jj79.bpbi(ids)"
   ]
  },
  {
   "cell_type": "code",
   "execution_count": 67,
   "metadata": {},
   "outputs": [],
   "source": [
    "ax.set_xscale('log')\n",
    "ax.set_yscale('log')"
   ]
  },
  {
   "cell_type": "code",
   "execution_count": 21,
   "metadata": {},
   "outputs": [
    {
     "data": {
      "application/vnd.jupyter.widget-view+json": {
       "model_id": "a35cf9acfe4044c7952555c5bda58b50",
       "version_major": 2,
       "version_minor": 0
      },
      "text/plain": [
       "FigureCanvasNbAgg()"
      ]
     },
     "metadata": {},
     "output_type": "display_data"
    },
    {
     "data": {
      "text/plain": [
       "<matplotlib.axes._subplots.AxesSubplot at 0x19af8190898>"
      ]
     },
     "execution_count": 21,
     "metadata": {},
     "output_type": "execute_result"
    }
   ],
   "source": [
    "jj79.pbi(1728)"
   ]
  },
  {
   "cell_type": "code",
   "execution_count": 21,
   "metadata": {},
   "outputs": [
    {
     "data": {
      "application/vnd.jupyter.widget-view+json": {
       "model_id": "be71a247de5349c0a2019106a3c751a0",
       "version_major": 2,
       "version_minor": 0
      },
      "text/plain": [
       "FigureCanvasNbAgg()"
      ]
     },
     "metadata": {},
     "output_type": "display_data"
    },
    {
     "data": {
      "text/plain": [
       "<matplotlib.axes._subplots.AxesSubplot at 0x23eab7dfe80>"
      ]
     },
     "execution_count": 21,
     "metadata": {},
     "output_type": "execute_result"
    }
   ],
   "source": [
    "jj85.pbi(1415, ls = '-')"
   ]
  },
  {
   "cell_type": "code",
   "execution_count": 87,
   "metadata": {},
   "outputs": [
    {
     "data": {
      "text/plain": [
       "[<matplotlib.lines.Line2D at 0x23ebef9f780>]"
      ]
     },
     "execution_count": 87,
     "metadata": {},
     "output_type": "execute_result"
    }
   ],
   "source": [
    "jj85.ZF = -5e-6\n",
    "jj85.FF = 250e-6\n",
    "\n",
    "jj85.db_connect()\n",
    "B, Isw = xy_by_id(1415)\n",
    "cos = jj85.B_to_cos(B)\n",
    "\n",
    "# fig, ax = plt.subplots()\n",
    "ax.plot( abs(cos), Isw, 'x-', label = '85 periodiciy check')"
   ]
  },
  {
   "cell_type": "code",
   "execution_count": 80,
   "metadata": {},
   "outputs": [
    {
     "data": {
      "text/plain": [
       "205.50665798966088"
      ]
     },
     "execution_count": 80,
     "metadata": {},
     "output_type": "execute_result"
    }
   ],
   "source": [
    "jj79.cos_to_B(0.3)*1e6"
   ]
  },
  {
   "cell_type": "code",
   "execution_count": 84,
   "metadata": {},
   "outputs": [
    {
     "name": "stderr",
     "output_type": "stream",
     "text": [
      "D:\\anaconda\\lib\\site-packages\\qcodes\\dataset\\plotting.py:199: RuntimeWarning: More than 20 figures have been opened. Figures created through the pyplot interface (`matplotlib.pyplot.figure`) are retained until explicitly closed and may consume too much memory. (To control this warning, see the rcParam `figure.max_open_warning`).\n",
      "  fig, ax = plt.subplots(1, 1, **subplots_kwargs)\n"
     ]
    },
    {
     "data": {
      "application/vnd.jupyter.widget-view+json": {
       "model_id": "",
       "version_major": 2,
       "version_minor": 0
      },
      "text/plain": [
       "FigureCanvasNbAgg()"
      ]
     },
     "metadata": {},
     "output_type": "display_data"
    },
    {
     "data": {
      "text/plain": [
       "<matplotlib.axes._subplots.AxesSubplot at 0x1bed4ccc048>"
      ]
     },
     "execution_count": 84,
     "metadata": {},
     "output_type": "execute_result"
    }
   ],
   "source": [
    "jj79.pbi(148)"
   ]
  },
  {
   "cell_type": "code",
   "execution_count": 86,
   "metadata": {},
   "outputs": [
    {
     "name": "stderr",
     "output_type": "stream",
     "text": [
      "D:\\anaconda\\lib\\site-packages\\qcodes\\dataset\\plotting.py:199: RuntimeWarning: More than 20 figures have been opened. Figures created through the pyplot interface (`matplotlib.pyplot.figure`) are retained until explicitly closed and may consume too much memory. (To control this warning, see the rcParam `figure.max_open_warning`).\n",
      "  fig, ax = plt.subplots(1, 1, **subplots_kwargs)\n"
     ]
    },
    {
     "data": {
      "application/vnd.jupyter.widget-view+json": {
       "model_id": "",
       "version_major": 2,
       "version_minor": 0
      },
      "text/plain": [
       "FigureCanvasNbAgg()"
      ]
     },
     "metadata": {},
     "output_type": "display_data"
    },
    {
     "name": "stdout",
     "output_type": "stream",
     "text": [
      "6220, cos = 0.30 @T =42.7mK_\n"
     ]
    }
   ],
   "source": [
    "jj79.pbi(1383)\n",
    "print(load_by_run_spec(captured_run_id=1383).exp_name)"
   ]
  },
  {
   "cell_type": "code",
   "execution_count": 92,
   "metadata": {},
   "outputs": [
    {
     "data": {
      "text/plain": [
       "{'station': {'instruments': {'K6220': {'functions': {},\n",
       "    'submodules': {},\n",
       "    '__class__': 'qcodes.instrument_drivers.Keithley.Keithley_6220.Keithley_6220',\n",
       "    'parameters': {'IDN': {'value': {'vendor': 'KEITHLEY INSTRUMENTS INC.',\n",
       "       'model': '6220',\n",
       "       'serial': '1249187',\n",
       "       'firmware': 'A05  /700x'},\n",
       "      'ts': '2019-12-12 19:53:44',\n",
       "      'raw_value': {'vendor': 'KEITHLEY INSTRUMENTS INC.',\n",
       "       'model': '6220',\n",
       "       'serial': '1249187',\n",
       "       'firmware': 'A05  /700x'},\n",
       "      '__class__': 'qcodes.instrument.parameter.Parameter',\n",
       "      'full_name': 'K6220_IDN',\n",
       "      'name': 'IDN',\n",
       "      'instrument': 'qcodes.instrument_drivers.Keithley.Keithley_6220.Keithley_6220',\n",
       "      'instrument_name': 'K6220',\n",
       "      'inter_delay': 0,\n",
       "      'post_delay': 0,\n",
       "      'vals': '<Anything>',\n",
       "      'label': 'IDN',\n",
       "      'unit': ''},\n",
       "     'timeout': {'value': 10.0,\n",
       "      'ts': '2019-12-13 21:21:28',\n",
       "      'raw_value': 10.0,\n",
       "      '__class__': 'qcodes.instrument.parameter.Parameter',\n",
       "      'full_name': 'K6220_timeout',\n",
       "      'name': 'timeout',\n",
       "      'instrument': 'qcodes.instrument_drivers.Keithley.Keithley_6220.Keithley_6220',\n",
       "      'instrument_name': 'K6220',\n",
       "      'inter_delay': 0,\n",
       "      'post_delay': 0,\n",
       "      'vals': '<MultiType: Numbers v>=0, Enum: {None}>',\n",
       "      'label': 'timeout',\n",
       "      'unit': 's'},\n",
       "     'I': {'value': 0,\n",
       "      'ts': '2019-12-13 21:58:22',\n",
       "      'raw_value': 0.0,\n",
       "      '__class__': 'qcodes.instrument.parameter.Parameter',\n",
       "      'full_name': 'K6220_I',\n",
       "      'name': 'I',\n",
       "      'instrument': 'qcodes.instrument_drivers.Keithley.Keithley_6220.Keithley_6220',\n",
       "      'instrument_name': 'K6220',\n",
       "      'inter_delay': 0,\n",
       "      'post_delay': 0,\n",
       "      'vals': '<Numbers -1e-06<=v<=1e-06>',\n",
       "      'label': 'Current',\n",
       "      'unit': 'A'}},\n",
       "    'name': 'K6220',\n",
       "    'address': 'GPIB::13::INSTR',\n",
       "    'terminator': '',\n",
       "    'timeout': 10.0},\n",
       "   'meter': {'functions': {},\n",
       "    'submodules': {},\n",
       "    '__class__': 'qcodes.instrument_drivers.HP.HP34401_DL1201.HP34401_DL1201',\n",
       "    'parameters': {'IDN': {'value': {'vendor': 'HEWLETT-PACKARD',\n",
       "       'model': '34401A',\n",
       "       'serial': '0',\n",
       "       'firmware': '5-1-1'},\n",
       "      'ts': '2019-12-12 19:53:44',\n",
       "      'raw_value': {'vendor': 'HEWLETT-PACKARD',\n",
       "       'model': '34401A',\n",
       "       'serial': '0',\n",
       "       'firmware': '5-1-1'},\n",
       "      '__class__': 'qcodes.instrument.parameter.Parameter',\n",
       "      'full_name': 'meter_IDN',\n",
       "      'name': 'IDN',\n",
       "      'instrument': 'qcodes.instrument_drivers.HP.HP34401_DL1201.HP34401_DL1201',\n",
       "      'instrument_name': 'meter',\n",
       "      'inter_delay': 0,\n",
       "      'post_delay': 0,\n",
       "      'vals': '<Anything>',\n",
       "      'label': 'IDN',\n",
       "      'unit': ''},\n",
       "     'timeout': {'value': 10.0,\n",
       "      'ts': '2019-12-13 21:21:28',\n",
       "      'raw_value': 10.0,\n",
       "      '__class__': 'qcodes.instrument.parameter.Parameter',\n",
       "      'full_name': 'meter_timeout',\n",
       "      'name': 'timeout',\n",
       "      'instrument': 'qcodes.instrument_drivers.HP.HP34401_DL1201.HP34401_DL1201',\n",
       "      'instrument_name': 'meter',\n",
       "      'inter_delay': 0,\n",
       "      'post_delay': 0,\n",
       "      'vals': '<MultiType: Numbers v>=0, Enum: {None}>',\n",
       "      'label': 'timeout',\n",
       "      'unit': 's'},\n",
       "     'Vraw': {'value': -0.05269972,\n",
       "      'ts': '2019-12-12 19:53:44',\n",
       "      'raw_value': '-5.26997200E-02\\n',\n",
       "      '__class__': 'qcodes.instrument.parameter.Parameter',\n",
       "      'full_name': 'meter_Vraw',\n",
       "      'name': 'Vraw',\n",
       "      'instrument': 'qcodes.instrument_drivers.HP.HP34401_DL1201.HP34401_DL1201',\n",
       "      'instrument_name': 'meter',\n",
       "      'inter_delay': 0,\n",
       "      'post_delay': 0,\n",
       "      'label': 'Voltage',\n",
       "      'unit': 'V'},\n",
       "     'V': {'value': -0.00064547,\n",
       "      'ts': '2019-12-13 21:58:20',\n",
       "      'raw_value': '-6.45470000E-02\\n',\n",
       "      '__class__': 'qcodes.instrument.parameter.Parameter',\n",
       "      'full_name': 'meter_V',\n",
       "      'name': 'V',\n",
       "      'instrument': 'qcodes.instrument_drivers.HP.HP34401_DL1201.HP34401_DL1201',\n",
       "      'instrument_name': 'meter',\n",
       "      'inter_delay': 0,\n",
       "      'post_delay': 0,\n",
       "      'label': 'Voltage',\n",
       "      'unit': 'V'}},\n",
       "    'name': 'meter',\n",
       "    'address': 'GPIB0::8::INSTR',\n",
       "    'terminator': '',\n",
       "    'timeout': 10.0}},\n",
       "  'parameters': {},\n",
       "  'components': {},\n",
       "  'default_measurement': []}}"
      ]
     },
     "execution_count": 92,
     "metadata": {},
     "output_type": "execute_result"
    }
   ],
   "source": [
    "exp = load_by_run_spec(captured_run_id=1383)\n",
    "exp.snapshot"
   ]
  },
  {
   "cell_type": "code",
   "execution_count": 102,
   "metadata": {},
   "outputs": [
    {
     "name": "stderr",
     "output_type": "stream",
     "text": [
      "D:\\anaconda\\lib\\site-packages\\qcodes\\dataset\\plotting.py:199: RuntimeWarning: More than 20 figures have been opened. Figures created through the pyplot interface (`matplotlib.pyplot.figure`) are retained until explicitly closed and may consume too much memory. (To control this warning, see the rcParam `figure.max_open_warning`).\n",
      "  fig, ax = plt.subplots(1, 1, **subplots_kwargs)\n"
     ]
    },
    {
     "data": {
      "application/vnd.jupyter.widget-view+json": {
       "model_id": "d7d2862d272d4bb7b6184a0f60921eab",
       "version_major": 2,
       "version_minor": 0
      },
      "text/plain": [
       "FigureCanvasNbAgg()"
      ]
     },
     "metadata": {},
     "output_type": "display_data"
    },
    {
     "name": "stdout",
     "output_type": "stream",
     "text": [
      "keith, cos = 0.20 @T =41.8mK_\n"
     ]
    }
   ],
   "source": [
    "jj79.pbi(1681)\n",
    "print(load_by_run_spec(captured_run_id=1681).exp_name)"
   ]
  },
  {
   "cell_type": "code",
   "execution_count": 8,
   "metadata": {},
   "outputs": [
    {
     "name": "stdout",
     "output_type": "stream",
     "text": [
      "1000 Bscan IVC @T =439.3mK, B = 169.0 µA_\n",
      "1001 Bscan IVC @T =443.6mK, B = 174.0 µA_\n",
      "1002 Bscan IVC @T =445.4mK, B = 179.0 µA_\n",
      "1003 Bscan IVC @T =450.2mK, B = 184.0 µA_\n",
      "1004 Bscan IVC @T =438.8mK, B = 189.0 µA_\n",
      "1005 Bscan IVC @T =449.9mK, B = 194.0 µA_\n",
      "1006 Bscan IVC @T =443.4mK, B = 199.0 µA_\n",
      "1007 Bscan IVC @T =459.2mK, B = 204.0 µA_\n",
      "1008 Bscan IVC @T =457.0mK, B = 209.0 µA_\n",
      "1009 Bscan IVC @T =462.8mK, B = 214.0 µA_\n",
      "1010 Bscan IVC @T =441.9mK, B = 219.0 µA_\n",
      "1011 Bscan IVC @T =438.9mK, B = 224.0 µA_\n",
      "1012 Bscan IVC @T =458.1mK, B = 229.0 µA_\n",
      "1013 Bscan IVC @T =445.1mK, B = 234.0 µA_\n",
      "1014 Bscan IVC @T =452.4mK, B = 239.0 µA_\n",
      "1015 Bscan IVC @T =453.2mK, B = 244.0 µA_\n",
      "1016 Bscan IVC @T =444.3mK, B = 249.0 µA_\n",
      "1017 Bscan IVC @T =453.1mK, B = 254.0 µA_\n",
      "1018 Bscan IVC @T =543.9mK, B = 4.0 µA_\n",
      "1019 Bscan IVC @T =551.3mK, B = 9.0 µA_\n",
      "1020 Bscan IVC @T =552.7mK, B = 14.0 µA_\n",
      "1021 Bscan IVC @T =560.2mK, B = 19.0 µA_\n",
      "1022 Bscan IVC @T =559.2mK, B = 24.0 µA_\n",
      "1023 Bscan IVC @T =547.3mK, B = 29.0 µA_\n",
      "1024 Bscan IVC @T =543.7mK, B = 34.0 µA_\n",
      "1025 Bscan IVC @T =559.2mK, B = 39.0 µA_\n",
      "1026 Bscan IVC @T =533.5mK, B = 44.0 µA_\n",
      "1027 Bscan IVC @T =554.2mK, B = 49.0 µA_\n",
      "1028 Bscan IVC @T =553.6mK, B = 54.0 µA_\n",
      "1029 Bscan IVC @T =539.8mK, B = 59.0 µA_\n",
      "1030 Bscan IVC @T =555.5mK, B = 64.0 µA_\n",
      "1031 Bscan IVC @T =548.0mK, B = 69.0 µA_\n",
      "1032 Bscan IVC @T =543.3mK, B = 74.0 µA_\n",
      "1033 Bscan IVC @T =552.4mK, B = 79.0 µA_\n",
      "1034 Bscan IVC @T =541.6mK, B = 84.0 µA_\n",
      "1035 Bscan IVC @T =550.4mK, B = 89.0 µA_\n",
      "1036 Bscan IVC @T =540.6mK, B = 94.0 µA_\n",
      "1037 Bscan IVC @T =544.7mK, B = 99.0 µA_\n",
      "1038 Bscan IVC @T =551.3mK, B = 104.0 µA_\n",
      "1039 Bscan IVC @T =552.0mK, B = 109.0 µA_\n",
      "1040 Bscan IVC @T =552.1mK, B = 114.0 µA_\n",
      "1041 Bscan IVC @T =554.8mK, B = 119.0 µA_\n",
      "1042 Bscan IVC @T =547.4mK, B = 124.0 µA_\n",
      "1043 Bscan IVC @T =550.8mK, B = 129.0 µA_\n",
      "1044 Bscan IVC @T =550.5mK, B = 134.0 µA_\n",
      "1045 Bscan IVC @T =538.9mK, B = 139.0 µA_\n",
      "1046 Bscan IVC @T =551.8mK, B = 144.0 µA_\n",
      "1047 Bscan IVC @T =535.5mK, B = 149.0 µA_\n",
      "1048 Bscan IVC @T =540.3mK, B = 154.0 µA_\n",
      "1049 Bscan IVC @T =560.8mK, B = 159.0 µA_\n",
      "1050 Bscan IVC @T =543.6mK, B = 164.0 µA_\n",
      "1051 Bscan IVC @T =543.9mK, B = 169.0 µA_\n",
      "1052 Bscan IVC @T =544.4mK, B = 174.0 µA_\n",
      "1053 Bscan IVC @T =553.5mK, B = 179.0 µA_\n",
      "1054 Bscan IVC @T =552.4mK, B = 184.0 µA_\n",
      "1055 Bscan IVC @T =543.1mK, B = 189.0 µA_\n",
      "1056 Bscan IVC @T =551.2mK, B = 194.0 µA_\n",
      "1057 Bscan IVC @T =557.0mK, B = 199.0 µA_\n",
      "1058 Bscan IVC @T =546.4mK, B = 204.0 µA_\n",
      "1059 Bscan IVC @T =562.0mK, B = 209.0 µA_\n",
      "1060 Bscan IVC @T =554.3mK, B = 214.0 µA_\n",
      "1061 Bscan IVC @T =538.3mK, B = 219.0 µA_\n",
      "1062 Bscan IVC @T =550.4mK, B = 224.0 µA_\n",
      "1063 Bscan IVC @T =539.2mK, B = 229.0 µA_\n",
      "1064 Bscan IVC @T =554.3mK, B = 234.0 µA_\n",
      "1065 Bscan IVC @T =547.6mK, B = 239.0 µA_\n",
      "1066 Bscan IVC @T =562.2mK, B = 244.0 µA_\n",
      "1067 Bscan IVC @T =545.4mK, B = 249.0 µA_\n",
      "1068 Bscan IVC @T =548.2mK, B = 254.0 µA_\n",
      "1069 Bscan IVC @T =651.6mK, B = 4.0 µA_\n",
      "1070 Bscan IVC @T =648.9mK, B = 9.0 µA_\n",
      "1071 Bscan IVC @T =636.7mK, B = 14.0 µA_\n",
      "1072 Bscan IVC @T =650.2mK, B = 19.0 µA_\n",
      "1073 Bscan IVC @T =641.8mK, B = 24.0 µA_\n",
      "1074 Bscan IVC @T =651.2mK, B = 29.0 µA_\n",
      "1075 Bscan IVC @T =646.9mK, B = 34.0 µA_\n",
      "1076 Bscan IVC @T =669.3mK, B = 39.0 µA_\n",
      "1077 Bscan IVC @T =641.2mK, B = 44.0 µA_\n",
      "1078 Bscan IVC @T =657.6mK, B = 49.0 µA_\n",
      "1079 Bscan IVC @T =645.9mK, B = 54.0 µA_\n",
      "1080 Bscan IVC @T =661.8mK, B = 59.0 µA_\n",
      "1081 Bscan IVC @T =639.0mK, B = 64.0 µA_\n",
      "1082 Bscan IVC @T =648.0mK, B = 69.0 µA_\n",
      "1083 Bscan IVC @T =644.0mK, B = 74.0 µA_\n",
      "1084 Bscan IVC @T =648.5mK, B = 79.0 µA_\n",
      "1085 Bscan IVC @T =648.3mK, B = 84.0 µA_\n",
      "1086 Bscan IVC @T =653.8mK, B = 89.0 µA_\n",
      "1087 Bscan IVC @T =646.7mK, B = 94.0 µA_\n",
      "1088 Bscan IVC @T =657.8mK, B = 99.0 µA_\n",
      "1089 Bscan IVC @T =661.1mK, B = 104.0 µA_\n",
      "1090 Bscan IVC @T =658.2mK, B = 109.0 µA_\n",
      "1091 Bscan IVC @T =650.3mK, B = 114.0 µA_\n",
      "1092 Bscan IVC @T =663.6mK, B = 119.0 µA_\n",
      "1093 Bscan IVC @T =667.8mK, B = 124.0 µA_\n",
      "1094 Bscan IVC @T =657.7mK, B = 129.0 µA_\n",
      "1095 Bscan IVC @T =634.3mK, B = 134.0 µA_\n",
      "1096 Bscan IVC @T =636.0mK, B = 139.0 µA_\n",
      "1097 Bscan IVC @T =664.3mK, B = 144.0 µA_\n",
      "1098 Bscan IVC @T =642.6mK, B = 149.0 µA_\n",
      "1099 Bscan IVC @T =673.7mK, B = 154.0 µA_\n",
      "1100 Bscan IVC @T =663.9mK, B = 159.0 µA_\n",
      "1101 Bscan IVC @T =638.3mK, B = 164.0 µA_\n",
      "1102 Bscan IVC @T =635.4mK, B = 169.0 µA_\n",
      "1103 Bscan IVC @T =638.8mK, B = 174.0 µA_\n",
      "1104 Bscan IVC @T =660.8mK, B = 179.0 µA_\n",
      "1105 Bscan IVC @T =659.7mK, B = 184.0 µA_\n",
      "1106 Bscan IVC @T =641.5mK, B = 189.0 µA_\n",
      "1107 Bscan IVC @T =655.8mK, B = 194.0 µA_\n",
      "1108 Bscan IVC @T =645.2mK, B = 199.0 µA_\n",
      "1109 Bscan IVC @T =660.9mK, B = 204.0 µA_\n",
      "1110 Bscan IVC @T =651.7mK, B = 209.0 µA_\n",
      "1111 Bscan IVC @T =645.0mK, B = 214.0 µA_\n",
      "1112 Bscan IVC @T =676.9mK, B = 219.0 µA_\n",
      "1113 Bscan IVC @T =626.3mK, B = 224.0 µA_\n",
      "1114 Bscan IVC @T =648.8mK, B = 229.0 µA_\n",
      "1115 Bscan IVC @T =635.1mK, B = 234.0 µA_\n",
      "1116 Bscan IVC @T =653.6mK, B = 239.0 µA_\n",
      "1117 Bscan IVC @T =659.8mK, B = 244.0 µA_\n",
      "1118 Bscan IVC @T =651.1mK, B = 249.0 µA_\n",
      "1119 Bscan IVC @T =660.9mK, B = 254.0 µA_\n",
      "1120 IVC @T =43.5mK_\n",
      "1121 IVC @T =43.4mK_\n",
      "1122 IVC @T =43.4mK_\n",
      "1123 IVC @T =43.6mK_\n",
      "1124 IVC @T =43.7mK_\n",
      "1125 IVC @T =43.7mK_\n",
      "1126 IVC @T =43.6mK_\n",
      "1127 IVC @T =43.8mK_\n",
      "1128 IVC @T =43.6mK_\n",
      "1129 IVC @T =43.6mK_\n",
      "1130 IVC @T =43.5mK_\n",
      "1131 IVC @T =43.6mK_\n",
      "1132 IVC @T =43.2mK_\n",
      "1133 IVC @T =43.5mK_\n",
      "1134 IVC @T =43.9mK_\n",
      "1135 IVC @T =43.6mK_\n",
      "1136 IVC @T =43.6mK_\n",
      "1137 IVC @T =43.6mK_\n",
      "1138 IVC @T =43.8mK_\n",
      "1139 IVC @T =43.7mK_\n",
      "1140 IVC @T =43.6mK_\n",
      "1141 IVC @T =43.5mK_\n",
      "1142 IVC @T =43.7mK_\n",
      "1143 IVC @T =43.8mK_\n",
      "1144 IVC @T =43.8mK_\n",
      "1145 IVC @T =43.6mK_\n",
      "1146 IVC @T =43.8mK_\n",
      "1147 IVC @T =43.5mK_\n",
      "1148 IVC @T =43.7mK_\n",
      "1149 IVC @T =43.7mK_\n",
      "1150 IVC @T =43.5mK_\n",
      "1151 IVC @T =44.0mK_\n",
      "1152 IVC @T =43.6mK_\n",
      "1153 IVC @T =43.9mK_\n",
      "1154 IVC @T =43.9mK_\n",
      "1155 IVC @T =44.0mK_\n",
      "1156 IVC @T =44.3mK_\n",
      "1157 IVC @T =44.1mK_\n",
      "1158 IVC @T =43.9mK_\n",
      "1159 IVC @T =44.0mK_\n",
      "1160 IVC @T =44.2mK_\n",
      "1161 IVC @T =43.9mK_\n",
      "1162 IVC @T =44.2mK_\n",
      "1163 IVC @T =44.0mK_\n",
      "1164 IVC @T =44.1mK_\n",
      "1165 IVC @T =44.1mK_\n",
      "1166 IVC @T =43.8mK_\n",
      "1167 IVC @T =44.1mK_\n",
      "1168 IVC @T =43.6mK_\n",
      "1169 IVC @T =44.1mK_\n",
      "1170 IVC @T =44.0mK_\n",
      "1171 IVC @T =44.0mK_\n",
      "1172 IVC @T =44.2mK_\n",
      "1173 IVC @T =44.1mK_\n",
      "1174 IVC @T =44.0mK_\n",
      "1175 IVC @T =44.0mK_\n",
      "1176 IVC @T =43.9mK_\n",
      "1177 IVC @T =44.0mK_\n",
      "1178 IVC @T =44.0mK_\n",
      "1179 IVC @T =43.9mK_\n",
      "1180 IVC @T =44.0mK_\n",
      "1181 IVC @T =44.0mK_\n",
      "1182 IVC @T =44.2mK_\n",
      "1183 IVC for hist @T =43.6mK_\n",
      "1184 IVC for hist @T =43.5mK_\n",
      "1185 IVC for hist @T =43.7mK_\n",
      "1186 IVC for hist @T =43.8mK_\n",
      "1187 IVC for hist @T =43.7mK_\n",
      "1188 IVC for hist @T =43.7mK_\n",
      "1189 Histogram @T =43.8mK_\n",
      "1190 Isw for Histogram @T =43.8mK_\n",
      "1191 IVC for hist @T =43.8mK_\n",
      "1192 Isw for Histogram dI = 2nA @T =43.5mK_\n",
      "1193 IVC for hist @T =43.5mK_\n",
      "1194 Isw for Histogram dI = 1nA @T =43.6mK_\n",
      "1195 IVC for hist @T =43.9mK_\n",
      "1196 Isw for Histogram dI = 1nA @T =44.2mK_\n",
      "1197 IVC for hist @T =44.0mK_\n",
      "1198 Isw for Histogram dI = 1nA @T =44.3mK_\n",
      "1199 IVC for hist @T =100.7mK_\n",
      "1200 IVC for hist @T =99.2mK_\n",
      "1201 IVC for hist @T =100.2mK_\n",
      "1202 IVC for hist @T =99.7mK_\n",
      "1203 IVC for hist @T =100.9mK_\n",
      "1204 Isw for Histogram dI = 1nA @T =100.5mK_\n",
      "1205 IVC for hist @T =151.1mK_\n",
      "1206 Isw for Histogram dI = 1nA @T =151.2mK_\n",
      "1207 IVC for hist @T =198.7mK_\n",
      "1208 Isw for Histogram dI = 1nA @T =201.9mK_\n",
      "1209 IVC for hist @T =248.1mK_\n",
      "1210 Isw for Histogram dI = 1nA @T =249.4mK_\n",
      "1211 IVC for hist @T =296.7mK_\n",
      "1212 Isw for Histogram dI = 1nA @T =304.2mK_\n",
      "1213 IVC for hist @T =200.3mK_\n",
      "1214 IVC for hist @T =199.0mK_\n",
      "1215 IVC for hist @T =199.7mK_\n",
      "1216 Isw for Histogram dI = .2nA @T =198.4mK_\n",
      "1217 IVc @T=99.7 mK, B=-62.942 nA_\n",
      "1218 IVc @T=78.8 mK, B=-67.949 nA_\n",
      "1219 Isw for Histogram dI = .2nA @T =45.0mK_\n",
      "1220 Isw for Histogram dI = .2nA @T =44.0mK_\n",
      "1221 IVc @T=43.8 mK, B=-68.903 nA_\n",
      "1222 Isw for Histogram dI = .2nA @T =43.8mK_\n",
      "1223 Isw for Histogram dI = .2nA @T =43.9mK_\n",
      "1224 Isw for Histogram dI = .2nA @T =43.6mK_\n",
      "1225 Isw for Histogram dI = .2nA @T =43.8mK_\n",
      "1226 Isw for Histogram dI = .2nA @T =44.1mK_\n",
      "1227 IVc @T=44.4 mK, B=-69.618 nA_\n",
      "1228 IVc @T=43.9 mK, B=-66.876 nA_\n",
      "1229 IVc @T=44.0 mK, B=-63.658 nA_\n",
      "1230 IVc @T=44.1 mK, B=-64.969 nA_\n",
      "1231 IVc @T=44.3 mK, B=-65.684 nA_\n",
      "1232 Bscan IVC @T =50.4mK, B = 4.0 µA_\n",
      "1233 Bscan IVC @T =50.4mK, B = 9.0 µA_\n",
      "1234 Bscan IVC @T =50.2mK, B = 4.0 µA_\n",
      "1235 Bscan IVC @T =50.3mK, B = 14.0 µA_\n",
      "1236 Bscan IVC @T =50.2mK, B = 24.0 µA_\n",
      "1237 Bscan IVC @T =50.2mK, B = 34.0 µA_\n",
      "1238 Bscan IVC @T =50.0mK, B = 44.0 µA_\n",
      "1239 Bscan IVC @T =50.4mK, B = 54.0 µA_\n",
      "1240 Bscan IVC @T =50.0mK, B = 64.0 µA_\n",
      "1241 Bscan IVC @T =50.3mK, B = 74.0 µA_\n",
      "1242 Bscan IVC @T =50.1mK, B = 84.0 µA_\n",
      "1243 Bscan IVC @T =50.0mK, B = 94.0 µA_\n",
      "1244 Bscan IVC @T =50.1mK, B = 104.0 µA_\n",
      "1245 Bscan IVC @T =50.5mK, B = 114.0 µA_\n",
      "1246 Bscan IVC @T =50.0mK, B = 124.0 µA_\n",
      "1247 Bscan IVC @T =50.3mK, B = 134.0 µA_\n",
      "1248 Bscan IVC @T =50.2mK, B = 144.0 µA_\n",
      "1249 Bscan IVC @T =50.3mK, B = 154.0 µA_\n",
      "1250 Bscan IVC @T =50.7mK, B = 164.0 µA_\n",
      "1251 Bscan IVC @T =50.3mK, B = 174.0 µA_\n",
      "1252 Bscan IVC @T =50.0mK, B = 184.0 µA_\n",
      "1253 Bscan IVC @T =50.3mK, B = 194.0 µA_\n",
      "1254 Bscan IVC @T =50.5mK, B = 204.0 µA_\n",
      "1255 Bscan IVC @T =50.2mK, B = 214.0 µA_\n",
      "1256 Bscan IVC @T =50.3mK, B = 224.0 µA_\n",
      "1257 Bscan IVC @T =50.4mK, B = 234.0 µA_\n",
      "1258 Bscan IVC @T =50.2mK, B = 244.0 µA_\n",
      "1259 Bscan IVC @T =50.3mK, B = 254.0 µA_\n",
      "1260 Bscan IVC @T =50.3mK, B = 264.0 µA_\n",
      "1261 Bscan IVC @T =50.1mK, B = 274.0 µA_\n",
      "1262 Bscan IVC @T =50.3mK, B = 284.0 µA_\n",
      "1263 Bscan IVC @T =50.4mK, B = 294.0 µA_\n",
      "1264 Bscan IVC @T =50.4mK, B = 304.0 µA_\n",
      "1265 Bscan IVC @T =50.9mK, B = 314.0 µA_\n",
      "1266 Bscan IVC @T =50.1mK, B = 324.0 µA_\n",
      "1267 Bscan IVC @T =50.3mK, B = 334.0 µA_\n",
      "1268 Bscan IVC @T =50.2mK, B = 344.0 µA_\n",
      "1269 Bscan IVC @T =49.6mK, B = 354.0 µA_\n",
      "1270 Bscan IVC @T =50.1mK, B = 364.0 µA_\n",
      "1271 Bscan IVC @T =49.9mK, B = 374.0 µA_\n",
      "1272 Bscan IVC @T =50.0mK, B = 384.0 µA_\n",
      "1273 Bscan IVC @T =50.3mK, B = 394.0 µA_\n",
      "1274 Bscan IVC @T =50.3mK, B = 404.0 µA_\n",
      "1275 Bscan IVC @T =50.0mK, B = 414.0 µA_\n",
      "1276 Bscan IVC @T =49.9mK, B = 424.0 µA_\n",
      "1277 Bscan IVC @T =50.3mK, B = 434.0 µA_\n",
      "1278 Bscan IVC @T =50.3mK, B = 444.0 µA_\n",
      "1279 Bscan IVC @T =50.2mK, B = 454.0 µA_\n",
      "1280 Bscan IVC @T =50.0mK, B = 464.0 µA_\n",
      "1281 Bscan IVC @T =50.2mK, B = 474.0 µA_\n",
      "1282 Bscan IVC @T =50.4mK, B = 484.0 µA_\n",
      "1283 Bscan IVC @T =50.0mK, B = 494.0 µA_\n",
      "1284 Bscan IVC @T =50.2mK, B = 504.0 µA_\n",
      "1285 hyst test 6220 cos = 1.00 @T =50.1mK_\n",
      "1286 hyst test 6220 cos = 0.70 @T =50.0mK_\n",
      "1287 hyst test 6220 cos = 0.30 @T =50.2mK_\n",
      "1288 hyst test 6220 cos = 1.00 @T =50.0mK_\n",
      "1289 hyst test 6220 cos = 1.00 @T =50.6mK_\n",
      "1290 hyst test 6220 cos = 1.00 @T =50.5mK_\n",
      "1291 hyst test 6220 cos = 1.00 @T =50.4mK_\n",
      "1292 test 6220, cos = 0.30 @T =50.1mK_\n",
      "1293 test 6220, cos = 0.20 @T =50.2mK_\n",
      "1294 test 6220, cos = 0.10 @T =50.1mK_\n",
      "1295 test 6220, cos = 1.00 @T =50.1mK_\n",
      "1296 test 6220, cos = 0.30 @T =49.9mK_\n",
      "1297 test 6220, cos = 0.20 @T =50.2mK_\n",
      "1298 test 6220, cos = 1.00 @T =50.3mK_\n",
      "1299 test 6220, cos = 0.30 @T =50.5mK_\n"
     ]
    }
   ],
   "source": [
    "for idx in range(1000, 1300):\n",
    "    print(idx , load_by_run_spec(captured_run_id=idx).exp_name)"
   ]
  },
  {
   "cell_type": "code",
   "execution_count": 91,
   "metadata": {
    "scrolled": true
   },
   "outputs": [
    {
     "name": "stdout",
     "output_type": "stream",
     "text": [
      "1600 cos = 0.15_\n",
      "1601 cos = 0.15_\n",
      "1602 cos = 0.15_\n",
      "1603 cos = 0.15_\n",
      "1604 cos = 0.12_\n",
      "1605 cos = 0.10_\n",
      "1606 cos = 0.07_\n",
      "1607 cos = 0.05_\n",
      "1608 cos = 0.03_\n",
      "1609 cos = 0.00_\n",
      "1610 cos = 0.00_\n",
      "1611 cos = 0.00_\n",
      "1612 cos = 0.00_\n",
      "1613 cos = 0.00_\n",
      "1614 cos = 0.00_\n",
      "1615 cos = 0.00_\n",
      "1616 cos = 0.00_\n",
      "1617 cos = 0.00_\n",
      "1618 cos = 0.00_\n",
      "1619 cos = 0.00_\n",
      "1620 cos = 0.00_\n",
      "1621 cos = 0.00_\n",
      "1622 cos = 0.00_\n",
      "1623 cos = 0.00_\n",
      "1624 cos = 0.00_\n",
      "1625 B = 0 uA_\n",
      "1626 B = 20 uA_\n",
      "1627 B = 40 uA_\n",
      "1628 B = 60 uA_\n",
      "1629 B = 80 uA_\n",
      "1630 B = 100 uA_\n",
      "1631 B = 120 uA_\n",
      "1632 B = 140 uA_\n",
      "1633 B = 160 uA_\n",
      "1634 B = 180 uA_\n",
      "1635 B = 200 uA_\n",
      "1636 B = 220 uA_\n",
      "1637 B = 240 uA_\n",
      "1638 B = 260 uA_\n",
      "1639 B = 280 uA_\n",
      "1640 B = 300 uA_\n",
      "1641 B = 320 uA_\n",
      "1642 B = 340 uA_\n",
      "1643 B = 360 uA_\n",
      "1644 B = 380 uA_\n",
      "1645 B = 400 uA_\n",
      "1646 B = 420 uA_\n",
      "1647 B = 440 uA_\n",
      "1648 B = 460 uA_\n",
      "1649 B = 480 uA_\n",
      "1650 B = 500 uA_\n",
      "1651 B = 520 uA_\n",
      "1652 B = 540 uA_\n",
      "1653 B = 560 uA_\n",
      "1654 B = 580 uA_\n",
      "1655 B = 600 uA_\n",
      "1656 B = 620 uA_\n",
      "1657 B = 208 uA_\n",
      "1658 B = 208 uA_\n",
      "1659 B = 208 uA_\n",
      "1660 B = 208 uA_\n",
      "1661 B = 208 uA_\n",
      "1662 B = 208 uA_\n",
      "1663 B = 212 uA_\n",
      "1664 B = 215 uA_\n",
      "1665 B = 219 uA_\n",
      "1666 B = 223 uA_\n",
      "1667 B = 226 uA_\n",
      "1668 B = 230 uA_\n",
      "1669 cos = 0.30 uA_\n",
      "1670 cos = 0.27 uA_\n",
      "1671 cos = 0.25 uA_\n",
      "1672 cos = 0.22 uA_\n",
      "1673 cos = 0.20 uA_\n",
      "1674 cos = 0.17 uA_\n",
      "1675 cos = 0.15 uA_\n",
      "1676 cos = 0.15 uA_\n",
      "1677 keith, cos = 0.10 @T =42.3mK_\n",
      "1678 keith, cos = 0.12 @T =42.5mK_\n",
      "1679 keith, cos = 0.15 @T =42.5mK_\n",
      "1680 keith, cos = 0.17 @T =42.1mK_\n",
      "1681 keith, cos = 0.20 @T =41.8mK_\n",
      "1682 cos = 0.15 uA_\n",
      "1683 cos = 0.15 uA_\n",
      "1684 cos = 0.15 uA_\n",
      "1685 cos = 0.15 uA_\n",
      "1686 cos = -0.15 uA_\n",
      "1687 B = 215.00 uA_\n",
      "1688 B = 218.00 uA_\n",
      "1689 B = 221.00 uA_\n",
      "1690 B = 224.00 uA_\n",
      "1691 B = 227.00 uA_\n",
      "1692 B = 230.00 uA_\n",
      "1693 B = 233.00 uA_\n",
      "1694 B = 236.00 uA_\n",
      "1695 B = 239.00 uA_\n",
      "1696 B = 242.00 uA_\n",
      "1697 B = 245.00 uA_\n",
      "1698 B = 224.00 uA_\n",
      "1699 B = 230.00 uA_\n"
     ]
    }
   ],
   "source": [
    "for idx in range(1600, 1700):\n",
    "    print(idx , load_by_run_spec(captured_run_id=idx).exp_name)"
   ]
  },
  {
   "cell_type": "markdown",
   "metadata": {},
   "source": [
    "## IVC hist B = 174"
   ]
  },
  {
   "cell_type": "code",
   "execution_count": 62,
   "metadata": {},
   "outputs": [
    {
     "data": {
      "text/plain": [
       "0.48175367410171516"
      ]
     },
     "execution_count": 62,
     "metadata": {},
     "output_type": "execute_result"
    }
   ],
   "source": [
    "jj79.B_to_cos(174e-6)"
   ]
  },
  {
   "cell_type": "code",
   "execution_count": 82,
   "metadata": {},
   "outputs": [
    {
     "name": "stderr",
     "output_type": "stream",
     "text": [
      "e:\\OneDrive - Rutgers University\\files_GitHub\\JJ_arrays\\JJ_data_processing.py:165: RuntimeWarning: More than 20 figures have been opened. Figures created through the pyplot interface (`matplotlib.pyplot.figure`) are retained until explicitly closed and may consume too much memory. (To control this warning, see the rcParam `figure.max_open_warning`).\n",
      "  fig, ax = plt.subplots()\n"
     ]
    },
    {
     "data": {
      "application/vnd.jupyter.widget-view+json": {
       "model_id": "",
       "version_major": 2,
       "version_minor": 0
      },
      "text/plain": [
       "FigureCanvasNbAgg()"
      ]
     },
     "metadata": {},
     "output_type": "display_data"
    },
    {
     "name": "stdout",
     "output_type": "stream",
     "text": [
      "1499 Bscan IVC @T =50.5mK, B = 174.0 µA_\n"
     ]
    }
   ],
   "source": [
    "ax = jj79.bpbi([142, 1251, 1457], labels = ['B = 174', 'B = 174', 'B = 174'])\n",
    "ax.legend()\n",
    "print(idx , load_by_run_spec(captured_run_id=142).exp_name)"
   ]
  },
  {
   "cell_type": "code",
   "execution_count": 49,
   "metadata": {},
   "outputs": [
    {
     "name": "stderr",
     "output_type": "stream",
     "text": [
      "D:\\anaconda\\lib\\site-packages\\qcodes\\dataset\\plotting.py:199: RuntimeWarning: More than 20 figures have been opened. Figures created through the pyplot interface (`matplotlib.pyplot.figure`) are retained until explicitly closed and may consume too much memory. (To control this warning, see the rcParam `figure.max_open_warning`).\n",
      "  fig, ax = plt.subplots(1, 1, **subplots_kwargs)\n"
     ]
    },
    {
     "data": {
      "application/vnd.jupyter.widget-view+json": {
       "model_id": "",
       "version_major": 2,
       "version_minor": 0
      },
      "text/plain": [
       "FigureCanvasNbAgg()"
      ]
     },
     "metadata": {},
     "output_type": "display_data"
    },
    {
     "data": {
      "text/plain": [
       "<matplotlib.legend.Legend at 0x1d0b04c2710>"
      ]
     },
     "execution_count": 49,
     "metadata": {},
     "output_type": "execute_result"
    }
   ],
   "source": [
    "ax = jj79.pbi(1449, label = 'B = 172')\n",
    "ax.legend()"
   ]
  },
  {
   "cell_type": "markdown",
   "metadata": {},
   "source": [
    "## IVC hist B = 70"
   ]
  },
  {
   "cell_type": "code",
   "execution_count": 57,
   "metadata": {},
   "outputs": [
    {
     "name": "stderr",
     "output_type": "stream",
     "text": [
      "D:\\anaconda\\lib\\site-packages\\qcodes\\dataset\\plotting.py:199: RuntimeWarning: More than 20 figures have been opened. Figures created through the pyplot interface (`matplotlib.pyplot.figure`) are retained until explicitly closed and may consume too much memory. (To control this warning, see the rcParam `figure.max_open_warning`).\n",
      "  fig, ax = plt.subplots(1, 1, **subplots_kwargs)\n"
     ]
    },
    {
     "data": {
      "application/vnd.jupyter.widget-view+json": {
       "model_id": "",
       "version_major": 2,
       "version_minor": 0
      },
      "text/plain": [
       "FigureCanvasNbAgg()"
      ]
     },
     "metadata": {},
     "output_type": "display_data"
    },
    {
     "data": {
      "text/plain": [
       "<matplotlib.legend.Legend at 0x1d0b13c50b8>"
      ]
     },
     "execution_count": 57,
     "metadata": {},
     "output_type": "execute_result"
    }
   ],
   "source": [
    "ax = jj79.pbi(121, label = 'B = 70')\n",
    "ax.legend()"
   ]
  },
  {
   "cell_type": "code",
   "execution_count": 56,
   "metadata": {},
   "outputs": [
    {
     "name": "stderr",
     "output_type": "stream",
     "text": [
      "D:\\anaconda\\lib\\site-packages\\qcodes\\dataset\\plotting.py:199: RuntimeWarning: More than 20 figures have been opened. Figures created through the pyplot interface (`matplotlib.pyplot.figure`) are retained until explicitly closed and may consume too much memory. (To control this warning, see the rcParam `figure.max_open_warning`).\n",
      "  fig, ax = plt.subplots(1, 1, **subplots_kwargs)\n"
     ]
    },
    {
     "data": {
      "application/vnd.jupyter.widget-view+json": {
       "model_id": "",
       "version_major": 2,
       "version_minor": 0
      },
      "text/plain": [
       "FigureCanvasNbAgg()"
      ]
     },
     "metadata": {},
     "output_type": "display_data"
    },
    {
     "data": {
      "text/plain": [
       "<matplotlib.legend.Legend at 0x1d0b13fbb38>"
      ]
     },
     "execution_count": 56,
     "metadata": {},
     "output_type": "execute_result"
    }
   ],
   "source": [
    "ax = jj79.pbi(1444, label = 'B = 70')\n",
    "ax.legend()"
   ]
  },
  {
   "cell_type": "markdown",
   "metadata": {},
   "source": [
    "## 79N6 periodicy"
   ]
  },
  {
   "cell_type": "code",
   "execution_count": 10,
   "metadata": {},
   "outputs": [
    {
     "data": {
      "application/vnd.jupyter.widget-view+json": {
       "model_id": "12f169fb8e58456db7bc4ccac728a37f",
       "version_major": 2,
       "version_minor": 0
      },
      "text/plain": [
       "FigureCanvasNbAgg()"
      ]
     },
     "metadata": {},
     "output_type": "display_data"
    },
    {
     "name": "stderr",
     "output_type": "stream",
     "text": [
      "No handles with labels found to put in legend.\n"
     ]
    },
    {
     "data": {
      "text/plain": [
       "<matplotlib.axes._subplots.AxesSubplot at 0x23eab89bd68>"
      ]
     },
     "execution_count": 10,
     "metadata": {},
     "output_type": "execute_result"
    }
   ],
   "source": [
    "ids = range(1234, 1284+1)\n",
    "\n",
    "jj79.bpbi(ids)"
   ]
  },
  {
   "cell_type": "code",
   "execution_count": 16,
   "metadata": {},
   "outputs": [
    {
     "data": {
      "text/plain": [
       "0.00022799999999999999"
      ]
     },
     "execution_count": 16,
     "metadata": {},
     "output_type": "execute_result"
    }
   ],
   "source": [
    "jj79.FF"
   ]
  },
  {
   "cell_type": "code",
   "execution_count": 19,
   "metadata": {},
   "outputs": [
    {
     "name": "stderr",
     "output_type": "stream",
     "text": [
      "D:\\anaconda\\lib\\site-packages\\numpy\\core\\fromnumeric.py:3257: RuntimeWarning: Mean of empty slice.\n",
      "  out=out, **kwargs)\n",
      "D:\\anaconda\\lib\\site-packages\\numpy\\core\\_methods.py:161: RuntimeWarning: invalid value encountered in double_scalars\n",
      "  ret = ret.dtype.type(ret / rcount)\n"
     ]
    },
    {
     "name": "stdout",
     "output_type": "stream",
     "text": [
      "len is zero\n"
     ]
    },
    {
     "data": {
      "application/vnd.jupyter.widget-view+json": {
       "model_id": "1779525139de4a3581d7521aa82f217b",
       "version_major": 2,
       "version_minor": 0
      },
      "text/plain": [
       "FigureCanvasNbAgg()"
      ]
     },
     "metadata": {},
     "output_type": "display_data"
    },
    {
     "data": {
      "text/plain": [
       "[<matplotlib.lines.Line2D at 0x23eadd2fa58>]"
      ]
     },
     "execution_count": 19,
     "metadata": {},
     "output_type": "execute_result"
    }
   ],
   "source": [
    "\n",
    "\n",
    "\n",
    "B = np.arange(4e-6, 514e-6, 10e-6)\n",
    "cos = jj79.B_to_cos(B)\n",
    "\n",
    "Ics = [1*extract_Isw_R0_by_id (idx, dy = 30e-6, yoff = -576e-6)[0] for idx in ids]\n",
    "# jj79.Isw_by_id(ids, fullIVC = True, dy = 10e-6, yoff = -650e-6)\n",
    "\n",
    "fig, ax = plt.subplots()\n",
    "ax.plot(abs(cos), Ics, 'o')\n",
    "\n",
    "# jj85.pbi(738, axes = ax)\n",
    "\n",
    "# print(ids[40])\n",
    "\n",
    "# jj79.pbi(1728, axes = ax)\n",
    "\n",
    "# ax.set_xscale('log')\n",
    "# ax.set_yscale('log')"
   ]
  },
  {
   "cell_type": "code",
   "execution_count": null,
   "metadata": {},
   "outputs": [],
   "source": [
    "jj.pbi(1726)"
   ]
  },
  {
   "cell_type": "markdown",
   "metadata": {},
   "source": [
    "# sandbox"
   ]
  },
  {
   "cell_type": "code",
   "execution_count": 87,
   "metadata": {},
   "outputs": [
    {
     "name": "stderr",
     "output_type": "stream",
     "text": [
      "e:\\OneDrive - Rutgers University\\files_GitHub\\JJ_arrays\\JJ_data_processing.py:165: RuntimeWarning: More than 20 figures have been opened. Figures created through the pyplot interface (`matplotlib.pyplot.figure`) are retained until explicitly closed and may consume too much memory. (To control this warning, see the rcParam `figure.max_open_warning`).\n",
      "  fig, ax = plt.subplots()\n"
     ]
    },
    {
     "data": {
      "application/vnd.jupyter.widget-view+json": {
       "model_id": "2a853f4751154c7891a17ea0278801d5",
       "version_major": 2,
       "version_minor": 0
      },
      "text/plain": [
       "FigureCanvasNbAgg()"
      ]
     },
     "metadata": {},
     "output_type": "display_data"
    },
    {
     "name": "stderr",
     "output_type": "stream",
     "text": [
      "No handles with labels found to put in legend.\n"
     ]
    },
    {
     "data": {
      "text/plain": [
       "<matplotlib.axes._subplots.AxesSubplot at 0x29c78b1ce10>"
      ]
     },
     "execution_count": 87,
     "metadata": {},
     "output_type": "execute_result"
    }
   ],
   "source": []
  },
  {
   "cell_type": "code",
   "execution_count": 251,
   "metadata": {},
   "outputs": [
    {
     "data": {
      "text/plain": [
       "0.00021999999999999998"
      ]
     },
     "execution_count": 251,
     "metadata": {},
     "output_type": "execute_result"
    }
   ],
   "source": [
    "jj70N7.ZF = -.002e-3\n",
    "jj70N7.FF = .220e-3\n",
    "\n",
    "jj70N7.cos_to_B(0.0)"
   ]
  },
  {
   "cell_type": "code",
   "execution_count": 226,
   "metadata": {},
   "outputs": [
    {
     "name": "stderr",
     "output_type": "stream",
     "text": [
      "D:\\anaconda\\lib\\site-packages\\ipykernel_launcher.py:1: RuntimeWarning: More than 20 figures have been opened. Figures created through the pyplot interface (`matplotlib.pyplot.figure`) are retained until explicitly closed and may consume too much memory. (To control this warning, see the rcParam `figure.max_open_warning`).\n",
      "  \"\"\"Entry point for launching an IPython kernel.\n"
     ]
    },
    {
     "data": {
      "application/vnd.jupyter.widget-view+json": {
       "model_id": "02a0cbcffded4b7b925e7ce061ca1d48",
       "version_major": 2,
       "version_minor": 0
      },
      "text/plain": [
       "FigureCanvasNbAgg()"
      ]
     },
     "metadata": {},
     "output_type": "display_data"
    },
    {
     "name": "stderr",
     "output_type": "stream",
     "text": [
      "D:\\anaconda\\lib\\site-packages\\numpy\\core\\fromnumeric.py:3118: RuntimeWarning: Mean of empty slice.\n",
      "  out=out, **kwargs)\n",
      "D:\\anaconda\\lib\\site-packages\\numpy\\core\\_methods.py:85: RuntimeWarning: invalid value encountered in double_scalars\n",
      "  ret = ret.dtype.type(ret / rcount)\n"
     ]
    },
    {
     "name": "stdout",
     "output_type": "stream",
     "text": [
      "len is zero\n",
      "len is zero\n",
      "len is zero\n",
      "len is zero\n",
      "len is zero\n",
      "len is zero\n",
      "len is zero\n",
      "len is zero\n"
     ]
    },
    {
     "data": {
      "text/plain": [
       "[<matplotlib.lines.Line2D at 0x2069f242d30>]"
      ]
     },
     "execution_count": 226,
     "metadata": {},
     "output_type": "execute_result"
    }
   ],
   "source": [
    "fig, ax = plt.subplots()\n",
    "    \n",
    "jj70N7.db_connect()\n",
    "\n",
    "jj70N7.ZF = 4e-6\n",
    "jj70N7.FF = 224e-6\n",
    "\n",
    "\n",
    "B_list = np.linspace(4e-6, 254e-6, 85)\n",
    "cos_list = abs (jj70N7.B_to_cos(B_list))\n",
    "\n",
    "ids = range(208, 292+1)\n",
    "\n",
    "\n",
    "\n",
    "Ics = [1*extract_Isw_R0_by_id (idx, dy = 50e-6, yoff = -.735e-3)[0] for idx in ids]\n",
    "\n",
    "Ej0 = 1.18\n",
    "ax.plot(Ej0*cos_list, Ics, '.', fillstyle = 'none')"
   ]
  },
  {
   "cell_type": "code",
   "execution_count": 215,
   "metadata": {},
   "outputs": [
    {
     "name": "stderr",
     "output_type": "stream",
     "text": [
      "e:\\OneDrive - Rutgers University\\files_GitHub\\JJ_arrays\\JJ_data_processing.py:285: RuntimeWarning: invalid value encountered in less\n",
      "  ind1 = np.where(np.abs(vA0) < dx )\n",
      "D:\\anaconda\\lib\\site-packages\\ipykernel_launcher.py:17: RuntimeWarning: More than 20 figures have been opened. Figures created through the pyplot interface (`matplotlib.pyplot.figure`) are retained until explicitly closed and may consume too much memory. (To control this warning, see the rcParam `figure.max_open_warning`).\n"
     ]
    },
    {
     "data": {
      "application/vnd.jupyter.widget-view+json": {
       "model_id": "d9772f6a51e5435c900594d1819a66fd",
       "version_major": 2,
       "version_minor": 0
      },
      "text/plain": [
       "FigureCanvasNbAgg()"
      ]
     },
     "metadata": {},
     "output_type": "display_data"
    },
    {
     "data": {
      "text/plain": [
       "[<matplotlib.lines.Line2D at 0x20699a55e48>]"
      ]
     },
     "execution_count": 215,
     "metadata": {},
     "output_type": "execute_result"
    }
   ],
   "source": [
    "jj = jj70N0\n",
    "jj70N0.db_connect()\n",
    "\n",
    "jj.ZF = -0e-6\n",
    "jj.FF = 210e-6\n",
    "\n",
    "sl = slice(75, 125)\n",
    "\n",
    "B_list = np.linspace(-1e-3, 1e-3, 201)[sl]\n",
    "cos_list = abs (jj.B_to_cos(B_list))\n",
    "\n",
    "ids = range(76, 276+1)[sl]\n",
    "\n",
    "Ics = [2e12*extract_Isw_R0_by_id (idx, dy = 50e-6)[0] for idx in ids]\n",
    "\n",
    "\n",
    "fig, ax = plt.subplots()\n",
    "ax.plot(cos_list, Ics, 'o-')\n",
    "# ax.plot(B_list, Ics, 'o-')\n",
    "\n",
    "# ax.set_xscale('log')\n",
    "# ax.set_xlim(0.1, 1)\n",
    "# ax.set_yscale('log')"
   ]
  },
  {
   "cell_type": "code",
   "execution_count": 242,
   "metadata": {},
   "outputs": [
    {
     "name": "stderr",
     "output_type": "stream",
     "text": [
      "D:\\anaconda\\lib\\site-packages\\ipykernel_launcher.py:1: RuntimeWarning: More than 20 figures have been opened. Figures created through the pyplot interface (`matplotlib.pyplot.figure`) are retained until explicitly closed and may consume too much memory. (To control this warning, see the rcParam `figure.max_open_warning`).\n",
      "  \"\"\"Entry point for launching an IPython kernel.\n"
     ]
    },
    {
     "data": {
      "application/vnd.jupyter.widget-view+json": {
       "model_id": "72b5d7675dc2441e8ba4643937ab8322",
       "version_major": 2,
       "version_minor": 0
      },
      "text/plain": [
       "FigureCanvasNbAgg()"
      ]
     },
     "metadata": {},
     "output_type": "display_data"
    },
    {
     "name": "stderr",
     "output_type": "stream",
     "text": [
      "e:\\OneDrive - Rutgers University\\files_GitHub\\JJ_arrays\\JJ_data_processing.py:285: RuntimeWarning: invalid value encountered in less\n",
      "  ind1 = np.where(np.abs(vA0) < dx )\n"
     ]
    },
    {
     "data": {
      "text/plain": [
       "[<matplotlib.lines.Line2D at 0x206a2a922b0>]"
      ]
     },
     "execution_count": 242,
     "metadata": {},
     "output_type": "execute_result"
    }
   ],
   "source": [
    "fig, ax = plt.subplots()\n",
    "\n",
    "jj70N5.db_connect()\n",
    "\n",
    "B_list = np.linspace(-.4e-3, .2e-3, 121)\n",
    "jj70N5.ZF   = -0.093e-3\n",
    "jj70N5.FF   = 0.130e-3\n",
    "ids = range(689,809+1)\n",
    "\n",
    "\n",
    "# B_list = np.linspace(0e-3, .2e-3, 51)\n",
    "# jj70N5.ZF   = 0e-3\n",
    "# jj70N5.FF   = 0.220e-3\n",
    "# ids = range(1213, 1263+1)\n",
    "\n",
    "cos_list = abs (jj70N5.B_to_cos(B_list))\n",
    "\n",
    "\n",
    "\n",
    "Ics = [2*extract_Isw_R0_by_id (idx, dy = 50e-6)[0] for idx in ids]\n",
    "\n",
    "Ej0 = 0.410\n",
    "\n",
    "ax.plot(Ej0*cos_list, Ics, '.', fillstyle = 'none', label = '70N5 v1')"
   ]
  },
  {
   "cell_type": "code",
   "execution_count": 243,
   "metadata": {},
   "outputs": [
    {
     "name": "stderr",
     "output_type": "stream",
     "text": [
      "e:\\OneDrive - Rutgers University\\files_GitHub\\JJ_arrays\\JJ_data_processing.py:285: RuntimeWarning: invalid value encountered in less\n",
      "  ind1 = np.where(np.abs(vA0) < dx )\n"
     ]
    },
    {
     "data": {
      "text/plain": [
       "(0.05, 0.5)"
      ]
     },
     "execution_count": 243,
     "metadata": {},
     "output_type": "execute_result"
    }
   ],
   "source": [
    "jj70N5.db_connect()\n",
    "\n",
    "# B_list = np.linspace(-.4e-3, .2e-3, 121)\n",
    "# jj70N5.ZF   = -0.093e-3\n",
    "# jj70N5.FF   = 0.130e-3\n",
    "# ids = range(689,809+1)\n",
    "\n",
    "\n",
    "B_list = np.linspace(0e-3, .2e-3, 51)\n",
    "jj70N5.ZF   = 0e-3\n",
    "jj70N5.FF   = 0.220e-3\n",
    "ids = range(1213, 1263+1)\n",
    "\n",
    "cos_list = abs (jj70N5.B_to_cos(B_list))\n",
    "\n",
    "\n",
    "\n",
    "Ics = [2*extract_Isw_R0_by_id (idx, dy = 50e-6)[0] for idx in ids]\n",
    "\n",
    "Ej0 = 0.34\n",
    "\n",
    "ax.plot(Ej0*cos_list, Ics, '.', fillstyle = 'none', label = '70N5 v2')\n",
    "\n",
    "ax.legend()\n",
    "\n",
    "ax.set_xscale('log')\n",
    "ax.set_yscale('log')\n",
    "\n",
    "ax.set_xlim(0.05, .5)"
   ]
  }
 ],
 "metadata": {
  "kernelspec": {
   "display_name": "Python 3",
   "language": "python",
   "name": "python3"
  },
  "language_info": {
   "codemirror_mode": {
    "name": "ipython",
    "version": 3
   },
   "file_extension": ".py",
   "mimetype": "text/x-python",
   "name": "python",
   "nbconvert_exporter": "python",
   "pygments_lexer": "ipython3",
   "version": "3.6.5"
  },
  "toc": {
   "base_numbering": 1,
   "nav_menu": {},
   "number_sections": true,
   "sideBar": true,
   "skip_h1_title": false,
   "title_cell": "Table of Contents",
   "title_sidebar": "Contents",
   "toc_cell": false,
   "toc_position": {
    "height": "629px",
    "left": "10px",
    "top": "150px",
    "width": "165px"
   },
   "toc_section_display": true,
   "toc_window_display": true
  }
 },
 "nbformat": 4,
 "nbformat_minor": 2
}
