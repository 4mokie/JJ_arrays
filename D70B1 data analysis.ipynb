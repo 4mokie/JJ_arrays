{
 "cells": [
  {
   "cell_type": "code",
   "execution_count": 1,
   "metadata": {},
   "outputs": [],
   "source": [
    "%matplotlib widget\n",
    "%load_ext autoreload\n",
    "%autoreload 2\n",
    "\n",
    "import matplotlib as mpl\n",
    "import matplotlib.pyplot as plt\n",
    "import matplotlib.gridspec as GridSpec\n",
    "import numpy as np\n",
    "import pandas as pd\n",
    "\n",
    "import os\n",
    "\n",
    "\n",
    "import math\n",
    "\n",
    "\n",
    "from scipy.optimize import curve_fit\n",
    "\n",
    "\n",
    "\n",
    "\n",
    "from JJformulas import *"
   ]
  },
  {
   "cell_type": "code",
   "execution_count": 2,
   "metadata": {},
   "outputs": [
    {
     "name": "stderr",
     "output_type": "stream",
     "text": [
      "D:\\anaconda\\lib\\site-packages\\qcodes\\dataset\\database.py:13: UserWarning: The module `qcodes.dataset.database` is deprecated.\n",
      "Public features are available at the import of `qcodes`.\n",
      "Private features are available in `qcodes.dataset.sqlite.*` modules.\n",
      "  warnings.warn('The module `qcodes.dataset.database` is deprecated.\\n'\n",
      "D:\\anaconda\\lib\\site-packages\\tqdm\\autonotebook\\__init__.py:14: TqdmExperimentalWarning: Using `tqdm.autonotebook.tqdm` in notebook mode. Use `tqdm.tqdm` instead to force console mode (e.g. in jupyter console)\n",
      "  \" (e.g. in jupyter console)\", TqdmExperimentalWarning)\n"
     ]
    }
   ],
   "source": [
    "import sys \n",
    "sys.path.append('..\\measDC\\_jjtools')\n",
    "\n",
    "# from Exps import *\n",
    "\n",
    "from JJ_data_processing import read_opj_data, pbi, bpbi, show_df, update_df\n",
    "from JJ_data_processing import xy_by_id,extract_Isw_R0_by_id\n",
    "\n",
    "\n",
    "from JJformulas import *\n",
    "from meas_util import *\n",
    "\n",
    "from JJmeasurement import *"
   ]
  },
  {
   "cell_type": "markdown",
   "metadata": {},
   "source": [
    "# Samples"
   ]
  },
  {
   "cell_type": "code",
   "execution_count": 3,
   "metadata": {},
   "outputs": [],
   "source": [
    "jj70N5 = JJmeas(sample = 'D070B1N5v1')\n",
    "\n",
    "jj70N5.db_connect()"
   ]
  },
  {
   "cell_type": "code",
   "execution_count": 4,
   "metadata": {},
   "outputs": [],
   "source": [
    "jj70N1 = JJmeas(sample = 'D070B1N1v1')\n",
    "\n",
    "jj70N1.db_connect()"
   ]
  },
  {
   "cell_type": "code",
   "execution_count": 5,
   "metadata": {},
   "outputs": [],
   "source": [
    "jj70N0 = JJmeas(sample = 'D070B1N0v1')\n",
    "\n",
    "jj70N0.db_connect()"
   ]
  },
  {
   "cell_type": "code",
   "execution_count": 6,
   "metadata": {},
   "outputs": [],
   "source": [
    "\n",
    "jj70N7 = JJmeas(sample = 'D070B1N7')\n",
    "\n",
    "jj70N7.db_connect()"
   ]
  },
  {
   "cell_type": "markdown",
   "metadata": {},
   "source": [
    "# Some coding"
   ]
  },
  {
   "cell_type": "code",
   "execution_count": 7,
   "metadata": {},
   "outputs": [
    {
     "data": {
      "application/vnd.jupyter.widget-view+json": {
       "model_id": "1cdefae04b7043cbaa5ab18917557287",
       "version_major": 2,
       "version_minor": 0
      },
      "text/plain": [
       "FigureCanvasNbAgg()"
      ]
     },
     "metadata": {},
     "output_type": "display_data"
    }
   ],
   "source": [
    "from scipy import interpolate\n",
    "\n",
    "fig, ax = plt.subplots(figsize = (4,5))\n",
    "\n",
    "def gaussian(x, mu, sig):\n",
    "    return 1./(np.sqrt(2.*np.pi)*sig)*np.exp(-np.power((x - mu)/sig, 2.)/2)\n",
    "\n",
    "Rsh = 377\n",
    "\n",
    "kT = 0.050\n",
    "Ec = 1\n",
    "EJ = 0.4\n",
    "Vc_noise = np.sqrt(2*Ec*kT)/1e4\n",
    "\n",
    "\n",
    "Npts = 501\n",
    "V_ = np.linspace(-1e-3, 1e-3, Npts)/1e1\n",
    "\n",
    "\n",
    "def IZ_conv(V_, EJ, Vc_noise, kT, Rsh):\n",
    "    \n",
    "    sigma = Vc_noise#np.sqrt(Ec*kT)/1e4\n",
    "    Is = I_IZ( V_, EJ = EJ, R = Rsh, T = kT)\n",
    "\n",
    "    Vs = V_ - Is*Rsh\n",
    "\n",
    "    f = interpolate.interp1d(Vs, Is)\n",
    "\n",
    "\n",
    "\n",
    "\n",
    "    Vs_evengrid = np.linspace(np.min(Vs), np.max(Vs), len(Vs))\n",
    "    \n",
    "    dVs =  (np.max(Vs) - np.min(Vs)) / (len(Vs)-1)\n",
    "    \n",
    "    \n",
    "\n",
    "    Is_evengrid = f(Vs_evengrid)\n",
    "\n",
    "    Is = Is_evengrid\n",
    "    Vs = Vs_evengrid\n",
    "\n",
    "    V_c = gaussian(Vs, 0, sigma)*dVs\n",
    "\n",
    "    Is_conv = np.convolve(Is, V_c, 'same')\n",
    "#     print(len(Is))\n",
    "    \n",
    "    return Vs, Is, Is_conv\n",
    "\n",
    "Vs, Is, Is_conv = IZ_conv(V_, EJ, Vc_noise, kT, Rsh)\n",
    "\n",
    "\n",
    "ax.plot(Vs/1e-6, Is/1e-9, 'o', label = 'cIZ')\n",
    "\n",
    "ax.plot(Vs/1e-6 ,Is_conv/1e-9, label = 'cIZ + Vnoise')\n",
    "\n",
    "\n",
    "\n",
    "ax.set_xlabel('V, uV')\n",
    "ax.set_ylabel('I, nA')\n",
    "\n",
    "ax.set_title('EJ = {:g} K, T = {:g} K, Rb = {:g} Ohm'.format(EJ, kT, Rsh))\n",
    "\n",
    "# ax.set_xlim(0, 300)\n",
    "# ax.set_ylim(0, .0250)\n",
    "\n",
    "ax.legend()\n",
    "\n",
    "plt.tight_layout()"
   ]
  },
  {
   "cell_type": "code",
   "execution_count": 14,
   "metadata": {},
   "outputs": [],
   "source": [
    "\n",
    "\n",
    "Rsh = 377\n",
    "\n",
    "kT = 0.05\n",
    "# Ec = 10\n",
    "Vc_noise = 50e-6\n",
    "\n",
    "EJ_list = np.logspace(-2,1.5, 51)\n",
    "\n",
    "Npts = 251\n",
    "V_ = np.linspace(-1e-3, 1e-3, Npts)\n",
    "\n",
    "Isws = []\n",
    "Isws_conv = []\n",
    "\n",
    "R0s = []\n",
    "R0s_conv = []\n",
    "\n",
    "for EJ in EJ_list:\n",
    "    Vs, Is, Is_conv = IZ_conv(V_, EJ, Vc_noise , kT, Rsh)\n",
    "    \n",
    "#     Isw = (np.max(Is) - np.min(Is))/2\n",
    "#     Isw_conv = (np.max(Is_conv) - np.min(Is_conv))/2\n",
    "    \n",
    "    Imax = np.max(Is)\n",
    "    Imax_conv = np.max(Is_conv)\n",
    "\n",
    "    Vmax = Vs[np.argmax(Is)]\n",
    "    Vmax_conv = Vs[np.argmax(Is_conv)]\n",
    "    \n",
    "    R0s.append( Vmax/Imax )\n",
    "    R0s_conv.append( Vmax_conv/Imax_conv )\n",
    "    \n",
    "    \n",
    "    \n",
    "    Isws.append(Imax)\n",
    "    Isws_conv.append(Imax_conv)\n",
    "    \n",
    "\n",
    "    \n"
   ]
  },
  {
   "cell_type": "code",
   "execution_count": 22,
   "metadata": {},
   "outputs": [
    {
     "data": {
      "text/html": [
       "<div>\n",
       "<style scoped>\n",
       "    .dataframe tbody tr th:only-of-type {\n",
       "        vertical-align: middle;\n",
       "    }\n",
       "\n",
       "    .dataframe tbody tr th {\n",
       "        vertical-align: top;\n",
       "    }\n",
       "\n",
       "    .dataframe thead th {\n",
       "        text-align: right;\n",
       "    }\n",
       "</style>\n",
       "<table border=\"1\" class=\"dataframe\">\n",
       "  <thead>\n",
       "    <tr style=\"text-align: right;\">\n",
       "      <th></th>\n",
       "      <th>id</th>\n",
       "      <th>Rn_tot</th>\n",
       "      <th>Isw</th>\n",
       "      <th>Ro_tot</th>\n",
       "      <th>N</th>\n",
       "      <th>Rn</th>\n",
       "      <th>Ro</th>\n",
       "      <th>Ec</th>\n",
       "      <th>Ej</th>\n",
       "      <th>Iab</th>\n",
       "      <th>comment</th>\n",
       "      <th>ref</th>\n",
       "      <th>Ic_AB</th>\n",
       "      <th>Ej_alt</th>\n",
       "    </tr>\n",
       "  </thead>\n",
       "  <tbody>\n",
       "    <tr>\n",
       "      <th>0</th>\n",
       "      <td>Jack PhD p43</td>\n",
       "      <td>47.9</td>\n",
       "      <td>1.5n</td>\n",
       "      <td>13.3k</td>\n",
       "      <td>1.0</td>\n",
       "      <td>NaN</td>\n",
       "      <td>13.3k</td>\n",
       "      <td>1.0</td>\n",
       "      <td>540.0m</td>\n",
       "      <td>NaN</td>\n",
       "      <td>unknown Ec</td>\n",
       "      <td>Jack phd</td>\n",
       "      <td>22.7n</td>\n",
       "      <td>NaN</td>\n",
       "    </tr>\n",
       "    <tr>\n",
       "      <th>1</th>\n",
       "      <td>NaN</td>\n",
       "      <td>NaN</td>\n",
       "      <td>NaN</td>\n",
       "      <td>NaN</td>\n",
       "      <td>NaN</td>\n",
       "      <td>NaN</td>\n",
       "      <td>NaN</td>\n",
       "      <td>NaN</td>\n",
       "      <td>NaN</td>\n",
       "      <td>NaN</td>\n",
       "      <td>NaN</td>\n",
       "      <td>NaN</td>\n",
       "      <td>NaN</td>\n",
       "      <td>NaN</td>\n",
       "    </tr>\n",
       "    <tr>\n",
       "      <th>2</th>\n",
       "      <td>Jack PhD p54 1</td>\n",
       "      <td>NaN</td>\n",
       "      <td>200.0p</td>\n",
       "      <td>100.0k</td>\n",
       "      <td>1.0</td>\n",
       "      <td>NaN</td>\n",
       "      <td>100.0k</td>\n",
       "      <td>NaN</td>\n",
       "      <td>220.0m</td>\n",
       "      <td>NaN</td>\n",
       "      <td>unknown Ec</td>\n",
       "      <td>Jack phd</td>\n",
       "      <td>9.2n</td>\n",
       "      <td>NaN</td>\n",
       "    </tr>\n",
       "    <tr>\n",
       "      <th>3</th>\n",
       "      <td>Jack PhD p54 2</td>\n",
       "      <td>NaN</td>\n",
       "      <td>50.0p</td>\n",
       "      <td>400.0k</td>\n",
       "      <td>1.0</td>\n",
       "      <td>NaN</td>\n",
       "      <td>400.0k</td>\n",
       "      <td>NaN</td>\n",
       "      <td>100.0m</td>\n",
       "      <td>NaN</td>\n",
       "      <td>unknown Ec</td>\n",
       "      <td>Jack phd</td>\n",
       "      <td>4.2n</td>\n",
       "      <td>NaN</td>\n",
       "    </tr>\n",
       "    <tr>\n",
       "      <th>4</th>\n",
       "      <td>Jack PhD p54 3</td>\n",
       "      <td>NaN</td>\n",
       "      <td>15.0p</td>\n",
       "      <td>1.3M</td>\n",
       "      <td>1.0</td>\n",
       "      <td>NaN</td>\n",
       "      <td>1.3M</td>\n",
       "      <td>NaN</td>\n",
       "      <td>60.0m</td>\n",
       "      <td>NaN</td>\n",
       "      <td>unknown Ec</td>\n",
       "      <td>Jack phd</td>\n",
       "      <td>2.5n</td>\n",
       "      <td>NaN</td>\n",
       "    </tr>\n",
       "    <tr>\n",
       "      <th>5</th>\n",
       "      <td>Jack PhD p54 4</td>\n",
       "      <td>NaN</td>\n",
       "      <td>2.0p</td>\n",
       "      <td>10.0M</td>\n",
       "      <td>1.0</td>\n",
       "      <td>NaN</td>\n",
       "      <td>10.0M</td>\n",
       "      <td>NaN</td>\n",
       "      <td>20.0m</td>\n",
       "      <td>NaN</td>\n",
       "      <td>unknown Ec</td>\n",
       "      <td>Jack phd</td>\n",
       "      <td>839.0p</td>\n",
       "      <td>NaN</td>\n",
       "    </tr>\n",
       "    <tr>\n",
       "      <th>6</th>\n",
       "      <td>Jack PhD p54 5</td>\n",
       "      <td>NaN</td>\n",
       "      <td>500.0f</td>\n",
       "      <td>40.0M</td>\n",
       "      <td>1.0</td>\n",
       "      <td>NaN</td>\n",
       "      <td>40.0M</td>\n",
       "      <td>NaN</td>\n",
       "      <td>10.0m</td>\n",
       "      <td>NaN</td>\n",
       "      <td>unknown Ec</td>\n",
       "      <td>Jack phd</td>\n",
       "      <td>419.5p</td>\n",
       "      <td>NaN</td>\n",
       "    </tr>\n",
       "    <tr>\n",
       "      <th>7</th>\n",
       "      <td>Jack PhD p56 0</td>\n",
       "      <td>NaN</td>\n",
       "      <td>6.6n</td>\n",
       "      <td>3.0k</td>\n",
       "      <td>1.0</td>\n",
       "      <td>NaN</td>\n",
       "      <td>800.0</td>\n",
       "      <td>NaN</td>\n",
       "      <td>1.2</td>\n",
       "      <td>NaN</td>\n",
       "      <td>unknown Ec</td>\n",
       "      <td>Jack phd</td>\n",
       "      <td>113.3n</td>\n",
       "      <td>NaN</td>\n",
       "    </tr>\n",
       "    <tr>\n",
       "      <th>8</th>\n",
       "      <td>Jack PhD p56 1</td>\n",
       "      <td>NaN</td>\n",
       "      <td>15.0n</td>\n",
       "      <td>1.3k</td>\n",
       "      <td>1.0</td>\n",
       "      <td>NaN</td>\n",
       "      <td>1.3k</td>\n",
       "      <td>NaN</td>\n",
       "      <td>1.9</td>\n",
       "      <td>NaN</td>\n",
       "      <td>unknown Ec</td>\n",
       "      <td>Jack phd</td>\n",
       "      <td>79.7n</td>\n",
       "      <td>NaN</td>\n",
       "    </tr>\n",
       "  </tbody>\n",
       "</table>\n",
       "</div>"
      ],
      "text/plain": [
       "               id  Rn_tot     Isw  Ro_tot    N  Rn      Ro   Ec      Ej  Iab  \\\n",
       "0    Jack PhD p43    47.9    1.5n   13.3k  1.0 NaN   13.3k  1.0  540.0m  NaN   \n",
       "1             NaN     NaN     NaN     NaN  NaN NaN     NaN  NaN     NaN  NaN   \n",
       "2  Jack PhD p54 1     NaN  200.0p  100.0k  1.0 NaN  100.0k  NaN  220.0m  NaN   \n",
       "3  Jack PhD p54 2     NaN   50.0p  400.0k  1.0 NaN  400.0k  NaN  100.0m  NaN   \n",
       "4  Jack PhD p54 3     NaN   15.0p    1.3M  1.0 NaN    1.3M  NaN   60.0m  NaN   \n",
       "5  Jack PhD p54 4     NaN    2.0p   10.0M  1.0 NaN   10.0M  NaN   20.0m  NaN   \n",
       "6  Jack PhD p54 5     NaN  500.0f   40.0M  1.0 NaN   40.0M  NaN   10.0m  NaN   \n",
       "7  Jack PhD p56 0     NaN    6.6n    3.0k  1.0 NaN   800.0  NaN     1.2  NaN   \n",
       "8  Jack PhD p56 1     NaN   15.0n    1.3k  1.0 NaN    1.3k  NaN     1.9  NaN   \n",
       "\n",
       "      comment       ref   Ic_AB  Ej_alt  \n",
       "0  unknown Ec  Jack phd   22.7n     NaN  \n",
       "1         NaN       NaN     NaN     NaN  \n",
       "2  unknown Ec  Jack phd    9.2n     NaN  \n",
       "3  unknown Ec  Jack phd    4.2n     NaN  \n",
       "4  unknown Ec  Jack phd    2.5n     NaN  \n",
       "5  unknown Ec  Jack phd  839.0p     NaN  \n",
       "6  unknown Ec  Jack phd  419.5p     NaN  \n",
       "7  unknown Ec  Jack phd  113.3n     NaN  \n",
       "8  unknown Ec  Jack phd   79.7n     NaN  "
      ]
     },
     "execution_count": 22,
     "metadata": {},
     "output_type": "execute_result"
    }
   ],
   "source": [
    "ft = pd.read_excel(\"lit_summary.xlsx\")\n",
    "# ft = pd.read_excel(\"exp summary.xlsx\")\n",
    "ft"
   ]
  },
  {
   "cell_type": "markdown",
   "metadata": {},
   "source": [
    "# Isw vs Ej"
   ]
  },
  {
   "cell_type": "code",
   "execution_count": 10,
   "metadata": {},
   "outputs": [],
   "source": [
    "# ax = ft.plot( x = 'EJ', y = 'Isw', color ='k', marker = 'D', ls = '')\n",
    "# ax.set_xscale('log')\n",
    "# ax.set_yscale('log')"
   ]
  },
  {
   "cell_type": "code",
   "execution_count": 32,
   "metadata": {
    "scrolled": false
   },
   "outputs": [
    {
     "data": {
      "application/vnd.jupyter.widget-view+json": {
       "model_id": "ee02746a7a4846399e944faebe75a95a",
       "version_major": 2,
       "version_minor": 0
      },
      "text/plain": [
       "FigureCanvasNbAgg()"
      ]
     },
     "metadata": {},
     "output_type": "display_data"
    },
    {
     "data": {
      "text/plain": [
       "(1e-13, 1e-06)"
      ]
     },
     "execution_count": 32,
     "metadata": {},
     "output_type": "execute_result"
    }
   ],
   "source": [
    "# ax = ft.plot( x = 'EJ', y = 'Isw', color ='k', marker = 'D', ls = '')\n",
    "\n",
    "\n",
    "fig, ax = plt.subplots(figsize = (10,8))\n",
    "markers=['d',',','o','v','^','<','>','s','p','P','*','h','H','+','x','X','D','d','|','_','1','2','3','4','8']\n",
    "\n",
    "unique_lablist = list(set(ft.ref.to_list()))\n",
    "\n",
    "\n",
    "for ej, isw, lab, m in zip(ft.Ej, ft.Isw, ft.ref, markers):\n",
    "    \n",
    "    ilab = unique_lablist.index(lab)\n",
    "    ax.scatter(ej, isw, color = f'C{ilab}',marker = m, label = lab, s = 50)\n",
    "    \n",
    "# ax.legend()\n",
    "\n",
    "ax.set_xscale('log')\n",
    "ax.set_yscale('log')\n",
    "\n",
    "ax.set_xlim(8e-3, 2e1)\n",
    "ax.set_ylim(1e-13, 1e-6)"
   ]
  },
  {
   "cell_type": "code",
   "execution_count": 33,
   "metadata": {},
   "outputs": [],
   "source": [
    "# fig, ax = plt.subplots()\n",
    "\n",
    "\n",
    "ax.plot(EJ_list,  EJ_list*kB/hbar*2*e, '--', label = '$A-B$')\n",
    "\n",
    "\n",
    "ax.plot(EJ_list, Isws, label = 'cIZ')\n",
    "ax.plot(EJ_list, Isws_conv, label = 'cIZ + Vc_noise')\n",
    "\n",
    "\n",
    "ax.set_xscale('log')\n",
    "ax.set_yscale('log')\n",
    "\n",
    "leg1 = ax.legend(loc='lower right')"
   ]
  },
  {
   "cell_type": "code",
   "execution_count": 50,
   "metadata": {},
   "outputs": [
    {
     "name": "stderr",
     "output_type": "stream",
     "text": [
      "e:\\OneDrive - Rutgers University\\files_GitHub\\JJ_arrays\\JJ_data_processing.py:285: RuntimeWarning: invalid value encountered in less\n",
      "  ind1 = np.where(np.abs(vA0) < dx )\n"
     ]
    }
   ],
   "source": [
    "jj70N5.db_connect()\n",
    "\n",
    "B_list = np.linspace(-.4e-3, .2e-3, 121)\n",
    "jj70N5.ZF   = -0.093e-3\n",
    "jj70N5.FF   = 0.130e-3\n",
    "ids = range(689,809+1)\n",
    "\n",
    "\n",
    "# B_list = np.linspace(0e-3, .2e-3, 51)\n",
    "# jj70N5.ZF   = 0e-3\n",
    "# jj70N5.FF   = 0.220e-3\n",
    "# ids = range(1213, 1263+1)\n",
    "\n",
    "cos_list = abs (jj70N5.B_to_cos(B_list))\n",
    "\n",
    "\n",
    "\n",
    "Ics = [2*extract_Isw_R0_by_id (idx, dy = 50e-6)[0] for idx in ids]\n",
    "\n",
    "Ej0 = 0.410\n",
    "\n",
    "l70N5v1, = ax.plot(Ej0*cos_list, Ics, '.', fillstyle = 'none')"
   ]
  },
  {
   "cell_type": "code",
   "execution_count": 51,
   "metadata": {},
   "outputs": [
    {
     "name": "stderr",
     "output_type": "stream",
     "text": [
      "e:\\OneDrive - Rutgers University\\files_GitHub\\JJ_arrays\\JJ_data_processing.py:285: RuntimeWarning: invalid value encountered in less\n",
      "  ind1 = np.where(np.abs(vA0) < dx )\n"
     ]
    }
   ],
   "source": [
    "jj70N5.db_connect()\n",
    "\n",
    "# B_list = np.linspace(-.4e-3, .2e-3, 121)\n",
    "# jj70N5.ZF   = -0.093e-3\n",
    "# jj70N5.FF   = 0.130e-3\n",
    "# ids = range(689,809+1)\n",
    "\n",
    "\n",
    "B_list = np.linspace(0e-3, .2e-3, 51)\n",
    "jj70N5.ZF   = 0e-3\n",
    "jj70N5.FF   = 0.220e-3\n",
    "ids = range(1213, 1263+1)\n",
    "\n",
    "cos_list = abs (jj70N5.B_to_cos(B_list))\n",
    "\n",
    "\n",
    "\n",
    "Ics = [2*extract_Isw_R0_by_id (idx, dy = 50e-6)[0] for idx in ids]\n",
    "\n",
    "Ej0 = 0.410\n",
    "\n",
    "l70N5v2, = ax.plot(Ej0*cos_list, Ics, '.', fillstyle = 'none')"
   ]
  },
  {
   "cell_type": "code",
   "execution_count": 52,
   "metadata": {},
   "outputs": [
    {
     "name": "stderr",
     "output_type": "stream",
     "text": [
      "e:\\OneDrive - Rutgers University\\files_GitHub\\JJ_arrays\\JJ_data_processing.py:285: RuntimeWarning: invalid value encountered in less\n",
      "  ind1 = np.where(np.abs(vA0) < dx )\n"
     ]
    }
   ],
   "source": [
    "jj70N1.db_connect()\n",
    "\n",
    "jj70N1.ZF = -2e-6\n",
    "jj70N1.FF = 200e-6\n",
    "\n",
    "B_list = np.linspace(-.10e-3, .5e-3, 121)\n",
    "cos_list = abs (jj70N1.B_to_cos(B_list))\n",
    "\n",
    "ids = range(14, 134+1)\n",
    "\n",
    "Ics = [2*extract_Isw_R0_by_id (idx, dy = 30e-6)[0] for idx in ids]\n",
    "\n",
    "Ej0 = 0.350\n",
    "l70N1, = ax.plot(Ej0*cos_list, Ics, '.', fillstyle = 'none' )"
   ]
  },
  {
   "cell_type": "code",
   "execution_count": 53,
   "metadata": {},
   "outputs": [
    {
     "name": "stderr",
     "output_type": "stream",
     "text": [
      "e:\\OneDrive - Rutgers University\\files_GitHub\\JJ_arrays\\JJ_data_processing.py:285: RuntimeWarning: invalid value encountered in less\n",
      "  ind1 = np.where(np.abs(vA0) < dx )\n"
     ]
    }
   ],
   "source": [
    "jj70N0.db_connect()\n",
    "\n",
    "jj70N0.ZF = -2e-6\n",
    "jj70N0.FF = 200e-6\n",
    "\n",
    "\n",
    "# B_list = np.linspace(-.10e-3, .5e-3, 61)\n",
    "# cos_list = abs (jj70N0.B_to_cos(B_list))\n",
    "# ids = range(11, 71+1)\n",
    "\n",
    "sl = slice(75, 125)\n",
    "B_list = np.linspace(-1e-3, 1e-3, 201)[sl]\n",
    "cos_list = abs (jj70N0.B_to_cos(B_list))\n",
    "ids = range(76, 276+1)[sl]\n",
    "\n",
    "\n",
    "\n",
    "Ics = [2*extract_Isw_R0_by_id (idx, dy = 50e-6)[0] for idx in ids]\n",
    "\n",
    "Ej0 = 0.656\n",
    "l70N0, = ax.plot(Ej0*cos_list, Ics, '.', fillstyle = 'none')"
   ]
  },
  {
   "cell_type": "code",
   "execution_count": 54,
   "metadata": {},
   "outputs": [
    {
     "name": "stderr",
     "output_type": "stream",
     "text": [
      "D:\\anaconda\\lib\\site-packages\\numpy\\core\\fromnumeric.py:3118: RuntimeWarning: Mean of empty slice.\n",
      "  out=out, **kwargs)\n",
      "D:\\anaconda\\lib\\site-packages\\numpy\\core\\_methods.py:85: RuntimeWarning: invalid value encountered in double_scalars\n",
      "  ret = ret.dtype.type(ret / rcount)\n"
     ]
    },
    {
     "name": "stdout",
     "output_type": "stream",
     "text": [
      "len is zero\n",
      "len is zero\n",
      "len is zero\n",
      "len is zero\n",
      "len is zero\n",
      "len is zero\n",
      "len is zero\n",
      "len is zero\n"
     ]
    }
   ],
   "source": [
    "# fig, ax = plt.subplots()\n",
    "    \n",
    "jj70N7.db_connect()\n",
    "\n",
    "jj70N7.ZF = 4e-6\n",
    "jj70N7.FF = 224e-6\n",
    "\n",
    "\n",
    "B_list = np.linspace(4e-6, 254e-6, 85)\n",
    "cos_list = abs (jj70N7.B_to_cos(B_list))\n",
    "\n",
    "ids = range(208, 292+1)\n",
    "\n",
    "\n",
    "\n",
    "Ics = [1*extract_Isw_R0_by_id (idx, dy = 50e-6, yoff = -.735e-3)[0] for idx in ids]\n",
    "\n",
    "Ej0 = 1.18\n",
    "l70N7, = ax.plot(Ej0*cos_list, Ics, '.', fillstyle = 'none')"
   ]
  },
  {
   "cell_type": "code",
   "execution_count": 55,
   "metadata": {},
   "outputs": [
    {
     "name": "stderr",
     "output_type": "stream",
     "text": [
      "D:\\anaconda\\lib\\site-packages\\numpy\\core\\fromnumeric.py:3118: RuntimeWarning: Mean of empty slice.\n",
      "  out=out, **kwargs)\n",
      "D:\\anaconda\\lib\\site-packages\\numpy\\core\\_methods.py:85: RuntimeWarning: invalid value encountered in double_scalars\n",
      "  ret = ret.dtype.type(ret / rcount)\n"
     ]
    },
    {
     "name": "stdout",
     "output_type": "stream",
     "text": [
      "len is zero\n",
      "len is zero\n"
     ]
    }
   ],
   "source": [
    "jj79 = JJmeas(sample = 'D079N5')\n",
    "\n",
    "jj79.db_connect()\n",
    "\n",
    "cos_list_79 = np.linspace(1, 0, 51 )\n",
    "Ejs_79 = 4.14*cos_list_79\n",
    "\n",
    "\n",
    "ids = range(72,122+1)\n",
    "\n",
    "Ics = [2*extract_Isw_R0_by_id (idx, dy = 30e-6)[0] for idx in ids]\n",
    "    \n",
    "\n",
    "Ej0 = 4.14\n",
    "l79N5, = ax.plot(Ej0*cos_list_79, Ics, '.', fillstyle = 'none')"
   ]
  },
  {
   "cell_type": "code",
   "execution_count": 56,
   "metadata": {},
   "outputs": [
    {
     "data": {
      "text/plain": [
       "<matplotlib.legend.Legend at 0x286d3ee42b0>"
      ]
     },
     "execution_count": 56,
     "metadata": {},
     "output_type": "execute_result"
    }
   ],
   "source": [
    "leg2 = ax.legend([l70N5v1,l70N5v2, l70N1, l70N0, l70N7,l79N5],\n",
    "                 ['70N5v1, N=14, Ec = 650mK',\n",
    "                  '70N5v2, N=14, Ec = 650mK',\n",
    "                  '70N1, N=15, Ec = ??mK', \n",
    "                  '70N0, N=15, Ec = 400mK', \n",
    "                  '70N7, N=14, Ec = 200mK', \n",
    "                  '79N5, N=1, Ec = 4mK'], \n",
    "                 loc='upper left')\n",
    "# Manually add the first legend back\n",
    "ax.add_artist(leg1)"
   ]
  },
  {
   "cell_type": "markdown",
   "metadata": {},
   "source": [
    "# sandbox"
   ]
  },
  {
   "cell_type": "code",
   "execution_count": 251,
   "metadata": {},
   "outputs": [
    {
     "data": {
      "text/plain": [
       "0.00021999999999999998"
      ]
     },
     "execution_count": 251,
     "metadata": {},
     "output_type": "execute_result"
    }
   ],
   "source": [
    "jj70N7.ZF = -.002e-3\n",
    "jj70N7.FF = .220e-3\n",
    "\n",
    "jj70N7.cos_to_B(0.0)"
   ]
  },
  {
   "cell_type": "code",
   "execution_count": 226,
   "metadata": {},
   "outputs": [
    {
     "name": "stderr",
     "output_type": "stream",
     "text": [
      "D:\\anaconda\\lib\\site-packages\\ipykernel_launcher.py:1: RuntimeWarning: More than 20 figures have been opened. Figures created through the pyplot interface (`matplotlib.pyplot.figure`) are retained until explicitly closed and may consume too much memory. (To control this warning, see the rcParam `figure.max_open_warning`).\n",
      "  \"\"\"Entry point for launching an IPython kernel.\n"
     ]
    },
    {
     "data": {
      "application/vnd.jupyter.widget-view+json": {
       "model_id": "02a0cbcffded4b7b925e7ce061ca1d48",
       "version_major": 2,
       "version_minor": 0
      },
      "text/plain": [
       "FigureCanvasNbAgg()"
      ]
     },
     "metadata": {},
     "output_type": "display_data"
    },
    {
     "name": "stderr",
     "output_type": "stream",
     "text": [
      "D:\\anaconda\\lib\\site-packages\\numpy\\core\\fromnumeric.py:3118: RuntimeWarning: Mean of empty slice.\n",
      "  out=out, **kwargs)\n",
      "D:\\anaconda\\lib\\site-packages\\numpy\\core\\_methods.py:85: RuntimeWarning: invalid value encountered in double_scalars\n",
      "  ret = ret.dtype.type(ret / rcount)\n"
     ]
    },
    {
     "name": "stdout",
     "output_type": "stream",
     "text": [
      "len is zero\n",
      "len is zero\n",
      "len is zero\n",
      "len is zero\n",
      "len is zero\n",
      "len is zero\n",
      "len is zero\n",
      "len is zero\n"
     ]
    },
    {
     "data": {
      "text/plain": [
       "[<matplotlib.lines.Line2D at 0x2069f242d30>]"
      ]
     },
     "execution_count": 226,
     "metadata": {},
     "output_type": "execute_result"
    }
   ],
   "source": [
    "fig, ax = plt.subplots()\n",
    "    \n",
    "jj70N7.db_connect()\n",
    "\n",
    "jj70N7.ZF = 4e-6\n",
    "jj70N7.FF = 224e-6\n",
    "\n",
    "\n",
    "B_list = np.linspace(4e-6, 254e-6, 85)\n",
    "cos_list = abs (jj70N7.B_to_cos(B_list))\n",
    "\n",
    "ids = range(208, 292+1)\n",
    "\n",
    "\n",
    "\n",
    "Ics = [1*extract_Isw_R0_by_id (idx, dy = 50e-6, yoff = -.735e-3)[0] for idx in ids]\n",
    "\n",
    "Ej0 = 1.18\n",
    "ax.plot(Ej0*cos_list, Ics, '.', fillstyle = 'none')"
   ]
  },
  {
   "cell_type": "code",
   "execution_count": 215,
   "metadata": {},
   "outputs": [
    {
     "name": "stderr",
     "output_type": "stream",
     "text": [
      "e:\\OneDrive - Rutgers University\\files_GitHub\\JJ_arrays\\JJ_data_processing.py:285: RuntimeWarning: invalid value encountered in less\n",
      "  ind1 = np.where(np.abs(vA0) < dx )\n",
      "D:\\anaconda\\lib\\site-packages\\ipykernel_launcher.py:17: RuntimeWarning: More than 20 figures have been opened. Figures created through the pyplot interface (`matplotlib.pyplot.figure`) are retained until explicitly closed and may consume too much memory. (To control this warning, see the rcParam `figure.max_open_warning`).\n"
     ]
    },
    {
     "data": {
      "application/vnd.jupyter.widget-view+json": {
       "model_id": "d9772f6a51e5435c900594d1819a66fd",
       "version_major": 2,
       "version_minor": 0
      },
      "text/plain": [
       "FigureCanvasNbAgg()"
      ]
     },
     "metadata": {},
     "output_type": "display_data"
    },
    {
     "data": {
      "text/plain": [
       "[<matplotlib.lines.Line2D at 0x20699a55e48>]"
      ]
     },
     "execution_count": 215,
     "metadata": {},
     "output_type": "execute_result"
    }
   ],
   "source": [
    "jj = jj70N0\n",
    "jj70N0.db_connect()\n",
    "\n",
    "jj.ZF = -0e-6\n",
    "jj.FF = 210e-6\n",
    "\n",
    "sl = slice(75, 125)\n",
    "\n",
    "B_list = np.linspace(-1e-3, 1e-3, 201)[sl]\n",
    "cos_list = abs (jj.B_to_cos(B_list))\n",
    "\n",
    "ids = range(76, 276+1)[sl]\n",
    "\n",
    "Ics = [2e12*extract_Isw_R0_by_id (idx, dy = 50e-6)[0] for idx in ids]\n",
    "\n",
    "\n",
    "fig, ax = plt.subplots()\n",
    "ax.plot(cos_list, Ics, 'o-')\n",
    "# ax.plot(B_list, Ics, 'o-')\n",
    "\n",
    "# ax.set_xscale('log')\n",
    "# ax.set_xlim(0.1, 1)\n",
    "# ax.set_yscale('log')"
   ]
  },
  {
   "cell_type": "code",
   "execution_count": 242,
   "metadata": {},
   "outputs": [
    {
     "name": "stderr",
     "output_type": "stream",
     "text": [
      "D:\\anaconda\\lib\\site-packages\\ipykernel_launcher.py:1: RuntimeWarning: More than 20 figures have been opened. Figures created through the pyplot interface (`matplotlib.pyplot.figure`) are retained until explicitly closed and may consume too much memory. (To control this warning, see the rcParam `figure.max_open_warning`).\n",
      "  \"\"\"Entry point for launching an IPython kernel.\n"
     ]
    },
    {
     "data": {
      "application/vnd.jupyter.widget-view+json": {
       "model_id": "72b5d7675dc2441e8ba4643937ab8322",
       "version_major": 2,
       "version_minor": 0
      },
      "text/plain": [
       "FigureCanvasNbAgg()"
      ]
     },
     "metadata": {},
     "output_type": "display_data"
    },
    {
     "name": "stderr",
     "output_type": "stream",
     "text": [
      "e:\\OneDrive - Rutgers University\\files_GitHub\\JJ_arrays\\JJ_data_processing.py:285: RuntimeWarning: invalid value encountered in less\n",
      "  ind1 = np.where(np.abs(vA0) < dx )\n"
     ]
    },
    {
     "data": {
      "text/plain": [
       "[<matplotlib.lines.Line2D at 0x206a2a922b0>]"
      ]
     },
     "execution_count": 242,
     "metadata": {},
     "output_type": "execute_result"
    }
   ],
   "source": [
    "fig, ax = plt.subplots()\n",
    "\n",
    "jj70N5.db_connect()\n",
    "\n",
    "B_list = np.linspace(-.4e-3, .2e-3, 121)\n",
    "jj70N5.ZF   = -0.093e-3\n",
    "jj70N5.FF   = 0.130e-3\n",
    "ids = range(689,809+1)\n",
    "\n",
    "\n",
    "# B_list = np.linspace(0e-3, .2e-3, 51)\n",
    "# jj70N5.ZF   = 0e-3\n",
    "# jj70N5.FF   = 0.220e-3\n",
    "# ids = range(1213, 1263+1)\n",
    "\n",
    "cos_list = abs (jj70N5.B_to_cos(B_list))\n",
    "\n",
    "\n",
    "\n",
    "Ics = [2*extract_Isw_R0_by_id (idx, dy = 50e-6)[0] for idx in ids]\n",
    "\n",
    "Ej0 = 0.410\n",
    "\n",
    "ax.plot(Ej0*cos_list, Ics, '.', fillstyle = 'none', label = '70N5 v1')"
   ]
  },
  {
   "cell_type": "code",
   "execution_count": 243,
   "metadata": {},
   "outputs": [
    {
     "name": "stderr",
     "output_type": "stream",
     "text": [
      "e:\\OneDrive - Rutgers University\\files_GitHub\\JJ_arrays\\JJ_data_processing.py:285: RuntimeWarning: invalid value encountered in less\n",
      "  ind1 = np.where(np.abs(vA0) < dx )\n"
     ]
    },
    {
     "data": {
      "text/plain": [
       "(0.05, 0.5)"
      ]
     },
     "execution_count": 243,
     "metadata": {},
     "output_type": "execute_result"
    }
   ],
   "source": [
    "jj70N5.db_connect()\n",
    "\n",
    "# B_list = np.linspace(-.4e-3, .2e-3, 121)\n",
    "# jj70N5.ZF   = -0.093e-3\n",
    "# jj70N5.FF   = 0.130e-3\n",
    "# ids = range(689,809+1)\n",
    "\n",
    "\n",
    "B_list = np.linspace(0e-3, .2e-3, 51)\n",
    "jj70N5.ZF   = 0e-3\n",
    "jj70N5.FF   = 0.220e-3\n",
    "ids = range(1213, 1263+1)\n",
    "\n",
    "cos_list = abs (jj70N5.B_to_cos(B_list))\n",
    "\n",
    "\n",
    "\n",
    "Ics = [2*extract_Isw_R0_by_id (idx, dy = 50e-6)[0] for idx in ids]\n",
    "\n",
    "Ej0 = 0.34\n",
    "\n",
    "ax.plot(Ej0*cos_list, Ics, '.', fillstyle = 'none', label = '70N5 v2')\n",
    "\n",
    "ax.legend()\n",
    "\n",
    "ax.set_xscale('log')\n",
    "ax.set_yscale('log')\n",
    "\n",
    "ax.set_xlim(0.05, .5)"
   ]
  }
 ],
 "metadata": {
  "kernelspec": {
   "display_name": "Python 3",
   "language": "python",
   "name": "python3"
  },
  "language_info": {
   "codemirror_mode": {
    "name": "ipython",
    "version": 3
   },
   "file_extension": ".py",
   "mimetype": "text/x-python",
   "name": "python",
   "nbconvert_exporter": "python",
   "pygments_lexer": "ipython3",
   "version": "3.6.5"
  },
  "toc": {
   "base_numbering": 1,
   "nav_menu": {},
   "number_sections": true,
   "sideBar": false,
   "skip_h1_title": false,
   "title_cell": "Table of Contents",
   "title_sidebar": "Contents",
   "toc_cell": false,
   "toc_position": {
    "height": "629px",
    "left": "10px",
    "top": "150px",
    "width": "165px"
   },
   "toc_section_display": true,
   "toc_window_display": true
  }
 },
 "nbformat": 4,
 "nbformat_minor": 2
}
